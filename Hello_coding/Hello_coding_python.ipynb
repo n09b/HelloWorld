{
  "nbformat": 4,
  "nbformat_minor": 0,
  "metadata": {
    "colab": {
      "name": "Hello_coding_python.ipynb",
      "provenance": [],
      "collapsed_sections": [
        "7FxNqWidTyo-",
        "7RFc8_I3T60D",
        "b2v35n-JHqIQ",
        "jk9GIO48MPD5",
        "isKSC8WeKCn_",
        "WGrA2uLAP_aA",
        "NvODql4FQBhQ",
        "cpRzMm_cQr4v",
        "2JMKw7PjQtr2",
        "MQmnKDZiRYWj",
        "Wi3s-jV6R0FE",
        "U_9PLX-uR8WS",
        "BGVGMC7oSH0I",
        "W6U0nADkSPcP",
        "0ouQsZaOSZkN",
        "0eUZgdUaSrfa",
        "IJyndtWcTZA4",
        "v5eekdcLVH3v",
        "cYpV_DP2XDY0",
        "IzeJ45zFYxv7",
        "Tr2Rwxw9aQPR",
        "dIyvkpEBclh2",
        "-V4IyXvLeJV0",
        "Ft8D4zNNe2j9",
        "KSDOGhZqfTCv",
        "CSRrfwtifYjG",
        "kne0Q2ypfa0O",
        "efAi-faCfbs9",
        "qF29rEWefcou",
        "0Xh7GVIUfdfW",
        "T8Mb-3l7hVy5",
        "VMHfHygBhZRI",
        "jLOgmQkChbro",
        "Acphpc29hdvX",
        "AWic8hyxUby9",
        "8s0GepEh93vr",
        "PK_JMJVeUd1e",
        "dA25zRd4BZ89",
        "kcDzPUC0H6y3",
        "yDaPrh3zH8g-",
        "hgpFR-5fH8n2",
        "GxCw0tL1H8yn",
        "W9Z0EkklH8tW",
        "NSTsIZ-sH9SK",
        "jy-VaJzPH9JD",
        "2RtOEk_TH84g",
        "7q7toSC1H9GL",
        "MRMmzkrDH9Ae",
        "voOs1949H8-O",
        "TmVCGAuVH822",
        "Dlnh0XFJTsm8",
        "lUPHuahxUC7m",
        "gKeNZCR0U-Hu",
        "UOU4W-BMX72G",
        "2iDkMnmgap6i",
        "axuEAkzLcktk",
        "EGc8x-TWcmoV",
        "xkJjz4m-dBNx",
        "lOsXhP83dBQ1",
        "IKKBJwfFdBUK",
        "NVIIyq5-dBZa",
        "Rl1YnOehdBx5",
        "wUxyZLH9dBrD",
        "gdgDWXXhdBoF",
        "qLMiYF4YdBld",
        "HtQVmL85dBgA",
        "8_WXIlqQdBd4",
        "IDXxseDGdBXg",
        "CSFyvg_yrY-m",
        "4ZFWXcnbtFXl",
        "5RMoarEdt_Rr",
        "x4JfFllEvuV5",
        "FDRksRaNveU7",
        "yK3UXKiPvgNk",
        "Cic0KtayvgZI",
        "-sJ9ZWkzvgkJ",
        "tl5ncbRHzcb4",
        "3XKJTwHez4t7",
        "qjBIy3Ai09tH",
        "2zzN9GZz1SLs",
        "qFcwne3V1vEB",
        "3wTFxmIMpV3K",
        "5nKJd-SPpbkU",
        "KZBsr1vrtx3J",
        "MHpxWvt1vwYQ",
        "__nJd09r3uJe",
        "vwij3rzS2nPo",
        "-xcwnH2l2pXv",
        "pdST_BlP6AsQ",
        "PeMN3tze6SwP",
        "qz9VV1o-60B_",
        "9EQz5C1T7E7J",
        "Q1vMfv5U7QjP",
        "3jYpRAi17syn",
        "IOQNwKP-8BSK",
        "SdWwgpDg8Jq-",
        "XcVHFT9i8T72",
        "p5KJl3wjBNPG",
        "M2gEvhQiGX3M",
        "TcfxKVSFJd2k",
        "IUntaWrFJotr",
        "G0LA4hqrJp9T",
        "SX5lOp2rJquS",
        "xWpHTAWfJsE0",
        "sulYj8_zJtCq",
        "vsfZcEhUJ11_"
      ],
      "authorship_tag": "ABX9TyMPxnfmRVBGimkvFivcLGWW",
      "include_colab_link": true
    },
    "kernelspec": {
      "name": "python3",
      "display_name": "Python 3"
    }
  },
  "cells": [
    {
      "cell_type": "markdown",
      "metadata": {
        "id": "view-in-github",
        "colab_type": "text"
      },
      "source": [
        "<a href=\"https://colab.research.google.com/github/n09b/HelloWorld/blob/master/Hello_coding_python.ipynb\" target=\"_parent\"><img src=\"https://colab.research.google.com/assets/colab-badge.svg\" alt=\"Open In Colab\"/></a>"
      ]
    },
    {
      "cell_type": "markdown",
      "metadata": {
        "id": "ViDjfsAwTvNd",
        "colab_type": "text"
      },
      "source": [
        "#ch.0"
      ]
    },
    {
      "cell_type": "markdown",
      "metadata": {
        "id": "7FxNqWidTyo-",
        "colab_type": "text"
      },
      "source": [
        "#ch.1"
      ]
    },
    {
      "cell_type": "markdown",
      "metadata": {
        "id": "uhB2CmKsHcnz",
        "colab_type": "text"
      },
      "source": [
        "## print"
      ]
    },
    {
      "cell_type": "code",
      "metadata": {
        "id": "FuQ8OaplDb37",
        "colab_type": "code",
        "outputId": "f20a317a-3dc8-49cf-aa11-d2fb17dfa537",
        "colab": {
          "base_uri": "https://localhost:8080/",
          "height": 34
        }
      },
      "source": [
        "print(\"Hello World!\")"
      ],
      "execution_count": 0,
      "outputs": [
        {
          "output_type": "stream",
          "text": [
            "Hello World!\n"
          ],
          "name": "stdout"
        }
      ]
    },
    {
      "cell_type": "code",
      "metadata": {
        "id": "K3aRrhgzEAyQ",
        "colab_type": "code",
        "outputId": "acb7afab-46a2-4824-a1b1-5d432ac654e8",
        "colab": {
          "base_uri": "https://localhost:8080/",
          "height": 184
        }
      },
      "source": [
        "Print(\"Hello World!\")"
      ],
      "execution_count": 0,
      "outputs": [
        {
          "output_type": "error",
          "ename": "NameError",
          "evalue": "ignored",
          "traceback": [
            "\u001b[0;31m---------------------------------------------------------------------------\u001b[0m",
            "\u001b[0;31mNameError\u001b[0m                                 Traceback (most recent call last)",
            "\u001b[0;32m<ipython-input-2-e178b25c90d6>\u001b[0m in \u001b[0;36m<module>\u001b[0;34m()\u001b[0m\n\u001b[0;32m----> 1\u001b[0;31m \u001b[0mPrint\u001b[0m\u001b[0;34m(\u001b[0m\u001b[0;34m\"Hello World!\"\u001b[0m\u001b[0;34m)\u001b[0m\u001b[0;34m\u001b[0m\u001b[0;34m\u001b[0m\u001b[0m\n\u001b[0m",
            "\u001b[0;31mNameError\u001b[0m: name 'Print' is not defined"
          ]
        }
      ]
    },
    {
      "cell_type": "code",
      "metadata": {
        "id": "xDhoAJjtEO1E",
        "colab_type": "code",
        "outputId": "795188ab-2f4e-4781-d64a-1f61039c6694",
        "colab": {
          "base_uri": "https://localhost:8080/",
          "height": 34
        }
      },
      "source": [
        "print(\"토끼야 안녕!\")"
      ],
      "execution_count": 0,
      "outputs": [
        {
          "output_type": "stream",
          "text": [
            "토끼야 안녕!\n"
          ],
          "name": "stdout"
        }
      ]
    },
    {
      "cell_type": "code",
      "metadata": {
        "id": "xXsG5VpqEsjx",
        "colab_type": "code",
        "outputId": "6a91e88a-f600-4096-cde5-a542e1d74209",
        "colab": {
          "base_uri": "https://localhost:8080/",
          "height": 34
        }
      },
      "source": [
        "print(\"1\")"
      ],
      "execution_count": 0,
      "outputs": [
        {
          "output_type": "stream",
          "text": [
            "1\n"
          ],
          "name": "stdout"
        }
      ]
    },
    {
      "cell_type": "code",
      "metadata": {
        "id": "6jIfDTlZFDD9",
        "colab_type": "code",
        "outputId": "71ec77c8-889a-4c5c-d8de-7369bf2d123f",
        "colab": {
          "base_uri": "https://localhost:8080/",
          "height": 51
        }
      },
      "source": [
        "print(\"-2\")\n",
        "print(\"3.14\")"
      ],
      "execution_count": 0,
      "outputs": [
        {
          "output_type": "stream",
          "text": [
            "-2\n",
            "3.14\n"
          ],
          "name": "stdout"
        }
      ]
    },
    {
      "cell_type": "markdown",
      "metadata": {
        "id": "7RFc8_I3T60D",
        "colab_type": "text"
      },
      "source": [
        "#ch.2\n"
      ]
    },
    {
      "cell_type": "markdown",
      "metadata": {
        "id": "rZXyQCMZHkd6",
        "colab_type": "text"
      },
      "source": [
        "## 숫자형"
      ]
    },
    {
      "cell_type": "code",
      "metadata": {
        "id": "YydtAAdmFDP8",
        "colab_type": "code",
        "outputId": "3a0d9654-3b7d-41f1-9645-9a600052c67d",
        "colab": {
          "base_uri": "https://localhost:8080/",
          "height": 68
        }
      },
      "source": [
        "#숫자는 따옴표 없이 출력가능\n",
        "print(1)\n",
        "print(-2)\n",
        "print(3.14)"
      ],
      "execution_count": 0,
      "outputs": [
        {
          "output_type": "stream",
          "text": [
            "1\n",
            "-2\n",
            "3.14\n"
          ],
          "name": "stdout"
        }
      ]
    },
    {
      "cell_type": "code",
      "metadata": {
        "id": "tU_HNnBRFDXk",
        "colab_type": "code",
        "outputId": "d576007a-d9cf-47d0-fc8e-d8136803b933",
        "colab": {
          "base_uri": "https://localhost:8080/",
          "height": 85
        }
      },
      "source": [
        "print(1+2)\n",
        "print(3-2)\n",
        "print(2*4)\n",
        "print(6/3) # 나누기 결과는 항상 실수"
      ],
      "execution_count": 0,
      "outputs": [
        {
          "output_type": "stream",
          "text": [
            "3\n",
            "1\n",
            "8\n",
            "2.0\n"
          ],
          "name": "stdout"
        }
      ]
    },
    {
      "cell_type": "code",
      "metadata": {
        "id": "qaWvEDTgFDbc",
        "colab_type": "code",
        "outputId": "aa3fde57-927a-4266-d62a-7c4cac4a85c0",
        "colab": {
          "base_uri": "https://localhost:8080/",
          "height": 34
        }
      },
      "source": [
        "print(2*(3+2)-2)"
      ],
      "execution_count": 0,
      "outputs": [
        {
          "output_type": "stream",
          "text": [
            "8\n"
          ],
          "name": "stdout"
        }
      ]
    },
    {
      "cell_type": "code",
      "metadata": {
        "id": "rZSF8mEtFDe8",
        "colab_type": "code",
        "outputId": "edaf6865-0719-43af-b8b0-311707acb010",
        "colab": {
          "base_uri": "https://localhost:8080/",
          "height": 68
        }
      },
      "source": [
        "print(5**2) #제곱\n",
        "print(5//2) #몫\n",
        "print(5%2) #나머지"
      ],
      "execution_count": 0,
      "outputs": [
        {
          "output_type": "stream",
          "text": [
            "25\n",
            "2\n",
            "1\n"
          ],
          "name": "stdout"
        }
      ]
    },
    {
      "cell_type": "code",
      "metadata": {
        "id": "72BGD7Y3FDim",
        "colab_type": "code",
        "outputId": "8fe43a51-2639-442d-efca-6b1cfcfc4cc2",
        "colab": {
          "base_uri": "https://localhost:8080/",
          "height": 51
        }
      },
      "source": [
        "#홀수짝수 구별 나머지=0(짝수), 나머지=1(홀수)\n",
        "print(5%2)\n",
        "print(4%2)"
      ],
      "execution_count": 0,
      "outputs": [
        {
          "output_type": "stream",
          "text": [
            "1\n",
            "0\n"
          ],
          "name": "stdout"
        }
      ]
    },
    {
      "cell_type": "code",
      "metadata": {
        "id": "cIfsHuuNFDl_",
        "colab_type": "code",
        "outputId": "e8227c59-a0da-43a8-f2b2-76d69985189f",
        "colab": {
          "base_uri": "https://localhost:8080/",
          "height": 85
        }
      },
      "source": [
        "print(3+7)\n",
        "print(6*3)\n",
        "print(4**2)\n",
        "print(9%5)"
      ],
      "execution_count": 0,
      "outputs": [
        {
          "output_type": "stream",
          "text": [
            "10\n",
            "18\n",
            "16\n",
            "4\n"
          ],
          "name": "stdout"
        }
      ]
    },
    {
      "cell_type": "code",
      "metadata": {
        "id": "wBDZC9IkFDpX",
        "colab_type": "code",
        "outputId": "79e99373-1ab0-4a22-c461-a8b6be9d94b7",
        "colab": {
          "base_uri": "https://localhost:8080/",
          "height": 34
        }
      },
      "source": [
        "print(2+3*2)"
      ],
      "execution_count": 0,
      "outputs": [
        {
          "output_type": "stream",
          "text": [
            "8\n"
          ],
          "name": "stdout"
        }
      ]
    },
    {
      "cell_type": "markdown",
      "metadata": {
        "id": "b2v35n-JHqIQ",
        "colab_type": "text"
      },
      "source": [
        "## 문자열\n"
      ]
    },
    {
      "cell_type": "code",
      "metadata": {
        "id": "00IjL75VFDsu",
        "colab_type": "code",
        "outputId": "ff0f09f0-d1d7-4602-e938-e75744847dcf",
        "colab": {
          "base_uri": "https://localhost:8080/",
          "height": 34
        }
      },
      "source": [
        "print('Hello World')\n"
      ],
      "execution_count": 0,
      "outputs": [
        {
          "output_type": "stream",
          "text": [
            "Hello World\n"
          ],
          "name": "stdout"
        }
      ]
    },
    {
      "cell_type": "code",
      "metadata": {
        "id": "Gsr5ufg4FDwV",
        "colab_type": "code",
        "outputId": "6a891b95-ebe5-4d5d-9273-1c265e1bca84",
        "colab": {
          "base_uri": "https://localhost:8080/",
          "height": 51
        }
      },
      "source": [
        "print(3.14) #숫자열\n",
        "print('3.14') #문자열"
      ],
      "execution_count": 0,
      "outputs": [
        {
          "output_type": "stream",
          "text": [
            "3.14\n",
            "3.14\n"
          ],
          "name": "stdout"
        }
      ]
    },
    {
      "cell_type": "code",
      "metadata": {
        "id": "nREPCVgJKaNT",
        "colab_type": "code",
        "outputId": "f00a8fa2-ec94-4210-9f93-843f00ac1362",
        "colab": {
          "base_uri": "https://localhost:8080/",
          "height": 51
        }
      },
      "source": [
        "print(\" '저건 뭐지?' 하고 앨리스가 생각했어요.\")\n",
        "print('앨리스가 흰 토끼에서 말했어요. \"안녕!\" ')"
      ],
      "execution_count": 0,
      "outputs": [
        {
          "output_type": "stream",
          "text": [
            " '저건 뭐지?' 하고 앨리스가 생각했어요.\n",
            "앨리스가 흰 토끼에서 말했어요. \"안녕!\" \n"
          ],
          "name": "stdout"
        }
      ]
    },
    {
      "cell_type": "code",
      "metadata": {
        "id": "lheTfi5rLDcS",
        "colab_type": "code",
        "outputId": "1cf2e2b0-5407-4004-a9d4-cf183f79c89a",
        "colab": {
          "base_uri": "https://localhost:8080/",
          "height": 34
        }
      },
      "source": [
        "print('토끼' + '야 안녕!')"
      ],
      "execution_count": 0,
      "outputs": [
        {
          "output_type": "stream",
          "text": [
            "토끼야 안녕!\n"
          ],
          "name": "stdout"
        }
      ]
    },
    {
      "cell_type": "code",
      "metadata": {
        "id": "bG68mmaXLKmK",
        "colab_type": "code",
        "outputId": "1b72e7a7-c706-484c-a6cc-21ec12d19cba",
        "colab": {
          "base_uri": "https://localhost:8080/",
          "height": 34
        }
      },
      "source": [
        "print(\"토끼야\" + '안녕')"
      ],
      "execution_count": 0,
      "outputs": [
        {
          "output_type": "stream",
          "text": [
            "토끼야안녕\n"
          ],
          "name": "stdout"
        }
      ]
    },
    {
      "cell_type": "code",
      "metadata": {
        "id": "Jnz-5B2TLUI5",
        "colab_type": "code",
        "outputId": "30ac7ad9-7767-4341-a5e5-32485b1c6c65",
        "colab": {
          "base_uri": "https://localhost:8080/",
          "height": 34
        }
      },
      "source": [
        "print('데굴'*4) #정수곱"
      ],
      "execution_count": 0,
      "outputs": [
        {
          "output_type": "stream",
          "text": [
            "데굴데굴데굴데굴\n"
          ],
          "name": "stdout"
        }
      ]
    },
    {
      "cell_type": "code",
      "metadata": {
        "id": "PYBBeyFBLbc3",
        "colab_type": "code",
        "outputId": "6dff7e99-d284-4b04-f211-aea16cedfe7c",
        "colab": {
          "base_uri": "https://localhost:8080/",
          "height": 34
        }
      },
      "source": [
        "print('''데굴 데굴''')"
      ],
      "execution_count": 0,
      "outputs": [
        {
          "output_type": "stream",
          "text": [
            "데굴 데굴\n"
          ],
          "name": "stdout"
        }
      ]
    },
    {
      "cell_type": "code",
      "metadata": {
        "id": "X5lT3DFeLm4O",
        "colab_type": "code",
        "outputId": "e64b07fa-2545-4d3a-d3dc-57c21b0c3cd8",
        "colab": {
          "base_uri": "https://localhost:8080/",
          "height": 51
        }
      },
      "source": [
        "print('''데굴 \n",
        "데굴''')"
      ],
      "execution_count": 0,
      "outputs": [
        {
          "output_type": "stream",
          "text": [
            "데굴 \n",
            "데굴\n"
          ],
          "name": "stdout"
        }
      ]
    },
    {
      "cell_type": "code",
      "metadata": {
        "id": "GkRSfJm8LotN",
        "colab_type": "code",
        "outputId": "e4303cbb-c5f9-4211-c74f-3ce368146dca",
        "colab": {
          "base_uri": "https://localhost:8080/",
          "height": 130
        }
      },
      "source": [
        "print('데굴 \n",
        "데굴')"
      ],
      "execution_count": 0,
      "outputs": [
        {
          "output_type": "error",
          "ename": "SyntaxError",
          "evalue": "ignored",
          "traceback": [
            "\u001b[0;36m  File \u001b[0;32m\"<ipython-input-7-5f2d611ce45b>\"\u001b[0;36m, line \u001b[0;32m1\u001b[0m\n\u001b[0;31m    print('데굴\u001b[0m\n\u001b[0m              ^\u001b[0m\n\u001b[0;31mSyntaxError\u001b[0m\u001b[0;31m:\u001b[0m EOL while scanning string literal\n"
          ]
        }
      ]
    },
    {
      "cell_type": "code",
      "metadata": {
        "id": "MGB2EaqcLvId",
        "colab_type": "code",
        "outputId": "7c90c3cd-7cb1-41ee-f417-d788802aeb0f",
        "colab": {
          "base_uri": "https://localhost:8080/",
          "height": 34
        }
      },
      "source": [
        "print('빨'+'주'+'노'+'초'+'파'+'남'+'보')"
      ],
      "execution_count": 0,
      "outputs": [
        {
          "output_type": "stream",
          "text": [
            "빨주노초파남보\n"
          ],
          "name": "stdout"
        }
      ]
    },
    {
      "cell_type": "markdown",
      "metadata": {
        "id": "jk9GIO48MPD5",
        "colab_type": "text"
      },
      "source": [
        "## 변수"
      ]
    },
    {
      "cell_type": "code",
      "metadata": {
        "id": "J7qxoEDuMLPB",
        "colab_type": "code",
        "outputId": "a3cecf68-cc47-46bb-df6c-158cdbfb1ea7",
        "colab": {
          "base_uri": "https://localhost:8080/",
          "height": 34
        }
      },
      "source": [
        "rainbow = '빨주노초파남보' #'=' 변수할당 \n",
        "print(rainbow) #=print('빨주노초파남보')"
      ],
      "execution_count": 0,
      "outputs": [
        {
          "output_type": "stream",
          "text": [
            "빨주노초파남보\n"
          ],
          "name": "stdout"
        }
      ]
    },
    {
      "cell_type": "code",
      "metadata": {
        "id": "ot5xMpcBMLa_",
        "colab_type": "code",
        "outputId": "61982194-297b-4054-9e90-f405201116fc",
        "colab": {
          "base_uri": "https://localhost:8080/",
          "height": 34
        }
      },
      "source": [
        "rainbow "
      ],
      "execution_count": 0,
      "outputs": [
        {
          "output_type": "execute_result",
          "data": {
            "text/plain": [
              "'빨주노초파남보'"
            ]
          },
          "metadata": {
            "tags": []
          },
          "execution_count": 10
        }
      ]
    },
    {
      "cell_type": "code",
      "metadata": {
        "id": "rwfW5hedMLgR",
        "colab_type": "code",
        "outputId": "2ba27818-f7b6-4750-d346-f1ce1b901384",
        "colab": {
          "base_uri": "https://localhost:8080/",
          "height": 34
        }
      },
      "source": [
        "count=0 #count=0\n",
        "print(count)"
      ],
      "execution_count": 0,
      "outputs": [
        {
          "output_type": "stream",
          "text": [
            "0\n"
          ],
          "name": "stdout"
        }
      ]
    },
    {
      "cell_type": "code",
      "metadata": {
        "id": "GbUSviOiMLkY",
        "colab_type": "code",
        "outputId": "91124063-d058-4dd8-f6e7-2ed1bb9f1e62",
        "colab": {
          "base_uri": "https://localhost:8080/",
          "height": 34
        }
      },
      "source": [
        "count=1 #count=1\n",
        "print(count)"
      ],
      "execution_count": 0,
      "outputs": [
        {
          "output_type": "stream",
          "text": [
            "1\n"
          ],
          "name": "stdout"
        }
      ]
    },
    {
      "cell_type": "code",
      "metadata": {
        "id": "2JMaIN3HMLon",
        "colab_type": "code",
        "outputId": "27a6b75a-f1d7-453b-b6e1-f94c770f38d9",
        "colab": {
          "base_uri": "https://localhost:8080/",
          "height": 34
        }
      },
      "source": [
        "count=count+1 #count=1\n",
        "print(count) #count=2"
      ],
      "execution_count": 0,
      "outputs": [
        {
          "output_type": "stream",
          "text": [
            "2\n"
          ],
          "name": "stdout"
        }
      ]
    },
    {
      "cell_type": "code",
      "metadata": {
        "id": "RBlilXd7MLuv",
        "colab_type": "code",
        "outputId": "dcbff5ba-9d5e-4009-dea7-d63f15064a7f",
        "colab": {
          "base_uri": "https://localhost:8080/",
          "height": 54
        }
      },
      "source": [
        "import keyword\n",
        "print(keyword.kwlist)"
      ],
      "execution_count": 0,
      "outputs": [
        {
          "output_type": "stream",
          "text": [
            "['False', 'None', 'True', 'and', 'as', 'assert', 'break', 'class', 'continue', 'def', 'del', 'elif', 'else', 'except', 'finally', 'for', 'from', 'global', 'if', 'import', 'in', 'is', 'lambda', 'nonlocal', 'not', 'or', 'pass', 'raise', 'return', 'try', 'while', 'with', 'yield']\n"
          ],
          "name": "stdout"
        }
      ]
    },
    {
      "cell_type": "code",
      "metadata": {
        "id": "-ViLTUK2N3Ce",
        "colab_type": "code",
        "outputId": "941efe58-341d-4c43-897f-23e8896c916c",
        "colab": {
          "base_uri": "https://localhost:8080/",
          "height": 130
        }
      },
      "source": [
        "my int = 3 #invalid syntax = 문법오류"
      ],
      "execution_count": 0,
      "outputs": [
        {
          "output_type": "error",
          "ename": "SyntaxError",
          "evalue": "ignored",
          "traceback": [
            "\u001b[0;36m  File \u001b[0;32m\"<ipython-input-15-65319c324ddb>\"\u001b[0;36m, line \u001b[0;32m1\u001b[0m\n\u001b[0;31m    my int = 3\u001b[0m\n\u001b[0m         ^\u001b[0m\n\u001b[0;31mSyntaxError\u001b[0m\u001b[0;31m:\u001b[0m invalid syntax\n"
          ]
        }
      ]
    },
    {
      "cell_type": "code",
      "metadata": {
        "id": "HJm-bIgNN3Se",
        "colab_type": "code",
        "colab": {}
      },
      "source": [
        "coffee = 4100\n",
        "juice = 4600\n",
        "tea = 3900"
      ],
      "execution_count": 0,
      "outputs": []
    },
    {
      "cell_type": "code",
      "metadata": {
        "id": "sFBWHbnMN3Vk",
        "colab_type": "code",
        "colab": {}
      },
      "source": [
        "order1 = coffee*3 + juice*2 + tea *1\n",
        "order2 = coffee*4 + juice*3 + tea *3\n",
        "order3 = coffee*1 + juice*1 + tea *2"
      ],
      "execution_count": 0,
      "outputs": []
    },
    {
      "cell_type": "code",
      "metadata": {
        "id": "OP6K9-7nN3Zy",
        "colab_type": "code",
        "outputId": "d4a3e5ba-277c-4162-86b6-b9e7815c324e",
        "colab": {
          "base_uri": "https://localhost:8080/",
          "height": 68
        }
      },
      "source": [
        "print(order1)\n",
        "print(order2)\n",
        "print(order3)"
      ],
      "execution_count": 0,
      "outputs": [
        {
          "output_type": "stream",
          "text": [
            "25400\n",
            "41900\n",
            "16500\n"
          ],
          "name": "stdout"
        }
      ]
    },
    {
      "cell_type": "code",
      "metadata": {
        "id": "7hnGaWV4N3Y5",
        "colab_type": "code",
        "outputId": "af7c9c7c-6362-4e15-f6b3-8a11b0802af3",
        "colab": {
          "base_uri": "https://localhost:8080/",
          "height": 34
        }
      },
      "source": [
        "tea = 4000\n",
        "print (coffee*4 + juice*3 + tea *3)"
      ],
      "execution_count": 0,
      "outputs": [
        {
          "output_type": "stream",
          "text": [
            "42200\n"
          ],
          "name": "stdout"
        }
      ]
    },
    {
      "cell_type": "markdown",
      "metadata": {
        "id": "isKSC8WeKCn_",
        "colab_type": "text"
      },
      "source": [
        "## 주석"
      ]
    },
    {
      "cell_type": "code",
      "metadata": {
        "id": "P6ufSdNWPUjn",
        "colab_type": "code",
        "colab": {}
      },
      "source": [
        "coffee = 4100 # 커피의 가격\n",
        "juice = 4600 # 주스의 가격\n",
        "tea = 3900 # 홍차의 가격"
      ],
      "execution_count": 0,
      "outputs": []
    },
    {
      "cell_type": "code",
      "metadata": {
        "id": "dkVuUJBpPkkM",
        "colab_type": "code",
        "outputId": "d7eedb93-1770-48dd-e6f2-fdbdba49f775",
        "colab": {
          "base_uri": "https://localhost:8080/",
          "height": 34
        }
      },
      "source": [
        "print('토끼야 안녕!') \n",
        "#print('토끼야 안녕!') "
      ],
      "execution_count": 0,
      "outputs": [
        {
          "output_type": "stream",
          "text": [
            "토끼야 안녕!\n"
          ],
          "name": "stdout"
        }
      ]
    },
    {
      "cell_type": "markdown",
      "metadata": {
        "id": "WGrA2uLAP_aA",
        "colab_type": "text"
      },
      "source": [
        "## 연습문제"
      ]
    },
    {
      "cell_type": "markdown",
      "metadata": {
        "id": "NvODql4FQBhQ",
        "colab_type": "text"
      },
      "source": [
        "###1\n"
      ]
    },
    {
      "cell_type": "code",
      "metadata": {
        "id": "dqNFsDJyQHdl",
        "colab_type": "code",
        "outputId": "8fe7951a-8fcd-4121-e60b-2ab1de5097e5",
        "colab": {
          "base_uri": "https://localhost:8080/",
          "height": 68
        }
      },
      "source": [
        "print(3+1-2)\n",
        "print(3-1+2)\n",
        "print(3*1-2)"
      ],
      "execution_count": 0,
      "outputs": [
        {
          "output_type": "stream",
          "text": [
            "2\n",
            "4\n",
            "1\n"
          ],
          "name": "stdout"
        }
      ]
    },
    {
      "cell_type": "markdown",
      "metadata": {
        "id": "cpRzMm_cQr4v",
        "colab_type": "text"
      },
      "source": [
        "### 2"
      ]
    },
    {
      "cell_type": "code",
      "metadata": {
        "id": "yD_vdnQ2QvTm",
        "colab_type": "code",
        "outputId": "6ce447bb-8401-4a6e-c18e-4dbb1e4198d2",
        "colab": {
          "base_uri": "https://localhost:8080/",
          "height": 51
        }
      },
      "source": [
        "num1 = 9\n",
        "num2 = 2\n",
        "print(num1//num2) #4\n",
        "print(num1%num2) #1"
      ],
      "execution_count": 0,
      "outputs": [
        {
          "output_type": "stream",
          "text": [
            "4\n",
            "1\n"
          ],
          "name": "stdout"
        }
      ]
    },
    {
      "cell_type": "markdown",
      "metadata": {
        "id": "2JMKw7PjQtr2",
        "colab_type": "text"
      },
      "source": [
        "### 3"
      ]
    },
    {
      "cell_type": "code",
      "metadata": {
        "id": "2RkP1aSWRH1H",
        "colab_type": "code",
        "outputId": "b4579d90-6fab-4324-dc58-5c553f2a29a3",
        "colab": {
          "base_uri": "https://localhost:8080/",
          "height": 85
        }
      },
      "source": [
        "print(8/2) #4.0\n",
        "print(2*2) #4\n",
        "print(8.0/2) #4.0\n",
        "print(8.5//2) #4.0"
      ],
      "execution_count": 0,
      "outputs": [
        {
          "output_type": "stream",
          "text": [
            "4.0\n",
            "4\n",
            "4.0\n",
            "4.0\n"
          ],
          "name": "stdout"
        }
      ]
    },
    {
      "cell_type": "markdown",
      "metadata": {
        "id": "MQmnKDZiRYWj",
        "colab_type": "text"
      },
      "source": [
        "###4\n"
      ]
    },
    {
      "cell_type": "code",
      "metadata": {
        "id": "0TtSq-kYRaDT",
        "colab_type": "code",
        "outputId": "7fb0af6b-fa0e-40ab-b3c6-4bb47ddb3f8a",
        "colab": {
          "base_uri": "https://localhost:8080/",
          "height": 85
        }
      },
      "source": [
        "print(11/3) #3.6667\n",
        "print(11%3) #2\n",
        "print(11//3) #3\n",
        "print(11**3) #1331"
      ],
      "execution_count": 0,
      "outputs": [
        {
          "output_type": "stream",
          "text": [
            "3.6666666666666665\n",
            "2\n",
            "3\n",
            "1331\n"
          ],
          "name": "stdout"
        }
      ]
    },
    {
      "cell_type": "markdown",
      "metadata": {
        "id": "Wi3s-jV6R0FE",
        "colab_type": "text"
      },
      "source": [
        "###5"
      ]
    },
    {
      "cell_type": "code",
      "metadata": {
        "id": "9juP_RfdRwMk",
        "colab_type": "code",
        "outputId": "e6c8f8ba-131c-4120-a657-38cbe5fbb639",
        "colab": {
          "base_uri": "https://localhost:8080/",
          "height": 34
        }
      },
      "source": [
        "print('2'+'4') #24"
      ],
      "execution_count": 0,
      "outputs": [
        {
          "output_type": "stream",
          "text": [
            "24\n"
          ],
          "name": "stdout"
        }
      ]
    },
    {
      "cell_type": "markdown",
      "metadata": {
        "id": "U_9PLX-uR8WS",
        "colab_type": "text"
      },
      "source": [
        "###6"
      ]
    },
    {
      "cell_type": "code",
      "metadata": {
        "id": "5pH652XSRwii",
        "colab_type": "code",
        "outputId": "374f0468-18bf-47fa-a6fe-2fedc38702e1",
        "colab": {
          "base_uri": "https://localhost:8080/",
          "height": 34
        }
      },
      "source": [
        "alphabets = 'abc' + 'de' +'f'\n",
        "print(alphabets) #abcdef"
      ],
      "execution_count": 0,
      "outputs": [
        {
          "output_type": "stream",
          "text": [
            "abcdef\n"
          ],
          "name": "stdout"
        }
      ]
    },
    {
      "cell_type": "markdown",
      "metadata": {
        "id": "BGVGMC7oSH0I",
        "colab_type": "text"
      },
      "source": [
        "###7"
      ]
    },
    {
      "cell_type": "code",
      "metadata": {
        "id": "nJ1kaIZDRwqh",
        "colab_type": "code",
        "outputId": "4f8d1969-9c44-46eb-f4d6-36940d0ea543",
        "colab": {
          "base_uri": "https://localhost:8080/",
          "height": 34
        }
      },
      "source": [
        "print('말랑'*2) #말랑말랑"
      ],
      "execution_count": 0,
      "outputs": [
        {
          "output_type": "stream",
          "text": [
            "말랑말랑\n"
          ],
          "name": "stdout"
        }
      ]
    },
    {
      "cell_type": "markdown",
      "metadata": {
        "id": "W6U0nADkSPcP",
        "colab_type": "text"
      },
      "source": [
        "###8"
      ]
    },
    {
      "cell_type": "code",
      "metadata": {
        "id": "QAMZIG9ARwvi",
        "colab_type": "code",
        "outputId": "f001e58b-9267-4cb7-c185-61fb5cc6aed5",
        "colab": {
          "base_uri": "https://localhost:8080/",
          "height": 34
        }
      },
      "source": [
        "count=1\n",
        "count =count +1\n",
        "count = 1\n",
        "print(count) #1"
      ],
      "execution_count": 0,
      "outputs": [
        {
          "output_type": "stream",
          "text": [
            "1\n"
          ],
          "name": "stdout"
        }
      ]
    },
    {
      "cell_type": "markdown",
      "metadata": {
        "id": "0ouQsZaOSZkN",
        "colab_type": "text"
      },
      "source": [
        "###9"
      ]
    },
    {
      "cell_type": "code",
      "metadata": {
        "id": "rMjSJzKVRwy6",
        "colab_type": "code",
        "outputId": "b02ad5d0-e42a-4aa9-ed5d-642c6157819c",
        "colab": {
          "base_uri": "https://localhost:8080/",
          "height": 34
        }
      },
      "source": [
        "fruits = '자몽 레몬'\n",
        "print(fruits+ ' 멜론') # 자몽 레몬 멜론"
      ],
      "execution_count": 0,
      "outputs": [
        {
          "output_type": "stream",
          "text": [
            "자몽 레몬 멜론\n"
          ],
          "name": "stdout"
        }
      ]
    },
    {
      "cell_type": "markdown",
      "metadata": {
        "id": "0eUZgdUaSrfa",
        "colab_type": "text"
      },
      "source": [
        "###10"
      ]
    },
    {
      "cell_type": "code",
      "metadata": {
        "id": "8tdjJoslSsoq",
        "colab_type": "code",
        "colab": {}
      },
      "source": [
        "_fruits = 0 #o\n"
      ],
      "execution_count": 0,
      "outputs": []
    },
    {
      "cell_type": "code",
      "metadata": {
        "id": "QmRRUtfVS2wg",
        "colab_type": "code",
        "outputId": "fa9e7d5c-d30e-4c8c-8810-50d3351cccef",
        "colab": {
          "base_uri": "https://localhost:8080/",
          "height": 130
        }
      },
      "source": [
        "\n",
        "2nd_candy =0 #x\n"
      ],
      "execution_count": 0,
      "outputs": [
        {
          "output_type": "error",
          "ename": "SyntaxError",
          "evalue": "ignored",
          "traceback": [
            "\u001b[0;36m  File \u001b[0;32m\"<ipython-input-46-b89ca34742ec>\"\u001b[0;36m, line \u001b[0;32m2\u001b[0m\n\u001b[0;31m    2nd_candy =0#x\u001b[0m\n\u001b[0m            ^\u001b[0m\n\u001b[0;31mSyntaxError\u001b[0m\u001b[0;31m:\u001b[0m invalid syntax\n"
          ]
        }
      ]
    },
    {
      "cell_type": "code",
      "metadata": {
        "id": "7CbTKgHFS4Nt",
        "colab_type": "code",
        "outputId": "8302f538-55ab-4702-cf0b-81c5649cc700",
        "colab": {
          "base_uri": "https://localhost:8080/",
          "height": 130
        }
      },
      "source": [
        "\n",
        "candy bag =0 #x\n"
      ],
      "execution_count": 0,
      "outputs": [
        {
          "output_type": "error",
          "ename": "SyntaxError",
          "evalue": "ignored",
          "traceback": [
            "\u001b[0;36m  File \u001b[0;32m\"<ipython-input-47-56d7cc44b968>\"\u001b[0;36m, line \u001b[0;32m2\u001b[0m\n\u001b[0;31m    candy bag =0#x\u001b[0m\n\u001b[0m            ^\u001b[0m\n\u001b[0;31mSyntaxError\u001b[0m\u001b[0;31m:\u001b[0m invalid syntax\n"
          ]
        }
      ]
    },
    {
      "cell_type": "code",
      "metadata": {
        "id": "6qs5FDMFS4nu",
        "colab_type": "code",
        "colab": {}
      },
      "source": [
        "\n",
        "student_id =0 #o"
      ],
      "execution_count": 0,
      "outputs": []
    },
    {
      "cell_type": "markdown",
      "metadata": {
        "id": "IJyndtWcTZA4",
        "colab_type": "text"
      },
      "source": [
        "#ch.3"
      ]
    },
    {
      "cell_type": "markdown",
      "metadata": {
        "id": "v5eekdcLVH3v",
        "colab_type": "text"
      },
      "source": [
        "## 리스트 사용 예제"
      ]
    },
    {
      "cell_type": "code",
      "metadata": {
        "id": "WlsVQC6UVTnd",
        "colab_type": "code",
        "outputId": "74e41e25-bc6f-419e-c161-0b848327a984",
        "colab": {
          "base_uri": "https://localhost:8080/",
          "height": 102
        }
      },
      "source": [
        "candy0 ='딸기맛'\n",
        "print(candy0)\n",
        "candy1 ='레몬맛'\n",
        "print(candy1)\n",
        "candy2 ='수박맛'\n",
        "print(candy2)\n",
        "candy3 ='박하맛'\n",
        "print(candy3)\n",
        "candy4 ='우유맛'\n",
        "print(candy4)"
      ],
      "execution_count": 0,
      "outputs": [
        {
          "output_type": "stream",
          "text": [
            "딸기맛\n",
            "레몬맛\n",
            "수박맛\n",
            "박하맛\n",
            "우유맛\n"
          ],
          "name": "stdout"
        }
      ]
    },
    {
      "cell_type": "code",
      "metadata": {
        "id": "52A1gxgbVxGg",
        "colab_type": "code",
        "outputId": "43f9e1b8-0e13-41e3-8231-4e626acf7616",
        "colab": {
          "base_uri": "https://localhost:8080/",
          "height": 51
        }
      },
      "source": [
        "candies =['딸기맛', '레몬맛','수박맛','박하맛','우유맛']\n",
        "print(candies)\n",
        "candies"
      ],
      "execution_count": 0,
      "outputs": [
        {
          "output_type": "stream",
          "text": [
            "['딸기맛', '레몬맛', '수박맛', '박하맛', '우유맛']\n"
          ],
          "name": "stdout"
        },
        {
          "output_type": "execute_result",
          "data": {
            "text/plain": [
              "['딸기맛', '레몬맛', '수박맛', '박하맛', '우유맛']"
            ]
          },
          "metadata": {
            "tags": []
          },
          "execution_count": 50
        }
      ]
    },
    {
      "cell_type": "markdown",
      "metadata": {
        "id": "cYpV_DP2XDY0",
        "colab_type": "text"
      },
      "source": [
        "##리스트 기본 구조"
      ]
    },
    {
      "cell_type": "code",
      "metadata": {
        "id": "nDk8YyNBVxOP",
        "colab_type": "code",
        "outputId": "8735ffd6-7b58-4532-99ba-97262e3fe76f",
        "colab": {
          "base_uri": "https://localhost:8080/",
          "height": 34
        }
      },
      "source": [
        "#빈리스트\n",
        "my_list1=[] \n",
        "print(my_list1)"
      ],
      "execution_count": 0,
      "outputs": [
        {
          "output_type": "stream",
          "text": [
            "[]\n"
          ],
          "name": "stdout"
        }
      ]
    },
    {
      "cell_type": "code",
      "metadata": {
        "id": "NGbT-gE2VxUX",
        "colab_type": "code",
        "outputId": "c47deec1-e631-4ebb-db61-0cc4e8562c76",
        "colab": {
          "base_uri": "https://localhost:8080/",
          "height": 51
        }
      },
      "source": [
        "# 숫자, 문자, 리스트가 포함된 리스트\n",
        "my_list2=[1,-2,3.12]\n",
        "print(my_list2)\n",
        "\n",
        "my_list3=['앨리스',10,[1.0,1.2]]\n",
        "print(my_list3)"
      ],
      "execution_count": 0,
      "outputs": [
        {
          "output_type": "stream",
          "text": [
            "[1, -2, 3.12]\n",
            "['앨리스', 10, [1.0, 1.2]]\n"
          ],
          "name": "stdout"
        }
      ]
    },
    {
      "cell_type": "markdown",
      "metadata": {
        "id": "Nd_9XxiBXG2A",
        "colab_type": "text"
      },
      "source": [
        "## 리스트 값 추가하기 append()"
      ]
    },
    {
      "cell_type": "code",
      "metadata": {
        "id": "kWtVbSPAVxZ0",
        "colab_type": "code",
        "outputId": "8061d876-e4f3-4771-913e-6411710a0974",
        "colab": {
          "base_uri": "https://localhost:8080/"
        }
      },
      "source": [
        "clovers =[]\n",
        "clovers"
      ],
      "execution_count": 0,
      "outputs": [
        {
          "output_type": "execute_result",
          "data": {
            "text/plain": [
              "[]"
            ]
          },
          "metadata": {
            "tags": []
          },
          "execution_count": 2
        }
      ]
    },
    {
      "cell_type": "code",
      "metadata": {
        "id": "Q-amjB8KVxeP",
        "colab_type": "code",
        "outputId": "b00d996c-b667-427b-cb58-82cccf64e193",
        "colab": {
          "base_uri": "https://localhost:8080/"
        }
      },
      "source": [
        "clovers.append('클로버1')\n",
        "clovers"
      ],
      "execution_count": 0,
      "outputs": [
        {
          "output_type": "execute_result",
          "data": {
            "text/plain": [
              "['클로버1']"
            ]
          },
          "metadata": {
            "tags": []
          },
          "execution_count": 3
        }
      ]
    },
    {
      "cell_type": "code",
      "metadata": {
        "id": "iP7lXGOEVxmQ",
        "colab_type": "code",
        "outputId": "9b0e60e0-bdba-4168-fa87-d843b2cd879a",
        "colab": {
          "base_uri": "https://localhost:8080/"
        }
      },
      "source": [
        "clovers.append('하트2')\n",
        "clovers"
      ],
      "execution_count": 0,
      "outputs": [
        {
          "output_type": "execute_result",
          "data": {
            "text/plain": [
              "['클로버1', '하트2']"
            ]
          },
          "metadata": {
            "tags": []
          },
          "execution_count": 4
        }
      ]
    },
    {
      "cell_type": "code",
      "metadata": {
        "id": "053Cz3VBX-nP",
        "colab_type": "code",
        "outputId": "5e9bea20-7d65-4eae-b4f9-83c6532e8ce7",
        "colab": {
          "base_uri": "https://localhost:8080/"
        }
      },
      "source": [
        "clovers.append('클로버3')\n",
        "clovers"
      ],
      "execution_count": 0,
      "outputs": [
        {
          "output_type": "execute_result",
          "data": {
            "text/plain": [
              "['클로버1', '하트2', '클로버3']"
            ]
          },
          "metadata": {
            "tags": []
          },
          "execution_count": 5
        }
      ]
    },
    {
      "cell_type": "code",
      "metadata": {
        "id": "6YkgT7LMYMVX",
        "colab_type": "code",
        "outputId": "2d9e34a0-d209-4158-fe4d-d1304c9dbe72",
        "colab": {
          "base_uri": "https://localhost:8080/",
          "height": 34
        }
      },
      "source": [
        "#원하는 자리에 추가하기 insert()\n",
        "clovers.insert(1,'클로버2')\n",
        "clovers"
      ],
      "execution_count": 0,
      "outputs": [
        {
          "output_type": "execute_result",
          "data": {
            "text/plain": [
              "['클로버1', '클로버2', '하트2', '클로버3']"
            ]
          },
          "metadata": {
            "tags": []
          },
          "execution_count": 6
        }
      ]
    },
    {
      "cell_type": "markdown",
      "metadata": {
        "id": "IzeJ45zFYxv7",
        "colab_type": "text"
      },
      "source": [
        "## 인덱싱 [index] :  값 1개 가져오기"
      ]
    },
    {
      "cell_type": "code",
      "metadata": {
        "id": "ihRvoK3cY3T4",
        "colab_type": "code",
        "outputId": "a4484125-6f87-4993-86cb-379b8e88abcf",
        "colab": {
          "base_uri": "https://localhost:8080/",
          "height": 34
        }
      },
      "source": [
        "clovers =['클로버1', '하트2', '클로버3']\n",
        "clovers[1]"
      ],
      "execution_count": 0,
      "outputs": [
        {
          "output_type": "execute_result",
          "data": {
            "text/plain": [
              "'하트2'"
            ]
          },
          "metadata": {
            "tags": []
          },
          "execution_count": 1
        }
      ]
    },
    {
      "cell_type": "code",
      "metadata": {
        "id": "bUQp6Ue8ZVKb",
        "colab_type": "code",
        "outputId": "a736b8fd-e2e8-40d6-ecd7-e716e136573d",
        "colab": {
          "base_uri": "https://localhost:8080/",
          "height": 34
        }
      },
      "source": [
        "clovers[1]='클로버2' # 수정\n",
        "clovers[1]\n",
        "clovers"
      ],
      "execution_count": 0,
      "outputs": [
        {
          "output_type": "execute_result",
          "data": {
            "text/plain": [
              "['클로버1', '클로버2', '클로버3']"
            ]
          },
          "metadata": {
            "tags": []
          },
          "execution_count": 2
        }
      ]
    },
    {
      "cell_type": "code",
      "metadata": {
        "id": "jp3c1bCcZiZh",
        "colab_type": "code",
        "outputId": "9a623317-c356-4474-bd0d-c16184730fac",
        "colab": {
          "base_uri": "https://localhost:8080/",
          "height": 164
        }
      },
      "source": [
        "clovers[3] "
      ],
      "execution_count": 0,
      "outputs": [
        {
          "output_type": "error",
          "ename": "IndexError",
          "evalue": "ignored",
          "traceback": [
            "\u001b[0;31m---------------------------------------------------------------------------\u001b[0m",
            "\u001b[0;31mIndexError\u001b[0m                                Traceback (most recent call last)",
            "\u001b[0;32m<ipython-input-3-f77d0a6bade4>\u001b[0m in \u001b[0;36m<module>\u001b[0;34m()\u001b[0m\n\u001b[0;32m----> 1\u001b[0;31m \u001b[0mclovers\u001b[0m\u001b[0;34m[\u001b[0m\u001b[0;36m3\u001b[0m\u001b[0;34m]\u001b[0m\u001b[0;34m\u001b[0m\u001b[0;34m\u001b[0m\u001b[0m\n\u001b[0m",
            "\u001b[0;31mIndexError\u001b[0m: list index out of range"
          ]
        }
      ]
    },
    {
      "cell_type": "code",
      "metadata": {
        "id": "0xdTc685Zr_h",
        "colab_type": "code",
        "outputId": "96ba2928-36c9-45bc-a279-5849db5d03f6",
        "colab": {
          "base_uri": "https://localhost:8080/",
          "height": 51
        }
      },
      "source": [
        "#리스트의 뒤에서부터의 값 가져오기 = 음수사용\n",
        "print(clovers[-1])\n",
        "print(clovers[-2])"
      ],
      "execution_count": 0,
      "outputs": [
        {
          "output_type": "stream",
          "text": [
            "클로버3\n",
            "클로버2\n"
          ],
          "name": "stdout"
        }
      ]
    },
    {
      "cell_type": "markdown",
      "metadata": {
        "id": "Tr2Rwxw9aQPR",
        "colab_type": "text"
      },
      "source": [
        "## 값 제거 del "
      ]
    },
    {
      "cell_type": "code",
      "metadata": {
        "id": "nYZ_9qHVaicn",
        "colab_type": "code",
        "outputId": "54d38750-8031-46bc-ca5d-14df7afe07dd",
        "colab": {
          "base_uri": "https://localhost:8080/",
          "height": 34
        }
      },
      "source": [
        "clovers =['클로버1','클로버2','클로버3']\n",
        "clovers"
      ],
      "execution_count": 0,
      "outputs": [
        {
          "output_type": "execute_result",
          "data": {
            "text/plain": [
              "['클로버1', '클로버2', '클로버3']"
            ]
          },
          "metadata": {
            "tags": []
          },
          "execution_count": 11
        }
      ]
    },
    {
      "cell_type": "code",
      "metadata": {
        "id": "Z3EKUuNZa1V_",
        "colab_type": "code",
        "outputId": "18b76665-3749-404f-c265-58cd0d5c5017",
        "colab": {
          "base_uri": "https://localhost:8080/",
          "height": 34
        }
      },
      "source": [
        "del clovers[1]\n",
        "clovers"
      ],
      "execution_count": 0,
      "outputs": [
        {
          "output_type": "execute_result",
          "data": {
            "text/plain": [
              "['클로버1', '클로버3']"
            ]
          },
          "metadata": {
            "tags": []
          },
          "execution_count": 12
        }
      ]
    },
    {
      "cell_type": "code",
      "metadata": {
        "id": "IeettjJua-Cp",
        "colab_type": "code",
        "outputId": "15489919-8a78-4d6e-cc0c-1d6220c3a5b0",
        "colab": {
          "base_uri": "https://localhost:8080/",
          "height": 181
        }
      },
      "source": [
        "del clovers['클로버3']\n",
        "clovers"
      ],
      "execution_count": 0,
      "outputs": [
        {
          "output_type": "error",
          "ename": "TypeError",
          "evalue": "ignored",
          "traceback": [
            "\u001b[0;31m---------------------------------------------------------------------------\u001b[0m",
            "\u001b[0;31mTypeError\u001b[0m                                 Traceback (most recent call last)",
            "\u001b[0;32m<ipython-input-13-a9dcbff4ad52>\u001b[0m in \u001b[0;36m<module>\u001b[0;34m()\u001b[0m\n\u001b[0;32m----> 1\u001b[0;31m \u001b[0;32mdel\u001b[0m \u001b[0mclovers\u001b[0m\u001b[0;34m[\u001b[0m\u001b[0;34m'클로버3'\u001b[0m\u001b[0;34m]\u001b[0m\u001b[0;34m\u001b[0m\u001b[0;34m\u001b[0m\u001b[0m\n\u001b[0m\u001b[1;32m      2\u001b[0m \u001b[0mclovers\u001b[0m\u001b[0;34m\u001b[0m\u001b[0;34m\u001b[0m\u001b[0m\n",
            "\u001b[0;31mTypeError\u001b[0m: list indices must be integers or slices, not str"
          ]
        }
      ]
    },
    {
      "cell_type": "code",
      "metadata": {
        "id": "lJJ9YhFNbfYh",
        "colab_type": "code",
        "outputId": "c0df3111-7610-49d7-c7b2-44046be4347a",
        "colab": {
          "base_uri": "https://localhost:8080/",
          "height": 34
        }
      },
      "source": [
        "candies =['딸기', '레몬', '수박', '박하', '우유']\n",
        "candies"
      ],
      "execution_count": 0,
      "outputs": [
        {
          "output_type": "execute_result",
          "data": {
            "text/plain": [
              "['딸기', '레몬', '수박', '박하', '우유']"
            ]
          },
          "metadata": {
            "tags": []
          },
          "execution_count": 19
        }
      ]
    },
    {
      "cell_type": "code",
      "metadata": {
        "id": "jcwtfBSKb-0e",
        "colab_type": "code",
        "outputId": "da8bb648-dfae-4101-d277-4c7810f6e116",
        "colab": {
          "base_uri": "https://localhost:8080/",
          "height": 34
        }
      },
      "source": [
        "candies.append('콜라')\n",
        "candies.append('포도')\n",
        "del candies[3]\n",
        "candies"
      ],
      "execution_count": 0,
      "outputs": [
        {
          "output_type": "execute_result",
          "data": {
            "text/plain": [
              "['딸기', '레몬', '수박', '우유', '콜라', '포도']"
            ]
          },
          "metadata": {
            "tags": []
          },
          "execution_count": 20
        }
      ]
    },
    {
      "cell_type": "code",
      "metadata": {
        "id": "l5BIGhRZcLB0",
        "colab_type": "code",
        "outputId": "9a485163-0add-4cd3-dd80-8b0f354be409",
        "colab": {
          "base_uri": "https://localhost:8080/",
          "height": 34
        }
      },
      "source": [
        "candies.append('포도')\n",
        "candies"
      ],
      "execution_count": 0,
      "outputs": [
        {
          "output_type": "execute_result",
          "data": {
            "text/plain": [
              "['딸기', '레몬', '수박', '박하', '우유', '콜라', '포도']"
            ]
          },
          "metadata": {
            "tags": []
          },
          "execution_count": 17
        }
      ]
    },
    {
      "cell_type": "markdown",
      "metadata": {
        "id": "dIyvkpEBclh2",
        "colab_type": "text"
      },
      "source": [
        "##슬라이싱 [인덱스:] 값 여러개 가져오기"
      ]
    },
    {
      "cell_type": "code",
      "metadata": {
        "id": "Zm480pWBc71T",
        "colab_type": "code",
        "outputId": "a1c5b78c-4824-4feb-d899-25cc977ac69d",
        "colab": {
          "base_uri": "https://localhost:8080/",
          "height": 34
        }
      },
      "source": [
        "week = ['월', '화', '수','목','금','토','일']\n",
        "week"
      ],
      "execution_count": 0,
      "outputs": [
        {
          "output_type": "execute_result",
          "data": {
            "text/plain": [
              "['월', '화', '수', '목', '금', '토', '일']"
            ]
          },
          "metadata": {
            "tags": []
          },
          "execution_count": 21
        }
      ]
    },
    {
      "cell_type": "code",
      "metadata": {
        "id": "M9Wkr8JbcqMv",
        "colab_type": "code",
        "outputId": "c1a9402d-6664-4788-8519-dedebb612fe6",
        "colab": {
          "base_uri": "https://localhost:8080/",
          "height": 34
        }
      },
      "source": [
        "week[2:5] #인덱스2 부터 인덱스4까지"
      ],
      "execution_count": 0,
      "outputs": [
        {
          "output_type": "execute_result",
          "data": {
            "text/plain": [
              "['수', '목', '금']"
            ]
          },
          "metadata": {
            "tags": []
          },
          "execution_count": 22
        }
      ]
    },
    {
      "cell_type": "code",
      "metadata": {
        "id": "ujEIlWf2dQNA",
        "colab_type": "code",
        "outputId": "3c91509f-af81-4739-e9b2-549357589bba",
        "colab": {
          "base_uri": "https://localhost:8080/",
          "height": 34
        }
      },
      "source": [
        "week"
      ],
      "execution_count": 0,
      "outputs": [
        {
          "output_type": "execute_result",
          "data": {
            "text/plain": [
              "['월', '화', '수', '목', '금', '토', '일']"
            ]
          },
          "metadata": {
            "tags": []
          },
          "execution_count": 23
        }
      ]
    },
    {
      "cell_type": "code",
      "metadata": {
        "id": "WDLlERyPdWmW",
        "colab_type": "code",
        "outputId": "f57640bb-9836-42ab-8338-1081b608a75c",
        "colab": {
          "base_uri": "https://localhost:8080/",
          "height": 34
        }
      },
      "source": [
        "candies"
      ],
      "execution_count": 0,
      "outputs": [
        {
          "output_type": "execute_result",
          "data": {
            "text/plain": [
              "['딸기', '레몬', '수박', '우유', '콜라', '포도']"
            ]
          },
          "metadata": {
            "tags": []
          },
          "execution_count": 24
        }
      ]
    },
    {
      "cell_type": "code",
      "metadata": {
        "id": "9Nqi7rX7dgp9",
        "colab_type": "code",
        "outputId": "7de1f6b4-ea5e-4405-f752-851b8bbb6fef",
        "colab": {
          "base_uri": "https://localhost:8080/",
          "height": 51
        }
      },
      "source": [
        "cat = candies[0]\n",
        "duck = candies[1]\n",
        "print('체셔고양이에게는', cat, '사탕을 줘요')\n",
        "print(duck)"
      ],
      "execution_count": 0,
      "outputs": [
        {
          "output_type": "stream",
          "text": [
            "체셔고양이에게는 딸기 사탕을 줘요\n",
            "레몬\n"
          ],
          "name": "stdout"
        }
      ]
    },
    {
      "cell_type": "code",
      "metadata": {
        "id": "04_X4rnWdvCr",
        "colab_type": "code",
        "outputId": "1625de62-08b8-47b0-c359-0ef2f5e7e4a9",
        "colab": {
          "base_uri": "https://localhost:8080/",
          "height": 34
        }
      },
      "source": [
        "bird= candies[3:6]\n",
        "bird"
      ],
      "execution_count": 0,
      "outputs": [
        {
          "output_type": "execute_result",
          "data": {
            "text/plain": [
              "['우유', '콜라', '포도']"
            ]
          },
          "metadata": {
            "tags": []
          },
          "execution_count": 29
        }
      ]
    },
    {
      "cell_type": "markdown",
      "metadata": {
        "id": "-V4IyXvLeJV0",
        "colab_type": "text"
      },
      "source": [
        "##정렬 sort()"
      ]
    },
    {
      "cell_type": "code",
      "metadata": {
        "id": "TuTv5G9JeMeT",
        "colab_type": "code",
        "outputId": "8505c324-46a3-493b-d753-ee5ebc51f541",
        "colab": {
          "base_uri": "https://localhost:8080/",
          "height": 34
        }
      },
      "source": [
        "animals =['체셔고양이','오리','도도새']\n",
        "animals.sort()\n",
        "animals"
      ],
      "execution_count": 0,
      "outputs": [
        {
          "output_type": "execute_result",
          "data": {
            "text/plain": [
              "['도도새', '오리', '체셔고양이']"
            ]
          },
          "metadata": {
            "tags": []
          },
          "execution_count": 31
        }
      ]
    },
    {
      "cell_type": "code",
      "metadata": {
        "id": "R9155E2Serlf",
        "colab_type": "code",
        "outputId": "f0e00c94-4744-47df-b2cc-6a65451ac85a",
        "colab": {
          "base_uri": "https://localhost:8080/",
          "height": 34
        }
      },
      "source": [
        "#거꾸로 정렬\n",
        "animals.sort(reverse=True) \n",
        "animals"
      ],
      "execution_count": 0,
      "outputs": [
        {
          "output_type": "execute_result",
          "data": {
            "text/plain": [
              "['체셔고양이', '오리', '도도새']"
            ]
          },
          "metadata": {
            "tags": []
          },
          "execution_count": 32
        }
      ]
    },
    {
      "cell_type": "markdown",
      "metadata": {
        "id": "Ft8D4zNNe2j9",
        "colab_type": "text"
      },
      "source": [
        "## 개수 세기 count()"
      ]
    },
    {
      "cell_type": "code",
      "metadata": {
        "id": "dBQtRL9Ke8kT",
        "colab_type": "code",
        "outputId": "66ca4782-9c2f-42cb-8037-e648ec5000b8",
        "colab": {
          "base_uri": "https://localhost:8080/",
          "height": 34
        }
      },
      "source": [
        "cards=['하트','클로버','하트','다이아']\n",
        "cards.count('하트')"
      ],
      "execution_count": 0,
      "outputs": [
        {
          "output_type": "execute_result",
          "data": {
            "text/plain": [
              "2"
            ]
          },
          "metadata": {
            "tags": []
          },
          "execution_count": 33
        }
      ]
    },
    {
      "cell_type": "code",
      "metadata": {
        "id": "k8o_7aZgfHMC",
        "colab_type": "code",
        "outputId": "24136cb3-0c47-4b73-a3e0-95d8771b50a2",
        "colab": {
          "base_uri": "https://localhost:8080/",
          "height": 34
        }
      },
      "source": [
        "cards.count('ekdldk')"
      ],
      "execution_count": 0,
      "outputs": [
        {
          "output_type": "execute_result",
          "data": {
            "text/plain": [
              "0"
            ]
          },
          "metadata": {
            "tags": []
          },
          "execution_count": 34
        }
      ]
    },
    {
      "cell_type": "markdown",
      "metadata": {
        "id": "KSDOGhZqfTCv",
        "colab_type": "text"
      },
      "source": [
        "##연습문제"
      ]
    },
    {
      "cell_type": "markdown",
      "metadata": {
        "id": "CSRrfwtifYjG",
        "colab_type": "text"
      },
      "source": [
        "###1"
      ]
    },
    {
      "cell_type": "code",
      "metadata": {
        "id": "-CcTHKXuffN4",
        "colab_type": "code",
        "outputId": "7f165239-134b-4758-c641-58299b6e5ac2",
        "colab": {
          "base_uri": "https://localhost:8080/",
          "height": 34
        }
      },
      "source": [
        "nums =[1,2,3]\n",
        "nums"
      ],
      "execution_count": 0,
      "outputs": [
        {
          "output_type": "execute_result",
          "data": {
            "text/plain": [
              "[1, 2, 3]"
            ]
          },
          "metadata": {
            "tags": []
          },
          "execution_count": 35
        }
      ]
    },
    {
      "cell_type": "markdown",
      "metadata": {
        "id": "kne0Q2ypfa0O",
        "colab_type": "text"
      },
      "source": [
        "###2"
      ]
    },
    {
      "cell_type": "code",
      "metadata": {
        "id": "gTOUheUZfo8e",
        "colab_type": "code",
        "outputId": "7c3a436a-9dbb-4f9c-84be-3c831143cd5f",
        "colab": {
          "base_uri": "https://localhost:8080/",
          "height": 34
        }
      },
      "source": [
        "fruits=[]\n",
        "fruits # []"
      ],
      "execution_count": 0,
      "outputs": [
        {
          "output_type": "execute_result",
          "data": {
            "text/plain": [
              "[]"
            ]
          },
          "metadata": {
            "tags": []
          },
          "execution_count": 36
        }
      ]
    },
    {
      "cell_type": "code",
      "metadata": {
        "id": "qBQ4Xtw_fwV6",
        "colab_type": "code",
        "outputId": "b76de0ab-3c93-4e9d-dc1a-ec25356d849f",
        "colab": {
          "base_uri": "https://localhost:8080/",
          "height": 34
        }
      },
      "source": [
        "fruits.append('자몽')\n",
        "fruits # ['자몽']"
      ],
      "execution_count": 0,
      "outputs": [
        {
          "output_type": "execute_result",
          "data": {
            "text/plain": [
              "['자몽']"
            ]
          },
          "metadata": {
            "tags": []
          },
          "execution_count": 37
        }
      ]
    },
    {
      "cell_type": "code",
      "metadata": {
        "id": "DEEVBpI6f3HS",
        "colab_type": "code",
        "outputId": "47603003-484d-47d6-e1b6-7996eff9494c",
        "colab": {
          "base_uri": "https://localhost:8080/",
          "height": 34
        }
      },
      "source": [
        "fruits.append('멜론')\n",
        "fruits # ['자몽','멜론']"
      ],
      "execution_count": 0,
      "outputs": [
        {
          "output_type": "execute_result",
          "data": {
            "text/plain": [
              "['자몽', '멜론']"
            ]
          },
          "metadata": {
            "tags": []
          },
          "execution_count": 38
        }
      ]
    },
    {
      "cell_type": "code",
      "metadata": {
        "id": "4RRRXKSSf655",
        "colab_type": "code",
        "outputId": "dcced51a-a02d-48d8-ce1e-2ea1b84eb00e",
        "colab": {
          "base_uri": "https://localhost:8080/",
          "height": 34
        }
      },
      "source": [
        "fruits.append('레몬')\n",
        "fruits # ['자몽','멜론','레몬']"
      ],
      "execution_count": 0,
      "outputs": [
        {
          "output_type": "execute_result",
          "data": {
            "text/plain": [
              "['자몽', '멜론', '레몬']"
            ]
          },
          "metadata": {
            "tags": []
          },
          "execution_count": 39
        }
      ]
    },
    {
      "cell_type": "markdown",
      "metadata": {
        "id": "efAi-faCfbs9",
        "colab_type": "text"
      },
      "source": [
        "###3"
      ]
    },
    {
      "cell_type": "code",
      "metadata": {
        "id": "lLtiFfz7gEAf",
        "colab_type": "code",
        "outputId": "223077ce-4b0a-403c-e7c4-434b65ab6411",
        "colab": {
          "base_uri": "https://localhost:8080/",
          "height": 34
        }
      },
      "source": [
        "fruits[1] #'맬론'"
      ],
      "execution_count": 0,
      "outputs": [
        {
          "output_type": "execute_result",
          "data": {
            "text/plain": [
              "'멜론'"
            ]
          },
          "metadata": {
            "tags": []
          },
          "execution_count": 40
        }
      ]
    },
    {
      "cell_type": "markdown",
      "metadata": {
        "id": "qF29rEWefcou",
        "colab_type": "text"
      },
      "source": [
        "###4"
      ]
    },
    {
      "cell_type": "code",
      "metadata": {
        "id": "lYqFIKvwgNE1",
        "colab_type": "code",
        "outputId": "ffb8dad6-a850-473a-f31e-50756c1954ca",
        "colab": {
          "base_uri": "https://localhost:8080/",
          "height": 34
        }
      },
      "source": [
        "del fruits[0]\n",
        "fruits"
      ],
      "execution_count": 0,
      "outputs": [
        {
          "output_type": "execute_result",
          "data": {
            "text/plain": [
              "['멜론', '레몬']"
            ]
          },
          "metadata": {
            "tags": []
          },
          "execution_count": 41
        }
      ]
    },
    {
      "cell_type": "markdown",
      "metadata": {
        "id": "0Xh7GVIUfdfW",
        "colab_type": "text"
      },
      "source": [
        "###5"
      ]
    },
    {
      "cell_type": "code",
      "metadata": {
        "id": "CBwakSjFhK3a",
        "colab_type": "code",
        "outputId": "8f7e0b74-4861-4eb6-abf7-adc5f428d036",
        "colab": {
          "base_uri": "https://localhost:8080/",
          "height": 34
        }
      },
      "source": [
        "fruits[1] = '거봉'\n",
        "fruits # ['멜론','거봉']"
      ],
      "execution_count": 0,
      "outputs": [
        {
          "output_type": "execute_result",
          "data": {
            "text/plain": [
              "['멜론', '거봉']"
            ]
          },
          "metadata": {
            "tags": []
          },
          "execution_count": 43
        }
      ]
    },
    {
      "cell_type": "markdown",
      "metadata": {
        "id": "T8Mb-3l7hVy5",
        "colab_type": "text"
      },
      "source": [
        "###6\n"
      ]
    },
    {
      "cell_type": "code",
      "metadata": {
        "id": "FnoEgtT0hf86",
        "colab_type": "code",
        "outputId": "ad5b9845-5bdb-4374-8ea9-e47a7dc32876",
        "colab": {
          "base_uri": "https://localhost:8080/",
          "height": 34
        }
      },
      "source": [
        "nums=[1,3]\n",
        "nums[1]=2\n",
        "nums.append(3)\n",
        "nums.append(4)\n",
        "nums"
      ],
      "execution_count": 0,
      "outputs": [
        {
          "output_type": "execute_result",
          "data": {
            "text/plain": [
              "[1, 2, 3, 4]"
            ]
          },
          "metadata": {
            "tags": []
          },
          "execution_count": 44
        }
      ]
    },
    {
      "cell_type": "markdown",
      "metadata": {
        "id": "VMHfHygBhZRI",
        "colab_type": "text"
      },
      "source": [
        "###7"
      ]
    },
    {
      "cell_type": "code",
      "metadata": {
        "id": "XPZX0-RIh0g6",
        "colab_type": "code",
        "outputId": "0aaf2838-a02e-4d9c-9a5a-d06275748350",
        "colab": {
          "base_uri": "https://localhost:8080/",
          "height": 51
        }
      },
      "source": [
        "nums = [1,2,3,4,5]\n",
        "print(nums[2]) #3\n",
        "print(nums[-3]) #3"
      ],
      "execution_count": 0,
      "outputs": [
        {
          "output_type": "stream",
          "text": [
            "3\n",
            "3\n"
          ],
          "name": "stdout"
        }
      ]
    },
    {
      "cell_type": "markdown",
      "metadata": {
        "id": "jLOgmQkChbro",
        "colab_type": "text"
      },
      "source": [
        "###8"
      ]
    },
    {
      "cell_type": "code",
      "metadata": {
        "id": "z4Aeb4gHiCu0",
        "colab_type": "code",
        "outputId": "408caeec-76f7-4cc6-fef1-3734031c1788",
        "colab": {
          "base_uri": "https://localhost:8080/",
          "height": 51
        }
      },
      "source": [
        "print(nums[0:3]) # [1,2,3]\n",
        "print(nums[2:5]) # [3,4,5] "
      ],
      "execution_count": 0,
      "outputs": [
        {
          "output_type": "stream",
          "text": [
            "[1, 2, 3]\n",
            "[3, 4, 5]\n"
          ],
          "name": "stdout"
        }
      ]
    },
    {
      "cell_type": "markdown",
      "metadata": {
        "id": "Acphpc29hdvX",
        "colab_type": "text"
      },
      "source": [
        "###9"
      ]
    },
    {
      "cell_type": "code",
      "metadata": {
        "id": "Rm7gyRS5iQpP",
        "colab_type": "code",
        "outputId": "73bf59ab-2448-4dae-f6b2-8275ad736b18",
        "colab": {
          "base_uri": "https://localhost:8080/",
          "height": 34
        }
      },
      "source": [
        "nums=[1,1,1,2,2,3]\n",
        "nums.count(1) #3"
      ],
      "execution_count": 0,
      "outputs": [
        {
          "output_type": "execute_result",
          "data": {
            "text/plain": [
              "3"
            ]
          },
          "metadata": {
            "tags": []
          },
          "execution_count": 47
        }
      ]
    },
    {
      "cell_type": "markdown",
      "metadata": {
        "id": "gpAP-VVNhdVl",
        "colab_type": "text"
      },
      "source": [
        "###10"
      ]
    },
    {
      "cell_type": "code",
      "metadata": {
        "id": "AQJw4DnOiYJZ",
        "colab_type": "code",
        "colab": {}
      },
      "source": [
        "fruits.append('레몬')"
      ],
      "execution_count": 0,
      "outputs": []
    },
    {
      "cell_type": "code",
      "metadata": {
        "id": "VNDvNX_Pidlt",
        "colab_type": "code",
        "outputId": "4e082b3f-ea34-41f8-ba87-14d230270ae6",
        "colab": {
          "base_uri": "https://localhost:8080/",
          "height": 34
        }
      },
      "source": [
        "fruits.sort()\n",
        "fruits"
      ],
      "execution_count": 0,
      "outputs": [
        {
          "output_type": "execute_result",
          "data": {
            "text/plain": [
              "['거봉', '레몬', '멜론']"
            ]
          },
          "metadata": {
            "tags": []
          },
          "execution_count": 52
        }
      ]
    },
    {
      "cell_type": "markdown",
      "metadata": {
        "id": "AWic8hyxUby9",
        "colab_type": "text"
      },
      "source": [
        "#ch.4 \n"
      ]
    },
    {
      "cell_type": "markdown",
      "metadata": {
        "id": "8s0GepEh93vr",
        "colab_type": "text"
      },
      "source": [
        "## 반복 for"
      ]
    },
    {
      "cell_type": "code",
      "metadata": {
        "id": "k-eDRPxL96lp",
        "colab_type": "code",
        "outputId": "fc7cb60e-a661-4a16-d785-4575ef029ad3",
        "colab": {
          "base_uri": "https://localhost:8080/",
          "height": 85
        }
      },
      "source": [
        "print('안녕 거북이 0')\n",
        "print('안녕 거북이 1')\n",
        "print('안녕 거북이 2')\n",
        "print('안녕 거북이 3')"
      ],
      "execution_count": 0,
      "outputs": [
        {
          "output_type": "stream",
          "text": [
            "안녕 거북이 0\n",
            "안녕 거북이 1\n",
            "안녕 거북이 2\n",
            "안녕 거북이 3\n"
          ],
          "name": "stdout"
        }
      ]
    },
    {
      "cell_type": "code",
      "metadata": {
        "id": "vZBtlJYTBMae",
        "colab_type": "code",
        "outputId": "bd170b53-38ac-451e-d8ea-57f054f92db6",
        "colab": {
          "base_uri": "https://localhost:8080/",
          "height": 867
        }
      },
      "source": [
        "for num in range(50):\n",
        "  print('안녕 거북이', num)"
      ],
      "execution_count": 0,
      "outputs": [
        {
          "output_type": "stream",
          "text": [
            "안녕 거북이 0\n",
            "안녕 거북이 1\n",
            "안녕 거북이 2\n",
            "안녕 거북이 3\n",
            "안녕 거북이 4\n",
            "안녕 거북이 5\n",
            "안녕 거북이 6\n",
            "안녕 거북이 7\n",
            "안녕 거북이 8\n",
            "안녕 거북이 9\n",
            "안녕 거북이 10\n",
            "안녕 거북이 11\n",
            "안녕 거북이 12\n",
            "안녕 거북이 13\n",
            "안녕 거북이 14\n",
            "안녕 거북이 15\n",
            "안녕 거북이 16\n",
            "안녕 거북이 17\n",
            "안녕 거북이 18\n",
            "안녕 거북이 19\n",
            "안녕 거북이 20\n",
            "안녕 거북이 21\n",
            "안녕 거북이 22\n",
            "안녕 거북이 23\n",
            "안녕 거북이 24\n",
            "안녕 거북이 25\n",
            "안녕 거북이 26\n",
            "안녕 거북이 27\n",
            "안녕 거북이 28\n",
            "안녕 거북이 29\n",
            "안녕 거북이 30\n",
            "안녕 거북이 31\n",
            "안녕 거북이 32\n",
            "안녕 거북이 33\n",
            "안녕 거북이 34\n",
            "안녕 거북이 35\n",
            "안녕 거북이 36\n",
            "안녕 거북이 37\n",
            "안녕 거북이 38\n",
            "안녕 거북이 39\n",
            "안녕 거북이 40\n",
            "안녕 거북이 41\n",
            "안녕 거북이 42\n",
            "안녕 거북이 43\n",
            "안녕 거북이 44\n",
            "안녕 거북이 45\n",
            "안녕 거북이 46\n",
            "안녕 거북이 47\n",
            "안녕 거북이 48\n",
            "안녕 거북이 49\n"
          ],
          "name": "stdout"
        }
      ]
    },
    {
      "cell_type": "markdown",
      "metadata": {
        "id": "PK_JMJVeUd1e",
        "colab_type": "text"
      },
      "source": [
        "## for 구조"
      ]
    },
    {
      "cell_type": "code",
      "metadata": {
        "id": "drb7R_qaBewi",
        "colab_type": "code",
        "outputId": "f450a563-1f3d-40a6-e8d3-e788c7cc4346",
        "colab": {
          "base_uri": "https://localhost:8080/",
          "height": 68
        }
      },
      "source": [
        "for num in [0,1,2]:\n",
        "  print(num)"
      ],
      "execution_count": 0,
      "outputs": [
        {
          "output_type": "stream",
          "text": [
            "0\n",
            "1\n",
            "2\n"
          ],
          "name": "stdout"
        }
      ]
    },
    {
      "cell_type": "code",
      "metadata": {
        "id": "i_g08gdOCKP4",
        "colab_type": "code",
        "outputId": "3357f9f9-432c-48b8-d659-8d6edac233d6",
        "colab": {
          "base_uri": "https://localhost:8080/",
          "height": 68
        }
      },
      "source": [
        "characters =['앨리스','도도새','3월 토끼']\n",
        "for character in characters:\n",
        "  print(character)"
      ],
      "execution_count": 0,
      "outputs": [
        {
          "output_type": "stream",
          "text": [
            "앨리스\n",
            "도도새\n",
            "3월 토끼\n"
          ],
          "name": "stdout"
        }
      ]
    },
    {
      "cell_type": "code",
      "metadata": {
        "id": "rDAk7YGRCoCC",
        "colab_type": "code",
        "outputId": "a45a7eb6-cdfd-49a5-8231-d52ba761062f",
        "colab": {
          "base_uri": "https://localhost:8080/",
          "height": 85
        }
      },
      "source": [
        "players=['공작부인','흰토끼','하트잭','모자장수']\n",
        "for player in players:\n",
        "  print(player,'을 퇴장시켜라!')"
      ],
      "execution_count": 0,
      "outputs": [
        {
          "output_type": "stream",
          "text": [
            "공작부인 을 퇴장시켜라!\n",
            "흰토끼 을 퇴장시켜라!\n",
            "하트잭 을 퇴장시켜라!\n",
            "모자장수 을 퇴장시켜라!\n"
          ],
          "name": "stdout"
        }
      ]
    },
    {
      "cell_type": "code",
      "metadata": {
        "id": "p_NDGuFqCpE6",
        "colab_type": "code",
        "outputId": "a6e241ef-ecb5-4b31-8310-e4ffb0e4da6b",
        "colab": {
          "base_uri": "https://localhost:8080/",
          "height": 102
        }
      },
      "source": [
        "for letter in '체셔고양이': \n",
        "  print(letter)"
      ],
      "execution_count": 0,
      "outputs": [
        {
          "output_type": "stream",
          "text": [
            "체\n",
            "셔\n",
            "고\n",
            "양\n",
            "이\n"
          ],
          "name": "stdout"
        }
      ]
    },
    {
      "cell_type": "code",
      "metadata": {
        "id": "iQO43Ro5CpIa",
        "colab_type": "code",
        "outputId": "f0b481db-d484-4c03-f399-f4211f49b4ee",
        "colab": {
          "base_uri": "https://localhost:8080/",
          "height": 85
        }
      },
      "source": [
        "nums =[0,1,2]\n",
        "for num in nums:\n",
        "  print(num)\n",
        "print(nums)"
      ],
      "execution_count": 0,
      "outputs": [
        {
          "output_type": "stream",
          "text": [
            "0\n",
            "1\n",
            "2\n",
            "[0, 1, 2]\n"
          ],
          "name": "stdout"
        }
      ]
    },
    {
      "cell_type": "code",
      "metadata": {
        "id": "pIKLEODkCpLi",
        "colab_type": "code",
        "outputId": "1d7fec20-e76f-463a-9f34-512a336a21cb",
        "colab": {
          "base_uri": "https://localhost:8080/",
          "height": 119
        }
      },
      "source": [
        "nums =[0,1,2]\n",
        "for num in nums:\n",
        "  print(num)\n",
        "  print(nums)"
      ],
      "execution_count": 0,
      "outputs": [
        {
          "output_type": "stream",
          "text": [
            "0\n",
            "[0, 1, 2]\n",
            "1\n",
            "[0, 1, 2]\n",
            "2\n",
            "[0, 1, 2]\n"
          ],
          "name": "stdout"
        }
      ]
    },
    {
      "cell_type": "markdown",
      "metadata": {
        "id": "dA25zRd4BZ89",
        "colab_type": "text"
      },
      "source": [
        "## 순서열 range()"
      ]
    },
    {
      "cell_type": "code",
      "metadata": {
        "id": "qB5yXsAbCpOr",
        "colab_type": "code",
        "outputId": "456cc707-a35e-4573-c769-c6993b6e9d81",
        "colab": {
          "base_uri": "https://localhost:8080/",
          "height": 68
        }
      },
      "source": [
        "#순서열 : 순서가 정해진 여러 개의 값을 가진 자료형 (문자열, 리스트 등)\n",
        "for num in range(3):\n",
        "  print(num)"
      ],
      "execution_count": 0,
      "outputs": [
        {
          "output_type": "stream",
          "text": [
            "0\n",
            "1\n",
            "2\n"
          ],
          "name": "stdout"
        }
      ]
    },
    {
      "cell_type": "code",
      "metadata": {
        "id": "bEfvKTpzCpY-",
        "colab_type": "code",
        "outputId": "18c18ff9-24c0-4c1d-b80c-6a6405988ed9",
        "colab": {
          "base_uri": "https://localhost:8080/",
          "height": 170
        }
      },
      "source": [
        "for y in range(1,10):\n",
        "  print(2,'x',y,'=',2*y)"
      ],
      "execution_count": 0,
      "outputs": [
        {
          "output_type": "stream",
          "text": [
            "2 x 1 = 2\n",
            "2 x 2 = 4\n",
            "2 x 3 = 6\n",
            "2 x 4 = 8\n",
            "2 x 5 = 10\n",
            "2 x 6 = 12\n",
            "2 x 7 = 14\n",
            "2 x 8 = 16\n",
            "2 x 9 = 18\n"
          ],
          "name": "stdout"
        }
      ]
    },
    {
      "cell_type": "code",
      "metadata": {
        "id": "O0_Gc85VCpcw",
        "colab_type": "code",
        "outputId": "c36c612b-0150-4433-8c37-22c51b797e40",
        "colab": {
          "base_uri": "https://localhost:8080/",
          "height": 1000
        }
      },
      "source": [
        "for x in range(2,10):\n",
        "  for y in range(1,10):\n",
        "    print(x,'*', y ,'=',x*y)"
      ],
      "execution_count": 0,
      "outputs": [
        {
          "output_type": "stream",
          "text": [
            "2 * 1 = 2\n",
            "2 * 2 = 4\n",
            "2 * 3 = 6\n",
            "2 * 4 = 8\n",
            "2 * 5 = 10\n",
            "2 * 6 = 12\n",
            "2 * 7 = 14\n",
            "2 * 8 = 16\n",
            "2 * 9 = 18\n",
            "3 * 1 = 3\n",
            "3 * 2 = 6\n",
            "3 * 3 = 9\n",
            "3 * 4 = 12\n",
            "3 * 5 = 15\n",
            "3 * 6 = 18\n",
            "3 * 7 = 21\n",
            "3 * 8 = 24\n",
            "3 * 9 = 27\n",
            "4 * 1 = 4\n",
            "4 * 2 = 8\n",
            "4 * 3 = 12\n",
            "4 * 4 = 16\n",
            "4 * 5 = 20\n",
            "4 * 6 = 24\n",
            "4 * 7 = 28\n",
            "4 * 8 = 32\n",
            "4 * 9 = 36\n",
            "5 * 1 = 5\n",
            "5 * 2 = 10\n",
            "5 * 3 = 15\n",
            "5 * 4 = 20\n",
            "5 * 5 = 25\n",
            "5 * 6 = 30\n",
            "5 * 7 = 35\n",
            "5 * 8 = 40\n",
            "5 * 9 = 45\n",
            "6 * 1 = 6\n",
            "6 * 2 = 12\n",
            "6 * 3 = 18\n",
            "6 * 4 = 24\n",
            "6 * 5 = 30\n",
            "6 * 6 = 36\n",
            "6 * 7 = 42\n",
            "6 * 8 = 48\n",
            "6 * 9 = 54\n",
            "7 * 1 = 7\n",
            "7 * 2 = 14\n",
            "7 * 3 = 21\n",
            "7 * 4 = 28\n",
            "7 * 5 = 35\n",
            "7 * 6 = 42\n",
            "7 * 7 = 49\n",
            "7 * 8 = 56\n",
            "7 * 9 = 63\n",
            "8 * 1 = 8\n",
            "8 * 2 = 16\n",
            "8 * 3 = 24\n",
            "8 * 4 = 32\n",
            "8 * 5 = 40\n",
            "8 * 6 = 48\n",
            "8 * 7 = 56\n",
            "8 * 8 = 64\n",
            "8 * 9 = 72\n",
            "9 * 1 = 9\n",
            "9 * 2 = 18\n",
            "9 * 3 = 27\n",
            "9 * 4 = 36\n",
            "9 * 5 = 45\n",
            "9 * 6 = 54\n",
            "9 * 7 = 63\n",
            "9 * 8 = 72\n",
            "9 * 9 = 81\n"
          ],
          "name": "stdout"
        }
      ]
    },
    {
      "cell_type": "code",
      "metadata": {
        "id": "cgmXccCdG6Dg",
        "colab_type": "code",
        "outputId": "8e44380e-4015-43ad-87bc-d658e7bfbb9a",
        "colab": {
          "base_uri": "https://localhost:8080/",
          "height": 68
        }
      },
      "source": [
        "for num in range(1,6,2):\n",
        "  print(num)"
      ],
      "execution_count": 0,
      "outputs": [
        {
          "output_type": "stream",
          "text": [
            "1\n",
            "3\n",
            "5\n"
          ],
          "name": "stdout"
        }
      ]
    },
    {
      "cell_type": "code",
      "metadata": {
        "id": "pewmdeKxCpgP",
        "colab_type": "code",
        "outputId": "38c64046-e753-4862-a333-74868243904d",
        "colab": {
          "base_uri": "https://localhost:8080/",
          "height": 34
        }
      },
      "source": [
        "roses=['하얀장미','하얀장미','하얀장미']\n",
        "for i in range(3):\n",
        "  roses[i]='빨간장미'\n",
        "roses"
      ],
      "execution_count": 0,
      "outputs": [
        {
          "output_type": "execute_result",
          "data": {
            "text/plain": [
              "['빨간장미', '빨간장미', '빨간장미']"
            ]
          },
          "metadata": {
            "tags": []
          },
          "execution_count": 29
        }
      ]
    },
    {
      "cell_type": "markdown",
      "metadata": {
        "id": "kcDzPUC0H6y3",
        "colab_type": "text"
      },
      "source": [
        "##연습문제"
      ]
    },
    {
      "cell_type": "markdown",
      "metadata": {
        "id": "yDaPrh3zH8g-",
        "colab_type": "text"
      },
      "source": [
        "###1"
      ]
    },
    {
      "cell_type": "code",
      "metadata": {
        "id": "55RL0oJWII_l",
        "colab_type": "code",
        "outputId": "b0b13fda-16fd-4ab2-c82f-a25bb4f0d031",
        "colab": {
          "base_uri": "https://localhost:8080/",
          "height": 68
        }
      },
      "source": [
        "for num in [3,1,2]:\n",
        "  print(num)"
      ],
      "execution_count": 0,
      "outputs": [
        {
          "output_type": "stream",
          "text": [
            "3\n",
            "1\n",
            "2\n"
          ],
          "name": "stdout"
        }
      ]
    },
    {
      "cell_type": "markdown",
      "metadata": {
        "id": "hgpFR-5fH8n2",
        "colab_type": "text"
      },
      "source": [
        "###2"
      ]
    },
    {
      "cell_type": "code",
      "metadata": {
        "id": "KJSiHIEVJFSN",
        "colab_type": "code",
        "outputId": "94facbf5-aefe-4eef-9e26-5573bb6db868",
        "colab": {
          "base_uri": "https://localhost:8080/",
          "height": 51
        }
      },
      "source": [
        "for num in range(2):\n",
        "  print(num) # 0 1 "
      ],
      "execution_count": 0,
      "outputs": [
        {
          "output_type": "stream",
          "text": [
            "0\n",
            "1\n"
          ],
          "name": "stdout"
        }
      ]
    },
    {
      "cell_type": "markdown",
      "metadata": {
        "id": "GxCw0tL1H8yn",
        "colab_type": "text"
      },
      "source": [
        "###3"
      ]
    },
    {
      "cell_type": "code",
      "metadata": {
        "id": "wgPbpjHoJLAz",
        "colab_type": "code",
        "outputId": "cf015291-8abd-47d2-efdd-5db37910cc56",
        "colab": {
          "base_uri": "https://localhost:8080/",
          "height": 68
        }
      },
      "source": [
        "clovers=['클로버1','클로버2','클로버3']\n",
        "for clover in clovers:\n",
        "  print(clover)"
      ],
      "execution_count": 0,
      "outputs": [
        {
          "output_type": "stream",
          "text": [
            "클로버1\n",
            "클로버2\n",
            "클로버3\n"
          ],
          "name": "stdout"
        }
      ]
    },
    {
      "cell_type": "markdown",
      "metadata": {
        "id": "W9Z0EkklH8tW",
        "colab_type": "text"
      },
      "source": [
        "###4"
      ]
    },
    {
      "cell_type": "code",
      "metadata": {
        "id": "GlTmnRRwJcYh",
        "colab_type": "code",
        "outputId": "6d90b838-803b-46db-ae59-dda17593cd40",
        "colab": {
          "base_uri": "https://localhost:8080/",
          "height": 68
        }
      },
      "source": [
        "clovers=['클로버1','클로버2','클로버3']\n",
        "for i in range(3):\n",
        "  print(clovers[i])"
      ],
      "execution_count": 0,
      "outputs": [
        {
          "output_type": "stream",
          "text": [
            "클로버1\n",
            "클로버2\n",
            "클로버3\n"
          ],
          "name": "stdout"
        }
      ]
    },
    {
      "cell_type": "markdown",
      "metadata": {
        "id": "NSTsIZ-sH9SK",
        "colab_type": "text"
      },
      "source": [
        "###5"
      ]
    },
    {
      "cell_type": "code",
      "metadata": {
        "id": "dk6tZABmKTlg",
        "colab_type": "code",
        "outputId": "3474dbf4-fe1d-4ca7-f36d-1ed5481f4bc9",
        "colab": {
          "base_uri": "https://localhost:8080/",
          "height": 68
        }
      },
      "source": [
        "for i in range(1,4):\n",
        "  print('*'*i)\n"
      ],
      "execution_count": 0,
      "outputs": [
        {
          "output_type": "stream",
          "text": [
            "*\n",
            "**\n",
            "***\n"
          ],
          "name": "stdout"
        }
      ]
    },
    {
      "cell_type": "markdown",
      "metadata": {
        "id": "jy-VaJzPH9JD",
        "colab_type": "text"
      },
      "source": [
        "###6"
      ]
    },
    {
      "cell_type": "code",
      "metadata": {
        "id": "kZMVRsC_KkhU",
        "colab_type": "code",
        "outputId": "afa90357-58dc-4a2d-82bb-55ef78e29494",
        "colab": {
          "base_uri": "https://localhost:8080/",
          "height": 68
        }
      },
      "source": [
        "stars=[2,1,3]\n",
        "for i in stars:\n",
        "  print('*'* i)"
      ],
      "execution_count": 0,
      "outputs": [
        {
          "output_type": "stream",
          "text": [
            "**\n",
            "*\n",
            "***\n"
          ],
          "name": "stdout"
        }
      ]
    },
    {
      "cell_type": "markdown",
      "metadata": {
        "id": "2RtOEk_TH84g",
        "colab_type": "text"
      },
      "source": [
        "###7"
      ]
    },
    {
      "cell_type": "code",
      "metadata": {
        "id": "g9RkbssGMcRq",
        "colab_type": "code",
        "outputId": "2c303124-06d3-4fcc-8c4b-f0544b5b8d90",
        "colab": {
          "base_uri": "https://localhost:8080/",
          "height": 85
        }
      },
      "source": [
        "a=[]\n",
        "for i in [0,1,2,3]:\n",
        "  a.append(i)\n",
        "b=[]\n",
        "for i in range(4):\n",
        "  b.append(i) \n",
        "c=[]\n",
        "for i in range(0,5):\n",
        "  c.append(i)\n",
        "d=[]\n",
        "for i in range(1,4):\n",
        "  d.append(i)\n",
        "\n",
        "print(a)\n",
        "print(b)\n",
        "print(c)\n",
        "print(d)\n"
      ],
      "execution_count": 0,
      "outputs": [
        {
          "output_type": "stream",
          "text": [
            "[0, 1, 2, 3]\n",
            "[0, 1, 2, 3]\n",
            "[0, 1, 2, 3, 4]\n",
            "[1, 2, 3]\n"
          ],
          "name": "stdout"
        }
      ]
    },
    {
      "cell_type": "code",
      "metadata": {
        "id": "_KhB-ic1Nysj",
        "colab_type": "code",
        "outputId": "fa035678-2142-4391-8ce2-5b15c4b95bd0",
        "colab": {
          "base_uri": "https://localhost:8080/",
          "height": 102
        }
      },
      "source": [
        "total = 0\n",
        "for num in range(0,5):\n",
        "  total= total +num\n",
        "  print(total)"
      ],
      "execution_count": 0,
      "outputs": [
        {
          "output_type": "stream",
          "text": [
            "0\n",
            "1\n",
            "3\n",
            "6\n",
            "10\n"
          ],
          "name": "stdout"
        }
      ]
    },
    {
      "cell_type": "markdown",
      "metadata": {
        "id": "7q7toSC1H9GL",
        "colab_type": "text"
      },
      "source": [
        "###8"
      ]
    },
    {
      "cell_type": "code",
      "metadata": {
        "id": "3wwv05twK5Ix",
        "colab_type": "code",
        "outputId": "4ae9a0a6-2f6e-4571-9c81-3007396d5cd5",
        "colab": {
          "base_uri": "https://localhost:8080/",
          "height": 34
        }
      },
      "source": [
        "total = 0\n",
        "card_nums=[1,3,5,7]\n",
        "for i in card_nums:\n",
        "  total= total + i\n",
        "print(total/4)\n"
      ],
      "execution_count": 0,
      "outputs": [
        {
          "output_type": "stream",
          "text": [
            "4.0\n"
          ],
          "name": "stdout"
        }
      ]
    },
    {
      "cell_type": "markdown",
      "metadata": {
        "id": "MRMmzkrDH9Ae",
        "colab_type": "text"
      },
      "source": [
        "###9"
      ]
    },
    {
      "cell_type": "code",
      "metadata": {
        "id": "XFYqTLOOMHP1",
        "colab_type": "code",
        "outputId": "25ed3d89-e3fd-4abe-8edd-6360e88500ae",
        "colab": {
          "base_uri": "https://localhost:8080/",
          "height": 34
        }
      },
      "source": [
        "clovers"
      ],
      "execution_count": 0,
      "outputs": [
        {
          "output_type": "execute_result",
          "data": {
            "text/plain": [
              "['클로버1', '클로버2', '클로버3']"
            ]
          },
          "metadata": {
            "tags": []
          },
          "execution_count": 38
        }
      ]
    },
    {
      "cell_type": "code",
      "metadata": {
        "id": "wYE_SCAIMLak",
        "colab_type": "code",
        "outputId": "195ddd8b-b945-41bb-d742-a03c8362c868",
        "colab": {
          "base_uri": "https://localhost:8080/",
          "height": 68
        }
      },
      "source": [
        "for i in [2,1,0]:\n",
        "  print(clovers[i])"
      ],
      "execution_count": 0,
      "outputs": [
        {
          "output_type": "stream",
          "text": [
            "클로버3\n",
            "클로버2\n",
            "클로버1\n"
          ],
          "name": "stdout"
        }
      ]
    },
    {
      "cell_type": "code",
      "metadata": {
        "id": "6lBDNwsyN9st",
        "colab_type": "code",
        "outputId": "6c0d43f4-9874-4619-e36c-e5aa34ac5479",
        "colab": {
          "base_uri": "https://localhost:8080/",
          "height": 130
        }
      },
      "source": [
        "for i in [2,1,0]:\n",
        "print(clovers[i])"
      ],
      "execution_count": 0,
      "outputs": [
        {
          "output_type": "error",
          "ename": "IndentationError",
          "evalue": "ignored",
          "traceback": [
            "\u001b[0;36m  File \u001b[0;32m\"<ipython-input-52-3557d6407728>\"\u001b[0;36m, line \u001b[0;32m2\u001b[0m\n\u001b[0;31m    print(clovers[i])\u001b[0m\n\u001b[0m        ^\u001b[0m\n\u001b[0;31mIndentationError\u001b[0m\u001b[0;31m:\u001b[0m expected an indented block\n"
          ]
        }
      ]
    },
    {
      "cell_type": "markdown",
      "metadata": {
        "id": "voOs1949H8-O",
        "colab_type": "text"
      },
      "source": [
        "###10"
      ]
    },
    {
      "cell_type": "code",
      "metadata": {
        "id": "eTEkvlDzMX_7",
        "colab_type": "code",
        "outputId": "809f4030-a53e-4397-b06d-4205fe029eb7",
        "colab": {
          "base_uri": "https://localhost:8080/",
          "height": 51
        }
      },
      "source": [
        "nums=[0,1,2,3,4,5]\n",
        "for num in nums[1:3]:\n",
        "  print(num) #1 2 "
      ],
      "execution_count": 0,
      "outputs": [
        {
          "output_type": "stream",
          "text": [
            "1\n",
            "2\n"
          ],
          "name": "stdout"
        }
      ]
    },
    {
      "cell_type": "markdown",
      "metadata": {
        "id": "TmVCGAuVH822",
        "colab_type": "text"
      },
      "source": [
        "#ch.5"
      ]
    },
    {
      "cell_type": "markdown",
      "metadata": {
        "id": "UKb3BkiPH81P",
        "colab_type": "text"
      },
      "source": [
        "##Flowchart "
      ]
    },
    {
      "cell_type": "markdown",
      "metadata": {
        "id": "Dlnh0XFJTsm8",
        "colab_type": "text"
      },
      "source": [
        "## 참과 거짓"
      ]
    },
    {
      "cell_type": "code",
      "metadata": {
        "id": "qofXBNKhCpT-",
        "colab_type": "code",
        "outputId": "229983fe-dc5f-4605-e96d-de7f34ef291a",
        "colab": {
          "base_uri": "https://localhost:8080/",
          "height": 51
        }
      },
      "source": [
        "#논리형 : 참True과 거짓False 판별 \n",
        "print(True)\n",
        "print(False)"
      ],
      "execution_count": 0,
      "outputs": [
        {
          "output_type": "stream",
          "text": [
            "True\n",
            "False\n"
          ],
          "name": "stdout"
        }
      ]
    },
    {
      "cell_type": "markdown",
      "metadata": {
        "id": "lUPHuahxUC7m",
        "colab_type": "text"
      },
      "source": [
        "##값 비교"
      ]
    },
    {
      "cell_type": "code",
      "metadata": {
        "id": "EbutjwyRCpSl",
        "colab_type": "code",
        "outputId": "1d622c0e-2c9b-4e76-918f-435c660a72b4",
        "colab": {
          "base_uri": "https://localhost:8080/",
          "height": 34
        }
      },
      "source": [
        "print(1<2)"
      ],
      "execution_count": 0,
      "outputs": [
        {
          "output_type": "stream",
          "text": [
            "True\n"
          ],
          "name": "stdout"
        }
      ]
    },
    {
      "cell_type": "code",
      "metadata": {
        "id": "8kgYe4heLskp",
        "colab_type": "code",
        "outputId": "4370794f-e1cf-4611-ec41-746c919a9b5c",
        "colab": {
          "base_uri": "https://localhost:8080/",
          "height": 34
        }
      },
      "source": [
        "print(1>2)"
      ],
      "execution_count": 0,
      "outputs": [
        {
          "output_type": "stream",
          "text": [
            "False\n"
          ],
          "name": "stdout"
        }
      ]
    },
    {
      "cell_type": "code",
      "metadata": {
        "id": "rKrYs1jtUMF-",
        "colab_type": "code",
        "outputId": "b0e32cb9-1f2c-40d8-905e-a3d85abeec21",
        "colab": {
          "base_uri": "https://localhost:8080/",
          "height": 51
        }
      },
      "source": [
        "print(1<=1)\n",
        "print(1>=2)"
      ],
      "execution_count": 0,
      "outputs": [
        {
          "output_type": "stream",
          "text": [
            "True\n",
            "False\n"
          ],
          "name": "stdout"
        }
      ]
    },
    {
      "cell_type": "code",
      "metadata": {
        "id": "hnEOQRmqUUR8",
        "colab_type": "code",
        "outputId": "cbf9c989-cde0-4b93-848c-2f49c8944843",
        "colab": {
          "base_uri": "https://localhost:8080/",
          "height": 85
        }
      },
      "source": [
        "print(1==1)\n",
        "print(1==2)\n",
        "print(1!=1)\n",
        "print(1!=2)"
      ],
      "execution_count": 0,
      "outputs": [
        {
          "output_type": "stream",
          "text": [
            "True\n",
            "False\n",
            "False\n",
            "True\n"
          ],
          "name": "stdout"
        }
      ]
    },
    {
      "cell_type": "markdown",
      "metadata": {
        "id": "ZwlrX9T-Um3R",
        "colab_type": "text"
      },
      "source": [
        "## if"
      ]
    },
    {
      "cell_type": "code",
      "metadata": {
        "id": "8r8OCTjmUUUW",
        "colab_type": "code",
        "outputId": "4d13c984-0b07-488c-b950-1857d23552c1",
        "colab": {
          "base_uri": "https://localhost:8080/",
          "height": 34
        }
      },
      "source": [
        "if True: # if 조건 (조건이 true 일때 실행)\n",
        "  print('참입니다')"
      ],
      "execution_count": 0,
      "outputs": [
        {
          "output_type": "stream",
          "text": [
            "참입니다\n"
          ],
          "name": "stdout"
        }
      ]
    },
    {
      "cell_type": "code",
      "metadata": {
        "id": "98JCC2BjUUWM",
        "colab_type": "code",
        "colab": {}
      },
      "source": [
        "if False:\n",
        "  print('참입니다')"
      ],
      "execution_count": 0,
      "outputs": []
    },
    {
      "cell_type": "code",
      "metadata": {
        "id": "-5oBK064UUYT",
        "colab_type": "code",
        "outputId": "de67c2e9-9d27-4236-9269-f299de09dde4",
        "colab": {
          "base_uri": "https://localhost:8080/",
          "height": 34
        }
      },
      "source": [
        "score=90\n",
        "if score > 80:\n",
        "  print('합격입니다')"
      ],
      "execution_count": 0,
      "outputs": [
        {
          "output_type": "stream",
          "text": [
            "합격입니다\n"
          ],
          "name": "stdout"
        }
      ]
    },
    {
      "cell_type": "markdown",
      "metadata": {
        "id": "gKeNZCR0U-Hu",
        "colab_type": "text"
      },
      "source": [
        "##else, elif"
      ]
    },
    {
      "cell_type": "code",
      "metadata": {
        "id": "kC_D89wKUUae",
        "colab_type": "code",
        "outputId": "0097c03a-bdfc-4efa-f10b-43a11d51de33",
        "colab": {
          "base_uri": "https://localhost:8080/",
          "height": 34
        }
      },
      "source": [
        "score=60\n",
        "if score > 80:\n",
        "  print('합격입니다')\n",
        "else:\n",
        "  print('불합격입니다')"
      ],
      "execution_count": 0,
      "outputs": [
        {
          "output_type": "stream",
          "text": [
            "불합격입니다\n"
          ],
          "name": "stdout"
        }
      ]
    },
    {
      "cell_type": "code",
      "metadata": {
        "id": "PsM2g5ibUUcU",
        "colab_type": "code",
        "outputId": "a036f4c1-bb23-4de2-c2ed-cf0d746a1c5d",
        "colab": {
          "base_uri": "https://localhost:8080/",
          "height": 34
        }
      },
      "source": [
        "# elif = else if\n",
        "# elif 무한추가\n",
        "# else 한번만\n",
        "\n",
        "score=75\n",
        "\n",
        "if 80 < score <= 100:\n",
        "  print('학점은 A입니다')\n",
        "elif 60 < score <= 80:\n",
        "  print('학점은 B입니다')\n",
        "elif 40 < score <= 60:\n",
        "  print('학점은 C입니다')\n",
        "else:\n",
        "  print('학점은 F입니다')"
      ],
      "execution_count": 0,
      "outputs": [
        {
          "output_type": "stream",
          "text": [
            "학점은 B입니다\n"
          ],
          "name": "stdout"
        }
      ]
    },
    {
      "cell_type": "code",
      "metadata": {
        "id": "W-d0w3D8V_IC",
        "colab_type": "code",
        "outputId": "daa5bd95-f3d2-4d7d-cd68-9b4b1efe23dc",
        "colab": {
          "base_uri": "https://localhost:8080/",
          "height": 34
        }
      },
      "source": [
        "ages=[22,21,17,32,4,28,19,8]\n",
        "total=0\n",
        "price=0\n",
        "\n",
        "for age in ages:\n",
        "  if age >=20:\n",
        "    price=8000\n",
        "    total = total +price\n",
        "  elif 10<= age <20:\n",
        "    price=5000\n",
        "    total = total +price\n",
        "  else:\n",
        "    price =2500\n",
        "    total = total +price \n",
        "print(total)\n",
        "\n",
        "  \n",
        " "
      ],
      "execution_count": 0,
      "outputs": [
        {
          "output_type": "stream",
          "text": [
            "47000\n"
          ],
          "name": "stdout"
        }
      ]
    },
    {
      "cell_type": "code",
      "metadata": {
        "id": "7DBurw-bXe1a",
        "colab_type": "code",
        "outputId": "4c053ab4-9b8e-47c7-bea4-6db72d3c2ae2",
        "colab": {
          "base_uri": "https://localhost:8080/",
          "height": 34
        }
      },
      "source": [
        "ages=[22,21,17,32,4,28,19,8]\n",
        "total_price=0\n",
        "\n",
        "\n",
        "for age in ages:\n",
        "  if age >=20:\n",
        "    total_price = total_price +8000\n",
        "  elif 10<= age <20:\n",
        "    total_price = total_price +5000\n",
        "  else:\n",
        "    total_price = total_price +2500\n",
        "print('총 입장료는',total_price,'원 입니다.')\n"
      ],
      "execution_count": 0,
      "outputs": [
        {
          "output_type": "stream",
          "text": [
            "총 입장료는 47000 원 입니다.\n"
          ],
          "name": "stdout"
        }
      ]
    },
    {
      "cell_type": "markdown",
      "metadata": {
        "id": "UOU4W-BMX72G",
        "colab_type": "text"
      },
      "source": [
        "##논리연산자 and, or, not"
      ]
    },
    {
      "cell_type": "code",
      "metadata": {
        "id": "h1Pr2tCKX9cV",
        "colab_type": "code",
        "outputId": "092fb097-e239-4168-d7ed-ae07f7b313ba",
        "colab": {
          "base_uri": "https://localhost:8080/",
          "height": 34
        }
      },
      "source": [
        "#and\n",
        "\n",
        "games=12\n",
        "points=25\n",
        "if games >= 10 and points>=20:\n",
        "  print('MVP로 선정되었습니다.')"
      ],
      "execution_count": 0,
      "outputs": [
        {
          "output_type": "stream",
          "text": [
            "MVP로 선정되었습니다.\n"
          ],
          "name": "stdout"
        }
      ]
    },
    {
      "cell_type": "code",
      "metadata": {
        "id": "INLketQrYi6_",
        "colab_type": "code",
        "outputId": "c0a2b6a5-0c39-49e2-ce60-cb9745c718db",
        "colab": {
          "base_uri": "https://localhost:8080/",
          "height": 68
        }
      },
      "source": [
        "print(True and True)\n",
        "print(True and False)\n",
        "print(False and False)"
      ],
      "execution_count": 0,
      "outputs": [
        {
          "output_type": "stream",
          "text": [
            "True\n",
            "False\n",
            "False\n"
          ],
          "name": "stdout"
        }
      ]
    },
    {
      "cell_type": "code",
      "metadata": {
        "id": "Q095A5_3Y1ds",
        "colab_type": "code",
        "outputId": "6e68bdb1-52f9-49dd-ccc0-7fdc883c63b5",
        "colab": {
          "base_uri": "https://localhost:8080/",
          "height": 68
        }
      },
      "source": [
        "#or\n",
        "\n",
        "print(True or True)\n",
        "print(True or False)\n",
        "print(False or False)"
      ],
      "execution_count": 0,
      "outputs": [
        {
          "output_type": "stream",
          "text": [
            "True\n",
            "True\n",
            "False\n"
          ],
          "name": "stdout"
        }
      ]
    },
    {
      "cell_type": "code",
      "metadata": {
        "id": "LmpPh4C7Y9Ii",
        "colab_type": "code",
        "outputId": "a87f0c13-29a8-46d8-9e28-6b378923ca12",
        "colab": {
          "base_uri": "https://localhost:8080/",
          "height": 51
        }
      },
      "source": [
        "#not\n",
        "\n",
        "print(not True)\n",
        "print(not False)"
      ],
      "execution_count": 0,
      "outputs": [
        {
          "output_type": "stream",
          "text": [
            "False\n",
            "True\n"
          ],
          "name": "stdout"
        }
      ]
    },
    {
      "cell_type": "code",
      "metadata": {
        "id": "te__SayBZEHp",
        "colab_type": "code",
        "outputId": "397e41d6-1c69-46de-e9f6-db5ba66073eb",
        "colab": {
          "base_uri": "https://localhost:8080/",
          "height": 34
        }
      },
      "source": [
        "suspects=[['거위','새','암컷'],['푸들','개','수컷'],['비글','개','암컷']]\n",
        "for suspect in suspects:\n",
        "  if suspect[2] =='암컷' and suspect[1] =='개':\n",
        "    print('범인은', suspect[0],'입니다.')"
      ],
      "execution_count": 0,
      "outputs": [
        {
          "output_type": "stream",
          "text": [
            "범인은 비글 입니다.\n"
          ],
          "name": "stdout"
        }
      ]
    },
    {
      "cell_type": "markdown",
      "metadata": {
        "id": "2iDkMnmgap6i",
        "colab_type": "text"
      },
      "source": [
        "##프로젝트: 가위바위보 1단계"
      ]
    },
    {
      "cell_type": "code",
      "metadata": {
        "id": "o9FbNtAPatJK",
        "colab_type": "code",
        "outputId": "a94da8d5-3ee4-4212-fa7a-6520c0910efb",
        "colab": {
          "base_uri": "https://localhost:8080/",
          "height": 51
        }
      },
      "source": [
        "rps = ['가위','바위','보']\n",
        "\n",
        "player1 = rps[2]\n",
        "player2 = rps[1]\n",
        "print(player1,player2)\n",
        "\n",
        "if player1 =='가위':\n",
        "  if player2 =='가위':\n",
        "    print('비겼습니다.')\n",
        "  elif player2 == '바위':\n",
        "    print('player1이 졌습니다.')\n",
        "  else:\n",
        "    print('player1이 이겼습니다.')\n",
        "elif player1 == '바위':\n",
        "  if player2 =='가위':\n",
        "    print('player1이 이겼습니다.')\n",
        "  elif player2 == '바위':\n",
        "    print('p비겼습니다.')\n",
        "  else:\n",
        "    print('player1이 졌습니다.')\n",
        "else:\n",
        "  if player2 =='가위':\n",
        "    print('player1이 졌습니다.')\n",
        "  elif player2 == '바위':\n",
        "    print('player1이 이겼습니다.')\n",
        "  else:\n",
        "    print('비겼습니다.')\n",
        "  \n"
      ],
      "execution_count": 0,
      "outputs": [
        {
          "output_type": "stream",
          "text": [
            "보 바위\n",
            "player1이 이겼습니다.\n"
          ],
          "name": "stdout"
        }
      ]
    },
    {
      "cell_type": "code",
      "metadata": {
        "id": "TcMIjT84coUU",
        "colab_type": "code",
        "colab": {}
      },
      "source": [
        "player = rps[2]\n",
        "computer =rps[2]\n",
        "\n",
        "print(player,computer)\n",
        "\n",
        "if player =='가위' and computer =='가위':\n",
        "  print('비겼습니다.')\n",
        "elif ...."
      ],
      "execution_count": 0,
      "outputs": []
    },
    {
      "cell_type": "markdown",
      "metadata": {
        "id": "axuEAkzLcktk",
        "colab_type": "text"
      },
      "source": [
        "##연습문제"
      ]
    },
    {
      "cell_type": "markdown",
      "metadata": {
        "id": "EGc8x-TWcmoV",
        "colab_type": "text"
      },
      "source": [
        "###1"
      ]
    },
    {
      "cell_type": "code",
      "metadata": {
        "id": "dovhI4uxdKpK",
        "colab_type": "code",
        "outputId": "ac4a6547-0e48-44e1-dc6f-96b7a8fa5e1b",
        "colab": {
          "base_uri": "https://localhost:8080/",
          "height": 51
        }
      },
      "source": [
        "num1 = 55\n",
        "num2 = 13\n",
        "print(num1 <= num2) #False\n",
        "print(num1 != num2) #True"
      ],
      "execution_count": 0,
      "outputs": [
        {
          "output_type": "stream",
          "text": [
            "False\n",
            "True\n"
          ],
          "name": "stdout"
        }
      ]
    },
    {
      "cell_type": "markdown",
      "metadata": {
        "id": "xkJjz4m-dBNx",
        "colab_type": "text"
      },
      "source": [
        "###2"
      ]
    },
    {
      "cell_type": "code",
      "metadata": {
        "id": "A4OquRZNdX6F",
        "colab_type": "code",
        "outputId": "16adfa45-10fe-44d7-c49d-d5b28f000666",
        "colab": {
          "base_uri": "https://localhost:8080/",
          "height": 34
        }
      },
      "source": [
        "MVP = '하트잭'\n",
        "print(MVP=='공작부인') #False"
      ],
      "execution_count": 0,
      "outputs": [
        {
          "output_type": "stream",
          "text": [
            "False\n"
          ],
          "name": "stdout"
        }
      ]
    },
    {
      "cell_type": "markdown",
      "metadata": {
        "id": "lOsXhP83dBQ1",
        "colab_type": "text"
      },
      "source": [
        "###3"
      ]
    },
    {
      "cell_type": "code",
      "metadata": {
        "id": "0U7JlQmNeBkO",
        "colab_type": "code",
        "outputId": "7479f802-ef3c-46c7-fd9b-ed761c1d5c1e",
        "colab": {
          "base_uri": "https://localhost:8080/",
          "height": 34
        }
      },
      "source": [
        "switch = 'on'\n",
        "if switch =='on':\n",
        "  print ('the light is on.')\n",
        "else:\n",
        "  print('the light is off.')"
      ],
      "execution_count": 0,
      "outputs": [
        {
          "output_type": "stream",
          "text": [
            "the light is on.\n"
          ],
          "name": "stdout"
        }
      ]
    },
    {
      "cell_type": "markdown",
      "metadata": {
        "id": "IKKBJwfFdBUK",
        "colab_type": "text"
      },
      "source": [
        "###4"
      ]
    },
    {
      "cell_type": "code",
      "metadata": {
        "id": "isgtZMMSehho",
        "colab_type": "code",
        "outputId": "14938692-d607-4bf9-ce30-d985f5378fda",
        "colab": {
          "base_uri": "https://localhost:8080/",
          "height": 34
        }
      },
      "source": [
        "price = 10000\n",
        "if price >10000:\n",
        "  print('too expensive')\n",
        "elif price >5000:\n",
        "  print('good price')\n",
        "else:\n",
        "  print('cheap')"
      ],
      "execution_count": 0,
      "outputs": [
        {
          "output_type": "stream",
          "text": [
            "good price\n"
          ],
          "name": "stdout"
        }
      ]
    },
    {
      "cell_type": "markdown",
      "metadata": {
        "id": "NVIIyq5-dBZa",
        "colab_type": "text"
      },
      "source": [
        "###5"
      ]
    },
    {
      "cell_type": "code",
      "metadata": {
        "id": "VgGA89eae6jM",
        "colab_type": "code",
        "outputId": "62c87c6b-b4d6-4f45-f420-c3d9dc9d689e",
        "colab": {
          "base_uri": "https://localhost:8080/",
          "height": 85
        }
      },
      "source": [
        "print(2>5)\n",
        "print(2!=5)\n",
        "print(False)\n",
        "print(2==5)\n",
        "\n",
        "# ftff"
      ],
      "execution_count": 0,
      "outputs": [
        {
          "output_type": "stream",
          "text": [
            "False\n",
            "True\n",
            "False\n",
            "False\n"
          ],
          "name": "stdout"
        }
      ]
    },
    {
      "cell_type": "markdown",
      "metadata": {
        "id": "Rl1YnOehdBx5",
        "colab_type": "text"
      },
      "source": [
        "###6"
      ]
    },
    {
      "cell_type": "code",
      "metadata": {
        "id": "2oRKFFTbfHVK",
        "colab_type": "code",
        "outputId": "0401fe7a-57ec-4180-dd95-6353cb39526b",
        "colab": {
          "base_uri": "https://localhost:8080/",
          "height": 34
        }
      },
      "source": [
        "input_number = -9\n",
        "if input_number < 0:\n",
        "  absolute_value = input_number *-1\n",
        "else:\n",
        "  absolute_value = input_number\n",
        "print(absolute_value)\n",
        "#9"
      ],
      "execution_count": 0,
      "outputs": [
        {
          "output_type": "stream",
          "text": [
            "9\n"
          ],
          "name": "stdout"
        }
      ]
    },
    {
      "cell_type": "markdown",
      "metadata": {
        "id": "wUxyZLH9dBrD",
        "colab_type": "text"
      },
      "source": [
        "###7"
      ]
    },
    {
      "cell_type": "code",
      "metadata": {
        "id": "oxaYjr86foh8",
        "colab_type": "code",
        "outputId": "856fbc38-192e-49fc-fe37-1884ab1cc9c9",
        "colab": {
          "base_uri": "https://localhost:8080/",
          "height": 34
        }
      },
      "source": [
        "total_price = 0\n",
        "choices=['mushroom','carrot','honey']\n",
        "for choice in choices:\n",
        "  if choice =='mushroom':\n",
        "    total_price=total_price+8000\n",
        "  elif choice =='carrot':\n",
        "    total_price=total_price+4500\n",
        "  elif choice =='honey':\n",
        "    total_price=total_price+6000\n",
        "print('The total price is' ,total_price)\n"
      ],
      "execution_count": 0,
      "outputs": [
        {
          "output_type": "stream",
          "text": [
            "The total price is 18500\n"
          ],
          "name": "stdout"
        }
      ]
    },
    {
      "cell_type": "markdown",
      "metadata": {
        "id": "gdgDWXXhdBoF",
        "colab_type": "text"
      },
      "source": [
        "###8"
      ]
    },
    {
      "cell_type": "code",
      "metadata": {
        "id": "XQxDHwUogX18",
        "colab_type": "code",
        "outputId": "c80cda4c-bc3a-4340-dc83-c78e700733e8",
        "colab": {
          "base_uri": "https://localhost:8080/",
          "height": 34
        }
      },
      "source": [
        "odd_nums =[]\n",
        "for num in range(10):\n",
        "  if num%2 == 1:\n",
        "    odd_nums.append(num)\n",
        "print(odd_nums) "
      ],
      "execution_count": 0,
      "outputs": [
        {
          "output_type": "stream",
          "text": [
            "[1, 3, 5, 7, 9]\n"
          ],
          "name": "stdout"
        }
      ]
    },
    {
      "cell_type": "markdown",
      "metadata": {
        "id": "qLMiYF4YdBld",
        "colab_type": "text"
      },
      "source": [
        "###9"
      ]
    },
    {
      "cell_type": "code",
      "metadata": {
        "id": "mn5aWA9sg62H",
        "colab_type": "code",
        "outputId": "7bd1a1a5-74d7-4a99-e453-0174288d9937",
        "colab": {
          "base_uri": "https://localhost:8080/",
          "height": 85
        }
      },
      "source": [
        "clovers =['clover1','clover2','clover3']\n",
        "print(clovers)\n",
        "\n",
        "for clover in clovers:\n",
        "  if clover =='clover1':\n",
        "    print('Hello', clover)\n",
        "  elif clover =='clover2':\n",
        "    print('Nice meet you',clover )\n",
        "  elif clover == 'clover3':\n",
        "    print('Bye',clover)\n",
        "  else:\n",
        "    print('Who are you?')\n",
        "\n",
        "# hello clover1\n",
        "# nice meet you clover2\n",
        "# bye clover3"
      ],
      "execution_count": 0,
      "outputs": [
        {
          "output_type": "stream",
          "text": [
            "['clover1', 'clover2', 'clover3']\n",
            "Hello clover1\n",
            "Nice meet you clover2\n",
            "Bye clover3\n"
          ],
          "name": "stdout"
        }
      ]
    },
    {
      "cell_type": "markdown",
      "metadata": {
        "id": "HtQVmL85dBgA",
        "colab_type": "text"
      },
      "source": [
        "###10"
      ]
    },
    {
      "cell_type": "code",
      "metadata": {
        "id": "BWJhdW7uhuKG",
        "colab_type": "code",
        "outputId": "c67e4110-3979-4839-a53e-bd2df5bf9937",
        "colab": {
          "base_uri": "https://localhost:8080/",
          "height": 34
        }
      },
      "source": [
        "year = 2600\n",
        "if year %400 == 0:\n",
        "  print('The', year,'is a leap year.')\n",
        "elif year %4 ==0 and year%100 !=0:\n",
        "  print('The', year,'is a leap year.')\n",
        "else:\n",
        "  print('The', year,'is not a leap year.')"
      ],
      "execution_count": 0,
      "outputs": [
        {
          "output_type": "stream",
          "text": [
            "The 2600 is not a leap year.\n"
          ],
          "name": "stdout"
        }
      ]
    },
    {
      "cell_type": "markdown",
      "metadata": {
        "id": "8_WXIlqQdBd4",
        "colab_type": "text"
      },
      "source": [
        "#ch.6"
      ]
    },
    {
      "cell_type": "markdown",
      "metadata": {
        "id": "IDXxseDGdBXg",
        "colab_type": "text"
      },
      "source": [
        "##조건반복 while "
      ]
    },
    {
      "cell_type": "code",
      "metadata": {
        "id": "cmf-iTf0qYDL",
        "colab_type": "code",
        "outputId": "0435b7ed-5153-4766-e2fe-1909a4cfb173",
        "colab": {
          "base_uri": "https://localhost:8080/",
          "height": 68
        }
      },
      "source": [
        "for num in range(3):\n",
        "  print('hello turtle',num)"
      ],
      "execution_count": 0,
      "outputs": [
        {
          "output_type": "stream",
          "text": [
            "hello turtle 0\n",
            "hello turtle 1\n",
            "hello turtle 2\n"
          ],
          "name": "stdout"
        }
      ]
    },
    {
      "cell_type": "code",
      "metadata": {
        "id": "omevl-viqtnd",
        "colab_type": "code",
        "outputId": "ca33832f-3c3f-480e-ab41-a0fdc6a0d04a",
        "colab": {
          "base_uri": "https://localhost:8080/",
          "height": 68
        }
      },
      "source": [
        "num =0 \n",
        "while num <3:\n",
        "  print('hello tutle',num)\n",
        "  num = num +1"
      ],
      "execution_count": 0,
      "outputs": [
        {
          "output_type": "stream",
          "text": [
            "hello tutle 0\n",
            "hello tutle 1\n",
            "hello tutle 2\n"
          ],
          "name": "stdout"
        }
      ]
    },
    {
      "cell_type": "code",
      "metadata": {
        "id": "jvccylIcqtqL",
        "colab_type": "code",
        "outputId": "a4870487-b729-491b-e9d5-8765b96afab1",
        "colab": {
          "base_uri": "https://localhost:8080/",
          "height": 119
        }
      },
      "source": [
        "num=0\n",
        "while num<5:\n",
        "  num = num+1\n",
        "  print(num,'바퀴')\n",
        "  \n",
        "print('finish')"
      ],
      "execution_count": 0,
      "outputs": [
        {
          "output_type": "stream",
          "text": [
            "1 바퀴\n",
            "2 바퀴\n",
            "3 바퀴\n",
            "4 바퀴\n",
            "5 바퀴\n",
            "finish\n"
          ],
          "name": "stdout"
        }
      ]
    },
    {
      "cell_type": "markdown",
      "metadata": {
        "id": "CSFyvg_yrY-m",
        "colab_type": "text"
      },
      "source": [
        "##input(): 입력받기"
      ]
    },
    {
      "cell_type": "code",
      "metadata": {
        "id": "bbuUoaOLqtsj",
        "colab_type": "code",
        "outputId": "6efad553-98d9-4295-f000-61df4cd9e2fb",
        "colab": {
          "base_uri": "https://localhost:8080/",
          "height": 51
        }
      },
      "source": [
        "#input은 문자열만 받을 수 있다\n",
        "name =input('what is your name?')\n",
        "print(name,'hello!')"
      ],
      "execution_count": 0,
      "outputs": [
        {
          "output_type": "stream",
          "text": [
            "what is your name?allice\n",
            "allice hello!\n"
          ],
          "name": "stdout"
        }
      ]
    },
    {
      "cell_type": "code",
      "metadata": {
        "id": "J1CADxUqqtwr",
        "colab_type": "code",
        "outputId": "8030a4e2-6c8f-4778-ab73-dc76a4b8a573",
        "colab": {
          "base_uri": "https://localhost:8080/",
          "height": 51
        }
      },
      "source": [
        "#int() \n",
        "age = int(input('how old are you?'))\n",
        "print('look like', age-3 )"
      ],
      "execution_count": 0,
      "outputs": [
        {
          "output_type": "stream",
          "text": [
            "how old are you?28\n",
            "look like 25\n"
          ],
          "name": "stdout"
        }
      ]
    },
    {
      "cell_type": "code",
      "metadata": {
        "id": "v4zWVfv9qtzX",
        "colab_type": "code",
        "outputId": "f9801427-0ebe-4f97-c764-ce9f9bc01949",
        "colab": {
          "base_uri": "https://localhost:8080/",
          "height": 85
        }
      },
      "source": [
        "answer = ''\n",
        "while answer !='London':\n",
        "  answer=input('what is capital of England?')\n",
        "print('Right!')\n"
      ],
      "execution_count": 0,
      "outputs": [
        {
          "output_type": "stream",
          "text": [
            "what is capital of England?london\n",
            "what is capital of England?souel\n",
            "what is capital of England?London\n",
            "Right!\n"
          ],
          "name": "stdout"
        }
      ]
    },
    {
      "cell_type": "markdown",
      "metadata": {
        "id": "4ZFWXcnbtFXl",
        "colab_type": "text"
      },
      "source": [
        "## continue, break"
      ]
    },
    {
      "cell_type": "code",
      "metadata": {
        "id": "lG_u4-6_tIp1",
        "colab_type": "code",
        "outputId": "6678c9a8-c20e-4282-a5f6-e5786420dbeb",
        "colab": {
          "base_uri": "https://localhost:8080/",
          "height": 51
        }
      },
      "source": [
        "count =0\n",
        "while count <3:\n",
        "  count = count +1\n",
        "  if count ==2:\n",
        "      continue\n",
        "  print(count)"
      ],
      "execution_count": 0,
      "outputs": [
        {
          "output_type": "stream",
          "text": [
            "1\n",
            "3\n"
          ],
          "name": "stdout"
        }
      ]
    },
    {
      "cell_type": "code",
      "metadata": {
        "id": "WNx2ERxYtcnh",
        "colab_type": "code",
        "outputId": "ca6dfd4b-6ea1-42bd-ac80-261f05619d4a",
        "colab": {
          "base_uri": "https://localhost:8080/",
          "height": 34
        }
      },
      "source": [
        "count =0\n",
        "while count <3:\n",
        "  count = count +1\n",
        "  if count ==2:\n",
        "      break\n",
        "  print(count)"
      ],
      "execution_count": 0,
      "outputs": [
        {
          "output_type": "stream",
          "text": [
            "1\n"
          ],
          "name": "stdout"
        }
      ]
    },
    {
      "cell_type": "code",
      "metadata": {
        "id": "xk5fgVWItqcG",
        "colab_type": "code",
        "outputId": "60946d92-e1ab-427d-935e-359f55fb9c38",
        "colab": {
          "base_uri": "https://localhost:8080/",
          "height": 34
        }
      },
      "source": [
        "for count in range(1,3):\n",
        "  if count ==2:\n",
        "    break\n",
        "  print(count)"
      ],
      "execution_count": 0,
      "outputs": [
        {
          "output_type": "stream",
          "text": [
            "1\n"
          ],
          "name": "stdout"
        }
      ]
    },
    {
      "cell_type": "code",
      "metadata": {
        "id": "7GdLYS2xt4r7",
        "colab_type": "code",
        "outputId": "4fdad233-a94c-4a0e-b82a-46641b568fcb",
        "colab": {
          "base_uri": "https://localhost:8080/",
          "height": 51
        }
      },
      "source": [
        "for i in range(1,3):\n",
        "  print(i)"
      ],
      "execution_count": 0,
      "outputs": [
        {
          "output_type": "stream",
          "text": [
            "1\n",
            "2\n"
          ],
          "name": "stdout"
        }
      ]
    },
    {
      "cell_type": "markdown",
      "metadata": {
        "id": "5RMoarEdt_Rr",
        "colab_type": "text"
      },
      "source": [
        "##무한 루프 while True:"
      ]
    },
    {
      "cell_type": "code",
      "metadata": {
        "id": "owlJ44hVt9Zr",
        "colab_type": "code",
        "outputId": "353321c7-45c7-45d5-fd23-9e3ccc473ad2",
        "colab": {
          "base_uri": "https://localhost:8080/",
          "height": 1000
        }
      },
      "source": [
        "while True:\n",
        "  print ('push ctrl+c')"
      ],
      "execution_count": 0,
      "outputs": [
        {
          "output_type": "stream",
          "text": [
            "\u001b[1;30;43m스트리밍 출력 내용이 길어서 마지막 5000줄이 삭제되었습니다.\u001b[0m\n",
            "push ctrl+c\n",
            "push ctrl+c\n",
            "push ctrl+c\n",
            "push ctrl+c\n",
            "push ctrl+c\n",
            "push ctrl+c\n",
            "push ctrl+c\n",
            "push ctrl+c\n",
            "push ctrl+c\n",
            "push ctrl+c\n",
            "push ctrl+c\n",
            "push ctrl+c\n",
            "push ctrl+c\n",
            "push ctrl+c\n",
            "push ctrl+c\n",
            "push ctrl+c\n",
            "push ctrl+c\n",
            "push ctrl+c\n",
            "push ctrl+c\n",
            "push ctrl+c\n",
            "push ctrl+c\n",
            "push ctrl+c\n",
            "push ctrl+c\n",
            "push ctrl+c\n",
            "push ctrl+c\n",
            "push ctrl+c\n",
            "push ctrl+c\n",
            "push ctrl+c\n",
            "push ctrl+c\n",
            "push ctrl+c\n",
            "push ctrl+c\n",
            "push ctrl+c\n",
            "push ctrl+c\n",
            "push ctrl+c\n",
            "push ctrl+c\n",
            "push ctrl+c\n",
            "push ctrl+c\n",
            "push ctrl+c\n",
            "push ctrl+c\n",
            "push ctrl+c\n",
            "push ctrl+c\n",
            "push ctrl+c\n",
            "push ctrl+c\n",
            "push ctrl+c\n",
            "push ctrl+c\n",
            "push ctrl+c\n",
            "push ctrl+c\n",
            "push ctrl+c\n",
            "push ctrl+c\n",
            "push ctrl+c\n",
            "push ctrl+c\n",
            "push ctrl+c\n",
            "push ctrl+c\n",
            "push ctrl+c\n",
            "push ctrl+c\n",
            "push ctrl+c\n",
            "push ctrl+c\n",
            "push ctrl+c\n",
            "push ctrl+c\n",
            "push ctrl+c\n",
            "push ctrl+c\n",
            "push ctrl+c\n",
            "push ctrl+c\n",
            "push ctrl+c\n",
            "push ctrl+c\n",
            "push ctrl+c\n",
            "push ctrl+c\n",
            "push ctrl+c\n",
            "push ctrl+c\n",
            "push ctrl+c\n",
            "push ctrl+c\n",
            "push ctrl+c\n",
            "push ctrl+c\n",
            "push ctrl+c\n",
            "push ctrl+c\n",
            "push ctrl+c\n",
            "push ctrl+c\n",
            "push ctrl+c\n",
            "push ctrl+c\n",
            "push ctrl+c\n",
            "push ctrl+c\n",
            "push ctrl+c\n",
            "push ctrl+c\n",
            "push ctrl+c\n",
            "push ctrl+c\n",
            "push ctrl+c\n",
            "push ctrl+c\n",
            "push ctrl+c\n",
            "push ctrl+c\n",
            "push ctrl+c\n",
            "push ctrl+c\n",
            "push ctrl+c\n",
            "push ctrl+c\n",
            "push ctrl+c\n",
            "push ctrl+c\n",
            "push ctrl+c\n",
            "push ctrl+c\n",
            "push ctrl+c\n",
            "push ctrl+c\n",
            "push ctrl+c\n",
            "push ctrl+c\n",
            "push ctrl+c\n",
            "push ctrl+c\n",
            "push ctrl+c\n",
            "push ctrl+c\n",
            "push ctrl+c\n",
            "push ctrl+c\n",
            "push ctrl+c\n",
            "push ctrl+c\n",
            "push ctrl+c\n",
            "push ctrl+c\n",
            "push ctrl+c\n",
            "push ctrl+c\n",
            "push ctrl+c\n",
            "push ctrl+c\n",
            "push ctrl+c\n",
            "push ctrl+c\n",
            "push ctrl+c\n",
            "push ctrl+c\n",
            "push ctrl+c\n",
            "push ctrl+c\n",
            "push ctrl+c\n",
            "push ctrl+c\n",
            "push ctrl+c\n",
            "push ctrl+c\n",
            "push ctrl+c\n",
            "push ctrl+c\n",
            "push ctrl+c\n",
            "push ctrl+c\n",
            "push ctrl+c\n",
            "push ctrl+c\n",
            "push ctrl+c\n",
            "push ctrl+c\n",
            "push ctrl+c\n",
            "push ctrl+c\n",
            "push ctrl+c\n",
            "push ctrl+c\n",
            "push ctrl+c\n",
            "push ctrl+c\n",
            "push ctrl+c\n",
            "push ctrl+c\n",
            "push ctrl+c\n",
            "push ctrl+c\n",
            "push ctrl+c\n",
            "push ctrl+c\n",
            "push ctrl+c\n",
            "push ctrl+c\n",
            "push ctrl+c\n",
            "push ctrl+c\n",
            "push ctrl+c\n",
            "push ctrl+c\n",
            "push ctrl+c\n",
            "push ctrl+c\n",
            "push ctrl+c\n",
            "push ctrl+c\n",
            "push ctrl+c\n",
            "push ctrl+c\n",
            "push ctrl+c\n",
            "push ctrl+c\n",
            "push ctrl+c\n",
            "push ctrl+c\n",
            "push ctrl+c\n",
            "push ctrl+c\n",
            "push ctrl+c\n",
            "push ctrl+c\n",
            "push ctrl+c\n",
            "push ctrl+c\n",
            "push ctrl+c\n",
            "push ctrl+c\n",
            "push ctrl+c\n",
            "push ctrl+c\n",
            "push ctrl+c\n",
            "push ctrl+c\n",
            "push ctrl+c\n",
            "push ctrl+c\n",
            "push ctrl+c\n",
            "push ctrl+c\n",
            "push ctrl+c\n",
            "push ctrl+c\n",
            "push ctrl+c\n",
            "push ctrl+c\n",
            "push ctrl+c\n",
            "push ctrl+c\n",
            "push ctrl+c\n",
            "push ctrl+c\n",
            "push ctrl+c\n",
            "push ctrl+c\n",
            "push ctrl+c\n",
            "push ctrl+c\n",
            "push ctrl+c\n",
            "push ctrl+c\n",
            "push ctrl+c\n",
            "push ctrl+c\n",
            "push ctrl+c\n",
            "push ctrl+c\n",
            "push ctrl+c\n",
            "push ctrl+c\n",
            "push ctrl+c\n",
            "push ctrl+c\n",
            "push ctrl+c\n",
            "push ctrl+c\n",
            "push ctrl+c\n",
            "push ctrl+c\n",
            "push ctrl+c\n",
            "push ctrl+c\n",
            "push ctrl+c\n",
            "push ctrl+c\n",
            "push ctrl+c\n",
            "push ctrl+c\n",
            "push ctrl+c\n",
            "push ctrl+c\n",
            "push ctrl+c\n",
            "push ctrl+c\n",
            "push ctrl+c\n",
            "push ctrl+c\n",
            "push ctrl+c\n",
            "push ctrl+c\n",
            "push ctrl+c\n",
            "push ctrl+c\n",
            "push ctrl+c\n",
            "push ctrl+c\n",
            "push ctrl+c\n",
            "push ctrl+c\n",
            "push ctrl+c\n",
            "push ctrl+c\n",
            "push ctrl+c\n",
            "push ctrl+c\n",
            "push ctrl+c\n",
            "push ctrl+c\n",
            "push ctrl+c\n",
            "push ctrl+c\n",
            "push ctrl+c\n",
            "push ctrl+c\n",
            "push ctrl+c\n",
            "push ctrl+c\n",
            "push ctrl+c\n",
            "push ctrl+c\n",
            "push ctrl+c\n",
            "push ctrl+c\n",
            "push ctrl+c\n",
            "push ctrl+c\n",
            "push ctrl+c\n",
            "push ctrl+c\n",
            "push ctrl+c\n",
            "push ctrl+c\n",
            "push ctrl+c\n",
            "push ctrl+c\n",
            "push ctrl+c\n",
            "push ctrl+c\n",
            "push ctrl+c\n",
            "push ctrl+c\n",
            "push ctrl+c\n",
            "push ctrl+c\n",
            "push ctrl+c\n",
            "push ctrl+c\n",
            "push ctrl+c\n",
            "push ctrl+c\n",
            "push ctrl+c\n",
            "push ctrl+c\n",
            "push ctrl+c\n",
            "push ctrl+c\n",
            "push ctrl+c\n",
            "push ctrl+c\n",
            "push ctrl+c\n",
            "push ctrl+c\n",
            "push ctrl+c\n",
            "push ctrl+c\n",
            "push ctrl+c\n",
            "push ctrl+c\n",
            "push ctrl+c\n",
            "push ctrl+c\n",
            "push ctrl+c\n",
            "push ctrl+c\n",
            "push ctrl+c\n",
            "push ctrl+c\n",
            "push ctrl+c\n",
            "push ctrl+c\n",
            "push ctrl+c\n",
            "push ctrl+c\n",
            "push ctrl+c\n",
            "push ctrl+c\n",
            "push ctrl+c\n",
            "push ctrl+c\n",
            "push ctrl+c\n",
            "push ctrl+c\n",
            "push ctrl+c\n",
            "push ctrl+c\n",
            "push ctrl+c\n",
            "push ctrl+c\n",
            "push ctrl+c\n",
            "push ctrl+c\n",
            "push ctrl+c\n",
            "push ctrl+c\n",
            "push ctrl+c\n",
            "push ctrl+c\n",
            "push ctrl+c\n",
            "push ctrl+c\n",
            "push ctrl+c\n",
            "push ctrl+c\n",
            "push ctrl+c\n",
            "push ctrl+c\n",
            "push ctrl+c\n",
            "push ctrl+c\n",
            "push ctrl+c\n",
            "push ctrl+c\n",
            "push ctrl+c\n",
            "push ctrl+c\n",
            "push ctrl+c\n",
            "push ctrl+c\n",
            "push ctrl+c\n",
            "push ctrl+c\n",
            "push ctrl+c\n",
            "push ctrl+c\n",
            "push ctrl+c\n",
            "push ctrl+c\n",
            "push ctrl+c\n",
            "push ctrl+c\n",
            "push ctrl+c\n",
            "push ctrl+c\n",
            "push ctrl+c\n",
            "push ctrl+c\n",
            "push ctrl+c\n",
            "push ctrl+c\n",
            "push ctrl+c\n",
            "push ctrl+c\n",
            "push ctrl+c\n",
            "push ctrl+c\n",
            "push ctrl+c\n",
            "push ctrl+c\n",
            "push ctrl+c\n",
            "push ctrl+c\n",
            "push ctrl+c\n",
            "push ctrl+c\n",
            "push ctrl+c\n",
            "push ctrl+c\n",
            "push ctrl+c\n",
            "push ctrl+c\n",
            "push ctrl+c\n",
            "push ctrl+c\n",
            "push ctrl+c\n",
            "push ctrl+c\n",
            "push ctrl+c\n",
            "push ctrl+c\n",
            "push ctrl+c\n",
            "push ctrl+c\n",
            "push ctrl+c\n",
            "push ctrl+c\n",
            "push ctrl+c\n",
            "push ctrl+c\n",
            "push ctrl+c\n",
            "push ctrl+c\n",
            "push ctrl+c\n",
            "push ctrl+c\n",
            "push ctrl+c\n",
            "push ctrl+c\n",
            "push ctrl+c\n",
            "push ctrl+c\n",
            "push ctrl+c\n",
            "push ctrl+c\n",
            "push ctrl+c\n",
            "push ctrl+c\n",
            "push ctrl+c\n",
            "push ctrl+c\n",
            "push ctrl+c\n",
            "push ctrl+c\n",
            "push ctrl+c\n",
            "push ctrl+c\n",
            "push ctrl+c\n",
            "push ctrl+c\n",
            "push ctrl+c\n",
            "push ctrl+c\n",
            "push ctrl+c\n",
            "push ctrl+c\n",
            "push ctrl+c\n",
            "push ctrl+c\n",
            "push ctrl+c\n",
            "push ctrl+c\n",
            "push ctrl+c\n",
            "push ctrl+c\n",
            "push ctrl+c\n",
            "push ctrl+c\n",
            "push ctrl+c\n",
            "push ctrl+c\n",
            "push ctrl+c\n",
            "push ctrl+c\n",
            "push ctrl+c\n",
            "push ctrl+c\n",
            "push ctrl+c\n",
            "push ctrl+c\n",
            "push ctrl+c\n",
            "push ctrl+c\n",
            "push ctrl+c\n",
            "push ctrl+c\n",
            "push ctrl+c\n",
            "push ctrl+c\n",
            "push ctrl+c\n",
            "push ctrl+c\n",
            "push ctrl+c\n",
            "push ctrl+c\n",
            "push ctrl+c\n",
            "push ctrl+c\n",
            "push ctrl+c\n",
            "push ctrl+c\n",
            "push ctrl+c\n",
            "push ctrl+c\n",
            "push ctrl+c\n",
            "push ctrl+c\n",
            "push ctrl+c\n",
            "push ctrl+c\n",
            "push ctrl+c\n",
            "push ctrl+c\n",
            "push ctrl+c\n",
            "push ctrl+c\n",
            "push ctrl+c\n",
            "push ctrl+c\n",
            "push ctrl+c\n",
            "push ctrl+c\n",
            "push ctrl+c\n",
            "push ctrl+c\n",
            "push ctrl+c\n",
            "push ctrl+c\n",
            "push ctrl+c\n",
            "push ctrl+c\n",
            "push ctrl+c\n",
            "push ctrl+c\n",
            "push ctrl+c\n",
            "push ctrl+c\n",
            "push ctrl+c\n",
            "push ctrl+c\n",
            "push ctrl+c\n",
            "push ctrl+c\n",
            "push ctrl+c\n",
            "push ctrl+c\n",
            "push ctrl+c\n",
            "push ctrl+c\n",
            "push ctrl+c\n",
            "push ctrl+c\n",
            "push ctrl+c\n",
            "push ctrl+c\n",
            "push ctrl+c\n",
            "push ctrl+c\n",
            "push ctrl+c\n",
            "push ctrl+c\n",
            "push ctrl+c\n",
            "push ctrl+c\n",
            "push ctrl+c\n",
            "push ctrl+c\n",
            "push ctrl+c\n",
            "push ctrl+c\n",
            "push ctrl+c\n",
            "push ctrl+c\n",
            "push ctrl+c\n",
            "push ctrl+c\n",
            "push ctrl+c\n",
            "push ctrl+c\n",
            "push ctrl+c\n",
            "push ctrl+c\n",
            "push ctrl+c\n",
            "push ctrl+c\n",
            "push ctrl+c\n",
            "push ctrl+c\n",
            "push ctrl+c\n",
            "push ctrl+c\n",
            "push ctrl+c\n",
            "push ctrl+c\n",
            "push ctrl+c\n",
            "push ctrl+c\n",
            "push ctrl+c\n",
            "push ctrl+c\n",
            "push ctrl+c\n",
            "push ctrl+c\n",
            "push ctrl+c\n",
            "push ctrl+c\n",
            "push ctrl+c\n",
            "push ctrl+c\n",
            "push ctrl+c\n",
            "push ctrl+c\n",
            "push ctrl+c\n",
            "push ctrl+c\n",
            "push ctrl+c\n",
            "push ctrl+c\n",
            "push ctrl+c\n",
            "push ctrl+c\n",
            "push ctrl+c\n",
            "push ctrl+c\n",
            "push ctrl+c\n",
            "push ctrl+c\n",
            "push ctrl+c\n",
            "push ctrl+c\n",
            "push ctrl+c\n",
            "push ctrl+c\n",
            "push ctrl+c\n",
            "push ctrl+c\n",
            "push ctrl+c\n",
            "push ctrl+c\n",
            "push ctrl+c\n",
            "push ctrl+c\n",
            "push ctrl+c\n",
            "push ctrl+c\n",
            "push ctrl+c\n",
            "push ctrl+c\n",
            "push ctrl+c\n",
            "push ctrl+c\n",
            "push ctrl+c\n",
            "push ctrl+c\n",
            "push ctrl+c\n",
            "push ctrl+c\n",
            "push ctrl+c\n",
            "push ctrl+c\n",
            "push ctrl+c\n",
            "push ctrl+c\n",
            "push ctrl+c\n",
            "push ctrl+c\n",
            "push ctrl+c\n",
            "push ctrl+c\n",
            "push ctrl+c\n",
            "push ctrl+c\n",
            "push ctrl+c\n",
            "push ctrl+c\n",
            "push ctrl+c\n",
            "push ctrl+c\n",
            "push ctrl+c\n",
            "push ctrl+c\n",
            "push ctrl+c\n",
            "push ctrl+c\n",
            "push ctrl+c\n",
            "push ctrl+c\n",
            "push ctrl+c\n",
            "push ctrl+c\n",
            "push ctrl+c\n",
            "push ctrl+c\n",
            "push ctrl+c\n",
            "push ctrl+c\n",
            "push ctrl+c\n",
            "push ctrl+c\n",
            "push ctrl+c\n",
            "push ctrl+c\n",
            "push ctrl+c\n",
            "push ctrl+c\n",
            "push ctrl+c\n",
            "push ctrl+c\n",
            "push ctrl+c\n",
            "push ctrl+c\n",
            "push ctrl+c\n",
            "push ctrl+c\n",
            "push ctrl+c\n",
            "push ctrl+c\n",
            "push ctrl+c\n",
            "push ctrl+c\n",
            "push ctrl+c\n",
            "push ctrl+c\n",
            "push ctrl+c\n",
            "push ctrl+c\n",
            "push ctrl+c\n",
            "push ctrl+c\n",
            "push ctrl+c\n",
            "push ctrl+c\n",
            "push ctrl+c\n",
            "push ctrl+c\n",
            "push ctrl+c\n",
            "push ctrl+c\n",
            "push ctrl+c\n",
            "push ctrl+c\n",
            "push ctrl+c\n",
            "push ctrl+c\n",
            "push ctrl+c\n",
            "push ctrl+c\n",
            "push ctrl+c\n",
            "push ctrl+c\n",
            "push ctrl+c\n",
            "push ctrl+c\n",
            "push ctrl+c\n",
            "push ctrl+c\n",
            "push ctrl+c\n",
            "push ctrl+c\n",
            "push ctrl+c\n",
            "push ctrl+c\n",
            "push ctrl+c\n",
            "push ctrl+c\n",
            "push ctrl+c\n",
            "push ctrl+c\n",
            "push ctrl+c\n",
            "push ctrl+c\n",
            "push ctrl+c\n",
            "push ctrl+c\n",
            "push ctrl+c\n",
            "push ctrl+c\n",
            "push ctrl+c\n",
            "push ctrl+c\n",
            "push ctrl+c\n",
            "push ctrl+c\n",
            "push ctrl+c\n",
            "push ctrl+c\n",
            "push ctrl+c\n",
            "push ctrl+c\n",
            "push ctrl+c\n",
            "push ctrl+c\n",
            "push ctrl+c\n",
            "push ctrl+c\n",
            "push ctrl+c\n",
            "push ctrl+c\n",
            "push ctrl+c\n",
            "push ctrl+c\n",
            "push ctrl+c\n",
            "push ctrl+c\n",
            "push ctrl+c\n",
            "push ctrl+c\n",
            "push ctrl+c\n",
            "push ctrl+c\n",
            "push ctrl+c\n",
            "push ctrl+c\n",
            "push ctrl+c\n",
            "push ctrl+c\n",
            "push ctrl+c\n",
            "push ctrl+c\n",
            "push ctrl+c\n",
            "push ctrl+c\n",
            "push ctrl+c\n",
            "push ctrl+c\n",
            "push ctrl+c\n",
            "push ctrl+c\n",
            "push ctrl+c\n",
            "push ctrl+c\n",
            "push ctrl+c\n",
            "push ctrl+c\n",
            "push ctrl+c\n",
            "push ctrl+c\n",
            "push ctrl+c\n",
            "push ctrl+c\n",
            "push ctrl+c\n",
            "push ctrl+c\n",
            "push ctrl+c\n",
            "push ctrl+c\n",
            "push ctrl+c\n",
            "push ctrl+c\n",
            "push ctrl+c\n",
            "push ctrl+c\n",
            "push ctrl+c\n",
            "push ctrl+c\n",
            "push ctrl+c\n",
            "push ctrl+c\n",
            "push ctrl+c\n",
            "push ctrl+c\n",
            "push ctrl+c\n",
            "push ctrl+c\n",
            "push ctrl+c\n",
            "push ctrl+c\n",
            "push ctrl+c\n",
            "push ctrl+c\n",
            "push ctrl+c\n",
            "push ctrl+c\n",
            "push ctrl+c\n",
            "push ctrl+c\n",
            "push ctrl+c\n",
            "push ctrl+c\n",
            "push ctrl+c\n",
            "push ctrl+c\n",
            "push ctrl+c\n",
            "push ctrl+c\n",
            "push ctrl+c\n",
            "push ctrl+c\n",
            "push ctrl+c\n",
            "push ctrl+c\n",
            "push ctrl+c\n",
            "push ctrl+c\n",
            "push ctrl+c\n",
            "push ctrl+c\n",
            "push ctrl+c\n",
            "push ctrl+c\n",
            "push ctrl+c\n",
            "push ctrl+c\n",
            "push ctrl+c\n",
            "push ctrl+c\n",
            "push ctrl+c\n",
            "push ctrl+c\n",
            "push ctrl+c\n",
            "push ctrl+c\n",
            "push ctrl+c\n",
            "push ctrl+c\n",
            "push ctrl+c\n",
            "push ctrl+c\n",
            "push ctrl+c\n",
            "push ctrl+c\n",
            "push ctrl+c\n",
            "push ctrl+c\n",
            "push ctrl+c\n",
            "push ctrl+c\n",
            "push ctrl+c\n",
            "push ctrl+c\n",
            "push ctrl+c\n",
            "push ctrl+c\n",
            "push ctrl+c\n",
            "push ctrl+c\n",
            "push ctrl+c\n",
            "push ctrl+c\n",
            "push ctrl+c\n",
            "push ctrl+c\n",
            "push ctrl+c\n",
            "push ctrl+c\n",
            "push ctrl+c\n",
            "push ctrl+c\n",
            "push ctrl+c\n",
            "push ctrl+c\n",
            "push ctrl+c\n",
            "push ctrl+c\n",
            "push ctrl+c\n",
            "push ctrl+c\n",
            "push ctrl+c\n",
            "push ctrl+c\n",
            "push ctrl+c\n",
            "push ctrl+c\n",
            "push ctrl+c\n",
            "push ctrl+c\n",
            "push ctrl+c\n",
            "push ctrl+c\n",
            "push ctrl+c\n",
            "push ctrl+c\n",
            "push ctrl+c\n",
            "push ctrl+c\n",
            "push ctrl+c\n",
            "push ctrl+c\n",
            "push ctrl+c\n",
            "push ctrl+c\n",
            "push ctrl+c\n",
            "push ctrl+c\n",
            "push ctrl+c\n",
            "push ctrl+c\n",
            "push ctrl+c\n",
            "push ctrl+c\n",
            "push ctrl+c\n",
            "push ctrl+c\n",
            "push ctrl+c\n",
            "push ctrl+c\n",
            "push ctrl+c\n",
            "push ctrl+c\n",
            "push ctrl+c\n",
            "push ctrl+c\n",
            "push ctrl+c\n",
            "push ctrl+c\n",
            "push ctrl+c\n",
            "push ctrl+c\n",
            "push ctrl+c\n",
            "push ctrl+c\n",
            "push ctrl+c\n",
            "push ctrl+c\n",
            "push ctrl+c\n",
            "push ctrl+c\n",
            "push ctrl+c\n",
            "push ctrl+c\n",
            "push ctrl+c\n",
            "push ctrl+c\n",
            "push ctrl+c\n",
            "push ctrl+c\n",
            "push ctrl+c\n",
            "push ctrl+c\n",
            "push ctrl+c\n",
            "push ctrl+c\n",
            "push ctrl+c\n",
            "push ctrl+c\n",
            "push ctrl+c\n",
            "push ctrl+c\n",
            "push ctrl+c\n",
            "push ctrl+c\n",
            "push ctrl+c\n",
            "push ctrl+c\n",
            "push ctrl+c\n",
            "push ctrl+c\n",
            "push ctrl+c\n",
            "push ctrl+c\n",
            "push ctrl+c\n",
            "push ctrl+c\n",
            "push ctrl+c\n",
            "push ctrl+c\n",
            "push ctrl+c\n",
            "push ctrl+c\n",
            "push ctrl+c\n",
            "push ctrl+c\n",
            "push ctrl+c\n",
            "push ctrl+c\n",
            "push ctrl+c\n",
            "push ctrl+c\n",
            "push ctrl+c\n",
            "push ctrl+c\n",
            "push ctrl+c\n",
            "push ctrl+c\n",
            "push ctrl+c\n",
            "push ctrl+c\n",
            "push ctrl+c\n",
            "push ctrl+c\n",
            "push ctrl+c\n",
            "push ctrl+c\n",
            "push ctrl+c\n",
            "push ctrl+c\n",
            "push ctrl+c\n",
            "push ctrl+c\n",
            "push ctrl+c\n",
            "push ctrl+c\n",
            "push ctrl+c\n",
            "push ctrl+c\n",
            "push ctrl+c\n",
            "push ctrl+c\n",
            "push ctrl+c\n",
            "push ctrl+c\n",
            "push ctrl+c\n",
            "push ctrl+c\n",
            "push ctrl+c\n",
            "push ctrl+c\n",
            "push ctrl+c\n",
            "push ctrl+c\n",
            "push ctrl+c\n",
            "push ctrl+c\n",
            "push ctrl+c\n",
            "push ctrl+c\n",
            "push ctrl+c\n",
            "push ctrl+c\n",
            "push ctrl+c\n",
            "push ctrl+c\n",
            "push ctrl+c\n",
            "push ctrl+c\n",
            "push ctrl+c\n",
            "push ctrl+c\n",
            "push ctrl+c\n",
            "push ctrl+c\n",
            "push ctrl+c\n",
            "push ctrl+c\n",
            "push ctrl+c\n",
            "push ctrl+c\n",
            "push ctrl+c\n",
            "push ctrl+c\n",
            "push ctrl+c\n",
            "push ctrl+c\n",
            "push ctrl+c\n",
            "push ctrl+c\n",
            "push ctrl+c\n",
            "push ctrl+c\n",
            "push ctrl+c\n",
            "push ctrl+c\n",
            "push ctrl+c\n",
            "push ctrl+c\n",
            "push ctrl+c\n",
            "push ctrl+c\n",
            "push ctrl+c\n",
            "push ctrl+c\n",
            "push ctrl+c\n",
            "push ctrl+c\n",
            "push ctrl+c\n",
            "push ctrl+c\n",
            "push ctrl+c\n",
            "push ctrl+c\n",
            "push ctrl+c\n",
            "push ctrl+c\n",
            "push ctrl+c\n",
            "push ctrl+c\n",
            "push ctrl+c\n",
            "push ctrl+c\n",
            "push ctrl+c\n",
            "push ctrl+c\n",
            "push ctrl+c\n",
            "push ctrl+c\n",
            "push ctrl+c\n",
            "push ctrl+c\n",
            "push ctrl+c\n",
            "push ctrl+c\n",
            "push ctrl+c\n",
            "push ctrl+c\n",
            "push ctrl+c\n",
            "push ctrl+c\n",
            "push ctrl+c\n",
            "push ctrl+c\n",
            "push ctrl+c\n",
            "push ctrl+c\n",
            "push ctrl+c\n",
            "push ctrl+c\n",
            "push ctrl+c\n",
            "push ctrl+c\n",
            "push ctrl+c\n",
            "push ctrl+c\n",
            "push ctrl+c\n",
            "push ctrl+c\n",
            "push ctrl+c\n",
            "push ctrl+c\n",
            "push ctrl+c\n",
            "push ctrl+c\n",
            "push ctrl+c\n",
            "push ctrl+c\n",
            "push ctrl+c\n",
            "push ctrl+c\n",
            "push ctrl+c\n",
            "push ctrl+c\n",
            "push ctrl+c\n",
            "push ctrl+c\n",
            "push ctrl+c\n",
            "push ctrl+c\n",
            "push ctrl+c\n",
            "push ctrl+c\n",
            "push ctrl+c\n",
            "push ctrl+c\n",
            "push ctrl+c\n",
            "push ctrl+c\n",
            "push ctrl+c\n",
            "push ctrl+c\n",
            "push ctrl+c\n",
            "push ctrl+c\n",
            "push ctrl+c\n",
            "push ctrl+c\n",
            "push ctrl+c\n",
            "push ctrl+c\n",
            "push ctrl+c\n",
            "push ctrl+c\n",
            "push ctrl+c\n",
            "push ctrl+c\n",
            "push ctrl+c\n",
            "push ctrl+c\n",
            "push ctrl+c\n",
            "push ctrl+c\n",
            "push ctrl+c\n",
            "push ctrl+c\n",
            "push ctrl+c\n",
            "push ctrl+c\n",
            "push ctrl+c\n",
            "push ctrl+c\n",
            "push ctrl+c\n",
            "push ctrl+c\n",
            "push ctrl+c\n",
            "push ctrl+c\n",
            "push ctrl+c\n",
            "push ctrl+c\n",
            "push ctrl+c\n",
            "push ctrl+c\n",
            "push ctrl+c\n",
            "push ctrl+c\n",
            "push ctrl+c\n",
            "push ctrl+c\n",
            "push ctrl+c\n",
            "push ctrl+c\n",
            "push ctrl+c\n",
            "push ctrl+c\n",
            "push ctrl+c\n",
            "push ctrl+c\n",
            "push ctrl+c\n",
            "push ctrl+c\n",
            "push ctrl+c\n",
            "push ctrl+c\n",
            "push ctrl+c\n",
            "push ctrl+c\n",
            "push ctrl+c\n",
            "push ctrl+c\n",
            "push ctrl+c\n",
            "push ctrl+c\n",
            "push ctrl+c\n",
            "push ctrl+c\n",
            "push ctrl+c\n",
            "push ctrl+c\n",
            "push ctrl+c\n",
            "push ctrl+c\n",
            "push ctrl+c\n",
            "push ctrl+c\n",
            "push ctrl+c\n",
            "push ctrl+c\n",
            "push ctrl+c\n",
            "push ctrl+c\n",
            "push ctrl+c\n",
            "push ctrl+c\n",
            "push ctrl+c\n",
            "push ctrl+c\n",
            "push ctrl+c\n",
            "push ctrl+c\n",
            "push ctrl+c\n",
            "push ctrl+c\n",
            "push ctrl+c\n",
            "push ctrl+c\n",
            "push ctrl+c\n",
            "push ctrl+c\n",
            "push ctrl+c\n",
            "push ctrl+c\n",
            "push ctrl+c\n",
            "push ctrl+c\n",
            "push ctrl+c\n",
            "push ctrl+c\n",
            "push ctrl+c\n",
            "push ctrl+c\n",
            "push ctrl+c\n",
            "push ctrl+c\n",
            "push ctrl+c\n",
            "push ctrl+c\n",
            "push ctrl+c\n",
            "push ctrl+c\n",
            "push ctrl+c\n",
            "push ctrl+c\n",
            "push ctrl+c\n",
            "push ctrl+c\n",
            "push ctrl+c\n",
            "push ctrl+c\n",
            "push ctrl+c\n",
            "push ctrl+c\n",
            "push ctrl+c\n",
            "push ctrl+c\n",
            "push ctrl+c\n",
            "push ctrl+c\n",
            "push ctrl+c\n",
            "push ctrl+c\n",
            "push ctrl+c\n",
            "push ctrl+c\n",
            "push ctrl+c\n",
            "push ctrl+c\n",
            "push ctrl+c\n",
            "push ctrl+c\n",
            "push ctrl+c\n",
            "push ctrl+c\n",
            "push ctrl+c\n",
            "push ctrl+c\n",
            "push ctrl+c\n",
            "push ctrl+c\n",
            "push ctrl+c\n",
            "push ctrl+c\n",
            "push ctrl+c\n",
            "push ctrl+c\n",
            "push ctrl+c\n",
            "push ctrl+c\n",
            "push ctrl+c\n",
            "push ctrl+c\n",
            "push ctrl+c\n",
            "push ctrl+c\n",
            "push ctrl+c\n",
            "push ctrl+c\n",
            "push ctrl+c\n",
            "push ctrl+c\n",
            "push ctrl+c\n",
            "push ctrl+c\n",
            "push ctrl+c\n",
            "push ctrl+c\n",
            "push ctrl+c\n",
            "push ctrl+c\n",
            "push ctrl+c\n",
            "push ctrl+c\n",
            "push ctrl+c\n",
            "push ctrl+c\n",
            "push ctrl+c\n",
            "push ctrl+c\n",
            "push ctrl+c\n",
            "push ctrl+c\n",
            "push ctrl+c\n",
            "push ctrl+c\n",
            "push ctrl+c\n",
            "push ctrl+c\n",
            "push ctrl+c\n",
            "push ctrl+c\n",
            "push ctrl+c\n",
            "push ctrl+c\n",
            "push ctrl+c\n",
            "push ctrl+c\n",
            "push ctrl+c\n",
            "push ctrl+c\n",
            "push ctrl+c\n",
            "push ctrl+c\n",
            "push ctrl+c\n",
            "push ctrl+c\n",
            "push ctrl+c\n",
            "push ctrl+c\n",
            "push ctrl+c\n",
            "push ctrl+c\n",
            "push ctrl+c\n",
            "push ctrl+c\n",
            "push ctrl+c\n",
            "push ctrl+c\n",
            "push ctrl+c\n",
            "push ctrl+c\n",
            "push ctrl+c\n",
            "push ctrl+c\n",
            "push ctrl+c\n",
            "push ctrl+c\n",
            "push ctrl+c\n",
            "push ctrl+c\n",
            "push ctrl+c\n",
            "push ctrl+c\n",
            "push ctrl+c\n",
            "push ctrl+c\n",
            "push ctrl+c\n",
            "push ctrl+c\n",
            "push ctrl+c\n",
            "push ctrl+c\n",
            "push ctrl+c\n",
            "push ctrl+c\n",
            "push ctrl+c\n",
            "push ctrl+c\n",
            "push ctrl+c\n",
            "push ctrl+c\n",
            "push ctrl+c\n",
            "push ctrl+c\n",
            "push ctrl+c\n",
            "push ctrl+c\n",
            "push ctrl+c\n",
            "push ctrl+c\n",
            "push ctrl+c\n",
            "push ctrl+c\n",
            "push ctrl+c\n",
            "push ctrl+c\n",
            "push ctrl+c\n",
            "push ctrl+c\n",
            "push ctrl+c\n",
            "push ctrl+c\n",
            "push ctrl+c\n",
            "push ctrl+c\n",
            "push ctrl+c\n",
            "push ctrl+c\n",
            "push ctrl+c\n",
            "push ctrl+c\n",
            "push ctrl+c\n",
            "push ctrl+c\n",
            "push ctrl+c\n",
            "push ctrl+c\n",
            "push ctrl+c\n",
            "push ctrl+c\n",
            "push ctrl+c\n",
            "push ctrl+c\n",
            "push ctrl+c\n",
            "push ctrl+c\n",
            "push ctrl+c\n",
            "push ctrl+c\n",
            "push ctrl+c\n",
            "push ctrl+c\n",
            "push ctrl+c\n",
            "push ctrl+c\n",
            "push ctrl+c\n",
            "push ctrl+c\n",
            "push ctrl+c\n",
            "push ctrl+c\n",
            "push ctrl+c\n",
            "push ctrl+c\n",
            "push ctrl+c\n",
            "push ctrl+c\n",
            "push ctrl+c\n",
            "push ctrl+c\n",
            "push ctrl+c\n",
            "push ctrl+c\n",
            "push ctrl+c\n",
            "push ctrl+c\n",
            "push ctrl+c\n",
            "push ctrl+c\n",
            "push ctrl+c\n",
            "push ctrl+c\n",
            "push ctrl+c\n",
            "push ctrl+c\n",
            "push ctrl+c\n",
            "push ctrl+c\n",
            "push ctrl+c\n",
            "push ctrl+c\n",
            "push ctrl+c\n",
            "push ctrl+c\n",
            "push ctrl+c\n",
            "push ctrl+c\n",
            "push ctrl+c\n",
            "push ctrl+c\n",
            "push ctrl+c\n",
            "push ctrl+c\n",
            "push ctrl+c\n",
            "push ctrl+c\n",
            "push ctrl+c\n",
            "push ctrl+c\n",
            "push ctrl+c\n",
            "push ctrl+c\n",
            "push ctrl+c\n",
            "push ctrl+c\n",
            "push ctrl+c\n",
            "push ctrl+c\n",
            "push ctrl+c\n",
            "push ctrl+c\n",
            "push ctrl+c\n",
            "push ctrl+c\n",
            "push ctrl+c\n",
            "push ctrl+c\n",
            "push ctrl+c\n",
            "push ctrl+c\n",
            "push ctrl+c\n",
            "push ctrl+c\n",
            "push ctrl+c\n",
            "push ctrl+c\n",
            "push ctrl+c\n",
            "push ctrl+c\n",
            "push ctrl+c\n",
            "push ctrl+c\n",
            "push ctrl+c\n",
            "push ctrl+c\n",
            "push ctrl+c\n",
            "push ctrl+c\n",
            "push ctrl+c\n",
            "push ctrl+c\n",
            "push ctrl+c\n",
            "push ctrl+c\n",
            "push ctrl+c\n",
            "push ctrl+c\n",
            "push ctrl+c\n",
            "push ctrl+c\n",
            "push ctrl+c\n",
            "push ctrl+c\n",
            "push ctrl+c\n",
            "push ctrl+c\n",
            "push ctrl+c\n",
            "push ctrl+c\n",
            "push ctrl+c\n",
            "push ctrl+c\n",
            "push ctrl+c\n",
            "push ctrl+c\n",
            "push ctrl+c\n",
            "push ctrl+c\n",
            "push ctrl+c\n",
            "push ctrl+c\n",
            "push ctrl+c\n",
            "push ctrl+c\n",
            "push ctrl+c\n",
            "push ctrl+c\n",
            "push ctrl+c\n",
            "push ctrl+c\n",
            "push ctrl+c\n",
            "push ctrl+c\n",
            "push ctrl+c\n",
            "push ctrl+c\n",
            "push ctrl+c\n",
            "push ctrl+c\n",
            "push ctrl+c\n",
            "push ctrl+c\n",
            "push ctrl+c\n",
            "push ctrl+c\n",
            "push ctrl+c\n",
            "push ctrl+c\n",
            "push ctrl+c\n",
            "push ctrl+c\n",
            "push ctrl+c\n",
            "push ctrl+c\n",
            "push ctrl+c\n",
            "push ctrl+c\n",
            "push ctrl+c\n",
            "push ctrl+c\n",
            "push ctrl+c\n",
            "push ctrl+c\n",
            "push ctrl+c\n",
            "push ctrl+c\n",
            "push ctrl+c\n",
            "push ctrl+c\n",
            "push ctrl+c\n",
            "push ctrl+c\n",
            "push ctrl+c\n",
            "push ctrl+c\n",
            "push ctrl+c\n",
            "push ctrl+c\n",
            "push ctrl+c\n",
            "push ctrl+c\n",
            "push ctrl+c\n",
            "push ctrl+c\n",
            "push ctrl+c\n",
            "push ctrl+c\n",
            "push ctrl+c\n",
            "push ctrl+c\n",
            "push ctrl+c\n",
            "push ctrl+c\n",
            "push ctrl+c\n",
            "push ctrl+c\n",
            "push ctrl+c\n",
            "push ctrl+c\n",
            "push ctrl+c\n",
            "push ctrl+c\n",
            "push ctrl+c\n",
            "push ctrl+c\n",
            "push ctrl+c\n",
            "push ctrl+c\n",
            "push ctrl+c\n",
            "push ctrl+c\n",
            "push ctrl+c\n",
            "push ctrl+c\n",
            "push ctrl+c\n",
            "push ctrl+c\n",
            "push ctrl+c\n",
            "push ctrl+c\n",
            "push ctrl+c\n",
            "push ctrl+c\n",
            "push ctrl+c\n",
            "push ctrl+c\n",
            "push ctrl+c\n",
            "push ctrl+c\n",
            "push ctrl+c\n",
            "push ctrl+c\n",
            "push ctrl+c\n",
            "push ctrl+c\n",
            "push ctrl+c\n",
            "push ctrl+c\n",
            "push ctrl+c\n",
            "push ctrl+c\n",
            "push ctrl+c\n",
            "push ctrl+c\n",
            "push ctrl+c\n",
            "push ctrl+c\n",
            "push ctrl+c\n",
            "push ctrl+c\n",
            "push ctrl+c\n",
            "push ctrl+c\n",
            "push ctrl+c\n",
            "push ctrl+c\n",
            "push ctrl+c\n",
            "push ctrl+c\n",
            "push ctrl+c\n",
            "push ctrl+c\n",
            "push ctrl+c\n",
            "push ctrl+c\n",
            "push ctrl+c\n",
            "push ctrl+c\n",
            "push ctrl+c\n",
            "push ctrl+c\n",
            "push ctrl+c\n",
            "push ctrl+c\n",
            "push ctrl+c\n",
            "push ctrl+c\n",
            "push ctrl+c\n",
            "push ctrl+c\n",
            "push ctrl+c\n",
            "push ctrl+c\n",
            "push ctrl+c\n",
            "push ctrl+c\n",
            "push ctrl+c\n",
            "push ctrl+c\n",
            "push ctrl+c\n",
            "push ctrl+c\n",
            "push ctrl+c\n",
            "push ctrl+c\n",
            "push ctrl+c\n",
            "push ctrl+c\n",
            "push ctrl+c\n",
            "push ctrl+c\n",
            "push ctrl+c\n",
            "push ctrl+c\n",
            "push ctrl+c\n",
            "push ctrl+c\n",
            "push ctrl+c\n",
            "push ctrl+c\n",
            "push ctrl+c\n",
            "push ctrl+c\n",
            "push ctrl+c\n",
            "push ctrl+c\n",
            "push ctrl+c\n",
            "push ctrl+c\n",
            "push ctrl+c\n",
            "push ctrl+c\n",
            "push ctrl+c\n",
            "push ctrl+c\n",
            "push ctrl+c\n",
            "push ctrl+c\n",
            "push ctrl+c\n",
            "push ctrl+c\n",
            "push ctrl+c\n",
            "push ctrl+c\n",
            "push ctrl+c\n",
            "push ctrl+c\n",
            "push ctrl+c\n",
            "push ctrl+c\n",
            "push ctrl+c\n",
            "push ctrl+c\n",
            "push ctrl+c\n",
            "push ctrl+c\n",
            "push ctrl+c\n",
            "push ctrl+c\n",
            "push ctrl+c\n",
            "push ctrl+c\n",
            "push ctrl+c\n",
            "push ctrl+c\n",
            "push ctrl+c\n",
            "push ctrl+c\n",
            "push ctrl+c\n",
            "push ctrl+c\n",
            "push ctrl+c\n",
            "push ctrl+c\n",
            "push ctrl+c\n",
            "push ctrl+c\n",
            "push ctrl+c\n",
            "push ctrl+c\n",
            "push ctrl+c\n",
            "push ctrl+c\n",
            "push ctrl+c\n",
            "push ctrl+c\n",
            "push ctrl+c\n",
            "push ctrl+c\n",
            "push ctrl+c\n",
            "push ctrl+c\n",
            "push ctrl+c\n",
            "push ctrl+c\n",
            "push ctrl+c\n",
            "push ctrl+c\n",
            "push ctrl+c\n",
            "push ctrl+c\n",
            "push ctrl+c\n",
            "push ctrl+c\n",
            "push ctrl+c\n",
            "push ctrl+c\n",
            "push ctrl+c\n",
            "push ctrl+c\n",
            "push ctrl+c\n",
            "push ctrl+c\n",
            "push ctrl+c\n",
            "push ctrl+c\n",
            "push ctrl+c\n",
            "push ctrl+c\n",
            "push ctrl+c\n",
            "push ctrl+c\n",
            "push ctrl+c\n",
            "push ctrl+c\n",
            "push ctrl+c\n",
            "push ctrl+c\n",
            "push ctrl+c\n",
            "push ctrl+c\n",
            "push ctrl+c\n",
            "push ctrl+c\n",
            "push ctrl+c\n",
            "push ctrl+c\n",
            "push ctrl+c\n",
            "push ctrl+c\n",
            "push ctrl+c\n",
            "push ctrl+c\n",
            "push ctrl+c\n",
            "push ctrl+c\n",
            "push ctrl+c\n",
            "push ctrl+c\n",
            "push ctrl+c\n",
            "push ctrl+c\n",
            "push ctrl+c\n",
            "push ctrl+c\n",
            "push ctrl+c\n",
            "push ctrl+c\n",
            "push ctrl+c\n",
            "push ctrl+c\n",
            "push ctrl+c\n",
            "push ctrl+c\n",
            "push ctrl+c\n",
            "push ctrl+c\n",
            "push ctrl+c\n",
            "push ctrl+c\n",
            "push ctrl+c\n",
            "push ctrl+c\n",
            "push ctrl+c\n",
            "push ctrl+c\n",
            "push ctrl+c\n",
            "push ctrl+c\n",
            "push ctrl+c\n",
            "push ctrl+c\n",
            "push ctrl+c\n",
            "push ctrl+c\n",
            "push ctrl+c\n",
            "push ctrl+c\n",
            "push ctrl+c\n",
            "push ctrl+c\n",
            "push ctrl+c\n",
            "push ctrl+c\n",
            "push ctrl+c\n",
            "push ctrl+c\n",
            "push ctrl+c\n",
            "push ctrl+c\n",
            "push ctrl+c\n",
            "push ctrl+c\n",
            "push ctrl+c\n",
            "push ctrl+c\n",
            "push ctrl+c\n",
            "push ctrl+c\n",
            "push ctrl+c\n",
            "push ctrl+c\n",
            "push ctrl+c\n",
            "push ctrl+c\n",
            "push ctrl+c\n",
            "push ctrl+c\n",
            "push ctrl+c\n",
            "push ctrl+c\n",
            "push ctrl+c\n",
            "push ctrl+c\n",
            "push ctrl+c\n",
            "push ctrl+c\n",
            "push ctrl+c\n",
            "push ctrl+c\n",
            "push ctrl+c\n",
            "push ctrl+c\n",
            "push ctrl+c\n",
            "push ctrl+c\n",
            "push ctrl+c\n",
            "push ctrl+c\n",
            "push ctrl+c\n",
            "push ctrl+c\n",
            "push ctrl+c\n",
            "push ctrl+c\n",
            "push ctrl+c\n",
            "push ctrl+c\n",
            "push ctrl+c\n",
            "push ctrl+c\n",
            "push ctrl+c\n",
            "push ctrl+c\n",
            "push ctrl+c\n",
            "push ctrl+c\n",
            "push ctrl+c\n",
            "push ctrl+c\n",
            "push ctrl+c\n",
            "push ctrl+c\n",
            "push ctrl+c\n",
            "push ctrl+c\n",
            "push ctrl+c\n",
            "push ctrl+c\n",
            "push ctrl+c\n",
            "push ctrl+c\n",
            "push ctrl+c\n",
            "push ctrl+c\n",
            "push ctrl+c\n",
            "push ctrl+c\n",
            "push ctrl+c\n",
            "push ctrl+c\n",
            "push ctrl+c\n",
            "push ctrl+c\n",
            "push ctrl+c\n",
            "push ctrl+c\n",
            "push ctrl+c\n",
            "push ctrl+c\n",
            "push ctrl+c\n",
            "push ctrl+c\n",
            "push ctrl+c\n",
            "push ctrl+c\n",
            "push ctrl+c\n",
            "push ctrl+c\n",
            "push ctrl+c\n",
            "push ctrl+c\n",
            "push ctrl+c\n",
            "push ctrl+c\n",
            "push ctrl+c\n",
            "push ctrl+c\n",
            "push ctrl+c\n",
            "push ctrl+c\n",
            "push ctrl+c\n",
            "push ctrl+c\n",
            "push ctrl+c\n",
            "push ctrl+c\n",
            "push ctrl+c\n",
            "push ctrl+c\n",
            "push ctrl+c\n",
            "push ctrl+c\n",
            "push ctrl+c\n",
            "push ctrl+c\n",
            "push ctrl+c\n",
            "push ctrl+c\n",
            "push ctrl+c\n",
            "push ctrl+c\n",
            "push ctrl+c\n",
            "push ctrl+c\n",
            "push ctrl+c\n",
            "push ctrl+c\n",
            "push ctrl+c\n",
            "push ctrl+c\n",
            "push ctrl+c\n",
            "push ctrl+c\n",
            "push ctrl+c\n",
            "push ctrl+c\n",
            "push ctrl+c\n",
            "push ctrl+c\n",
            "push ctrl+c\n",
            "push ctrl+c\n",
            "push ctrl+c\n",
            "push ctrl+c\n",
            "push ctrl+c\n",
            "push ctrl+c\n",
            "push ctrl+c\n",
            "push ctrl+c\n",
            "push ctrl+c\n",
            "push ctrl+c\n",
            "push ctrl+c\n",
            "push ctrl+c\n",
            "push ctrl+c\n",
            "push ctrl+c\n",
            "push ctrl+c\n",
            "push ctrl+c\n",
            "push ctrl+c\n",
            "push ctrl+c\n",
            "push ctrl+c\n",
            "push ctrl+c\n",
            "push ctrl+c\n",
            "push ctrl+c\n",
            "push ctrl+c\n",
            "push ctrl+c\n",
            "push ctrl+c\n",
            "push ctrl+c\n",
            "push ctrl+c\n",
            "push ctrl+c\n",
            "push ctrl+c\n",
            "push ctrl+c\n",
            "push ctrl+c\n",
            "push ctrl+c\n",
            "push ctrl+c\n",
            "push ctrl+c\n",
            "push ctrl+c\n",
            "push ctrl+c\n",
            "push ctrl+c\n",
            "push ctrl+c\n",
            "push ctrl+c\n",
            "push ctrl+c\n",
            "push ctrl+c\n",
            "push ctrl+c\n",
            "push ctrl+c\n",
            "push ctrl+c\n",
            "push ctrl+c\n",
            "push ctrl+c\n",
            "push ctrl+c\n",
            "push ctrl+c\n",
            "push ctrl+c\n",
            "push ctrl+c\n",
            "push ctrl+c\n",
            "push ctrl+c\n",
            "push ctrl+c\n",
            "push ctrl+c\n",
            "push ctrl+c\n",
            "push ctrl+c\n",
            "push ctrl+c\n",
            "push ctrl+c\n",
            "push ctrl+c\n",
            "push ctrl+c\n",
            "push ctrl+c\n",
            "push ctrl+c\n",
            "push ctrl+c\n",
            "push ctrl+c\n",
            "push ctrl+c\n",
            "push ctrl+c\n",
            "push ctrl+c\n",
            "push ctrl+c\n",
            "push ctrl+c\n",
            "push ctrl+c\n",
            "push ctrl+c\n",
            "push ctrl+c\n",
            "push ctrl+c\n",
            "push ctrl+c\n",
            "push ctrl+c\n",
            "push ctrl+c\n",
            "push ctrl+c\n",
            "push ctrl+c\n",
            "push ctrl+c\n",
            "push ctrl+c\n",
            "push ctrl+c\n",
            "push ctrl+c\n",
            "push ctrl+c\n",
            "push ctrl+c\n",
            "push ctrl+c\n",
            "push ctrl+c\n",
            "push ctrl+c\n",
            "push ctrl+c\n",
            "push ctrl+c\n",
            "push ctrl+c\n",
            "push ctrl+c\n",
            "push ctrl+c\n",
            "push ctrl+c\n",
            "push ctrl+c\n",
            "push ctrl+c\n",
            "push ctrl+c\n",
            "push ctrl+c\n",
            "push ctrl+c\n",
            "push ctrl+c\n",
            "push ctrl+c\n",
            "push ctrl+c\n",
            "push ctrl+c\n",
            "push ctrl+c\n",
            "push ctrl+c\n",
            "push ctrl+c\n",
            "push ctrl+c\n",
            "push ctrl+c\n",
            "push ctrl+c\n",
            "push ctrl+c\n",
            "push ctrl+c\n",
            "push ctrl+c\n",
            "push ctrl+c\n",
            "push ctrl+c\n",
            "push ctrl+c\n",
            "push ctrl+c\n",
            "push ctrl+c\n",
            "push ctrl+c\n",
            "push ctrl+c\n",
            "push ctrl+c\n",
            "push ctrl+c\n",
            "push ctrl+c\n",
            "push ctrl+c\n",
            "push ctrl+c\n",
            "push ctrl+c\n",
            "push ctrl+c\n",
            "push ctrl+c\n",
            "push ctrl+c\n",
            "push ctrl+c\n",
            "push ctrl+c\n",
            "push ctrl+c\n",
            "push ctrl+c\n",
            "push ctrl+c\n",
            "push ctrl+c\n",
            "push ctrl+c\n",
            "push ctrl+c\n",
            "push ctrl+c\n",
            "push ctrl+c\n",
            "push ctrl+c\n",
            "push ctrl+c\n",
            "push ctrl+c\n",
            "push ctrl+c\n",
            "push ctrl+c\n",
            "push ctrl+c\n",
            "push ctrl+c\n",
            "push ctrl+c\n",
            "push ctrl+c\n",
            "push ctrl+c\n",
            "push ctrl+c\n",
            "push ctrl+c\n",
            "push ctrl+c\n",
            "push ctrl+c\n",
            "push ctrl+c\n",
            "push ctrl+c\n",
            "push ctrl+c\n",
            "push ctrl+c\n",
            "push ctrl+c\n",
            "push ctrl+c\n",
            "push ctrl+c\n",
            "push ctrl+c\n",
            "push ctrl+c\n",
            "push ctrl+c\n",
            "push ctrl+c\n",
            "push ctrl+c\n",
            "push ctrl+c\n",
            "push ctrl+c\n",
            "push ctrl+c\n",
            "push ctrl+c\n",
            "push ctrl+c\n",
            "push ctrl+c\n",
            "push ctrl+c\n",
            "push ctrl+c\n",
            "push ctrl+c\n",
            "push ctrl+c\n",
            "push ctrl+c\n",
            "push ctrl+c\n",
            "push ctrl+c\n",
            "push ctrl+c\n",
            "push ctrl+c\n",
            "push ctrl+c\n",
            "push ctrl+c\n",
            "push ctrl+c\n",
            "push ctrl+c\n",
            "push ctrl+c\n",
            "push ctrl+c\n",
            "push ctrl+c\n",
            "push ctrl+c\n",
            "push ctrl+c\n",
            "push ctrl+c\n",
            "push ctrl+c\n",
            "push ctrl+c\n",
            "push ctrl+c\n",
            "push ctrl+c\n",
            "push ctrl+c\n",
            "push ctrl+c\n",
            "push ctrl+c\n",
            "push ctrl+c\n",
            "push ctrl+c\n",
            "push ctrl+c\n",
            "push ctrl+c\n",
            "push ctrl+c\n",
            "push ctrl+c\n",
            "push ctrl+c\n",
            "push ctrl+c\n",
            "push ctrl+c\n",
            "push ctrl+c\n",
            "push ctrl+c\n",
            "push ctrl+c\n",
            "push ctrl+c\n",
            "push ctrl+c\n",
            "push ctrl+c\n",
            "push ctrl+c\n",
            "push ctrl+c\n",
            "push ctrl+c\n",
            "push ctrl+c\n",
            "push ctrl+c\n",
            "push ctrl+c\n",
            "push ctrl+c\n",
            "push ctrl+c\n",
            "push ctrl+c\n",
            "push ctrl+c\n",
            "push ctrl+c\n",
            "push ctrl+c\n",
            "push ctrl+c\n",
            "push ctrl+c\n",
            "push ctrl+c\n",
            "push ctrl+c\n",
            "push ctrl+c\n",
            "push ctrl+c\n",
            "push ctrl+c\n",
            "push ctrl+c\n",
            "push ctrl+c\n",
            "push ctrl+c\n",
            "push ctrl+c\n",
            "push ctrl+c\n",
            "push ctrl+c\n",
            "push ctrl+c\n",
            "push ctrl+c\n",
            "push ctrl+c\n",
            "push ctrl+c\n",
            "push ctrl+c\n",
            "push ctrl+c\n",
            "push ctrl+c\n",
            "push ctrl+c\n",
            "push ctrl+c\n",
            "push ctrl+c\n",
            "push ctrl+c\n",
            "push ctrl+c\n",
            "push ctrl+c\n",
            "push ctrl+c\n",
            "push ctrl+c\n",
            "push ctrl+c\n",
            "push ctrl+c\n",
            "push ctrl+c\n",
            "push ctrl+c\n",
            "push ctrl+c\n",
            "push ctrl+c\n",
            "push ctrl+c\n",
            "push ctrl+c\n",
            "push ctrl+c\n",
            "push ctrl+c\n",
            "push ctrl+c\n",
            "push ctrl+c\n",
            "push ctrl+c\n",
            "push ctrl+c\n",
            "push ctrl+c\n",
            "push ctrl+c\n",
            "push ctrl+c\n",
            "push ctrl+c\n",
            "push ctrl+c\n",
            "push ctrl+c\n",
            "push ctrl+c\n",
            "push ctrl+c\n",
            "push ctrl+c\n",
            "push ctrl+c\n",
            "push ctrl+c\n",
            "push ctrl+c\n",
            "push ctrl+c\n",
            "push ctrl+c\n",
            "push ctrl+c\n",
            "push ctrl+c\n",
            "push ctrl+c\n",
            "push ctrl+c\n",
            "push ctrl+c\n",
            "push ctrl+c\n",
            "push ctrl+c\n",
            "push ctrl+c\n",
            "push ctrl+c\n",
            "push ctrl+c\n",
            "push ctrl+c\n",
            "push ctrl+c\n",
            "push ctrl+c\n",
            "push ctrl+c\n",
            "push ctrl+c\n",
            "push ctrl+c\n",
            "push ctrl+c\n",
            "push ctrl+c\n",
            "push ctrl+c\n",
            "push ctrl+c\n",
            "push ctrl+c\n",
            "push ctrl+c\n",
            "push ctrl+c\n",
            "push ctrl+c\n",
            "push ctrl+c\n",
            "push ctrl+c\n",
            "push ctrl+c\n",
            "push ctrl+c\n",
            "push ctrl+c\n",
            "push ctrl+c\n",
            "push ctrl+c\n",
            "push ctrl+c\n",
            "push ctrl+c\n",
            "push ctrl+c\n",
            "push ctrl+c\n",
            "push ctrl+c\n",
            "push ctrl+c\n",
            "push ctrl+c\n",
            "push ctrl+c\n",
            "push ctrl+c\n",
            "push ctrl+c\n",
            "push ctrl+c\n",
            "push ctrl+c\n",
            "push ctrl+c\n",
            "push ctrl+c\n",
            "push ctrl+c\n",
            "push ctrl+c\n",
            "push ctrl+c\n",
            "push ctrl+c\n",
            "push ctrl+c\n",
            "push ctrl+c\n",
            "push ctrl+c\n",
            "push ctrl+c\n",
            "push ctrl+c\n",
            "push ctrl+c\n",
            "push ctrl+c\n",
            "push ctrl+c\n",
            "push ctrl+c\n",
            "push ctrl+c\n",
            "push ctrl+c\n",
            "push ctrl+c\n",
            "push ctrl+c\n",
            "push ctrl+c\n",
            "push ctrl+c\n",
            "push ctrl+c\n",
            "push ctrl+c\n",
            "push ctrl+c\n",
            "push ctrl+c\n",
            "push ctrl+c\n",
            "push ctrl+c\n",
            "push ctrl+c\n",
            "push ctrl+c\n",
            "push ctrl+c\n",
            "push ctrl+c\n",
            "push ctrl+c\n",
            "push ctrl+c\n",
            "push ctrl+c\n",
            "push ctrl+c\n",
            "push ctrl+c\n",
            "push ctrl+c\n",
            "push ctrl+c\n",
            "push ctrl+c\n",
            "push ctrl+c\n",
            "push ctrl+c\n",
            "push ctrl+c\n",
            "push ctrl+c\n",
            "push ctrl+c\n",
            "push ctrl+c\n",
            "push ctrl+c\n",
            "push ctrl+c\n",
            "push ctrl+c\n",
            "push ctrl+c\n",
            "push ctrl+c\n",
            "push ctrl+c\n",
            "push ctrl+c\n",
            "push ctrl+c\n",
            "push ctrl+c\n",
            "push ctrl+c\n",
            "push ctrl+c\n",
            "push ctrl+c\n",
            "push ctrl+c\n",
            "push ctrl+c\n",
            "push ctrl+c\n",
            "push ctrl+c\n",
            "push ctrl+c\n",
            "push ctrl+c\n",
            "push ctrl+c\n",
            "push ctrl+c\n",
            "push ctrl+c\n",
            "push ctrl+c\n",
            "push ctrl+c\n",
            "push ctrl+c\n",
            "push ctrl+c\n",
            "push ctrl+c\n",
            "push ctrl+c\n",
            "push ctrl+c\n",
            "push ctrl+c\n",
            "push ctrl+c\n",
            "push ctrl+c\n",
            "push ctrl+c\n",
            "push ctrl+c\n",
            "push ctrl+c\n",
            "push ctrl+c\n",
            "push ctrl+c\n",
            "push ctrl+c\n",
            "push ctrl+c\n",
            "push ctrl+c\n",
            "push ctrl+c\n",
            "push ctrl+c\n",
            "push ctrl+c\n",
            "push ctrl+c\n",
            "push ctrl+c\n",
            "push ctrl+c\n",
            "push ctrl+c\n",
            "push ctrl+c\n",
            "push ctrl+c\n",
            "push ctrl+c\n",
            "push ctrl+c\n",
            "push ctrl+c\n",
            "push ctrl+c\n",
            "push ctrl+c\n",
            "push ctrl+c\n",
            "push ctrl+c\n",
            "push ctrl+c\n",
            "push ctrl+c\n",
            "push ctrl+c\n",
            "push ctrl+c\n",
            "push ctrl+c\n",
            "push ctrl+c\n",
            "push ctrl+c\n",
            "push ctrl+c\n",
            "push ctrl+c\n",
            "push ctrl+c\n",
            "push ctrl+c\n",
            "push ctrl+c\n",
            "push ctrl+c\n",
            "push ctrl+c\n",
            "push ctrl+c\n",
            "push ctrl+c\n",
            "push ctrl+c\n",
            "push ctrl+c\n",
            "push ctrl+c\n",
            "push ctrl+c\n",
            "push ctrl+c\n",
            "push ctrl+c\n",
            "push ctrl+c\n",
            "push ctrl+c\n",
            "push ctrl+c\n",
            "push ctrl+c\n",
            "push ctrl+c\n",
            "push ctrl+c\n",
            "push ctrl+c\n",
            "push ctrl+c\n",
            "push ctrl+c\n",
            "push ctrl+c\n",
            "push ctrl+c\n",
            "push ctrl+c\n",
            "push ctrl+c\n",
            "push ctrl+c\n",
            "push ctrl+c\n",
            "push ctrl+c\n",
            "push ctrl+c\n",
            "push ctrl+c\n",
            "push ctrl+c\n",
            "push ctrl+c\n",
            "push ctrl+c\n",
            "push ctrl+c\n",
            "push ctrl+c\n",
            "push ctrl+c\n",
            "push ctrl+c\n",
            "push ctrl+c\n",
            "push ctrl+c\n",
            "push ctrl+c\n",
            "push ctrl+c\n",
            "push ctrl+c\n",
            "push ctrl+c\n",
            "push ctrl+c\n",
            "push ctrl+c\n",
            "push ctrl+c\n",
            "push ctrl+c\n",
            "push ctrl+c\n",
            "push ctrl+c\n",
            "push ctrl+c\n",
            "push ctrl+c\n",
            "push ctrl+c\n",
            "push ctrl+c\n",
            "push ctrl+c\n",
            "push ctrl+c\n",
            "push ctrl+c\n",
            "push ctrl+c\n",
            "push ctrl+c\n",
            "push ctrl+c\n",
            "push ctrl+c\n",
            "push ctrl+c\n",
            "push ctrl+c\n",
            "push ctrl+c\n",
            "push ctrl+c\n",
            "push ctrl+c\n",
            "push ctrl+c\n",
            "push ctrl+c\n",
            "push ctrl+c\n",
            "push ctrl+c\n",
            "push ctrl+c\n",
            "push ctrl+c\n",
            "push ctrl+c\n",
            "push ctrl+c\n",
            "push ctrl+c\n",
            "push ctrl+c\n",
            "push ctrl+c\n",
            "push ctrl+c\n",
            "push ctrl+c\n",
            "push ctrl+c\n",
            "push ctrl+c\n",
            "push ctrl+c\n",
            "push ctrl+c\n",
            "push ctrl+c\n",
            "push ctrl+c\n",
            "push ctrl+c\n",
            "push ctrl+c\n",
            "push ctrl+c\n",
            "push ctrl+c\n",
            "push ctrl+c\n",
            "push ctrl+c\n",
            "push ctrl+c\n",
            "push ctrl+c\n",
            "push ctrl+c\n",
            "push ctrl+c\n",
            "push ctrl+c\n",
            "push ctrl+c\n",
            "push ctrl+c\n",
            "push ctrl+c\n",
            "push ctrl+c\n",
            "push ctrl+c\n",
            "push ctrl+c\n",
            "push ctrl+c\n",
            "push ctrl+c\n",
            "push ctrl+c\n",
            "push ctrl+c\n",
            "push ctrl+c\n",
            "push ctrl+c\n",
            "push ctrl+c\n",
            "push ctrl+c\n",
            "push ctrl+c\n",
            "push ctrl+c\n",
            "push ctrl+c\n",
            "push ctrl+c\n",
            "push ctrl+c\n",
            "push ctrl+c\n",
            "push ctrl+c\n",
            "push ctrl+c\n",
            "push ctrl+c\n",
            "push ctrl+c\n",
            "push ctrl+c\n",
            "push ctrl+c\n",
            "push ctrl+c\n",
            "push ctrl+c\n",
            "push ctrl+c\n",
            "push ctrl+c\n",
            "push ctrl+c\n",
            "push ctrl+c\n",
            "push ctrl+c\n",
            "push ctrl+c\n",
            "push ctrl+c\n",
            "push ctrl+c\n",
            "push ctrl+c\n",
            "push ctrl+c\n",
            "push ctrl+c\n",
            "push ctrl+c\n",
            "push ctrl+c\n",
            "push ctrl+c\n",
            "push ctrl+c\n",
            "push ctrl+c\n",
            "push ctrl+c\n",
            "push ctrl+c\n",
            "push ctrl+c\n",
            "push ctrl+c\n",
            "push ctrl+c\n",
            "push ctrl+c\n",
            "push ctrl+c\n",
            "push ctrl+c\n",
            "push ctrl+c\n",
            "push ctrl+c\n",
            "push ctrl+c\n",
            "push ctrl+c\n",
            "push ctrl+c\n",
            "push ctrl+c\n",
            "push ctrl+c\n",
            "push ctrl+c\n",
            "push ctrl+c\n",
            "push ctrl+c\n",
            "push ctrl+c\n",
            "push ctrl+c\n",
            "push ctrl+c\n",
            "push ctrl+c\n",
            "push ctrl+c\n",
            "push ctrl+c\n",
            "push ctrl+c\n",
            "push ctrl+c\n",
            "push ctrl+c\n",
            "push ctrl+c\n",
            "push ctrl+c\n",
            "push ctrl+c\n",
            "push ctrl+c\n",
            "push ctrl+c\n",
            "push ctrl+c\n",
            "push ctrl+c\n",
            "push ctrl+c\n",
            "push ctrl+c\n",
            "push ctrl+c\n",
            "push ctrl+c\n",
            "push ctrl+c\n",
            "push ctrl+c\n",
            "push ctrl+c\n",
            "push ctrl+c\n",
            "push ctrl+c\n",
            "push ctrl+c\n",
            "push ctrl+c\n",
            "push ctrl+c\n",
            "push ctrl+c\n",
            "push ctrl+c\n",
            "push ctrl+c\n",
            "push ctrl+c\n",
            "push ctrl+c\n",
            "push ctrl+c\n",
            "push ctrl+c\n",
            "push ctrl+c\n",
            "push ctrl+c\n",
            "push ctrl+c\n",
            "push ctrl+c\n",
            "push ctrl+c\n",
            "push ctrl+c\n",
            "push ctrl+c\n",
            "push ctrl+c\n",
            "push ctrl+c\n",
            "push ctrl+c\n",
            "push ctrl+c\n",
            "push ctrl+c\n",
            "push ctrl+c\n",
            "push ctrl+c\n",
            "push ctrl+c\n",
            "push ctrl+c\n",
            "push ctrl+c\n",
            "push ctrl+c\n",
            "push ctrl+c\n",
            "push ctrl+c\n",
            "push ctrl+c\n",
            "push ctrl+c\n",
            "push ctrl+c\n",
            "push ctrl+c\n",
            "push ctrl+c\n",
            "push ctrl+c\n",
            "push ctrl+c\n",
            "push ctrl+c\n",
            "push ctrl+c\n",
            "push ctrl+c\n",
            "push ctrl+c\n",
            "push ctrl+c\n",
            "push ctrl+c\n",
            "push ctrl+c\n",
            "push ctrl+c\n",
            "push ctrl+c\n",
            "push ctrl+c\n",
            "push ctrl+c\n",
            "push ctrl+c\n",
            "push ctrl+c\n",
            "push ctrl+c\n",
            "push ctrl+c\n",
            "push ctrl+c\n",
            "push ctrl+c\n",
            "push ctrl+c\n",
            "push ctrl+c\n",
            "push ctrl+c\n",
            "push ctrl+c\n",
            "push ctrl+c\n",
            "push ctrl+c\n",
            "push ctrl+c\n",
            "push ctrl+c\n",
            "push ctrl+c\n",
            "push ctrl+c\n",
            "push ctrl+c\n",
            "push ctrl+c\n",
            "push ctrl+c\n",
            "push ctrl+c\n",
            "push ctrl+c\n",
            "push ctrl+c\n",
            "push ctrl+c\n",
            "push ctrl+c\n",
            "push ctrl+c\n",
            "push ctrl+c\n",
            "push ctrl+c\n",
            "push ctrl+c\n",
            "push ctrl+c\n",
            "push ctrl+c\n",
            "push ctrl+c\n",
            "push ctrl+c\n",
            "push ctrl+c\n",
            "push ctrl+c\n",
            "push ctrl+c\n",
            "push ctrl+c\n",
            "push ctrl+c\n",
            "push ctrl+c\n",
            "push ctrl+c\n",
            "push ctrl+c\n",
            "push ctrl+c\n",
            "push ctrl+c\n",
            "push ctrl+c\n",
            "push ctrl+c\n",
            "push ctrl+c\n",
            "push ctrl+c\n",
            "push ctrl+c\n",
            "push ctrl+c\n",
            "push ctrl+c\n",
            "push ctrl+c\n",
            "push ctrl+c\n",
            "push ctrl+c\n",
            "push ctrl+c\n",
            "push ctrl+c\n",
            "push ctrl+c\n",
            "push ctrl+c\n",
            "push ctrl+c\n",
            "push ctrl+c\n",
            "push ctrl+c\n",
            "push ctrl+c\n",
            "push ctrl+c\n",
            "push ctrl+c\n",
            "push ctrl+c\n",
            "push ctrl+c\n",
            "push ctrl+c\n",
            "push ctrl+c\n",
            "push ctrl+c\n",
            "push ctrl+c\n",
            "push ctrl+c\n",
            "push ctrl+c\n",
            "push ctrl+c\n",
            "push ctrl+c\n",
            "push ctrl+c\n",
            "push ctrl+c\n",
            "push ctrl+c\n",
            "push ctrl+c\n",
            "push ctrl+c\n",
            "push ctrl+c\n",
            "push ctrl+c\n",
            "push ctrl+c\n",
            "push ctrl+c\n",
            "push ctrl+c\n",
            "push ctrl+c\n",
            "push ctrl+c\n",
            "push ctrl+c\n",
            "push ctrl+c\n",
            "push ctrl+c\n",
            "push ctrl+c\n",
            "push ctrl+c\n",
            "push ctrl+c\n",
            "push ctrl+c\n",
            "push ctrl+c\n",
            "push ctrl+c\n",
            "push ctrl+c\n",
            "push ctrl+c\n",
            "push ctrl+c\n",
            "push ctrl+c\n",
            "push ctrl+c\n",
            "push ctrl+c\n",
            "push ctrl+c\n",
            "push ctrl+c\n",
            "push ctrl+c\n",
            "push ctrl+c\n",
            "push ctrl+c\n",
            "push ctrl+c\n",
            "push ctrl+c\n",
            "push ctrl+c\n",
            "push ctrl+c\n",
            "push ctrl+c\n",
            "push ctrl+c\n",
            "push ctrl+c\n",
            "push ctrl+c\n",
            "push ctrl+c\n",
            "push ctrl+c\n",
            "push ctrl+c\n",
            "push ctrl+c\n",
            "push ctrl+c\n",
            "push ctrl+c\n",
            "push ctrl+c\n",
            "push ctrl+c\n",
            "push ctrl+c\n",
            "push ctrl+c\n",
            "push ctrl+c\n",
            "push ctrl+c\n",
            "push ctrl+c\n",
            "push ctrl+c\n",
            "push ctrl+c\n",
            "push ctrl+c\n",
            "push ctrl+c\n",
            "push ctrl+c\n",
            "push ctrl+c\n",
            "push ctrl+c\n",
            "push ctrl+c\n",
            "push ctrl+c\n",
            "push ctrl+c\n",
            "push ctrl+c\n",
            "push ctrl+c\n",
            "push ctrl+c\n",
            "push ctrl+c\n",
            "push ctrl+c\n",
            "push ctrl+c\n",
            "push ctrl+c\n",
            "push ctrl+c\n",
            "push ctrl+c\n",
            "push ctrl+c\n",
            "push ctrl+c\n",
            "push ctrl+c\n",
            "push ctrl+c\n",
            "push ctrl+c\n",
            "push ctrl+c\n",
            "push ctrl+c\n",
            "push ctrl+c\n",
            "push ctrl+c\n",
            "push ctrl+c\n",
            "push ctrl+c\n",
            "push ctrl+c\n",
            "push ctrl+c\n",
            "push ctrl+c\n",
            "push ctrl+c\n",
            "push ctrl+c\n",
            "push ctrl+c\n",
            "push ctrl+c\n",
            "push ctrl+c\n",
            "push ctrl+c\n",
            "push ctrl+c\n",
            "push ctrl+c\n",
            "push ctrl+c\n",
            "push ctrl+c\n",
            "push ctrl+c\n",
            "push ctrl+c\n",
            "push ctrl+c\n",
            "push ctrl+c\n",
            "push ctrl+c\n",
            "push ctrl+c\n",
            "push ctrl+c\n",
            "push ctrl+c\n",
            "push ctrl+c\n",
            "push ctrl+c\n",
            "push ctrl+c\n",
            "push ctrl+c\n",
            "push ctrl+c\n",
            "push ctrl+c\n",
            "push ctrl+c\n",
            "push ctrl+c\n",
            "push ctrl+c\n",
            "push ctrl+c\n",
            "push ctrl+c\n",
            "push ctrl+c\n",
            "push ctrl+c\n",
            "push ctrl+c\n",
            "push ctrl+c\n",
            "push ctrl+c\n",
            "push ctrl+c\n",
            "push ctrl+c\n",
            "push ctrl+c\n",
            "push ctrl+c\n",
            "push ctrl+c\n",
            "push ctrl+c\n",
            "push ctrl+c\n",
            "push ctrl+c\n",
            "push ctrl+c\n",
            "push ctrl+c\n",
            "push ctrl+c\n",
            "push ctrl+c\n",
            "push ctrl+c\n",
            "push ctrl+c\n",
            "push ctrl+c\n",
            "push ctrl+c\n",
            "push ctrl+c\n",
            "push ctrl+c\n",
            "push ctrl+c\n",
            "push ctrl+c\n",
            "push ctrl+c\n",
            "push ctrl+c\n",
            "push ctrl+c\n",
            "push ctrl+c\n",
            "push ctrl+c\n",
            "push ctrl+c\n",
            "push ctrl+c\n",
            "push ctrl+c\n",
            "push ctrl+c\n",
            "push ctrl+c\n",
            "push ctrl+c\n",
            "push ctrl+c\n",
            "push ctrl+c\n",
            "push ctrl+c\n",
            "push ctrl+c\n",
            "push ctrl+c\n",
            "push ctrl+c\n",
            "push ctrl+c\n",
            "push ctrl+c\n",
            "push ctrl+c\n",
            "push ctrl+c\n",
            "push ctrl+c\n",
            "push ctrl+c\n",
            "push ctrl+c\n",
            "push ctrl+c\n",
            "push ctrl+c\n",
            "push ctrl+c\n",
            "push ctrl+c\n",
            "push ctrl+c\n",
            "push ctrl+c\n",
            "push ctrl+c\n",
            "push ctrl+c\n",
            "push ctrl+c\n",
            "push ctrl+c\n",
            "push ctrl+c\n",
            "push ctrl+c\n",
            "push ctrl+c\n",
            "push ctrl+c\n",
            "push ctrl+c\n",
            "push ctrl+c\n",
            "push ctrl+c\n",
            "push ctrl+c\n",
            "push ctrl+c\n",
            "push ctrl+c\n",
            "push ctrl+c\n",
            "push ctrl+c\n",
            "push ctrl+c\n",
            "push ctrl+c\n",
            "push ctrl+c\n",
            "push ctrl+c\n",
            "push ctrl+c\n",
            "push ctrl+c\n",
            "push ctrl+c\n",
            "push ctrl+c\n",
            "push ctrl+c\n",
            "push ctrl+c\n",
            "push ctrl+c\n",
            "push ctrl+c\n",
            "push ctrl+c\n",
            "push ctrl+c\n",
            "push ctrl+c\n",
            "push ctrl+c\n",
            "push ctrl+c\n",
            "push ctrl+c\n",
            "push ctrl+c\n",
            "push ctrl+c\n",
            "push ctrl+c\n",
            "push ctrl+c\n",
            "push ctrl+c\n",
            "push ctrl+c\n",
            "push ctrl+c\n",
            "push ctrl+c\n",
            "push ctrl+c\n",
            "push ctrl+c\n",
            "push ctrl+c\n",
            "push ctrl+c\n",
            "push ctrl+c\n",
            "push ctrl+c\n",
            "push ctrl+c\n",
            "push ctrl+c\n",
            "push ctrl+c\n",
            "push ctrl+c\n",
            "push ctrl+c\n",
            "push ctrl+c\n",
            "push ctrl+c\n",
            "push ctrl+c\n",
            "push ctrl+c\n",
            "push ctrl+c\n",
            "push ctrl+c\n",
            "push ctrl+c\n",
            "push ctrl+c\n",
            "push ctrl+c\n",
            "push ctrl+c\n",
            "push ctrl+c\n",
            "push ctrl+c\n",
            "push ctrl+c\n",
            "push ctrl+c\n",
            "push ctrl+c\n",
            "push ctrl+c\n",
            "push ctrl+c\n",
            "push ctrl+c\n",
            "push ctrl+c\n",
            "push ctrl+c\n",
            "push ctrl+c\n",
            "push ctrl+c\n",
            "push ctrl+c\n",
            "push ctrl+c\n",
            "push ctrl+c\n",
            "push ctrl+c\n",
            "push ctrl+c\n",
            "push ctrl+c\n",
            "push ctrl+c\n",
            "push ctrl+c\n",
            "push ctrl+c\n",
            "push ctrl+c\n",
            "push ctrl+c\n",
            "push ctrl+c\n",
            "push ctrl+c\n",
            "push ctrl+c\n",
            "push ctrl+c\n",
            "push ctrl+c\n",
            "push ctrl+c\n",
            "push ctrl+c\n",
            "push ctrl+c\n",
            "push ctrl+c\n",
            "push ctrl+c\n",
            "push ctrl+c\n",
            "push ctrl+c\n",
            "push ctrl+c\n",
            "push ctrl+c\n",
            "push ctrl+c\n",
            "push ctrl+c\n",
            "push ctrl+c\n",
            "push ctrl+c\n",
            "push ctrl+c\n",
            "push ctrl+c\n",
            "push ctrl+c\n",
            "push ctrl+c\n",
            "push ctrl+c\n",
            "push ctrl+c\n",
            "push ctrl+c\n",
            "push ctrl+c\n",
            "push ctrl+c\n",
            "push ctrl+c\n",
            "push ctrl+c\n",
            "push ctrl+c\n",
            "push ctrl+c\n",
            "push ctrl+c\n",
            "push ctrl+c\n",
            "push ctrl+c\n",
            "push ctrl+c\n",
            "push ctrl+c\n",
            "push ctrl+c\n",
            "push ctrl+c\n",
            "push ctrl+c\n",
            "push ctrl+c\n",
            "push ctrl+c\n",
            "push ctrl+c\n",
            "push ctrl+c\n",
            "push ctrl+c\n",
            "push ctrl+c\n",
            "push ctrl+c\n",
            "push ctrl+c\n",
            "push ctrl+c\n",
            "push ctrl+c\n",
            "push ctrl+c\n",
            "push ctrl+c\n",
            "push ctrl+c\n",
            "push ctrl+c\n",
            "push ctrl+c\n",
            "push ctrl+c\n",
            "push ctrl+c\n",
            "push ctrl+c\n",
            "push ctrl+c\n",
            "push ctrl+c\n",
            "push ctrl+c\n",
            "push ctrl+c\n",
            "push ctrl+c\n",
            "push ctrl+c\n",
            "push ctrl+c\n",
            "push ctrl+c\n",
            "push ctrl+c\n",
            "push ctrl+c\n",
            "push ctrl+c\n",
            "push ctrl+c\n",
            "push ctrl+c\n",
            "push ctrl+c\n",
            "push ctrl+c\n",
            "push ctrl+c\n",
            "push ctrl+c\n",
            "push ctrl+c\n",
            "push ctrl+c\n",
            "push ctrl+c\n",
            "push ctrl+c\n",
            "push ctrl+c\n",
            "push ctrl+c\n",
            "push ctrl+c\n",
            "push ctrl+c\n",
            "push ctrl+c\n",
            "push ctrl+c\n",
            "push ctrl+c\n",
            "push ctrl+c\n",
            "push ctrl+c\n",
            "push ctrl+c\n",
            "push ctrl+c\n",
            "push ctrl+c\n",
            "push ctrl+c\n",
            "push ctrl+c\n",
            "push ctrl+c\n",
            "push ctrl+c\n",
            "push ctrl+c\n",
            "push ctrl+c\n",
            "push ctrl+c\n",
            "push ctrl+c\n",
            "push ctrl+c\n",
            "push ctrl+c\n",
            "push ctrl+c\n",
            "push ctrl+c\n",
            "push ctrl+c\n",
            "push ctrl+c\n",
            "push ctrl+c\n",
            "push ctrl+c\n",
            "push ctrl+c\n",
            "push ctrl+c\n",
            "push ctrl+c\n",
            "push ctrl+c\n",
            "push ctrl+c\n",
            "push ctrl+c\n",
            "push ctrl+c\n",
            "push ctrl+c\n",
            "push ctrl+c\n",
            "push ctrl+c\n",
            "push ctrl+c\n",
            "push ctrl+c\n",
            "push ctrl+c\n",
            "push ctrl+c\n",
            "push ctrl+c\n",
            "push ctrl+c\n",
            "push ctrl+c\n",
            "push ctrl+c\n",
            "push ctrl+c\n",
            "push ctrl+c\n",
            "push ctrl+c\n",
            "push ctrl+c\n",
            "push ctrl+c\n",
            "push ctrl+c\n",
            "push ctrl+c\n",
            "push ctrl+c\n",
            "push ctrl+c\n",
            "push ctrl+c\n",
            "push ctrl+c\n",
            "push ctrl+c\n",
            "push ctrl+c\n",
            "push ctrl+c\n",
            "push ctrl+c\n",
            "push ctrl+c\n",
            "push ctrl+c\n",
            "push ctrl+c\n",
            "push ctrl+c\n",
            "push ctrl+c\n",
            "push ctrl+c\n",
            "push ctrl+c\n",
            "push ctrl+c\n",
            "push ctrl+c\n",
            "push ctrl+c\n",
            "push ctrl+c\n",
            "push ctrl+c\n",
            "push ctrl+c\n",
            "push ctrl+c\n",
            "push ctrl+c\n",
            "push ctrl+c\n",
            "push ctrl+c\n",
            "push ctrl+c\n",
            "push ctrl+c\n",
            "push ctrl+c\n",
            "push ctrl+c\n",
            "push ctrl+c\n",
            "push ctrl+c\n",
            "push ctrl+c\n",
            "push ctrl+c\n",
            "push ctrl+c\n",
            "push ctrl+c\n",
            "push ctrl+c\n",
            "push ctrl+c\n",
            "push ctrl+c\n",
            "push ctrl+c\n",
            "push ctrl+c\n",
            "push ctrl+c\n",
            "push ctrl+c\n",
            "push ctrl+c\n",
            "push ctrl+c\n",
            "push ctrl+c\n",
            "push ctrl+c\n",
            "push ctrl+c\n",
            "push ctrl+c\n",
            "push ctrl+c\n",
            "push ctrl+c\n",
            "push ctrl+c\n",
            "push ctrl+c\n",
            "push ctrl+c\n",
            "push ctrl+c\n",
            "push ctrl+c\n",
            "push ctrl+c\n",
            "push ctrl+c\n",
            "push ctrl+c\n",
            "push ctrl+c\n",
            "push ctrl+c\n",
            "push ctrl+c\n",
            "push ctrl+c\n",
            "push ctrl+c\n",
            "push ctrl+c\n",
            "push ctrl+c\n",
            "push ctrl+c\n",
            "push ctrl+c\n",
            "push ctrl+c\n",
            "push ctrl+c\n",
            "push ctrl+c\n",
            "push ctrl+c\n",
            "push ctrl+c\n",
            "push ctrl+c\n",
            "push ctrl+c\n",
            "push ctrl+c\n",
            "push ctrl+c\n",
            "push ctrl+c\n",
            "push ctrl+c\n",
            "push ctrl+c\n",
            "push ctrl+c\n",
            "push ctrl+c\n",
            "push ctrl+c\n",
            "push ctrl+c\n",
            "push ctrl+c\n",
            "push ctrl+c\n",
            "push ctrl+c\n",
            "push ctrl+c\n",
            "push ctrl+c\n",
            "push ctrl+c\n",
            "push ctrl+c\n",
            "push ctrl+c\n",
            "push ctrl+c\n",
            "push ctrl+c\n",
            "push ctrl+c\n",
            "push ctrl+c\n",
            "push ctrl+c\n",
            "push ctrl+c\n",
            "push ctrl+c\n",
            "push ctrl+c\n",
            "push ctrl+c\n",
            "push ctrl+c\n",
            "push ctrl+c\n",
            "push ctrl+c\n",
            "push ctrl+c\n",
            "push ctrl+c\n",
            "push ctrl+c\n",
            "push ctrl+c\n",
            "push ctrl+c\n",
            "push ctrl+c\n",
            "push ctrl+c\n",
            "push ctrl+c\n",
            "push ctrl+c\n",
            "push ctrl+c\n",
            "push ctrl+c\n",
            "push ctrl+c\n",
            "push ctrl+c\n",
            "push ctrl+c\n",
            "push ctrl+c\n",
            "push ctrl+c\n",
            "push ctrl+c\n",
            "push ctrl+c\n",
            "push ctrl+c\n",
            "push ctrl+c\n",
            "push ctrl+c\n",
            "push ctrl+c\n",
            "push ctrl+c\n",
            "push ctrl+c\n",
            "push ctrl+c\n",
            "push ctrl+c\n",
            "push ctrl+c\n",
            "push ctrl+c\n",
            "push ctrl+c\n",
            "push ctrl+c\n",
            "push ctrl+c\n",
            "push ctrl+c\n",
            "push ctrl+c\n",
            "push ctrl+c\n",
            "push ctrl+c\n",
            "push ctrl+c\n",
            "push ctrl+c\n",
            "push ctrl+c\n",
            "push ctrl+c\n",
            "push ctrl+c\n",
            "push ctrl+c\n",
            "push ctrl+c\n",
            "push ctrl+c\n",
            "push ctrl+c\n",
            "push ctrl+c\n",
            "push ctrl+c\n",
            "push ctrl+c\n",
            "push ctrl+c\n",
            "push ctrl+c\n",
            "push ctrl+c\n",
            "push ctrl+c\n",
            "push ctrl+c\n",
            "push ctrl+c\n",
            "push ctrl+c\n",
            "push ctrl+c\n",
            "push ctrl+c\n",
            "push ctrl+c\n",
            "push ctrl+c\n",
            "push ctrl+c\n",
            "push ctrl+c\n",
            "push ctrl+c\n",
            "push ctrl+c\n",
            "push ctrl+c\n",
            "push ctrl+c\n",
            "push ctrl+c\n",
            "push ctrl+c\n",
            "push ctrl+c\n",
            "push ctrl+c\n",
            "push ctrl+c\n",
            "push ctrl+c\n",
            "push ctrl+c\n",
            "push ctrl+c\n",
            "push ctrl+c\n",
            "push ctrl+c\n",
            "push ctrl+c\n",
            "push ctrl+c\n",
            "push ctrl+c\n",
            "push ctrl+c\n",
            "push ctrl+c\n",
            "push ctrl+c\n",
            "push ctrl+c\n",
            "push ctrl+c\n",
            "push ctrl+c\n",
            "push ctrl+c\n",
            "push ctrl+c\n",
            "push ctrl+c\n",
            "push ctrl+c\n",
            "push ctrl+c\n",
            "push ctrl+c\n",
            "push ctrl+c\n",
            "push ctrl+c\n",
            "push ctrl+c\n",
            "push ctrl+c\n",
            "push ctrl+c\n",
            "push ctrl+c\n",
            "push ctrl+c\n",
            "push ctrl+c\n",
            "push ctrl+c\n",
            "push ctrl+c\n",
            "push ctrl+c\n",
            "push ctrl+c\n",
            "push ctrl+c\n",
            "push ctrl+c\n",
            "push ctrl+c\n",
            "push ctrl+c\n",
            "push ctrl+c\n",
            "push ctrl+c\n",
            "push ctrl+c\n",
            "push ctrl+c\n",
            "push ctrl+c\n",
            "push ctrl+c\n",
            "push ctrl+c\n",
            "push ctrl+c\n",
            "push ctrl+c\n",
            "push ctrl+c\n",
            "push ctrl+c\n",
            "push ctrl+c\n",
            "push ctrl+c\n",
            "push ctrl+c\n",
            "push ctrl+c\n",
            "push ctrl+c\n",
            "push ctrl+c\n",
            "push ctrl+c\n",
            "push ctrl+c\n",
            "push ctrl+c\n",
            "push ctrl+c\n",
            "push ctrl+c\n",
            "push ctrl+c\n",
            "push ctrl+c\n",
            "push ctrl+c\n",
            "push ctrl+c\n",
            "push ctrl+c\n",
            "push ctrl+c\n",
            "push ctrl+c\n",
            "push ctrl+c\n",
            "push ctrl+c\n",
            "push ctrl+c\n",
            "push ctrl+c\n",
            "push ctrl+c\n",
            "push ctrl+c\n",
            "push ctrl+c\n",
            "push ctrl+c\n",
            "push ctrl+c\n",
            "push ctrl+c\n",
            "push ctrl+c\n",
            "push ctrl+c\n",
            "push ctrl+c\n",
            "push ctrl+c\n",
            "push ctrl+c\n",
            "push ctrl+c\n",
            "push ctrl+c\n",
            "push ctrl+c\n",
            "push ctrl+c\n",
            "push ctrl+c\n",
            "push ctrl+c\n",
            "push ctrl+c\n",
            "push ctrl+c\n",
            "push ctrl+c\n",
            "push ctrl+c\n",
            "push ctrl+c\n",
            "push ctrl+c\n",
            "push ctrl+c\n",
            "push ctrl+c\n",
            "push ctrl+c\n",
            "push ctrl+c\n",
            "push ctrl+c\n",
            "push ctrl+c\n",
            "push ctrl+c\n",
            "push ctrl+c\n",
            "push ctrl+c\n",
            "push ctrl+c\n",
            "push ctrl+c\n",
            "push ctrl+c\n",
            "push ctrl+c\n",
            "push ctrl+c\n",
            "push ctrl+c\n",
            "push ctrl+c\n",
            "push ctrl+c\n",
            "push ctrl+c\n",
            "push ctrl+c\n",
            "push ctrl+c\n",
            "push ctrl+c\n",
            "push ctrl+c\n",
            "push ctrl+c\n",
            "push ctrl+c\n",
            "push ctrl+c\n",
            "push ctrl+c\n",
            "push ctrl+c\n",
            "push ctrl+c\n",
            "push ctrl+c\n",
            "push ctrl+c\n",
            "push ctrl+c\n",
            "push ctrl+c\n",
            "push ctrl+c\n",
            "push ctrl+c\n",
            "push ctrl+c\n",
            "push ctrl+c\n",
            "push ctrl+c\n",
            "push ctrl+c\n",
            "push ctrl+c\n",
            "push ctrl+c\n",
            "push ctrl+c\n",
            "push ctrl+c\n",
            "push ctrl+c\n",
            "push ctrl+c\n",
            "push ctrl+c\n",
            "push ctrl+c\n",
            "push ctrl+c\n",
            "push ctrl+c\n",
            "push ctrl+c\n",
            "push ctrl+c\n",
            "push ctrl+c\n",
            "push ctrl+c\n",
            "push ctrl+c\n",
            "push ctrl+c\n",
            "push ctrl+c\n",
            "push ctrl+c\n",
            "push ctrl+c\n",
            "push ctrl+c\n",
            "push ctrl+c\n",
            "push ctrl+c\n",
            "push ctrl+c\n",
            "push ctrl+c\n",
            "push ctrl+c\n",
            "push ctrl+c\n",
            "push ctrl+c\n",
            "push ctrl+c\n",
            "push ctrl+c\n",
            "push ctrl+c\n",
            "push ctrl+c\n",
            "push ctrl+c\n",
            "push ctrl+c\n",
            "push ctrl+c\n",
            "push ctrl+c\n",
            "push ctrl+c\n",
            "push ctrl+c\n",
            "push ctrl+c\n",
            "push ctrl+c\n",
            "push ctrl+c\n",
            "push ctrl+c\n",
            "push ctrl+c\n",
            "push ctrl+c\n",
            "push ctrl+c\n",
            "push ctrl+c\n",
            "push ctrl+c\n",
            "push ctrl+c\n",
            "push ctrl+c\n",
            "push ctrl+c\n",
            "push ctrl+c\n",
            "push ctrl+c\n",
            "push ctrl+c\n",
            "push ctrl+c\n",
            "push ctrl+c\n",
            "push ctrl+c\n",
            "push ctrl+c\n",
            "push ctrl+c\n",
            "push ctrl+c\n",
            "push ctrl+c\n",
            "push ctrl+c\n",
            "push ctrl+c\n",
            "push ctrl+c\n",
            "push ctrl+c\n",
            "push ctrl+c\n",
            "push ctrl+c\n",
            "push ctrl+c\n",
            "push ctrl+c\n",
            "push ctrl+c\n",
            "push ctrl+c\n",
            "push ctrl+c\n",
            "push ctrl+c\n",
            "push ctrl+c\n",
            "push ctrl+c\n",
            "push ctrl+c\n",
            "push ctrl+c\n",
            "push ctrl+c\n",
            "push ctrl+c\n",
            "push ctrl+c\n",
            "push ctrl+c\n",
            "push ctrl+c\n",
            "push ctrl+c\n",
            "push ctrl+c\n",
            "push ctrl+c\n",
            "push ctrl+c\n",
            "push ctrl+c\n",
            "push ctrl+c\n",
            "push ctrl+c\n",
            "push ctrl+c\n",
            "push ctrl+c\n",
            "push ctrl+c\n",
            "push ctrl+c\n",
            "push ctrl+c\n",
            "push ctrl+c\n",
            "push ctrl+c\n",
            "push ctrl+c\n",
            "push ctrl+c\n",
            "push ctrl+c\n",
            "push ctrl+c\n",
            "push ctrl+c\n",
            "push ctrl+c\n",
            "push ctrl+c\n",
            "push ctrl+c\n",
            "push ctrl+c\n",
            "push ctrl+c\n",
            "push ctrl+c\n",
            "push ctrl+c\n",
            "push ctrl+c\n",
            "push ctrl+c\n",
            "push ctrl+c\n",
            "push ctrl+c\n",
            "push ctrl+c\n",
            "push ctrl+c\n",
            "push ctrl+c\n",
            "push ctrl+c\n",
            "push ctrl+c\n",
            "push ctrl+c\n",
            "push ctrl+c\n",
            "push ctrl+c\n",
            "push ctrl+c\n",
            "push ctrl+c\n",
            "push ctrl+c\n",
            "push ctrl+c\n",
            "push ctrl+c\n",
            "push ctrl+c\n",
            "push ctrl+c\n",
            "push ctrl+c\n",
            "push ctrl+c\n",
            "push ctrl+c\n",
            "push ctrl+c\n",
            "push ctrl+c\n",
            "push ctrl+c\n",
            "push ctrl+c\n",
            "push ctrl+c\n",
            "push ctrl+c\n",
            "push ctrl+c\n",
            "push ctrl+c\n",
            "push ctrl+c\n",
            "push ctrl+c\n",
            "push ctrl+c\n",
            "push ctrl+c\n",
            "push ctrl+c\n",
            "push ctrl+c\n",
            "push ctrl+c\n",
            "push ctrl+c\n",
            "push ctrl+c\n",
            "push ctrl+c\n",
            "push ctrl+c\n",
            "push ctrl+c\n",
            "push ctrl+c\n",
            "push ctrl+c\n",
            "push ctrl+c\n",
            "push ctrl+c\n",
            "push ctrl+c\n",
            "push ctrl+c\n",
            "push ctrl+c\n",
            "push ctrl+c\n",
            "push ctrl+c\n",
            "push ctrl+c\n",
            "push ctrl+c\n",
            "push ctrl+c\n",
            "push ctrl+c\n",
            "push ctrl+c\n",
            "push ctrl+c\n",
            "push ctrl+c\n",
            "push ctrl+c\n",
            "push ctrl+c\n",
            "push ctrl+c\n",
            "push ctrl+c\n",
            "push ctrl+c\n",
            "push ctrl+c\n",
            "push ctrl+c\n",
            "push ctrl+c\n",
            "push ctrl+c\n",
            "push ctrl+c\n",
            "push ctrl+c\n",
            "push ctrl+c\n",
            "push ctrl+c\n",
            "push ctrl+c\n",
            "push ctrl+c\n",
            "push ctrl+c\n",
            "push ctrl+c\n",
            "push ctrl+c\n",
            "push ctrl+c\n",
            "push ctrl+c\n",
            "push ctrl+c\n",
            "push ctrl+c\n",
            "push ctrl+c\n",
            "push ctrl+c\n",
            "push ctrl+c\n",
            "push ctrl+c\n",
            "push ctrl+c\n",
            "push ctrl+c\n",
            "push ctrl+c\n",
            "push ctrl+c\n",
            "push ctrl+c\n",
            "push ctrl+c\n",
            "push ctrl+c\n",
            "push ctrl+c\n",
            "push ctrl+c\n",
            "push ctrl+c\n",
            "push ctrl+c\n",
            "push ctrl+c\n",
            "push ctrl+c\n",
            "push ctrl+c\n",
            "push ctrl+c\n",
            "push ctrl+c\n",
            "push ctrl+c\n",
            "push ctrl+c\n",
            "push ctrl+c\n",
            "push ctrl+c\n",
            "push ctrl+c\n",
            "push ctrl+c\n",
            "push ctrl+c\n",
            "push ctrl+c\n",
            "push ctrl+c\n",
            "push ctrl+c\n",
            "push ctrl+c\n",
            "push ctrl+c\n",
            "push ctrl+c\n",
            "push ctrl+c\n",
            "push ctrl+c\n",
            "push ctrl+c\n",
            "push ctrl+c\n",
            "push ctrl+c\n",
            "push ctrl+c\n",
            "push ctrl+c\n",
            "push ctrl+c\n",
            "push ctrl+c\n",
            "push ctrl+c\n",
            "push ctrl+c\n",
            "push ctrl+c\n",
            "push ctrl+c\n",
            "push ctrl+c\n",
            "push ctrl+c\n",
            "push ctrl+c\n",
            "push ctrl+c\n",
            "push ctrl+c\n",
            "push ctrl+c\n",
            "push ctrl+c\n",
            "push ctrl+c\n",
            "push ctrl+c\n",
            "push ctrl+c\n",
            "push ctrl+c\n",
            "push ctrl+c\n",
            "push ctrl+c\n",
            "push ctrl+c\n",
            "push ctrl+c\n",
            "push ctrl+c\n",
            "push ctrl+c\n",
            "push ctrl+c\n",
            "push ctrl+c\n",
            "push ctrl+c\n",
            "push ctrl+c\n",
            "push ctrl+c\n",
            "push ctrl+c\n",
            "push ctrl+c\n",
            "push ctrl+c\n",
            "push ctrl+c\n",
            "push ctrl+c\n",
            "push ctrl+c\n",
            "push ctrl+c\n",
            "push ctrl+c\n",
            "push ctrl+c\n",
            "push ctrl+c\n",
            "push ctrl+c\n",
            "push ctrl+c\n",
            "push ctrl+c\n",
            "push ctrl+c\n",
            "push ctrl+c\n",
            "push ctrl+c\n",
            "push ctrl+c\n",
            "push ctrl+c\n",
            "push ctrl+c\n",
            "push ctrl+c\n",
            "push ctrl+c\n",
            "push ctrl+c\n",
            "push ctrl+c\n",
            "push ctrl+c\n",
            "push ctrl+c\n",
            "push ctrl+c\n",
            "push ctrl+c\n",
            "push ctrl+c\n",
            "push ctrl+c\n",
            "push ctrl+c\n",
            "push ctrl+c\n",
            "push ctrl+c\n",
            "push ctrl+c\n",
            "push ctrl+c\n",
            "push ctrl+c\n",
            "push ctrl+c\n",
            "push ctrl+c\n",
            "push ctrl+c\n",
            "push ctrl+c\n",
            "push ctrl+c\n",
            "push ctrl+c\n",
            "push ctrl+c\n",
            "push ctrl+c\n",
            "push ctrl+c\n",
            "push ctrl+c\n",
            "push ctrl+c\n",
            "push ctrl+c\n",
            "push ctrl+c\n",
            "push ctrl+c\n",
            "push ctrl+c\n",
            "push ctrl+c\n",
            "push ctrl+c\n",
            "push ctrl+c\n",
            "push ctrl+c\n",
            "push ctrl+c\n",
            "push ctrl+c\n",
            "push ctrl+c\n",
            "push ctrl+c\n",
            "push ctrl+c\n",
            "push ctrl+c\n",
            "push ctrl+c\n",
            "push ctrl+c\n",
            "push ctrl+c\n",
            "push ctrl+c\n",
            "push ctrl+c\n",
            "push ctrl+c\n",
            "push ctrl+c\n",
            "push ctrl+c\n",
            "push ctrl+c\n",
            "push ctrl+c\n",
            "push ctrl+c\n",
            "push ctrl+c\n",
            "push ctrl+c\n",
            "push ctrl+c\n",
            "push ctrl+c\n",
            "push ctrl+c\n",
            "push ctrl+c\n",
            "push ctrl+c\n",
            "push ctrl+c\n",
            "push ctrl+c\n",
            "push ctrl+c\n",
            "push ctrl+c\n",
            "push ctrl+c\n",
            "push ctrl+c\n",
            "push ctrl+c\n",
            "push ctrl+c\n",
            "push ctrl+c\n",
            "push ctrl+c\n",
            "push ctrl+c\n",
            "push ctrl+c\n",
            "push ctrl+c\n",
            "push ctrl+c\n",
            "push ctrl+c\n",
            "push ctrl+c\n",
            "push ctrl+c\n",
            "push ctrl+c\n",
            "push ctrl+c\n",
            "push ctrl+c\n",
            "push ctrl+c\n",
            "push ctrl+c\n",
            "push ctrl+c\n",
            "push ctrl+c\n",
            "push ctrl+c\n",
            "push ctrl+c\n",
            "push ctrl+c\n",
            "push ctrl+c\n",
            "push ctrl+c\n",
            "push ctrl+c\n",
            "push ctrl+c\n",
            "push ctrl+c\n",
            "push ctrl+c\n",
            "push ctrl+c\n",
            "push ctrl+c\n",
            "push ctrl+c\n",
            "push ctrl+c\n",
            "push ctrl+c\n",
            "push ctrl+c\n",
            "push ctrl+c\n",
            "push ctrl+c\n",
            "push ctrl+c\n",
            "push ctrl+c\n",
            "push ctrl+c\n",
            "push ctrl+c\n",
            "push ctrl+c\n",
            "push ctrl+c\n",
            "push ctrl+c\n",
            "push ctrl+c\n",
            "push ctrl+c\n",
            "push ctrl+c\n",
            "push ctrl+c\n",
            "push ctrl+c\n",
            "push ctrl+c\n",
            "push ctrl+c\n",
            "push ctrl+c\n",
            "push ctrl+c\n",
            "push ctrl+c\n",
            "push ctrl+c\n",
            "push ctrl+c\n",
            "push ctrl+c\n",
            "push ctrl+c\n",
            "push ctrl+c\n",
            "push ctrl+c\n",
            "push ctrl+c\n",
            "push ctrl+c\n",
            "push ctrl+c\n",
            "push ctrl+c\n",
            "push ctrl+c\n",
            "push ctrl+c\n",
            "push ctrl+c\n",
            "push ctrl+c\n",
            "push ctrl+c\n",
            "push ctrl+c\n",
            "push ctrl+c\n",
            "push ctrl+c\n",
            "push ctrl+c\n",
            "push ctrl+c\n",
            "push ctrl+c\n",
            "push ctrl+c\n",
            "push ctrl+c\n",
            "push ctrl+c\n",
            "push ctrl+c\n",
            "push ctrl+c\n",
            "push ctrl+c\n",
            "push ctrl+c\n",
            "push ctrl+c\n",
            "push ctrl+c\n",
            "push ctrl+c\n",
            "push ctrl+c\n",
            "push ctrl+c\n",
            "push ctrl+c\n",
            "push ctrl+c\n",
            "push ctrl+c\n",
            "push ctrl+c\n",
            "push ctrl+c\n",
            "push ctrl+c\n",
            "push ctrl+c\n",
            "push ctrl+c\n",
            "push ctrl+c\n",
            "push ctrl+c\n",
            "push ctrl+c\n",
            "push ctrl+c\n",
            "push ctrl+c\n",
            "push ctrl+c\n",
            "push ctrl+c\n",
            "push ctrl+c\n",
            "push ctrl+c\n",
            "push ctrl+c\n",
            "push ctrl+c\n",
            "push ctrl+c\n",
            "push ctrl+c\n",
            "push ctrl+c\n",
            "push ctrl+c\n",
            "push ctrl+c\n",
            "push ctrl+c\n",
            "push ctrl+c\n",
            "push ctrl+c\n",
            "push ctrl+c\n",
            "push ctrl+c\n",
            "push ctrl+c\n",
            "push ctrl+c\n",
            "push ctrl+c\n",
            "push ctrl+c\n",
            "push ctrl+c\n",
            "push ctrl+c\n",
            "push ctrl+c\n",
            "push ctrl+c\n",
            "push ctrl+c\n",
            "push ctrl+c\n",
            "push ctrl+c\n",
            "push ctrl+c\n",
            "push ctrl+c\n",
            "push ctrl+c\n",
            "push ctrl+c\n",
            "push ctrl+c\n",
            "push ctrl+c\n",
            "push ctrl+c\n",
            "push ctrl+c\n",
            "push ctrl+c\n",
            "push ctrl+c\n",
            "push ctrl+c\n",
            "push ctrl+c\n",
            "push ctrl+c\n",
            "push ctrl+c\n",
            "push ctrl+c\n",
            "push ctrl+c\n",
            "push ctrl+c\n",
            "push ctrl+c\n",
            "push ctrl+c\n",
            "push ctrl+c\n",
            "push ctrl+c\n",
            "push ctrl+c\n",
            "push ctrl+c\n",
            "push ctrl+c\n",
            "push ctrl+c\n",
            "push ctrl+c\n",
            "push ctrl+c\n",
            "push ctrl+c\n",
            "push ctrl+c\n",
            "push ctrl+c\n",
            "push ctrl+c\n",
            "push ctrl+c\n",
            "push ctrl+c\n",
            "push ctrl+c\n",
            "push ctrl+c\n",
            "push ctrl+c\n",
            "push ctrl+c\n",
            "push ctrl+c\n",
            "push ctrl+c\n",
            "push ctrl+c\n",
            "push ctrl+c\n",
            "push ctrl+c\n",
            "push ctrl+c\n",
            "push ctrl+c\n",
            "push ctrl+c\n",
            "push ctrl+c\n",
            "push ctrl+c\n",
            "push ctrl+c\n",
            "push ctrl+c\n",
            "push ctrl+c\n",
            "push ctrl+c\n",
            "push ctrl+c\n",
            "push ctrl+c\n",
            "push ctrl+c\n",
            "push ctrl+c\n",
            "push ctrl+c\n",
            "push ctrl+c\n",
            "push ctrl+c\n",
            "push ctrl+c\n",
            "push ctrl+c\n",
            "push ctrl+c\n",
            "push ctrl+c\n",
            "push ctrl+c\n",
            "push ctrl+c\n",
            "push ctrl+c\n",
            "push ctrl+c\n",
            "push ctrl+c\n",
            "push ctrl+c\n",
            "push ctrl+c\n",
            "push ctrl+c\n",
            "push ctrl+c\n",
            "push ctrl+c\n",
            "push ctrl+c\n",
            "push ctrl+c\n",
            "push ctrl+c\n",
            "push ctrl+c\n",
            "push ctrl+c\n",
            "push ctrl+c\n",
            "push ctrl+c\n",
            "push ctrl+c\n",
            "push ctrl+c\n",
            "push ctrl+c\n",
            "push ctrl+c\n",
            "push ctrl+c\n",
            "push ctrl+c\n",
            "push ctrl+c\n",
            "push ctrl+c\n",
            "push ctrl+c\n",
            "push ctrl+c\n",
            "push ctrl+c\n",
            "push ctrl+c\n",
            "push ctrl+c\n",
            "push ctrl+c\n",
            "push ctrl+c\n",
            "push ctrl+c\n",
            "push ctrl+c\n",
            "push ctrl+c\n",
            "push ctrl+c\n",
            "push ctrl+c\n",
            "push ctrl+c\n",
            "push ctrl+c\n",
            "push ctrl+c\n",
            "push ctrl+c\n",
            "push ctrl+c\n",
            "push ctrl+c\n",
            "push ctrl+c\n",
            "push ctrl+c\n",
            "push ctrl+c\n",
            "push ctrl+c\n",
            "push ctrl+c\n",
            "push ctrl+c\n",
            "push ctrl+c\n",
            "push ctrl+c\n",
            "push ctrl+c\n",
            "push ctrl+c\n",
            "push ctrl+c\n",
            "push ctrl+c\n",
            "push ctrl+c\n",
            "push ctrl+c\n",
            "push ctrl+c\n",
            "push ctrl+c\n",
            "push ctrl+c\n",
            "push ctrl+c\n",
            "push ctrl+c\n",
            "push ctrl+c\n",
            "push ctrl+c\n",
            "push ctrl+c\n",
            "push ctrl+c\n",
            "push ctrl+c\n",
            "push ctrl+c\n",
            "push ctrl+c\n",
            "push ctrl+c\n",
            "push ctrl+c\n",
            "push ctrl+c\n",
            "push ctrl+c\n",
            "push ctrl+c\n",
            "push ctrl+c\n",
            "push ctrl+c\n",
            "push ctrl+c\n",
            "push ctrl+c\n",
            "push ctrl+c\n",
            "push ctrl+c\n",
            "push ctrl+c\n",
            "push ctrl+c\n",
            "push ctrl+c\n",
            "push ctrl+c\n",
            "push ctrl+c\n",
            "push ctrl+c\n",
            "push ctrl+c\n",
            "push ctrl+c\n",
            "push ctrl+c\n",
            "push ctrl+c\n",
            "push ctrl+c\n",
            "push ctrl+c\n",
            "push ctrl+c\n",
            "push ctrl+c\n",
            "push ctrl+c\n",
            "push ctrl+c\n",
            "push ctrl+c\n",
            "push ctrl+c\n",
            "push ctrl+c\n",
            "push ctrl+c\n",
            "push ctrl+c\n",
            "push ctrl+c\n",
            "push ctrl+c\n",
            "push ctrl+c\n",
            "push ctrl+c\n",
            "push ctrl+c\n",
            "push ctrl+c\n",
            "push ctrl+c\n",
            "push ctrl+c\n",
            "push ctrl+c\n",
            "push ctrl+c\n",
            "push ctrl+c\n",
            "push ctrl+c\n",
            "push ctrl+c\n",
            "push ctrl+c\n",
            "push ctrl+c\n",
            "push ctrl+c\n",
            "push ctrl+c\n",
            "push ctrl+c\n",
            "push ctrl+c\n",
            "push ctrl+c\n",
            "push ctrl+c\n",
            "push ctrl+c\n",
            "push ctrl+c\n",
            "push ctrl+c\n",
            "push ctrl+c\n",
            "push ctrl+c\n",
            "push ctrl+c\n",
            "push ctrl+c\n",
            "push ctrl+c\n",
            "push ctrl+c\n",
            "push ctrl+c\n",
            "push ctrl+c\n",
            "push ctrl+c\n",
            "push ctrl+c\n",
            "push ctrl+c\n",
            "push ctrl+c\n",
            "push ctrl+c\n",
            "push ctrl+c\n",
            "push ctrl+c\n",
            "push ctrl+c\n",
            "push ctrl+c\n",
            "push ctrl+c\n",
            "push ctrl+c\n",
            "push ctrl+c\n",
            "push ctrl+c\n",
            "push ctrl+c\n",
            "push ctrl+c\n",
            "push ctrl+c\n",
            "push ctrl+c\n",
            "push ctrl+c\n",
            "push ctrl+c\n",
            "push ctrl+c\n",
            "push ctrl+c\n",
            "push ctrl+c\n",
            "push ctrl+c\n",
            "push ctrl+c\n",
            "push ctrl+c\n",
            "push ctrl+c\n",
            "push ctrl+c\n",
            "push ctrl+c\n",
            "push ctrl+c\n",
            "push ctrl+c\n",
            "push ctrl+c\n",
            "push ctrl+c\n",
            "push ctrl+c\n",
            "push ctrl+c\n",
            "push ctrl+c\n",
            "push ctrl+c\n",
            "push ctrl+c\n",
            "push ctrl+c\n",
            "push ctrl+c\n",
            "push ctrl+c\n",
            "push ctrl+c\n",
            "push ctrl+c\n",
            "push ctrl+c\n",
            "push ctrl+c\n",
            "push ctrl+c\n",
            "push ctrl+c\n",
            "push ctrl+c\n",
            "push ctrl+c\n",
            "push ctrl+c\n",
            "push ctrl+c\n",
            "push ctrl+c\n",
            "push ctrl+c\n",
            "push ctrl+c\n",
            "push ctrl+c\n",
            "push ctrl+c\n",
            "push ctrl+c\n",
            "push ctrl+c\n",
            "push ctrl+c\n",
            "push ctrl+c\n",
            "push ctrl+c\n",
            "push ctrl+c\n",
            "push ctrl+c\n",
            "push ctrl+c\n",
            "push ctrl+c\n",
            "push ctrl+c\n",
            "push ctrl+c\n",
            "push ctrl+c\n",
            "push ctrl+c\n",
            "push ctrl+c\n",
            "push ctrl+c\n",
            "push ctrl+c\n",
            "push ctrl+c\n",
            "push ctrl+c\n",
            "push ctrl+c\n",
            "push ctrl+c\n",
            "push ctrl+c\n",
            "push ctrl+c\n",
            "push ctrl+c\n",
            "push ctrl+c\n",
            "push ctrl+c\n",
            "push ctrl+c\n",
            "push ctrl+c\n",
            "push ctrl+c\n",
            "push ctrl+c\n",
            "push ctrl+c\n",
            "push ctrl+c\n",
            "push ctrl+c\n",
            "push ctrl+c\n",
            "push ctrl+c\n",
            "push ctrl+c\n",
            "push ctrl+c\n",
            "push ctrl+c\n",
            "push ctrl+c\n",
            "push ctrl+c\n",
            "push ctrl+c\n",
            "push ctrl+c\n",
            "push ctrl+c\n",
            "push ctrl+c\n",
            "push ctrl+c\n",
            "push ctrl+c\n",
            "push ctrl+c\n",
            "push ctrl+c\n",
            "push ctrl+c\n",
            "push ctrl+c\n",
            "push ctrl+c\n",
            "push ctrl+c\n",
            "push ctrl+c\n",
            "push ctrl+c\n",
            "push ctrl+c\n",
            "push ctrl+c\n",
            "push ctrl+c\n",
            "push ctrl+c\n",
            "push ctrl+c\n",
            "push ctrl+c\n",
            "push ctrl+c\n",
            "push ctrl+c\n",
            "push ctrl+c\n",
            "push ctrl+c\n",
            "push ctrl+c\n",
            "push ctrl+c\n",
            "push ctrl+c\n",
            "push ctrl+c\n",
            "push ctrl+c\n",
            "push ctrl+c\n",
            "push ctrl+c\n",
            "push ctrl+c\n",
            "push ctrl+c\n",
            "push ctrl+c\n",
            "push ctrl+c\n",
            "push ctrl+c\n",
            "push ctrl+c\n",
            "push ctrl+c\n",
            "push ctrl+c\n",
            "push ctrl+c\n",
            "push ctrl+c\n",
            "push ctrl+c\n",
            "push ctrl+c\n",
            "push ctrl+c\n",
            "push ctrl+c\n",
            "push ctrl+c\n",
            "push ctrl+c\n",
            "push ctrl+c\n",
            "push ctrl+c\n",
            "push ctrl+c\n",
            "push ctrl+c\n",
            "push ctrl+c\n",
            "push ctrl+c\n",
            "push ctrl+c\n",
            "push ctrl+c\n",
            "push ctrl+c\n",
            "push ctrl+c\n",
            "push ctrl+c\n",
            "push ctrl+c\n",
            "push ctrl+c\n",
            "push ctrl+c\n",
            "push ctrl+c\n",
            "push ctrl+c\n",
            "push ctrl+c\n",
            "push ctrl+c\n",
            "push ctrl+c\n",
            "push ctrl+c\n",
            "push ctrl+c\n",
            "push ctrl+c\n",
            "push ctrl+c\n",
            "push ctrl+c\n",
            "push ctrl+c\n",
            "push ctrl+c\n",
            "push ctrl+c\n",
            "push ctrl+c\n",
            "push ctrl+c\n",
            "push ctrl+c\n",
            "push ctrl+c\n",
            "push ctrl+c\n",
            "push ctrl+c\n",
            "push ctrl+c\n",
            "push ctrl+c\n",
            "push ctrl+c\n",
            "push ctrl+c\n",
            "push ctrl+c\n",
            "push ctrl+c\n",
            "push ctrl+c\n",
            "push ctrl+c\n",
            "push ctrl+c\n",
            "push ctrl+c\n",
            "push ctrl+c\n",
            "push ctrl+c\n",
            "push ctrl+c\n",
            "push ctrl+c\n",
            "push ctrl+c\n",
            "push ctrl+c\n",
            "push ctrl+c\n",
            "push ctrl+c\n",
            "push ctrl+c\n",
            "push ctrl+c\n",
            "push ctrl+c\n",
            "push ctrl+c\n",
            "push ctrl+c\n",
            "push ctrl+c\n",
            "push ctrl+c\n",
            "push ctrl+c\n",
            "push ctrl+c\n",
            "push ctrl+c\n",
            "push ctrl+c\n",
            "push ctrl+c\n",
            "push ctrl+c\n",
            "push ctrl+c\n",
            "push ctrl+c\n",
            "push ctrl+c\n",
            "push ctrl+c\n",
            "push ctrl+c\n",
            "push ctrl+c\n",
            "push ctrl+c\n",
            "push ctrl+c\n",
            "push ctrl+c\n",
            "push ctrl+c\n",
            "push ctrl+c\n",
            "push ctrl+c\n",
            "push ctrl+c\n",
            "push ctrl+c\n",
            "push ctrl+c\n",
            "push ctrl+c\n",
            "push ctrl+c\n",
            "push ctrl+c\n",
            "push ctrl+c\n",
            "push ctrl+c\n",
            "push ctrl+c\n",
            "push ctrl+c\n",
            "push ctrl+c\n",
            "push ctrl+c\n",
            "push ctrl+c\n",
            "push ctrl+c\n",
            "push ctrl+c\n",
            "push ctrl+c\n",
            "push ctrl+c\n",
            "push ctrl+c\n",
            "push ctrl+c\n",
            "push ctrl+c\n",
            "push ctrl+c\n",
            "push ctrl+c\n",
            "push ctrl+c\n",
            "push ctrl+c\n",
            "push ctrl+c\n",
            "push ctrl+c\n",
            "push ctrl+c\n",
            "push ctrl+c\n",
            "push ctrl+c\n",
            "push ctrl+c\n",
            "push ctrl+c\n",
            "push ctrl+c\n",
            "push ctrl+c\n",
            "push ctrl+c\n",
            "push ctrl+c\n",
            "push ctrl+c\n",
            "push ctrl+c\n",
            "push ctrl+c\n",
            "push ctrl+c\n",
            "push ctrl+c\n",
            "push ctrl+c\n",
            "push ctrl+c\n",
            "push ctrl+c\n",
            "push ctrl+c\n",
            "push ctrl+c\n",
            "push ctrl+c\n",
            "push ctrl+c\n",
            "push ctrl+c\n",
            "push ctrl+c\n",
            "push ctrl+c\n",
            "push ctrl+c\n",
            "push ctrl+c\n",
            "push ctrl+c\n",
            "push ctrl+c\n",
            "push ctrl+c\n",
            "push ctrl+c\n",
            "push ctrl+c\n",
            "push ctrl+c\n",
            "push ctrl+c\n",
            "push ctrl+c\n",
            "push ctrl+c\n",
            "push ctrl+c\n",
            "push ctrl+c\n",
            "push ctrl+c\n",
            "push ctrl+c\n",
            "push ctrl+c\n",
            "push ctrl+c\n",
            "push ctrl+c\n",
            "push ctrl+c\n",
            "push ctrl+c\n",
            "push ctrl+c\n",
            "push ctrl+c\n",
            "push ctrl+c\n",
            "push ctrl+c\n",
            "push ctrl+c\n",
            "push ctrl+c\n",
            "push ctrl+c\n",
            "push ctrl+c\n",
            "push ctrl+c\n",
            "push ctrl+c\n",
            "push ctrl+c\n",
            "push ctrl+c\n",
            "push ctrl+c\n",
            "push ctrl+c\n",
            "push ctrl+c\n",
            "push ctrl+c\n",
            "push ctrl+c\n",
            "push ctrl+c\n",
            "push ctrl+c\n",
            "push ctrl+c\n",
            "push ctrl+c\n",
            "push ctrl+c\n",
            "push ctrl+c\n",
            "push ctrl+c\n",
            "push ctrl+c\n",
            "push ctrl+c\n",
            "push ctrl+c\n",
            "push ctrl+c\n",
            "push ctrl+c\n",
            "push ctrl+c\n",
            "push ctrl+c\n",
            "push ctrl+c\n",
            "push ctrl+c\n",
            "push ctrl+c\n",
            "push ctrl+c\n",
            "push ctrl+c\n",
            "push ctrl+c\n",
            "push ctrl+c\n",
            "push ctrl+c\n",
            "push ctrl+c\n",
            "push ctrl+c\n",
            "push ctrl+c\n",
            "push ctrl+c\n",
            "push ctrl+c\n",
            "push ctrl+c\n",
            "push ctrl+c\n",
            "push ctrl+c\n",
            "push ctrl+c\n",
            "push ctrl+c\n",
            "push ctrl+c\n",
            "push ctrl+c\n",
            "push ctrl+c\n",
            "push ctrl+c\n",
            "push ctrl+c\n",
            "push ctrl+c\n",
            "push ctrl+c\n",
            "push ctrl+c\n",
            "push ctrl+c\n",
            "push ctrl+c\n",
            "push ctrl+c\n",
            "push ctrl+c\n",
            "push ctrl+c\n",
            "push ctrl+c\n",
            "push ctrl+c\n",
            "push ctrl+c\n",
            "push ctrl+c\n",
            "push ctrl+c\n",
            "push ctrl+c\n",
            "push ctrl+c\n",
            "push ctrl+c\n",
            "push ctrl+c\n",
            "push ctrl+c\n",
            "push ctrl+c\n",
            "push ctrl+c\n",
            "push ctrl+c\n",
            "push ctrl+c\n",
            "push ctrl+c\n",
            "push ctrl+c\n",
            "push ctrl+c\n",
            "push ctrl+c\n",
            "push ctrl+c\n",
            "push ctrl+c\n",
            "push ctrl+c\n",
            "push ctrl+c\n",
            "push ctrl+c\n",
            "push ctrl+c\n",
            "push ctrl+c\n",
            "push ctrl+c\n",
            "push ctrl+c\n",
            "push ctrl+c\n",
            "push ctrl+c\n",
            "push ctrl+c\n",
            "push ctrl+c\n",
            "push ctrl+c\n",
            "push ctrl+c\n",
            "push ctrl+c\n",
            "push ctrl+c\n",
            "push ctrl+c\n",
            "push ctrl+c\n",
            "push ctrl+c\n",
            "push ctrl+c\n",
            "push ctrl+c\n",
            "push ctrl+c\n",
            "push ctrl+c\n",
            "push ctrl+c\n",
            "push ctrl+c\n",
            "push ctrl+c\n",
            "push ctrl+c\n",
            "push ctrl+c\n",
            "push ctrl+c\n",
            "push ctrl+c\n",
            "push ctrl+c\n",
            "push ctrl+c\n",
            "push ctrl+c\n",
            "push ctrl+c\n",
            "push ctrl+c\n",
            "push ctrl+c\n",
            "push ctrl+c\n",
            "push ctrl+c\n",
            "push ctrl+c\n",
            "push ctrl+c\n",
            "push ctrl+c\n",
            "push ctrl+c\n",
            "push ctrl+c\n",
            "push ctrl+c\n",
            "push ctrl+c\n",
            "push ctrl+c\n",
            "push ctrl+c\n",
            "push ctrl+c\n",
            "push ctrl+c\n",
            "push ctrl+c\n",
            "push ctrl+c\n",
            "push ctrl+c\n",
            "push ctrl+c\n",
            "push ctrl+c\n",
            "push ctrl+c\n",
            "push ctrl+c\n",
            "push ctrl+c\n",
            "push ctrl+c\n",
            "push ctrl+c\n",
            "push ctrl+c\n",
            "push ctrl+c\n",
            "push ctrl+c\n",
            "push ctrl+c\n",
            "push ctrl+c\n",
            "push ctrl+c\n",
            "push ctrl+c\n",
            "push ctrl+c\n",
            "push ctrl+c\n",
            "push ctrl+c\n",
            "push ctrl+c\n",
            "push ctrl+c\n",
            "push ctrl+c\n",
            "push ctrl+c\n",
            "push ctrl+c\n",
            "push ctrl+c\n",
            "push ctrl+c\n",
            "push ctrl+c\n",
            "push ctrl+c\n",
            "push ctrl+c\n",
            "push ctrl+c\n",
            "push ctrl+c\n",
            "push ctrl+c\n",
            "push ctrl+c\n",
            "push ctrl+c\n",
            "push ctrl+c\n",
            "push ctrl+c\n",
            "push ctrl+c\n",
            "push ctrl+c\n",
            "push ctrl+c\n",
            "push ctrl+c\n",
            "push ctrl+c\n",
            "push ctrl+c\n",
            "push ctrl+c\n",
            "push ctrl+c\n",
            "push ctrl+c\n",
            "push ctrl+c\n",
            "push ctrl+c\n",
            "push ctrl+c\n",
            "push ctrl+c\n",
            "push ctrl+c\n",
            "push ctrl+c\n",
            "push ctrl+c\n",
            "push ctrl+c\n",
            "push ctrl+c\n",
            "push ctrl+c\n",
            "push ctrl+c\n",
            "push ctrl+c\n",
            "push ctrl+c\n",
            "push ctrl+c\n",
            "push ctrl+c\n",
            "push ctrl+c\n",
            "push ctrl+c\n",
            "push ctrl+c\n",
            "push ctrl+c\n",
            "push ctrl+c\n",
            "push ctrl+c\n",
            "push ctrl+c\n",
            "push ctrl+c\n",
            "push ctrl+c\n",
            "push ctrl+c\n",
            "push ctrl+c\n",
            "push ctrl+c\n",
            "push ctrl+c\n",
            "push ctrl+c\n",
            "push ctrl+c\n",
            "push ctrl+c\n",
            "push ctrl+c\n",
            "push ctrl+c\n",
            "push ctrl+c\n",
            "push ctrl+c\n",
            "push ctrl+c\n",
            "push ctrl+c\n",
            "push ctrl+c\n",
            "push ctrl+c\n",
            "push ctrl+c\n",
            "push ctrl+c\n",
            "push ctrl+c\n",
            "push ctrl+c\n",
            "push ctrl+c\n",
            "push ctrl+c\n",
            "push ctrl+c\n",
            "push ctrl+c\n",
            "push ctrl+c\n",
            "push ctrl+c\n",
            "push ctrl+c\n",
            "push ctrl+c\n",
            "push ctrl+c\n",
            "push ctrl+c\n",
            "push ctrl+c\n",
            "push ctrl+c\n",
            "push ctrl+c\n",
            "push ctrl+c\n",
            "push ctrl+c\n",
            "push ctrl+c\n",
            "push ctrl+c\n",
            "push ctrl+c\n",
            "push ctrl+c\n",
            "push ctrl+c\n",
            "push ctrl+c\n",
            "push ctrl+c\n",
            "push ctrl+c\n",
            "push ctrl+c\n",
            "push ctrl+c\n",
            "push ctrl+c\n",
            "push ctrl+c\n",
            "push ctrl+c\n",
            "push ctrl+c\n",
            "push ctrl+c\n",
            "push ctrl+c\n",
            "push ctrl+c\n",
            "push ctrl+c\n",
            "push ctrl+c\n",
            "push ctrl+c\n",
            "push ctrl+c\n",
            "push ctrl+c\n",
            "push ctrl+c\n",
            "push ctrl+c\n",
            "push ctrl+c\n",
            "push ctrl+c\n",
            "push ctrl+c\n",
            "push ctrl+c\n",
            "push ctrl+c\n",
            "push ctrl+c\n",
            "push ctrl+c\n",
            "push ctrl+c\n",
            "push ctrl+c\n",
            "push ctrl+c\n",
            "push ctrl+c\n",
            "push ctrl+c\n",
            "push ctrl+c\n",
            "push ctrl+c\n",
            "push ctrl+c\n",
            "push ctrl+c\n",
            "push ctrl+c\n",
            "push ctrl+c\n",
            "push ctrl+c\n",
            "push ctrl+c\n",
            "push ctrl+c\n",
            "push ctrl+c\n",
            "push ctrl+c\n",
            "push ctrl+c\n",
            "push ctrl+c\n",
            "push ctrl+c\n",
            "push ctrl+c\n",
            "push ctrl+c\n",
            "push ctrl+c\n",
            "push ctrl+c\n",
            "push ctrl+c\n",
            "push ctrl+c\n",
            "push ctrl+c\n",
            "push ctrl+c\n",
            "push ctrl+c\n",
            "push ctrl+c\n",
            "push ctrl+c\n",
            "push ctrl+c\n",
            "push ctrl+c\n",
            "push ctrl+c\n",
            "push ctrl+c\n",
            "push ctrl+c\n",
            "push ctrl+c\n",
            "push ctrl+c\n",
            "push ctrl+c\n",
            "push ctrl+c\n",
            "push ctrl+c\n",
            "push ctrl+c\n",
            "push ctrl+c\n",
            "push ctrl+c\n",
            "push ctrl+c\n",
            "push ctrl+c\n",
            "push ctrl+c\n",
            "push ctrl+c\n",
            "push ctrl+c\n",
            "push ctrl+c\n",
            "push ctrl+c\n",
            "push ctrl+c\n",
            "push ctrl+c\n",
            "push ctrl+c\n",
            "push ctrl+c\n",
            "push ctrl+c\n",
            "push ctrl+c\n",
            "push ctrl+c\n",
            "push ctrl+c\n",
            "push ctrl+c\n",
            "push ctrl+c\n",
            "push ctrl+c\n",
            "push ctrl+c\n",
            "push ctrl+c\n",
            "push ctrl+c\n",
            "push ctrl+c\n",
            "push ctrl+c\n",
            "push ctrl+c\n",
            "push ctrl+c\n",
            "push ctrl+c\n",
            "push ctrl+c\n",
            "push ctrl+c\n",
            "push ctrl+c\n",
            "push ctrl+c\n",
            "push ctrl+c\n",
            "push ctrl+c\n",
            "push ctrl+c\n",
            "push ctrl+c\n",
            "push ctrl+c\n",
            "push ctrl+c\n",
            "push ctrl+c\n",
            "push ctrl+c\n",
            "push ctrl+c\n",
            "push ctrl+c\n",
            "push ctrl+c\n",
            "push ctrl+c\n",
            "push ctrl+c\n",
            "push ctrl+c\n",
            "push ctrl+c\n",
            "push ctrl+c\n",
            "push ctrl+c\n",
            "push ctrl+c\n",
            "push ctrl+c\n",
            "push ctrl+c\n",
            "push ctrl+c\n",
            "push ctrl+c\n",
            "push ctrl+c\n",
            "push ctrl+c\n",
            "push ctrl+c\n",
            "push ctrl+c\n",
            "push ctrl+c\n",
            "push ctrl+c\n",
            "push ctrl+c\n",
            "push ctrl+c\n",
            "push ctrl+c\n",
            "push ctrl+c\n",
            "push ctrl+c\n",
            "push ctrl+c\n",
            "push ctrl+c\n",
            "push ctrl+c\n",
            "push ctrl+c\n",
            "push ctrl+c\n",
            "push ctrl+c\n",
            "push ctrl+c\n",
            "push ctrl+c\n",
            "push ctrl+c\n",
            "push ctrl+c\n",
            "push ctrl+c\n",
            "push ctrl+c\n",
            "push ctrl+c\n",
            "push ctrl+c\n",
            "push ctrl+c\n",
            "push ctrl+c\n",
            "push ctrl+c\n",
            "push ctrl+c\n",
            "push ctrl+c\n",
            "push ctrl+c\n",
            "push ctrl+c\n",
            "push ctrl+c\n",
            "push ctrl+c\n",
            "push ctrl+c\n",
            "push ctrl+c\n",
            "push ctrl+c\n",
            "push ctrl+c\n",
            "push ctrl+c\n",
            "push ctrl+c\n",
            "push ctrl+c\n",
            "push ctrl+c\n",
            "push ctrl+c\n",
            "push ctrl+c\n",
            "push ctrl+c\n",
            "push ctrl+c\n",
            "push ctrl+c\n",
            "push ctrl+c\n",
            "push ctrl+c\n",
            "push ctrl+c\n",
            "push ctrl+c\n",
            "push ctrl+c\n",
            "push ctrl+c\n",
            "push ctrl+c\n",
            "push ctrl+c\n",
            "push ctrl+c\n",
            "push ctrl+c\n",
            "push ctrl+c\n",
            "push ctrl+c\n",
            "push ctrl+c\n",
            "push ctrl+c\n",
            "push ctrl+c\n",
            "push ctrl+c\n",
            "push ctrl+c\n",
            "push ctrl+c\n",
            "push ctrl+c\n",
            "push ctrl+c\n",
            "push ctrl+c\n",
            "push ctrl+c\n",
            "push ctrl+c\n",
            "push ctrl+c\n",
            "push ctrl+c\n",
            "push ctrl+c\n",
            "push ctrl+c\n",
            "push ctrl+c\n",
            "push ctrl+c\n",
            "push ctrl+c\n",
            "push ctrl+c\n",
            "push ctrl+c\n",
            "push ctrl+c\n",
            "push ctrl+c\n",
            "push ctrl+c\n",
            "push ctrl+c\n",
            "push ctrl+c\n",
            "push ctrl+c\n",
            "push ctrl+c\n",
            "push ctrl+c\n",
            "push ctrl+c\n",
            "push ctrl+c\n",
            "push ctrl+c\n",
            "push ctrl+c\n",
            "push ctrl+c\n",
            "push ctrl+c\n",
            "push ctrl+c\n",
            "push ctrl+c\n",
            "push ctrl+c\n",
            "push ctrl+c\n",
            "push ctrl+c\n",
            "push ctrl+c\n",
            "push ctrl+c\n",
            "push ctrl+c\n",
            "push ctrl+c\n",
            "push ctrl+c\n",
            "push ctrl+c\n",
            "push ctrl+c\n",
            "push ctrl+c\n",
            "push ctrl+c\n",
            "push ctrl+c\n",
            "push ctrl+c\n",
            "push ctrl+c\n",
            "push ctrl+c\n",
            "push ctrl+c\n",
            "push ctrl+c\n",
            "push ctrl+c\n",
            "push ctrl+c\n",
            "push ctrl+c\n",
            "push ctrl+c\n",
            "push ctrl+c\n",
            "push ctrl+c\n",
            "push ctrl+c\n",
            "push ctrl+c\n",
            "push ctrl+c\n",
            "push ctrl+c\n",
            "push ctrl+c\n",
            "push ctrl+c\n",
            "push ctrl+c\n",
            "push ctrl+c\n",
            "push ctrl+c\n",
            "push ctrl+c\n",
            "push ctrl+c\n",
            "push ctrl+c\n",
            "push ctrl+c\n",
            "push ctrl+c\n",
            "push ctrl+c\n",
            "push ctrl+c\n",
            "push ctrl+c\n",
            "push ctrl+c\n",
            "push ctrl+c\n",
            "push ctrl+c\n",
            "push ctrl+c\n",
            "push ctrl+c\n",
            "push ctrl+c\n",
            "push ctrl+c\n",
            "push ctrl+c\n",
            "push ctrl+c\n",
            "push ctrl+c\n",
            "push ctrl+c\n",
            "push ctrl+c\n",
            "push ctrl+c\n",
            "push ctrl+c\n",
            "push ctrl+c\n",
            "push ctrl+c\n",
            "push ctrl+c\n",
            "push ctrl+c\n",
            "push ctrl+c\n",
            "push ctrl+c\n",
            "push ctrl+c\n",
            "push ctrl+c\n",
            "push ctrl+c\n",
            "push ctrl+c\n",
            "push ctrl+c\n",
            "push ctrl+c\n",
            "push ctrl+c\n",
            "push ctrl+c\n",
            "push ctrl+c\n",
            "push ctrl+c\n",
            "push ctrl+c\n",
            "push ctrl+c\n",
            "push ctrl+c\n",
            "push ctrl+c\n",
            "push ctrl+c\n",
            "push ctrl+c\n",
            "push ctrl+c\n",
            "push ctrl+c\n",
            "push ctrl+c\n",
            "push ctrl+c\n",
            "push ctrl+c\n",
            "push ctrl+c\n",
            "push ctrl+c\n",
            "push ctrl+c\n",
            "push ctrl+c\n",
            "push ctrl+c\n",
            "push ctrl+c\n",
            "push ctrl+c\n",
            "push ctrl+c\n",
            "push ctrl+c\n",
            "push ctrl+c\n",
            "push ctrl+c\n",
            "push ctrl+c\n",
            "push ctrl+c\n",
            "push ctrl+c\n",
            "push ctrl+c\n",
            "push ctrl+c\n",
            "push ctrl+c\n",
            "push ctrl+c\n",
            "push ctrl+c\n",
            "push ctrl+c\n",
            "push ctrl+c\n",
            "push ctrl+c\n",
            "push ctrl+c\n",
            "push ctrl+c\n",
            "push ctrl+c\n",
            "push ctrl+c\n",
            "push ctrl+c\n",
            "push ctrl+c\n",
            "push ctrl+c\n",
            "push ctrl+c\n",
            "push ctrl+c\n",
            "push ctrl+c\n",
            "push ctrl+c\n",
            "push ctrl+c\n",
            "push ctrl+c\n",
            "push ctrl+c\n",
            "push ctrl+c\n",
            "push ctrl+c\n",
            "push ctrl+c\n",
            "push ctrl+c\n",
            "push ctrl+c\n",
            "push ctrl+c\n",
            "push ctrl+c\n",
            "push ctrl+c\n",
            "push ctrl+c\n",
            "push ctrl+c\n",
            "push ctrl+c\n",
            "push ctrl+c\n",
            "push ctrl+c\n",
            "push ctrl+c\n",
            "push ctrl+c\n",
            "push ctrl+c\n",
            "push ctrl+c\n",
            "push ctrl+c\n",
            "push ctrl+c\n",
            "push ctrl+c\n",
            "push ctrl+c\n",
            "push ctrl+c\n",
            "push ctrl+c\n",
            "push ctrl+c\n",
            "push ctrl+c\n",
            "push ctrl+c\n",
            "push ctrl+c\n",
            "push ctrl+c\n",
            "push ctrl+c\n",
            "push ctrl+c\n",
            "push ctrl+c\n",
            "push ctrl+c\n",
            "push ctrl+c\n",
            "push ctrl+c\n",
            "push ctrl+c\n",
            "push ctrl+c\n",
            "push ctrl+c\n",
            "push ctrl+c\n",
            "push ctrl+c\n",
            "push ctrl+c\n",
            "push ctrl+c\n",
            "push ctrl+c\n",
            "push ctrl+c\n",
            "push ctrl+c\n",
            "push ctrl+c\n",
            "push ctrl+c\n",
            "push ctrl+c\n",
            "push ctrl+c\n",
            "push ctrl+c\n",
            "push ctrl+c\n",
            "push ctrl+c\n",
            "push ctrl+c\n",
            "push ctrl+c\n",
            "push ctrl+c\n",
            "push ctrl+c\n",
            "push ctrl+c\n",
            "push ctrl+c\n",
            "push ctrl+c\n",
            "push ctrl+c\n",
            "push ctrl+c\n",
            "push ctrl+c\n",
            "push ctrl+c\n",
            "push ctrl+c\n",
            "push ctrl+c\n",
            "push ctrl+c\n",
            "push ctrl+c\n",
            "push ctrl+c\n",
            "push ctrl+c\n",
            "push ctrl+c\n",
            "push ctrl+c\n",
            "push ctrl+c\n",
            "push ctrl+c\n",
            "push ctrl+c\n",
            "push ctrl+c\n",
            "push ctrl+c\n",
            "push ctrl+c\n",
            "push ctrl+c\n",
            "push ctrl+c\n",
            "push ctrl+c\n",
            "push ctrl+c\n",
            "push ctrl+c\n",
            "push ctrl+c\n",
            "push ctrl+c\n",
            "push ctrl+c\n",
            "push ctrl+c\n",
            "push ctrl+c\n",
            "push ctrl+c\n",
            "push ctrl+c\n",
            "push ctrl+c\n",
            "push ctrl+c\n",
            "push ctrl+c\n",
            "push ctrl+c\n",
            "push ctrl+c\n",
            "push ctrl+c\n",
            "push ctrl+c\n",
            "push ctrl+c\n",
            "push ctrl+c\n",
            "push ctrl+c\n",
            "push ctrl+c\n",
            "push ctrl+c\n",
            "push ctrl+c\n",
            "push ctrl+c\n",
            "push ctrl+c\n",
            "push ctrl+c\n",
            "push ctrl+c\n",
            "push ctrl+c\n",
            "push ctrl+c\n",
            "push ctrl+c\n",
            "push ctrl+c\n",
            "push ctrl+c\n",
            "push ctrl+c\n",
            "push ctrl+c\n",
            "push ctrl+c\n",
            "push ctrl+c\n",
            "push ctrl+c\n",
            "push ctrl+c\n",
            "push ctrl+c\n",
            "push ctrl+c\n",
            "push ctrl+c\n",
            "push ctrl+c\n",
            "push ctrl+c\n",
            "push ctrl+c\n",
            "push ctrl+c\n",
            "push ctrl+c\n",
            "push ctrl+c\n",
            "push ctrl+c\n",
            "push ctrl+c\n",
            "push ctrl+c\n",
            "push ctrl+c\n",
            "push ctrl+c\n",
            "push ctrl+c\n",
            "push ctrl+c\n",
            "push ctrl+c\n",
            "push ctrl+c\n",
            "push ctrl+c\n",
            "push ctrl+c\n",
            "push ctrl+c\n",
            "push ctrl+c\n",
            "push ctrl+c\n",
            "push ctrl+c\n",
            "push ctrl+c\n",
            "push ctrl+c\n",
            "push ctrl+c\n",
            "push ctrl+c\n",
            "push ctrl+c\n",
            "push ctrl+c\n",
            "push ctrl+c\n",
            "push ctrl+c\n",
            "push ctrl+c\n",
            "push ctrl+c\n",
            "push ctrl+c\n",
            "push ctrl+c\n",
            "push ctrl+c\n",
            "push ctrl+c\n",
            "push ctrl+c\n",
            "push ctrl+c\n",
            "push ctrl+c\n",
            "push ctrl+c\n",
            "push ctrl+c\n",
            "push ctrl+c\n",
            "push ctrl+c\n",
            "push ctrl+c\n",
            "push ctrl+c\n",
            "push ctrl+c\n",
            "push ctrl+c\n",
            "push ctrl+c\n",
            "push ctrl+c\n",
            "push ctrl+c\n",
            "push ctrl+c\n",
            "push ctrl+c\n",
            "push ctrl+c\n",
            "push ctrl+c\n",
            "push ctrl+c\n",
            "push ctrl+c\n",
            "push ctrl+c\n",
            "push ctrl+c\n",
            "push ctrl+c\n",
            "push ctrl+c\n",
            "push ctrl+c\n",
            "push ctrl+c\n",
            "push ctrl+c\n",
            "push ctrl+c\n",
            "push ctrl+c\n",
            "push ctrl+c\n",
            "push ctrl+c\n",
            "push ctrl+c\n",
            "push ctrl+c\n",
            "push ctrl+c\n",
            "push ctrl+c\n",
            "push ctrl+c\n",
            "push ctrl+c\n",
            "push ctrl+c\n",
            "push ctrl+c\n",
            "push ctrl+c\n",
            "push ctrl+c\n",
            "push ctrl+c\n",
            "push ctrl+c\n",
            "push ctrl+c\n",
            "push ctrl+c\n",
            "push ctrl+c\n",
            "push ctrl+c\n",
            "push ctrl+c\n",
            "push ctrl+c\n",
            "push ctrl+c\n",
            "push ctrl+c\n",
            "push ctrl+c\n",
            "push ctrl+c\n",
            "push ctrl+c\n",
            "push ctrl+c\n",
            "push ctrl+c\n",
            "push ctrl+c\n",
            "push ctrl+c\n",
            "push ctrl+c\n",
            "push ctrl+c\n",
            "push ctrl+c\n",
            "push ctrl+c\n",
            "push ctrl+c\n",
            "push ctrl+c\n",
            "push ctrl+c\n",
            "push ctrl+c\n",
            "push ctrl+c\n",
            "push ctrl+c\n",
            "push ctrl+c\n",
            "push ctrl+c\n",
            "push ctrl+c\n",
            "push ctrl+c\n",
            "push ctrl+c\n",
            "push ctrl+c\n",
            "push ctrl+c\n",
            "push ctrl+c\n",
            "push ctrl+c\n",
            "push ctrl+c\n",
            "push ctrl+c\n",
            "push ctrl+c\n",
            "push ctrl+c\n",
            "push ctrl+c\n",
            "push ctrl+c\n",
            "push ctrl+c\n",
            "push ctrl+c\n",
            "push ctrl+c\n",
            "push ctrl+c\n",
            "push ctrl+c\n",
            "push ctrl+c\n",
            "push ctrl+c\n",
            "push ctrl+c\n",
            "push ctrl+c\n",
            "push ctrl+c\n",
            "push ctrl+c\n",
            "push ctrl+c\n",
            "push ctrl+c\n",
            "push ctrl+c\n",
            "push ctrl+c\n",
            "push ctrl+c\n",
            "push ctrl+c\n",
            "push ctrl+c\n",
            "push ctrl+c\n",
            "push ctrl+c\n",
            "push ctrl+c\n",
            "push ctrl+c\n",
            "push ctrl+c\n",
            "push ctrl+c\n",
            "push ctrl+c\n",
            "push ctrl+c\n",
            "push ctrl+c\n",
            "push ctrl+c\n",
            "push ctrl+c\n",
            "push ctrl+c\n",
            "push ctrl+c\n",
            "push ctrl+c\n",
            "push ctrl+c\n",
            "push ctrl+c\n",
            "push ctrl+c\n",
            "push ctrl+c\n",
            "push ctrl+c\n",
            "push ctrl+c\n",
            "push ctrl+c\n",
            "push ctrl+c\n",
            "push ctrl+c\n",
            "push ctrl+c\n",
            "push ctrl+c\n",
            "push ctrl+c\n",
            "push ctrl+c\n",
            "push ctrl+c\n",
            "push ctrl+c\n",
            "push ctrl+c\n",
            "push ctrl+c\n",
            "push ctrl+c\n",
            "push ctrl+c\n",
            "push ctrl+c\n",
            "push ctrl+c\n",
            "push ctrl+c\n",
            "push ctrl+c\n",
            "push ctrl+c\n",
            "push ctrl+c\n",
            "push ctrl+c\n",
            "push ctrl+c\n",
            "push ctrl+c\n",
            "push ctrl+c\n",
            "push ctrl+c\n",
            "push ctrl+c\n",
            "push ctrl+c\n",
            "push ctrl+c\n",
            "push ctrl+c\n",
            "push ctrl+c\n",
            "push ctrl+c\n",
            "push ctrl+c\n",
            "push ctrl+c\n",
            "push ctrl+c\n",
            "push ctrl+c\n",
            "push ctrl+c\n",
            "push ctrl+c\n",
            "push ctrl+c\n",
            "push ctrl+c\n",
            "push ctrl+c\n",
            "push ctrl+c\n",
            "push ctrl+c\n",
            "push ctrl+c\n",
            "push ctrl+c\n",
            "push ctrl+c\n",
            "push ctrl+c\n",
            "push ctrl+c\n",
            "push ctrl+c\n",
            "push ctrl+c\n",
            "push ctrl+c\n",
            "push ctrl+c\n",
            "push ctrl+c\n",
            "push ctrl+c\n",
            "push ctrl+c\n",
            "push ctrl+c\n",
            "push ctrl+c\n",
            "push ctrl+c\n",
            "push ctrl+c\n",
            "push ctrl+c\n",
            "push ctrl+c\n",
            "push ctrl+c\n",
            "push ctrl+c\n",
            "push ctrl+c\n",
            "push ctrl+c\n",
            "push ctrl+c\n",
            "push ctrl+c\n",
            "push ctrl+c\n",
            "push ctrl+c\n",
            "push ctrl+c\n",
            "push ctrl+c\n",
            "push ctrl+c\n",
            "push ctrl+c\n",
            "push ctrl+c\n",
            "push ctrl+c\n",
            "push ctrl+c\n",
            "push ctrl+c\n",
            "push ctrl+c\n",
            "push ctrl+c\n",
            "push ctrl+c\n",
            "push ctrl+c\n",
            "push ctrl+c\n",
            "push ctrl+c\n",
            "push ctrl+c\n",
            "push ctrl+c\n",
            "push ctrl+c\n",
            "push ctrl+c\n",
            "push ctrl+c\n",
            "push ctrl+c\n",
            "push ctrl+c\n",
            "push ctrl+c\n",
            "push ctrl+c\n",
            "push ctrl+c\n",
            "push ctrl+c\n",
            "push ctrl+c\n",
            "push ctrl+c\n",
            "push ctrl+c\n",
            "push ctrl+c\n",
            "push ctrl+c\n",
            "push ctrl+c\n",
            "push ctrl+c\n",
            "push ctrl+c\n",
            "push ctrl+c\n",
            "push ctrl+c\n",
            "push ctrl+c\n",
            "push ctrl+c\n",
            "push ctrl+c\n",
            "push ctrl+c\n",
            "push ctrl+c\n",
            "push ctrl+c\n",
            "push ctrl+c\n",
            "push ctrl+c\n",
            "push ctrl+c\n",
            "push ctrl+c\n",
            "push ctrl+c\n",
            "push ctrl+c\n",
            "push ctrl+c\n",
            "push ctrl+c\n",
            "push ctrl+c\n",
            "push ctrl+c\n",
            "push ctrl+c\n",
            "push ctrl+c\n",
            "push ctrl+c\n",
            "push ctrl+c\n",
            "push ctrl+c\n",
            "push ctrl+c\n",
            "push ctrl+c\n",
            "push ctrl+c\n",
            "push ctrl+c\n",
            "push ctrl+c\n",
            "push ctrl+c\n",
            "push ctrl+c\n",
            "push ctrl+c\n",
            "push ctrl+c\n",
            "push ctrl+c\n",
            "push ctrl+c\n",
            "push ctrl+c\n",
            "push ctrl+c\n",
            "push ctrl+c\n",
            "push ctrl+c\n",
            "push ctrl+c\n",
            "push ctrl+c\n",
            "push ctrl+c\n",
            "push ctrl+c\n",
            "push ctrl+c\n",
            "push ctrl+c\n",
            "push ctrl+c\n",
            "push ctrl+c\n",
            "push ctrl+c\n",
            "push ctrl+c\n",
            "push ctrl+c\n",
            "push ctrl+c\n",
            "push ctrl+c\n",
            "push ctrl+c\n",
            "push ctrl+c\n",
            "push ctrl+c\n",
            "push ctrl+c\n",
            "push ctrl+c\n",
            "push ctrl+c\n",
            "push ctrl+c\n",
            "push ctrl+c\n",
            "push ctrl+c\n",
            "push ctrl+c\n",
            "push ctrl+c\n",
            "push ctrl+c\n",
            "push ctrl+c\n",
            "push ctrl+c\n",
            "push ctrl+c\n",
            "push ctrl+c\n",
            "push ctrl+c\n",
            "push ctrl+c\n",
            "push ctrl+c\n",
            "push ctrl+c\n",
            "push ctrl+c\n",
            "push ctrl+c\n",
            "push ctrl+c\n",
            "push ctrl+c\n",
            "push ctrl+c\n",
            "push ctrl+c\n",
            "push ctrl+c\n",
            "push ctrl+c\n",
            "push ctrl+c\n",
            "push ctrl+c\n",
            "push ctrl+c\n",
            "push ctrl+c\n",
            "push ctrl+c\n",
            "push ctrl+c\n",
            "push ctrl+c\n",
            "push ctrl+c\n",
            "push ctrl+c\n",
            "push ctrl+c\n",
            "push ctrl+c\n",
            "push ctrl+c\n",
            "push ctrl+c\n",
            "push ctrl+c\n",
            "push ctrl+c\n",
            "push ctrl+c\n",
            "push ctrl+c\n",
            "push ctrl+c\n",
            "push ctrl+c\n",
            "push ctrl+c\n",
            "push ctrl+c\n",
            "push ctrl+c\n",
            "push ctrl+c\n",
            "push ctrl+c\n",
            "push ctrl+c\n",
            "push ctrl+c\n",
            "push ctrl+c\n",
            "push ctrl+c\n",
            "push ctrl+c\n",
            "push ctrl+c\n",
            "push ctrl+c\n",
            "push ctrl+c\n",
            "push ctrl+c\n",
            "push ctrl+c\n",
            "push ctrl+c\n",
            "push ctrl+c\n",
            "push ctrl+c\n",
            "push ctrl+c\n",
            "push ctrl+c\n",
            "push ctrl+c\n",
            "push ctrl+c\n",
            "push ctrl+c\n",
            "push ctrl+c\n",
            "push ctrl+c\n",
            "push ctrl+c\n",
            "push ctrl+c\n",
            "push ctrl+c\n",
            "push ctrl+c\n",
            "push ctrl+c\n",
            "push ctrl+c\n",
            "push ctrl+c\n",
            "push ctrl+c\n",
            "push ctrl+c"
          ],
          "name": "stdout"
        },
        {
          "output_type": "error",
          "ename": "KeyboardInterrupt",
          "evalue": "ignored",
          "traceback": [
            "\u001b[0;31m---------------------------------------------------------------------------\u001b[0m",
            "\u001b[0;31mKeyboardInterrupt\u001b[0m                         Traceback (most recent call last)",
            "\u001b[0;32m<ipython-input-45-eeaf97226e4c>\u001b[0m in \u001b[0;36m<module>\u001b[0;34m()\u001b[0m\n\u001b[1;32m      1\u001b[0m \u001b[0;32mwhile\u001b[0m \u001b[0;32mTrue\u001b[0m\u001b[0;34m:\u001b[0m\u001b[0;34m\u001b[0m\u001b[0;34m\u001b[0m\u001b[0m\n\u001b[0;32m----> 2\u001b[0;31m   \u001b[0mprint\u001b[0m \u001b[0;34m(\u001b[0m\u001b[0;34m'push ctrl+c'\u001b[0m\u001b[0;34m)\u001b[0m\u001b[0;34m\u001b[0m\u001b[0;34m\u001b[0m\u001b[0m\n\u001b[0m",
            "\u001b[0;32m/usr/local/lib/python3.6/dist-packages/ipykernel/iostream.py\u001b[0m in \u001b[0;36mwrite\u001b[0;34m(self, string)\u001b[0m\n\u001b[1;32m    398\u001b[0m             \u001b[0mis_child\u001b[0m \u001b[0;34m=\u001b[0m \u001b[0;34m(\u001b[0m\u001b[0;32mnot\u001b[0m \u001b[0mself\u001b[0m\u001b[0;34m.\u001b[0m\u001b[0m_is_master_process\u001b[0m\u001b[0;34m(\u001b[0m\u001b[0;34m)\u001b[0m\u001b[0;34m)\u001b[0m\u001b[0;34m\u001b[0m\u001b[0;34m\u001b[0m\u001b[0m\n\u001b[1;32m    399\u001b[0m             \u001b[0;31m# only touch the buffer in the IO thread to avoid races\u001b[0m\u001b[0;34m\u001b[0m\u001b[0;34m\u001b[0m\u001b[0;34m\u001b[0m\u001b[0m\n\u001b[0;32m--> 400\u001b[0;31m             \u001b[0mself\u001b[0m\u001b[0;34m.\u001b[0m\u001b[0mpub_thread\u001b[0m\u001b[0;34m.\u001b[0m\u001b[0mschedule\u001b[0m\u001b[0;34m(\u001b[0m\u001b[0;32mlambda\u001b[0m \u001b[0;34m:\u001b[0m \u001b[0mself\u001b[0m\u001b[0;34m.\u001b[0m\u001b[0m_buffer\u001b[0m\u001b[0;34m.\u001b[0m\u001b[0mwrite\u001b[0m\u001b[0;34m(\u001b[0m\u001b[0mstring\u001b[0m\u001b[0;34m)\u001b[0m\u001b[0;34m)\u001b[0m\u001b[0;34m\u001b[0m\u001b[0;34m\u001b[0m\u001b[0m\n\u001b[0m\u001b[1;32m    401\u001b[0m             \u001b[0;32mif\u001b[0m \u001b[0mis_child\u001b[0m\u001b[0;34m:\u001b[0m\u001b[0;34m\u001b[0m\u001b[0;34m\u001b[0m\u001b[0m\n\u001b[1;32m    402\u001b[0m                 \u001b[0;31m# newlines imply flush in subprocesses\u001b[0m\u001b[0;34m\u001b[0m\u001b[0;34m\u001b[0m\u001b[0;34m\u001b[0m\u001b[0m\n",
            "\u001b[0;32m/usr/local/lib/python3.6/dist-packages/ipykernel/iostream.py\u001b[0m in \u001b[0;36mschedule\u001b[0;34m(self, f)\u001b[0m\n\u001b[1;32m    201\u001b[0m             \u001b[0mself\u001b[0m\u001b[0;34m.\u001b[0m\u001b[0m_events\u001b[0m\u001b[0;34m.\u001b[0m\u001b[0mappend\u001b[0m\u001b[0;34m(\u001b[0m\u001b[0mf\u001b[0m\u001b[0;34m)\u001b[0m\u001b[0;34m\u001b[0m\u001b[0;34m\u001b[0m\u001b[0m\n\u001b[1;32m    202\u001b[0m             \u001b[0;31m# wake event thread (message content is ignored)\u001b[0m\u001b[0;34m\u001b[0m\u001b[0;34m\u001b[0m\u001b[0;34m\u001b[0m\u001b[0m\n\u001b[0;32m--> 203\u001b[0;31m             \u001b[0mself\u001b[0m\u001b[0;34m.\u001b[0m\u001b[0m_event_pipe\u001b[0m\u001b[0;34m.\u001b[0m\u001b[0msend\u001b[0m\u001b[0;34m(\u001b[0m\u001b[0;34mb''\u001b[0m\u001b[0;34m)\u001b[0m\u001b[0;34m\u001b[0m\u001b[0;34m\u001b[0m\u001b[0m\n\u001b[0m\u001b[1;32m    204\u001b[0m         \u001b[0;32melse\u001b[0m\u001b[0;34m:\u001b[0m\u001b[0;34m\u001b[0m\u001b[0;34m\u001b[0m\u001b[0m\n\u001b[1;32m    205\u001b[0m             \u001b[0mf\u001b[0m\u001b[0;34m(\u001b[0m\u001b[0;34m)\u001b[0m\u001b[0;34m\u001b[0m\u001b[0;34m\u001b[0m\u001b[0m\n",
            "\u001b[0;32m/usr/local/lib/python3.6/dist-packages/zmq/sugar/socket.py\u001b[0m in \u001b[0;36msend\u001b[0;34m(self, data, flags, copy, track, routing_id, group)\u001b[0m\n\u001b[1;32m    398\u001b[0m                                  copy_threshold=self.copy_threshold)\n\u001b[1;32m    399\u001b[0m             \u001b[0mdata\u001b[0m\u001b[0;34m.\u001b[0m\u001b[0mgroup\u001b[0m \u001b[0;34m=\u001b[0m \u001b[0mgroup\u001b[0m\u001b[0;34m\u001b[0m\u001b[0;34m\u001b[0m\u001b[0m\n\u001b[0;32m--> 400\u001b[0;31m         \u001b[0;32mreturn\u001b[0m \u001b[0msuper\u001b[0m\u001b[0;34m(\u001b[0m\u001b[0mSocket\u001b[0m\u001b[0;34m,\u001b[0m \u001b[0mself\u001b[0m\u001b[0;34m)\u001b[0m\u001b[0;34m.\u001b[0m\u001b[0msend\u001b[0m\u001b[0;34m(\u001b[0m\u001b[0mdata\u001b[0m\u001b[0;34m,\u001b[0m \u001b[0mflags\u001b[0m\u001b[0;34m=\u001b[0m\u001b[0mflags\u001b[0m\u001b[0;34m,\u001b[0m \u001b[0mcopy\u001b[0m\u001b[0;34m=\u001b[0m\u001b[0mcopy\u001b[0m\u001b[0;34m,\u001b[0m \u001b[0mtrack\u001b[0m\u001b[0;34m=\u001b[0m\u001b[0mtrack\u001b[0m\u001b[0;34m)\u001b[0m\u001b[0;34m\u001b[0m\u001b[0;34m\u001b[0m\u001b[0m\n\u001b[0m\u001b[1;32m    401\u001b[0m \u001b[0;34m\u001b[0m\u001b[0m\n\u001b[1;32m    402\u001b[0m     \u001b[0;32mdef\u001b[0m \u001b[0msend_multipart\u001b[0m\u001b[0;34m(\u001b[0m\u001b[0mself\u001b[0m\u001b[0;34m,\u001b[0m \u001b[0mmsg_parts\u001b[0m\u001b[0;34m,\u001b[0m \u001b[0mflags\u001b[0m\u001b[0;34m=\u001b[0m\u001b[0;36m0\u001b[0m\u001b[0;34m,\u001b[0m \u001b[0mcopy\u001b[0m\u001b[0;34m=\u001b[0m\u001b[0;32mTrue\u001b[0m\u001b[0;34m,\u001b[0m \u001b[0mtrack\u001b[0m\u001b[0;34m=\u001b[0m\u001b[0;32mFalse\u001b[0m\u001b[0;34m,\u001b[0m \u001b[0;34m**\u001b[0m\u001b[0mkwargs\u001b[0m\u001b[0;34m)\u001b[0m\u001b[0;34m:\u001b[0m\u001b[0;34m\u001b[0m\u001b[0;34m\u001b[0m\u001b[0m\n",
            "\u001b[0;32mzmq/backend/cython/socket.pyx\u001b[0m in \u001b[0;36mzmq.backend.cython.socket.Socket.send\u001b[0;34m()\u001b[0m\n",
            "\u001b[0;32mzmq/backend/cython/socket.pyx\u001b[0m in \u001b[0;36mzmq.backend.cython.socket.Socket.send\u001b[0;34m()\u001b[0m\n",
            "\u001b[0;32mzmq/backend/cython/socket.pyx\u001b[0m in \u001b[0;36mzmq.backend.cython.socket._send_copy\u001b[0;34m()\u001b[0m\n",
            "\u001b[0;32m/usr/local/lib/python3.6/dist-packages/zmq/backend/cython/checkrc.pxd\u001b[0m in \u001b[0;36mzmq.backend.cython.checkrc._check_rc\u001b[0;34m()\u001b[0m\n",
            "\u001b[0;31mKeyboardInterrupt\u001b[0m: "
          ]
        }
      ]
    },
    {
      "cell_type": "code",
      "metadata": {
        "id": "PuId9e8uuRyw",
        "colab_type": "code",
        "outputId": "4b039b23-ac0a-4b9a-a576-0f670e5d5ca2",
        "colab": {
          "base_uri": "https://localhost:8080/",
          "height": 119
        }
      },
      "source": [
        "while True:\n",
        "  answer = input('what is capital of England? ex) london, paris, seoul : ')\n",
        "  if answer =='london':\n",
        "    print('right, london is capital of England.')\n",
        "    break\n",
        "  elif answer =='paris':\n",
        "    print('no, paris is capital of France.')\n",
        "  elif answer == 'seoul':\n",
        "    print('seoul is Cap. of Korea.')\n",
        "  else:\n",
        "    print('pick a example.')"
      ],
      "execution_count": 0,
      "outputs": [
        {
          "output_type": "stream",
          "text": [
            "what is capital of England? ex) london, paris, seoulLondon\n",
            "pick a example.\n",
            "what is capital of England? ex) london, paris, seoulparis\n",
            "no, paris is capital of France.\n",
            "what is capital of England? ex) london, paris, seoullondon\n",
            "right, london is capital of England.\n"
          ],
          "name": "stdout"
        }
      ]
    },
    {
      "cell_type": "markdown",
      "metadata": {
        "id": "x4JfFllEvuV5",
        "colab_type": "text"
      },
      "source": [
        "## 프로젝트 : 가위바위보 2단계"
      ]
    },
    {
      "cell_type": "code",
      "metadata": {
        "id": "aQN1ETZgvxj4",
        "colab_type": "code",
        "outputId": "0536aba9-cc7f-47dc-c5ac-0066167af5a0",
        "colab": {
          "base_uri": "https://localhost:8080/",
          "height": 136
        }
      },
      "source": [
        "import random \n",
        "\n",
        "rps=['rock','paper','scissors']\n",
        "\n",
        "while True:\n",
        "  user = input(\"rock ,paper, scissors! or finish : \")\n",
        "  computer = random.choice(rps)\n",
        "\n",
        "  if user == 'finish':\n",
        "    break\n",
        "  print (user, computer)\n",
        "\n",
        "  if user == computer:\n",
        "    print('draw')\n",
        "  elif user =='scissors':\n",
        "    if computer =='rock':\n",
        "      print('lose')\n",
        "    else:\n",
        "      print('win')\n",
        "  elif user =='rock':\n",
        "    if computer =='scissors':\n",
        "      print('win')\n",
        "    else:\n",
        "      print('lose')\n",
        "  elif user =='paper':\n",
        "    if computer =='scissors':\n",
        "      print('lose')\n",
        "    else:\n",
        "      print('win')"
      ],
      "execution_count": 0,
      "outputs": [
        {
          "output_type": "stream",
          "text": [
            "rock ,paper, scissors! or finish : rock\n",
            "rock rock\n",
            "draw\n",
            "rock ,paper, scissors! or finish : rock\n",
            "rock scissors\n",
            "win\n",
            "rock ,paper, scissors! or finish : finish\n"
          ],
          "name": "stdout"
        }
      ]
    },
    {
      "cell_type": "markdown",
      "metadata": {
        "id": "FDRksRaNveU7",
        "colab_type": "text"
      },
      "source": [
        "##연습문제"
      ]
    },
    {
      "cell_type": "markdown",
      "metadata": {
        "id": "yK3UXKiPvgNk",
        "colab_type": "text"
      },
      "source": [
        "###1"
      ]
    },
    {
      "cell_type": "code",
      "metadata": {
        "id": "ZIj8McMHvbAD",
        "colab_type": "code",
        "outputId": "d7cf4fcb-3a7f-4c41-d775-3c2b124453db",
        "colab": {
          "base_uri": "https://localhost:8080/",
          "height": 68
        }
      },
      "source": [
        "count = 0\n",
        "while count <3:\n",
        "  print(count)\n",
        "  count = count +1\n",
        "\n",
        "#0\n",
        "#1\n",
        "#2"
      ],
      "execution_count": 0,
      "outputs": [
        {
          "output_type": "stream",
          "text": [
            "0\n",
            "1\n",
            "2\n"
          ],
          "name": "stdout"
        }
      ]
    },
    {
      "cell_type": "markdown",
      "metadata": {
        "id": "Cic0KtayvgZI",
        "colab_type": "text"
      },
      "source": [
        "###2"
      ]
    },
    {
      "cell_type": "code",
      "metadata": {
        "id": "-_1oeX5ny-zc",
        "colab_type": "code",
        "outputId": "4f816323-7ed4-4e17-b939-64c29d1a8a74",
        "colab": {
          "base_uri": "https://localhost:8080/",
          "height": 68
        }
      },
      "source": [
        "count =1\n",
        "while count<4:\n",
        "  count = count+1\n",
        "  print(count)"
      ],
      "execution_count": 0,
      "outputs": [
        {
          "output_type": "stream",
          "text": [
            "2\n",
            "3\n",
            "4\n"
          ],
          "name": "stdout"
        }
      ]
    },
    {
      "cell_type": "markdown",
      "metadata": {
        "id": "-sJ9ZWkzvgkJ",
        "colab_type": "text"
      },
      "source": [
        "###3"
      ]
    },
    {
      "cell_type": "code",
      "metadata": {
        "id": "9Yh-yzsXzJnj",
        "colab_type": "code",
        "outputId": "181567c2-8db9-474d-a5de-1138d2cdf356",
        "colab": {
          "base_uri": "https://localhost:8080/",
          "height": 68
        }
      },
      "source": [
        "count = 0\n",
        "while count <=5:\n",
        "  if count % 2 !=0:\n",
        "    print(count)\n",
        "  count = count +1\n",
        "\n",
        "#1, 3, 5  "
      ],
      "execution_count": 0,
      "outputs": [
        {
          "output_type": "stream",
          "text": [
            "1\n",
            "3\n",
            "5\n"
          ],
          "name": "stdout"
        }
      ]
    },
    {
      "cell_type": "markdown",
      "metadata": {
        "id": "tl5ncbRHzcb4",
        "colab_type": "text"
      },
      "source": [
        "###4"
      ]
    },
    {
      "cell_type": "code",
      "metadata": {
        "id": "zk6bKcWFzdrk",
        "colab_type": "code",
        "outputId": "77a3da3c-abb2-4abe-de38-b68eadd37d48",
        "colab": {
          "base_uri": "https://localhost:8080/",
          "height": 34
        }
      },
      "source": [
        "total = 0\n",
        "count =1\n",
        "while count <=5:\n",
        "  total = total + count\n",
        "  count = count + 1\n",
        "print('total is', total)"
      ],
      "execution_count": 0,
      "outputs": [
        {
          "output_type": "stream",
          "text": [
            "total is 15\n"
          ],
          "name": "stdout"
        }
      ]
    },
    {
      "cell_type": "markdown",
      "metadata": {
        "id": "3XKJTwHez4t7",
        "colab_type": "text"
      },
      "source": [
        "###5"
      ]
    },
    {
      "cell_type": "code",
      "metadata": {
        "id": "-yHtrreCz5_j",
        "colab_type": "code",
        "outputId": "08755771-33c1-4988-e315-b264980e5c5b",
        "colab": {
          "base_uri": "https://localhost:8080/",
          "height": 238
        }
      },
      "source": [
        "for i in range(3):\n",
        "  print( 'i is' ,i)\n",
        "\n",
        "for j in range(0,3):\n",
        "  print ('j is', j)\n",
        "\n",
        "k=0 \n",
        "\n",
        "while k<=3:\n",
        "  print('k is', k)\n",
        "  k = k+1\n",
        "\n",
        "l=0\n",
        "\n",
        "while True:\n",
        "  print('l is', l)\n",
        "  l = l+1\n",
        "  if l==3:\n",
        "    break"
      ],
      "execution_count": 0,
      "outputs": [
        {
          "output_type": "stream",
          "text": [
            "i is 0\n",
            "i is 1\n",
            "i is 2\n",
            "j is 0\n",
            "j is 1\n",
            "j is 2\n",
            "k is 0\n",
            "k is 1\n",
            "k is 2\n",
            "k is 3\n",
            "l is 0\n",
            "l is 1\n",
            "l is 2\n"
          ],
          "name": "stdout"
        }
      ]
    },
    {
      "cell_type": "markdown",
      "metadata": {
        "id": "qjBIy3Ai09tH",
        "colab_type": "text"
      },
      "source": [
        "###6"
      ]
    },
    {
      "cell_type": "code",
      "metadata": {
        "id": "y_6B_wU_0_Ns",
        "colab_type": "code",
        "outputId": "66fedcf6-5f80-49a7-9728-2a276cb3ea80",
        "colab": {
          "base_uri": "https://localhost:8080/",
          "height": 68
        }
      },
      "source": [
        "count =3\n",
        "while count >0 :\n",
        "  print(count)\n",
        "  count = count - 1"
      ],
      "execution_count": 0,
      "outputs": [
        {
          "output_type": "stream",
          "text": [
            "3\n",
            "2\n",
            "1\n"
          ],
          "name": "stdout"
        }
      ]
    },
    {
      "cell_type": "markdown",
      "metadata": {
        "id": "2zzN9GZz1SLs",
        "colab_type": "text"
      },
      "source": [
        "###7"
      ]
    },
    {
      "cell_type": "code",
      "metadata": {
        "id": "WF1oHQBs1Tkk",
        "colab_type": "code",
        "outputId": "1447ce64-8b28-45f5-d2ae-185f228b26ab",
        "colab": {
          "base_uri": "https://localhost:8080/",
          "height": 68
        }
      },
      "source": [
        "clovers = ['clover1','clover2','clover3']\n",
        "count=0\n",
        "while count<3:\n",
        "  print(clovers[count])\n",
        "  count = count +1\n"
      ],
      "execution_count": 0,
      "outputs": [
        {
          "output_type": "stream",
          "text": [
            "clover1\n",
            "clover2\n",
            "clover3\n"
          ],
          "name": "stdout"
        }
      ]
    },
    {
      "cell_type": "markdown",
      "metadata": {
        "id": "qFcwne3V1vEB",
        "colab_type": "text"
      },
      "source": [
        "###8"
      ]
    },
    {
      "cell_type": "code",
      "metadata": {
        "id": "a2Cr7xkV1wTx",
        "colab_type": "code",
        "outputId": "513b18d2-4f1b-4c12-c23e-13a0605a826c",
        "colab": {
          "base_uri": "https://localhost:8080/",
          "height": 68
        }
      },
      "source": [
        "num =1\n",
        "while True:\n",
        "  if num > 3:\n",
        "    break\n",
        "  print(num)\n",
        "  num =num +1\n",
        "\n",
        "#1, 2, 3 "
      ],
      "execution_count": 0,
      "outputs": [
        {
          "output_type": "stream",
          "text": [
            "1\n",
            "2\n",
            "3\n"
          ],
          "name": "stdout"
        }
      ]
    },
    {
      "cell_type": "markdown",
      "metadata": {
        "id": "SOU8EfEF19fJ",
        "colab_type": "text"
      },
      "source": [
        "###9\n"
      ]
    },
    {
      "cell_type": "code",
      "metadata": {
        "id": "9xL-3kjg2AeW",
        "colab_type": "code",
        "outputId": "168cf1b1-3dea-4f33-bbce-91f7c33c5755",
        "colab": {
          "base_uri": "https://localhost:8080/",
          "height": 136
        }
      },
      "source": [
        "price = 0\n",
        "while price != -1: # while 조건, 조건 = true 진행, 조건문이 false가 되면 멈춤\n",
        "  price = int(input('enter price (finish:-1): '))\n",
        "  if price > 10000:\n",
        "    print('too expensive')\n",
        "  elif price > 5000:\n",
        "    print('good price')\n",
        "  elif price > 0:\n",
        "    print('cheap')"
      ],
      "execution_count": 0,
      "outputs": [
        {
          "output_type": "stream",
          "text": [
            "enter price (finish:-1): 158795\n",
            "too expensive\n",
            "enter price (finish:-1): 55\n",
            "cheap\n",
            "enter price (finish:-1): 5864\n",
            "good price\n",
            "enter price (finish:-1): -1\n"
          ],
          "name": "stdout"
        }
      ]
    },
    {
      "cell_type": "markdown",
      "metadata": {
        "id": "Z5mGvf6R201g",
        "colab_type": "text"
      },
      "source": [
        "###10"
      ]
    },
    {
      "cell_type": "code",
      "metadata": {
        "id": "pSw4ipCr22FP",
        "colab_type": "code",
        "outputId": "83997ec0-26a7-45bb-be61-73cd97a3b22a",
        "colab": {
          "base_uri": "https://localhost:8080/",
          "height": 317
        }
      },
      "source": [
        "while True:\n",
        "  number = int(input('enter a number over 2 (finish:-1): '))\n",
        "  if number ==-1:\n",
        "    break\n",
        "  count =2\n",
        "  is_prime = True # 소수 판별 변수\n",
        "  while count < number:\n",
        "    if number % count ==0:\n",
        "      is_prime = False\n",
        "      break\n",
        "    count = count +1\n",
        "  if is_prime:\n",
        "    print (number,' is a prime number.')\n",
        "  else:\n",
        "    print(number, 'is not a prime number.')\n"
      ],
      "execution_count": 0,
      "outputs": [
        {
          "output_type": "stream",
          "text": [
            "enter a number over 2 (finish:-1): 356\n",
            "356 is not a prime number.\n",
            "enter a number over 2 (finish:-1): 7\n",
            "7  is a prime number.\n",
            "enter a number over 2 (finish:-1): *1\n"
          ],
          "name": "stdout"
        },
        {
          "output_type": "error",
          "ename": "ValueError",
          "evalue": "ignored",
          "traceback": [
            "\u001b[0;31m---------------------------------------------------------------------------\u001b[0m",
            "\u001b[0;31mValueError\u001b[0m                                Traceback (most recent call last)",
            "\u001b[0;32m<ipython-input-17-d42565fe6335>\u001b[0m in \u001b[0;36m<module>\u001b[0;34m()\u001b[0m\n\u001b[1;32m      1\u001b[0m \u001b[0;32mwhile\u001b[0m \u001b[0;32mTrue\u001b[0m\u001b[0;34m:\u001b[0m\u001b[0;34m\u001b[0m\u001b[0;34m\u001b[0m\u001b[0m\n\u001b[0;32m----> 2\u001b[0;31m   \u001b[0mnumber\u001b[0m \u001b[0;34m=\u001b[0m \u001b[0mint\u001b[0m\u001b[0;34m(\u001b[0m\u001b[0minput\u001b[0m\u001b[0;34m(\u001b[0m\u001b[0;34m'enter a number over 2 (finish:-1): '\u001b[0m\u001b[0;34m)\u001b[0m\u001b[0;34m)\u001b[0m\u001b[0;34m\u001b[0m\u001b[0;34m\u001b[0m\u001b[0m\n\u001b[0m\u001b[1;32m      3\u001b[0m   \u001b[0;32mif\u001b[0m \u001b[0mnumber\u001b[0m \u001b[0;34m==\u001b[0m\u001b[0;34m-\u001b[0m\u001b[0;36m1\u001b[0m\u001b[0;34m:\u001b[0m\u001b[0;34m\u001b[0m\u001b[0;34m\u001b[0m\u001b[0m\n\u001b[1;32m      4\u001b[0m     \u001b[0;32mbreak\u001b[0m\u001b[0;34m\u001b[0m\u001b[0;34m\u001b[0m\u001b[0m\n\u001b[1;32m      5\u001b[0m   \u001b[0mcount\u001b[0m \u001b[0;34m=\u001b[0m\u001b[0;36m2\u001b[0m\u001b[0;34m\u001b[0m\u001b[0;34m\u001b[0m\u001b[0m\n",
            "\u001b[0;31mValueError\u001b[0m: invalid literal for int() with base 10: '*1'"
          ]
        }
      ]
    },
    {
      "cell_type": "markdown",
      "metadata": {
        "id": "3wTFxmIMpV3K",
        "colab_type": "text"
      },
      "source": [
        "#ch.7"
      ]
    },
    {
      "cell_type": "markdown",
      "metadata": {
        "id": "5nKJd-SPpbkU",
        "colab_type": "text"
      },
      "source": [
        "##튜플"
      ]
    },
    {
      "cell_type": "code",
      "metadata": {
        "id": "YeQykTzKpYXh",
        "colab_type": "code",
        "outputId": "26bd55ae-07b0-4bed-8958-5590362b32d9",
        "colab": {
          "base_uri": "https://localhost:8080/",
          "height": 35
        }
      },
      "source": [
        "#리스트와는 다르게 값 수정 불가\n",
        "my_tuple1 =()\n",
        "print(my_tuple1)"
      ],
      "execution_count": 0,
      "outputs": [
        {
          "output_type": "stream",
          "text": [
            "()\n"
          ],
          "name": "stdout"
        }
      ]
    },
    {
      "cell_type": "code",
      "metadata": {
        "id": "3q5PkMorrgCZ",
        "colab_type": "code",
        "outputId": "ffe280ac-e7cb-4e7f-8cf9-03fe74d5ee6f",
        "colab": {
          "base_uri": "https://localhost:8080/",
          "height": 35
        }
      },
      "source": [
        "my_tuple2 =(1,-2,3.14)\n",
        "print(my_tuple2)"
      ],
      "execution_count": 0,
      "outputs": [
        {
          "output_type": "stream",
          "text": [
            "(1, -2, 3.14)\n"
          ],
          "name": "stdout"
        }
      ]
    },
    {
      "cell_type": "code",
      "metadata": {
        "id": "9Blji0hZrmuH",
        "colab_type": "code",
        "outputId": "e57f8d29-9bf7-4eb8-a03b-57fbf22c06e7",
        "colab": {
          "base_uri": "https://localhost:8080/",
          "height": 35
        }
      },
      "source": [
        "my_tuple3 ='alice',10,1.0,1.2\n",
        "print(my_tuple3)"
      ],
      "execution_count": 0,
      "outputs": [
        {
          "output_type": "stream",
          "text": [
            "('alice', 10, 1.0, 1.2)\n"
          ],
          "name": "stdout"
        }
      ]
    },
    {
      "cell_type": "code",
      "metadata": {
        "id": "66Mn0d99sJzA",
        "colab_type": "code",
        "outputId": "fe65dd18-b94a-4685-9649-e834a17a929b",
        "colab": {
          "base_uri": "https://localhost:8080/",
          "height": 53
        }
      },
      "source": [
        "#값이 하나일때 , 없으면 튜플 인식x \n",
        "my_int1=(1)\n",
        "print(type(my_int1))\n",
        "\n",
        "my_int2=(1,) \n",
        "print(type(my_int2))"
      ],
      "execution_count": 0,
      "outputs": [
        {
          "output_type": "stream",
          "text": [
            "<class 'int'>\n",
            "<class 'tuple'>\n"
          ],
          "name": "stdout"
        }
      ]
    },
    {
      "cell_type": "code",
      "metadata": {
        "id": "1QADDMnXsJ6X",
        "colab_type": "code",
        "outputId": "5b38d810-e6b9-47ba-9f60-8419f2a547d1",
        "colab": {
          "base_uri": "https://localhost:8080/",
          "height": 35
        }
      },
      "source": [
        "clovers=('clover1','clover2','clover3')\n",
        "print(clovers[1])"
      ],
      "execution_count": 0,
      "outputs": [
        {
          "output_type": "stream",
          "text": [
            "clover2\n"
          ],
          "name": "stdout"
        }
      ]
    },
    {
      "cell_type": "code",
      "metadata": {
        "id": "YCqzs_2gsJ_R",
        "colab_type": "code",
        "outputId": "2ea8b424-cb1f-44c6-81f2-e4eda3a18897",
        "colab": {
          "base_uri": "https://localhost:8080/",
          "height": 172
        }
      },
      "source": [
        "clovers[1]='heart2'"
      ],
      "execution_count": 0,
      "outputs": [
        {
          "output_type": "error",
          "ename": "TypeError",
          "evalue": "ignored",
          "traceback": [
            "\u001b[0;31m---------------------------------------------------------------------------\u001b[0m",
            "\u001b[0;31mTypeError\u001b[0m                                 Traceback (most recent call last)",
            "\u001b[0;32m<ipython-input-6-adfe63771a19>\u001b[0m in \u001b[0;36m<module>\u001b[0;34m()\u001b[0m\n\u001b[0;32m----> 1\u001b[0;31m \u001b[0mclovers\u001b[0m\u001b[0;34m[\u001b[0m\u001b[0;36m1\u001b[0m\u001b[0;34m]\u001b[0m\u001b[0;34m=\u001b[0m\u001b[0;34m'heart2'\u001b[0m\u001b[0;34m\u001b[0m\u001b[0;34m\u001b[0m\u001b[0m\n\u001b[0m",
            "\u001b[0;31mTypeError\u001b[0m: 'tuple' object does not support item assignment"
          ]
        }
      ]
    },
    {
      "cell_type": "markdown",
      "metadata": {
        "id": "KZBsr1vrtx3J",
        "colab_type": "text"
      },
      "source": [
        "##패킹과 언패킹"
      ]
    },
    {
      "cell_type": "code",
      "metadata": {
        "id": "wFtgQ0_ksKC4",
        "colab_type": "code",
        "outputId": "097a02e9-a812-4a88-9007-040483d7e479",
        "colab": {
          "base_uri": "https://localhost:8080/",
          "height": 35
        }
      },
      "source": [
        "#패킹 : 여러 값을 하나의 변수에 넣는 것\n",
        "#언패킹: 튜플의 값을 풀어서 여러 변수에 저장하는 것\n",
        "\n",
        "alice_blue=240,248,255 #패킹\n",
        "r,g,b = alice_blue #언패킹\n",
        "print('R:',r,\" G:\",g,' B:',b)"
      ],
      "execution_count": 0,
      "outputs": [
        {
          "output_type": "stream",
          "text": [
            "R: 240  G: 248  B: 255\n"
          ],
          "name": "stdout"
        }
      ]
    },
    {
      "cell_type": "code",
      "metadata": {
        "id": "KdiTCmyovE_Q",
        "colab_type": "code",
        "outputId": "1223479f-f788-45f9-a8e6-cab96a54c18c",
        "colab": {
          "base_uri": "https://localhost:8080/",
          "height": 53
        }
      },
      "source": [
        "dodo = 'mint'\n",
        "alice = 'strawberry'\n",
        "print('dodo is', dodo,'alice is', alice)\n",
        "dodo,alice=alice,dodo\n",
        "print('dodo is', dodo,'alice is', alice)\n"
      ],
      "execution_count": 0,
      "outputs": [
        {
          "output_type": "stream",
          "text": [
            "dodo is mint alice is strawberry\n",
            "dodo is strawberry alice is mint\n"
          ],
          "name": "stdout"
        }
      ]
    },
    {
      "cell_type": "markdown",
      "metadata": {
        "id": "MHpxWvt1vwYQ",
        "colab_type": "text"
      },
      "source": [
        "##딕셔너리"
      ]
    },
    {
      "cell_type": "code",
      "metadata": {
        "id": "IJJ_1mRwvyOn",
        "colab_type": "code",
        "outputId": "81d042b6-d553-4524-bb85-bf29b12ccc23",
        "colab": {
          "base_uri": "https://localhost:8080/",
          "height": 71
        }
      },
      "source": [
        "#딕셔너리 ={키(이뮤터블):값(뮤터블)}\n",
        "my_dict1={}\n",
        "print(my_dict1)\n",
        "\n",
        "my_dict2={0:1,1:-2,2:3.14}\n",
        "print(my_dict2)\n",
        "\n",
        "my_dict3={'이름':'앨리스','나이':10, '시력':[1.0,1.2]}\n",
        "print(my_dict3)\n",
        "\n",
        "\n",
        "\n",
        "\n"
      ],
      "execution_count": 0,
      "outputs": [
        {
          "output_type": "stream",
          "text": [
            "{}\n",
            "{0: 1, 1: -2, 2: 3.14}\n",
            "{'이름': '앨리스', '나이': 10, '시력': [1.0, 1.2]}\n"
          ],
          "name": "stdout"
        }
      ]
    },
    {
      "cell_type": "code",
      "metadata": {
        "id": "90Rax_tQz5bA",
        "colab_type": "code",
        "outputId": "03678ed6-efc4-4f15-8ac2-7d4cac15c0fa",
        "colab": {
          "base_uri": "https://localhost:8080/",
          "height": 35
        }
      },
      "source": [
        "clover ={'age': 27, 'job':'solder'}\n",
        "print(clover)\n"
      ],
      "execution_count": 0,
      "outputs": [
        {
          "output_type": "stream",
          "text": [
            "{'age': 27, 'job': 'solder'}\n"
          ],
          "name": "stdout"
        }
      ]
    },
    {
      "cell_type": "code",
      "metadata": {
        "id": "i3pGbJWk0T-u",
        "colab_type": "code",
        "outputId": "af45db92-ce57-4cd1-9c5d-2772f7458547",
        "colab": {
          "base_uri": "https://localhost:8080/",
          "height": 35
        }
      },
      "source": [
        "clover['number'] =9\n",
        "print(clover)"
      ],
      "execution_count": 0,
      "outputs": [
        {
          "output_type": "stream",
          "text": [
            "{'age': 27, 'job': 'solder', 'number': 9}\n"
          ],
          "name": "stdout"
        }
      ]
    },
    {
      "cell_type": "code",
      "metadata": {
        "id": "7w8_8f5Z0xXf",
        "colab_type": "code",
        "outputId": "572301fb-a9e4-488d-e0ba-8bccd121909a",
        "colab": {
          "base_uri": "https://localhost:8080/",
          "height": 35
        }
      },
      "source": [
        "print(clover['number'] )\n"
      ],
      "execution_count": 0,
      "outputs": [
        {
          "output_type": "stream",
          "text": [
            "9\n"
          ],
          "name": "stdout"
        }
      ]
    },
    {
      "cell_type": "code",
      "metadata": {
        "id": "ZzRxzBO404UH",
        "colab_type": "code",
        "outputId": "f536a3e2-4b84-4de9-934f-e09b06fe6752",
        "colab": {
          "base_uri": "https://localhost:8080/",
          "height": 35
        }
      },
      "source": [
        "clover['number'] =6\n",
        "print(clover['number'] )"
      ],
      "execution_count": 0,
      "outputs": [
        {
          "output_type": "stream",
          "text": [
            "6\n"
          ],
          "name": "stdout"
        }
      ]
    },
    {
      "cell_type": "code",
      "metadata": {
        "id": "R7MAZuf908m2",
        "colab_type": "code",
        "outputId": "ec524245-bec7-4c70-df76-f9744f0e09ba",
        "colab": {
          "base_uri": "https://localhost:8080/",
          "height": 35
        }
      },
      "source": [
        "print(clover.get('number') )"
      ],
      "execution_count": 0,
      "outputs": [
        {
          "output_type": "stream",
          "text": [
            "6\n"
          ],
          "name": "stdout"
        }
      ]
    },
    {
      "cell_type": "code",
      "metadata": {
        "id": "072dg28U1By-",
        "colab_type": "code",
        "outputId": "e2f988ac-0caf-4c43-ab5b-1a65009c0c1c",
        "colab": {
          "base_uri": "https://localhost:8080/",
          "height": 35
        }
      },
      "source": [
        "del clover['age']\n",
        "print(clover)"
      ],
      "execution_count": 0,
      "outputs": [
        {
          "output_type": "stream",
          "text": [
            "{'job': 'solder', 'number': 6}\n"
          ],
          "name": "stdout"
        }
      ]
    },
    {
      "cell_type": "code",
      "metadata": {
        "id": "8nkqHAY91JKe",
        "colab_type": "code",
        "outputId": "d140dad1-562a-4cb1-af7c-6520f29ba86c",
        "colab": {
          "base_uri": "https://localhost:8080/",
          "height": 35
        }
      },
      "source": [
        "order={'spade1':'bibim','dia2':'spicy',}\n",
        "print(order)"
      ],
      "execution_count": 0,
      "outputs": [
        {
          "output_type": "stream",
          "text": [
            "{'spade1': 'bibim', 'dia2': 'spicy'}\n"
          ],
          "name": "stdout"
        }
      ]
    },
    {
      "cell_type": "code",
      "metadata": {
        "id": "ncInXkuW2I1_",
        "colab_type": "code",
        "outputId": "2d5f2fde-5fd3-4a63-b2d3-ba88d538d8fd",
        "colab": {
          "base_uri": "https://localhost:8080/",
          "height": 35
        }
      },
      "source": [
        "order['clover3'] = 'curry'\n",
        "print(order)"
      ],
      "execution_count": 0,
      "outputs": [
        {
          "output_type": "stream",
          "text": [
            "{'spade1': 'bibim', 'dia2': 'spicy', 'clover3': 'curry'}\n"
          ],
          "name": "stdout"
        }
      ]
    },
    {
      "cell_type": "code",
      "metadata": {
        "id": "W8HAXkhN2RnG",
        "colab_type": "code",
        "outputId": "f9e80dd7-d505-442a-9acf-2bd4f7caaba8",
        "colab": {
          "base_uri": "https://localhost:8080/",
          "height": 35
        }
      },
      "source": [
        "order['dia2'] = 'chinease'\n",
        "del order['spade1']\n",
        "\n",
        "print(order)"
      ],
      "execution_count": 0,
      "outputs": [
        {
          "output_type": "stream",
          "text": [
            "{'dia2': 'chinease', 'clover3': 'curry'}\n"
          ],
          "name": "stdout"
        }
      ]
    },
    {
      "cell_type": "markdown",
      "metadata": {
        "id": "__nJd09r3uJe",
        "colab_type": "text"
      },
      "source": [
        "##프로젝트 : 가위바위보 3단계"
      ]
    },
    {
      "cell_type": "code",
      "metadata": {
        "id": "UuLrTos63xfw",
        "colab_type": "code",
        "outputId": "2b0d1bbb-ece6-4c1e-be50-21db9afa859d",
        "colab": {
          "base_uri": "https://localhost:8080/",
          "height": 143
        }
      },
      "source": [
        "import random\n",
        "\n",
        "rps=['rock','paper','scissors']\n",
        "\n",
        "results={\n",
        "    ('rock','paper'):True,\n",
        "    ('rock','scissors'):False,\n",
        "    ('paper','rock'):True,\n",
        "    ('paper','scissors'):False,\n",
        "    ('scissors','paper'):True,\n",
        "    ('scissors','rock'):False,\n",
        " }\n",
        "\n",
        "while True:\n",
        "  user = input(\"rock ,paper, scissors! or finish : \")\n",
        "  computer = random.choice(rps)\n",
        "\n",
        "  if user == 'finish':\n",
        "    break\n",
        "  print (user, computer)\n",
        "\n",
        "  if user == computer:\n",
        "    print('draw')\n",
        "  elif results[(user,computer)]:\n",
        "    print('wind')\n",
        "  else:\n",
        "      print('lose')"
      ],
      "execution_count": 0,
      "outputs": [
        {
          "output_type": "stream",
          "text": [
            "rock ,paper, scissors! or finish : rock\n",
            "rock paper\n",
            "wind\n",
            "rock ,paper, scissors! or finish : rock\n",
            "rock scissors\n",
            "lose\n",
            "rock ,paper, scissors! or finish : finish\n"
          ],
          "name": "stdout"
        }
      ]
    },
    {
      "cell_type": "markdown",
      "metadata": {
        "id": "vwij3rzS2nPo",
        "colab_type": "text"
      },
      "source": [
        "##연습문제"
      ]
    },
    {
      "cell_type": "markdown",
      "metadata": {
        "id": "-xcwnH2l2pXv",
        "colab_type": "text"
      },
      "source": [
        "###1"
      ]
    },
    {
      "cell_type": "code",
      "metadata": {
        "id": "FQfrui1J5jld",
        "colab_type": "code",
        "outputId": "c80cb507-2bec-4a70-8840-5ee8cb446dd4",
        "colab": {
          "base_uri": "https://localhost:8080/",
          "height": 35
        }
      },
      "source": [
        "nums=1,2,3\n",
        "print(nums)"
      ],
      "execution_count": 0,
      "outputs": [
        {
          "output_type": "stream",
          "text": [
            "(1, 2, 3)\n"
          ],
          "name": "stdout"
        }
      ]
    },
    {
      "cell_type": "markdown",
      "metadata": {
        "id": "pdST_BlP6AsQ",
        "colab_type": "text"
      },
      "source": [
        "###2"
      ]
    },
    {
      "cell_type": "code",
      "metadata": {
        "id": "cAftkAQr2pDv",
        "colab_type": "code",
        "outputId": "da982e94-0173-48ff-8236-cf9dd4ea2e07",
        "colab": {
          "base_uri": "https://localhost:8080/",
          "height": 53
        }
      },
      "source": [
        "my_tuple =(3.14,2.71)\n",
        "print(my_tuple) #(3.14,2.71)\n",
        "print(my_tuple[1]) #2.71"
      ],
      "execution_count": 0,
      "outputs": [
        {
          "output_type": "stream",
          "text": [
            "(3.14, 2.71)\n",
            "2.71\n"
          ],
          "name": "stdout"
        }
      ]
    },
    {
      "cell_type": "markdown",
      "metadata": {
        "id": "PeMN3tze6SwP",
        "colab_type": "text"
      },
      "source": [
        "###3"
      ]
    },
    {
      "cell_type": "code",
      "metadata": {
        "id": "hKFEEH886TyX",
        "colab_type": "code",
        "outputId": "ea22e117-562a-44e9-bbf2-327ef7f6d3cd",
        "colab": {
          "base_uri": "https://localhost:8080/",
          "height": 89
        }
      },
      "source": [
        "my_var1=1,\n",
        "print(type(my_var1))\n",
        "my_var2=(1,)\n",
        "print(type(my_var2))\n",
        "my_var3=(1)\n",
        "print(type(my_var3))\n",
        "my_var4=1,2\n",
        "print(type(my_var4))"
      ],
      "execution_count": 0,
      "outputs": [
        {
          "output_type": "stream",
          "text": [
            "<class 'tuple'>\n",
            "<class 'tuple'>\n",
            "<class 'int'>\n",
            "<class 'tuple'>\n"
          ],
          "name": "stdout"
        }
      ]
    },
    {
      "cell_type": "markdown",
      "metadata": {
        "id": "qz9VV1o-60B_",
        "colab_type": "text"
      },
      "source": [
        "###4"
      ]
    },
    {
      "cell_type": "code",
      "metadata": {
        "id": "_Z8-4LBY6zvu",
        "colab_type": "code",
        "outputId": "61b1c399-f325-41e3-e0cf-68adfed08fbf",
        "colab": {
          "base_uri": "https://localhost:8080/",
          "height": 71
        }
      },
      "source": [
        "nums=1,2,3\n",
        "for i in range(3):\n",
        "  print(nums[i]) \n",
        "\n",
        "#1\n",
        "#2\n",
        "#3\n",
        "\n"
      ],
      "execution_count": 0,
      "outputs": [
        {
          "output_type": "stream",
          "text": [
            "1\n",
            "2\n",
            "3\n"
          ],
          "name": "stdout"
        }
      ]
    },
    {
      "cell_type": "markdown",
      "metadata": {
        "id": "9EQz5C1T7E7J",
        "colab_type": "text"
      },
      "source": [
        "###5"
      ]
    },
    {
      "cell_type": "code",
      "metadata": {
        "id": "EdT6vFln7GBW",
        "colab_type": "code",
        "outputId": "fcc5cb63-c970-4ed1-d05b-c26feb4ecdaf",
        "colab": {
          "base_uri": "https://localhost:8080/",
          "height": 35
        }
      },
      "source": [
        "diamonds =1,5,6,7\n",
        "ace,king,queen,jack = diamonds\n",
        "print(queen) #6"
      ],
      "execution_count": 0,
      "outputs": [
        {
          "output_type": "stream",
          "text": [
            "6\n"
          ],
          "name": "stdout"
        }
      ]
    },
    {
      "cell_type": "markdown",
      "metadata": {
        "id": "Q1vMfv5U7QjP",
        "colab_type": "text"
      },
      "source": [
        "###6"
      ]
    },
    {
      "cell_type": "code",
      "metadata": {
        "id": "leVD0g3t7TqO",
        "colab_type": "code",
        "outputId": "852ae062-9abe-4d45-850a-b17b8531f769",
        "colab": {
          "base_uri": "https://localhost:8080/",
          "height": 35
        }
      },
      "source": [
        "alice={}\n",
        "alice['sex'] = 'fe'\n",
        "alice['age'] = 13\n",
        "alice['blood type'] = 'AB'\n",
        "print(alice)\n",
        "\n",
        "#{'sex':'fe','age':13,'blood type':'AB'}"
      ],
      "execution_count": 0,
      "outputs": [
        {
          "output_type": "stream",
          "text": [
            "{'sex': 'fe', 'age': 13, 'blood type': 'AB'}\n"
          ],
          "name": "stdout"
        }
      ]
    },
    {
      "cell_type": "markdown",
      "metadata": {
        "id": "3jYpRAi17syn",
        "colab_type": "text"
      },
      "source": [
        "###7"
      ]
    },
    {
      "cell_type": "code",
      "metadata": {
        "id": "4aQplcLF7t22",
        "colab_type": "code",
        "outputId": "e546cfdd-0e4b-4746-8fef-44b94458f5d4",
        "colab": {
          "base_uri": "https://localhost:8080/",
          "height": 35
        }
      },
      "source": [
        "print(alice['blood type'])"
      ],
      "execution_count": 0,
      "outputs": [
        {
          "output_type": "stream",
          "text": [
            "AB\n"
          ],
          "name": "stdout"
        }
      ]
    },
    {
      "cell_type": "markdown",
      "metadata": {
        "id": "IOQNwKP-8BSK",
        "colab_type": "text"
      },
      "source": [
        "###8"
      ]
    },
    {
      "cell_type": "code",
      "metadata": {
        "id": "LgETrfJC8CS7",
        "colab_type": "code",
        "outputId": "d6f3ca21-666e-43bd-b830-c1391f4e57b7",
        "colab": {
          "base_uri": "https://localhost:8080/",
          "height": 35
        }
      },
      "source": [
        "alice['age'] =14\n",
        "print(alice['age'])"
      ],
      "execution_count": 0,
      "outputs": [
        {
          "output_type": "stream",
          "text": [
            "14\n"
          ],
          "name": "stdout"
        }
      ]
    },
    {
      "cell_type": "markdown",
      "metadata": {
        "id": "SdWwgpDg8Jq-",
        "colab_type": "text"
      },
      "source": [
        "###9"
      ]
    },
    {
      "cell_type": "code",
      "metadata": {
        "id": "YKboOi5c8LVP",
        "colab_type": "code",
        "outputId": "b4a618ef-4291-4dbd-eca7-06597e0a14c7",
        "colab": {
          "base_uri": "https://localhost:8080/",
          "height": 35
        }
      },
      "source": [
        "alice['number'] = '010-1234-5678'\n",
        "print(alice['number'])"
      ],
      "execution_count": 0,
      "outputs": [
        {
          "output_type": "stream",
          "text": [
            "010-1234-5678\n"
          ],
          "name": "stdout"
        }
      ]
    },
    {
      "cell_type": "markdown",
      "metadata": {
        "id": "XcVHFT9i8T72",
        "colab_type": "text"
      },
      "source": [
        "###10"
      ]
    },
    {
      "cell_type": "code",
      "metadata": {
        "id": "j5tMZr5t8XDc",
        "colab_type": "code",
        "outputId": "a6bbde7b-5af1-4e6d-9107-f8dc670a8fb9",
        "colab": {
          "base_uri": "https://localhost:8080/",
          "height": 35
        }
      },
      "source": [
        "del alice['number']\n",
        "print(alice)"
      ],
      "execution_count": 0,
      "outputs": [
        {
          "output_type": "stream",
          "text": [
            "{'sex': 'fe', 'age': 14, 'blood type': 'AB'}\n"
          ],
          "name": "stdout"
        }
      ]
    },
    {
      "cell_type": "markdown",
      "metadata": {
        "id": "a2FaYkzk8dnm",
        "colab_type": "text"
      },
      "source": [
        "#ch.8"
      ]
    },
    {
      "cell_type": "code",
      "metadata": {
        "id": "8e0NqnCQ8gVd",
        "colab_type": "code",
        "outputId": "fc25e5ea-e8eb-4757-bede-ba2ec5d97707",
        "colab": {
          "base_uri": "https://localhost:8080/",
          "height": 179
        }
      },
      "source": [
        "print('heart1 guilt')\n",
        "print('heart2 guilt')\n",
        "print('heart3 guilt')\n",
        "print('clover1 guilt')\n",
        "print('clover2 guilt')\n",
        "print('clover3 guilt')\n",
        "print('spade1 guilt')\n",
        "print('spade2 guilt')\n",
        "print('spade3 guilt')"
      ],
      "execution_count": 0,
      "outputs": [
        {
          "output_type": "stream",
          "text": [
            "heart1 guilt\n",
            "heart2 guilt\n",
            "heart3 guilt\n",
            "clover1 guilt\n",
            "clover2 guilt\n",
            "clover3 guilt\n",
            "spade1 guilt\n",
            "spade2 guilt\n",
            "spade3 guilt\n"
          ],
          "name": "stdout"
        }
      ]
    },
    {
      "cell_type": "markdown",
      "metadata": {
        "id": "p5KJl3wjBNPG",
        "colab_type": "text"
      },
      "source": [
        "##함수"
      ]
    },
    {
      "cell_type": "code",
      "metadata": {
        "id": "5_1_eXdaBO0d",
        "colab_type": "code",
        "colab": {}
      },
      "source": [
        "#사용자 정의 함수 (매개변수)\n",
        "def my_func(): \n",
        "  print('hello rabbit!')\n",
        "\n",
        "#my_func()"
      ],
      "execution_count": 0,
      "outputs": []
    },
    {
      "cell_type": "code",
      "metadata": {
        "id": "nnDWJPOOCLzu",
        "colab_type": "code",
        "outputId": "46244c10-d2db-473c-ef47-6abfc13f0955",
        "colab": {
          "base_uri": "https://localhost:8080/",
          "height": 35
        }
      },
      "source": [
        "my_func()"
      ],
      "execution_count": 0,
      "outputs": [
        {
          "output_type": "stream",
          "text": [
            "hello rabbit!\n"
          ],
          "name": "stdout"
        }
      ]
    },
    {
      "cell_type": "code",
      "metadata": {
        "id": "om-zPy3TCNnV",
        "colab_type": "code",
        "colab": {}
      },
      "source": [
        "def add(num1,num2):\n",
        "  return num1+num2"
      ],
      "execution_count": 0,
      "outputs": []
    },
    {
      "cell_type": "code",
      "metadata": {
        "id": "s6rOZh0QCTYE",
        "colab_type": "code",
        "outputId": "9e00d12f-8eef-4de2-e2d3-ff012112133c",
        "colab": {
          "base_uri": "https://localhost:8080/",
          "height": 35
        }
      },
      "source": [
        "print(add(2,3))"
      ],
      "execution_count": 0,
      "outputs": [
        {
          "output_type": "stream",
          "text": [
            "5\n"
          ],
          "name": "stdout"
        }
      ]
    },
    {
      "cell_type": "code",
      "metadata": {
        "id": "s4E2wadqCZx0",
        "colab_type": "code",
        "outputId": "fb4f050e-3b3f-41c0-8349-a266bca92332",
        "colab": {
          "base_uri": "https://localhost:8080/",
          "height": 35
        }
      },
      "source": [
        "add(2,3)"
      ],
      "execution_count": 0,
      "outputs": [
        {
          "output_type": "execute_result",
          "data": {
            "text/plain": [
              "5"
            ]
          },
          "metadata": {
            "tags": []
          },
          "execution_count": 43
        }
      ]
    },
    {
      "cell_type": "code",
      "metadata": {
        "id": "nVDKRRLpCeSc",
        "colab_type": "code",
        "outputId": "e77e484f-5350-464b-b7bd-f02074f25fc9",
        "colab": {
          "base_uri": "https://localhost:8080/",
          "height": 35
        }
      },
      "source": [
        "def add_mul(num1,num2):\n",
        "  return num1+num2, num1*num2\n",
        "\n",
        "add_mul(2,3)"
      ],
      "execution_count": 0,
      "outputs": [
        {
          "output_type": "execute_result",
          "data": {
            "text/plain": [
              "(5, 6)"
            ]
          },
          "metadata": {
            "tags": []
          },
          "execution_count": 44
        }
      ]
    },
    {
      "cell_type": "code",
      "metadata": {
        "id": "TxZTI7G_DHau",
        "colab_type": "code",
        "outputId": "95ec3a45-acc7-45c3-e8a9-9833b8a014e0",
        "colab": {
          "base_uri": "https://localhost:8080/",
          "height": 179
        }
      },
      "source": [
        "def judge_cards():\n",
        "  solder=['heart1','heart2','heart3','clover1','clover2','clover3','spade1','spade2','spade3']\n",
        "  for i in solder:\n",
        "    print(i,'guilt')\n",
        "\n",
        "judge_cards()"
      ],
      "execution_count": 0,
      "outputs": [
        {
          "output_type": "stream",
          "text": [
            "heart1 guilt\n",
            "heart2 guilt\n",
            "heart3 guilt\n",
            "clover1 guilt\n",
            "clover2 guilt\n",
            "clover3 guilt\n",
            "spade1 guilt\n",
            "spade2 guilt\n",
            "spade3 guilt\n"
          ],
          "name": "stdout"
        }
      ]
    },
    {
      "cell_type": "code",
      "metadata": {
        "id": "ZmJhLu8wD1b2",
        "colab_type": "code",
        "outputId": "7c7d9e86-24d3-484b-9f81-89edca7d012b",
        "colab": {
          "base_uri": "https://localhost:8080/",
          "height": 179
        }
      },
      "source": [
        "def judge_cards(name):\n",
        "    print(name,'1 guilt')\n",
        "    print(name,'2 guilt')\n",
        "    print(name,'3 guilt')\n",
        "\n",
        "judge_cards('heart')\n",
        "judge_cards('clover')\n",
        "judge_cards('spade')"
      ],
      "execution_count": 0,
      "outputs": [
        {
          "output_type": "stream",
          "text": [
            "heart 1 guilt\n",
            "heart 2 guilt\n",
            "heart 3 guilt\n",
            "clover 1 guilt\n",
            "clover 2 guilt\n",
            "clover 3 guilt\n",
            "spade 1 guilt\n",
            "spade 2 guilt\n",
            "spade 3 guilt\n"
          ],
          "name": "stdout"
        }
      ]
    },
    {
      "cell_type": "markdown",
      "metadata": {
        "id": "M2gEvhQiGX3M",
        "colab_type": "text"
      },
      "source": [
        "## random 함수"
      ]
    },
    {
      "cell_type": "code",
      "metadata": {
        "id": "RhQb1buHGH1t",
        "colab_type": "code",
        "outputId": "0fac1fdc-b9e0-4ff6-8468-3bc83a2a2610",
        "colab": {
          "base_uri": "https://localhost:8080/",
          "height": 35
        }
      },
      "source": [
        "import random\n",
        "animals =['cat','duck','bird']\n",
        "print(random.choice(animals))"
      ],
      "execution_count": 0,
      "outputs": [
        {
          "output_type": "stream",
          "text": [
            "cat\n"
          ],
          "name": "stdout"
        }
      ]
    },
    {
      "cell_type": "code",
      "metadata": {
        "id": "gcDtI6f7HPY1",
        "colab_type": "code",
        "outputId": "660ca459-0b70-45c4-d953-4456e0d54ee7",
        "colab": {
          "base_uri": "https://localhost:8080/",
          "height": 35
        }
      },
      "source": [
        "print(random.sample(animals,2))"
      ],
      "execution_count": 0,
      "outputs": [
        {
          "output_type": "stream",
          "text": [
            "['bird', 'cat']\n"
          ],
          "name": "stdout"
        }
      ]
    },
    {
      "cell_type": "code",
      "metadata": {
        "id": "08PHKPVjIMXU",
        "colab_type": "code",
        "outputId": "8d6f847a-28fa-4f92-c03f-6dcae3efe70f",
        "colab": {
          "base_uri": "https://localhost:8080/",
          "height": 35
        }
      },
      "source": [
        "random.sample(animals,2)"
      ],
      "execution_count": 0,
      "outputs": [
        {
          "output_type": "execute_result",
          "data": {
            "text/plain": [
              "['cat', 'duck']"
            ]
          },
          "metadata": {
            "tags": []
          },
          "execution_count": 55
        }
      ]
    },
    {
      "cell_type": "code",
      "metadata": {
        "id": "25I0anwVINvj",
        "colab_type": "code",
        "outputId": "a8f46822-bb48-40dc-b44f-5bb5b3ab0444",
        "colab": {
          "base_uri": "https://localhost:8080/",
          "height": 35
        }
      },
      "source": [
        "random.randint(5,10)"
      ],
      "execution_count": 0,
      "outputs": [
        {
          "output_type": "execute_result",
          "data": {
            "text/plain": [
              "9"
            ]
          },
          "metadata": {
            "tags": []
          },
          "execution_count": 57
        }
      ]
    },
    {
      "cell_type": "code",
      "metadata": {
        "id": "hBvAb3uPIVHD",
        "colab_type": "code",
        "outputId": "d51e7c98-8525-4bd5-a710-dde1b84a52ee",
        "colab": {
          "base_uri": "https://localhost:8080/",
          "height": 35
        }
      },
      "source": [
        "solder=['heart1','heart2','heart3','clover1','clover2','clover3','spade1','spade2','spade3']\n",
        "print(random.choice(solder),'guit')"
      ],
      "execution_count": 0,
      "outputs": [
        {
          "output_type": "stream",
          "text": [
            "spade1 guit\n"
          ],
          "name": "stdout"
        }
      ]
    },
    {
      "cell_type": "code",
      "metadata": {
        "id": "Zz76wPm9I_JG",
        "colab_type": "code",
        "outputId": "8591aeed-36b3-4dde-b1da-d6d5ee9c2dc8",
        "colab": {
          "base_uri": "https://localhost:8080/",
          "height": 35
        }
      },
      "source": [
        "choice=random.choice(solder)\n",
        "print(choice,'guilt')"
      ],
      "execution_count": 0,
      "outputs": [
        {
          "output_type": "stream",
          "text": [
            "heart1 guilt\n"
          ],
          "name": "stdout"
        }
      ]
    },
    {
      "cell_type": "code",
      "metadata": {
        "id": "roATyZbbJRuV",
        "colab_type": "code",
        "outputId": "f68233fe-f954-4ba4-f4be-aea0e2a88f49",
        "colab": {
          "base_uri": "https://localhost:8080/"
        }
      },
      "source": [
        "help('modules')\n",
        "#python module index"
      ],
      "execution_count": 0,
      "outputs": [
        {
          "output_type": "stream",
          "text": [
            "\n",
            "Please wait a moment while I gather a list of all available modules...\n",
            "\n"
          ],
          "name": "stdout"
        },
        {
          "output_type": "stream",
          "text": [
            "/usr/local/lib/python3.6/dist-packages/IPython/kernel/__init__.py:13: ShimWarning: The `IPython.kernel` package has been deprecated since IPython 4.0.You should import from ipykernel or jupyter_client instead.\n",
            "  \"You should import from ipykernel or jupyter_client instead.\", ShimWarning)\n",
            "/usr/local/lib/python3.6/dist-packages/datascience/tables.py:17: MatplotlibDeprecationWarning:\n",
            "\n",
            "The 'warn' parameter of use() is deprecated since Matplotlib 3.1 and will be removed in 3.3.  If any parameter follows 'warn', they should be pass as keyword, not positionally.\n",
            "\n",
            "/usr/local/lib/python3.6/dist-packages/datascience/util.py:10: MatplotlibDeprecationWarning:\n",
            "\n",
            "The 'warn' parameter of use() is deprecated since Matplotlib 3.1 and will be removed in 3.3.  If any parameter follows 'warn', they should be pass as keyword, not positionally.\n",
            "\n",
            "/usr/local/lib/python3.6/dist-packages/psycopg2/__init__.py:144: UserWarning:\n",
            "\n",
            "The psycopg2 wheel package will be renamed from release 2.8; in order to keep installing from binary please use \"pip install psycopg2-binary\" instead. For details see: <http://initd.org/psycopg/docs/install.html#binary-install-from-pypi>.\n",
            "\n",
            "/usr/local/lib/python3.6/dist-packages/sklearn/externals/six.py:31: FutureWarning:\n",
            "\n",
            "The module is deprecated in version 0.21 and will be removed in version 0.23 since we've dropped support for Python 2.7. Please rely on the official version of six (https://pypi.org/project/six/).\n",
            "\n",
            "Using TensorFlow backend.\n",
            "/usr/local/lib/python3.6/dist-packages/sklearn/utils/deprecation.py:144: FutureWarning:\n",
            "\n",
            "The sklearn.neighbors.base module is  deprecated in version 0.22 and will be removed in version 0.24. The corresponding classes / functions should instead be imported from sklearn.neighbors. Anything that cannot be imported from sklearn.neighbors is now part of the private API.\n",
            "\n",
            "/usr/local/lib/python3.6/dist-packages/sklearn/utils/deprecation.py:144: FutureWarning:\n",
            "\n",
            "The sklearn.datasets.base module is  deprecated in version 0.22 and will be removed in version 0.24. The corresponding classes / functions should instead be imported from sklearn.datasets. Anything that cannot be imported from sklearn.datasets is now part of the private API.\n",
            "\n",
            "/usr/local/lib/python3.6/dist-packages/sklearn/utils/deprecation.py:144: FutureWarning:\n",
            "\n",
            "The sklearn.ensemble.bagging module is  deprecated in version 0.22 and will be removed in version 0.24. The corresponding classes / functions should instead be imported from sklearn.ensemble. Anything that cannot be imported from sklearn.ensemble is now part of the private API.\n",
            "\n",
            "/usr/local/lib/python3.6/dist-packages/sklearn/utils/deprecation.py:144: FutureWarning:\n",
            "\n",
            "The sklearn.ensemble.base module is  deprecated in version 0.22 and will be removed in version 0.24. The corresponding classes / functions should instead be imported from sklearn.ensemble. Anything that cannot be imported from sklearn.ensemble is now part of the private API.\n",
            "\n",
            "/usr/local/lib/python3.6/dist-packages/sklearn/utils/deprecation.py:144: FutureWarning:\n",
            "\n",
            "The sklearn.ensemble.forest module is  deprecated in version 0.22 and will be removed in version 0.24. The corresponding classes / functions should instead be imported from sklearn.ensemble. Anything that cannot be imported from sklearn.ensemble is now part of the private API.\n",
            "\n",
            "/usr/local/lib/python3.6/dist-packages/sklearn/externals/joblib/__init__.py:15: FutureWarning:\n",
            "\n",
            "sklearn.externals.joblib is deprecated in 0.21 and will be removed in 0.23. Please import this functionality directly from joblib, which can be installed with: pip install joblib. If this warning is raised when loading pickled models, you may need to re-serialize those models with scikit-learn 0.21+.\n",
            "\n",
            "/usr/local/lib/python3.6/dist-packages/sklearn/utils/deprecation.py:144: FutureWarning:\n",
            "\n",
            "The sklearn.utils.testing module is  deprecated in version 0.22 and will be removed in version 0.24. The corresponding classes / functions should instead be imported from sklearn.utils. Anything that cannot be imported from sklearn.utils is now part of the private API.\n",
            "\n",
            "/usr/local/lib/python3.6/dist-packages/sklearn/utils/deprecation.py:144: FutureWarning:\n",
            "\n",
            "The sklearn.metrics.classification module is  deprecated in version 0.22 and will be removed in version 0.24. The corresponding classes / functions should instead be imported from sklearn.metrics. Anything that cannot be imported from sklearn.metrics is now part of the private API.\n",
            "\n",
            "/usr/local/lib/python3.6/dist-packages/statsmodels/tools/_testing.py:19: FutureWarning:\n",
            "\n",
            "pandas.util.testing is deprecated. Use the functions in the public API at pandas.testing instead.\n",
            "\n"
          ],
          "name": "stderr"
        },
        {
          "output_type": "stream",
          "text": [
            "Downloading http://dlib.net/files/shape_predictor_68_face_landmarks.dat.bz2 to /root/mlxtend_data/shape_predictor_68_face_landmarks.dat.bz2\n"
          ],
          "name": "stdout"
        },
        {
          "output_type": "stream",
          "text": [
            "/usr/lib/python3.6/pkgutil.py:92: UserWarning:\n",
            "\n",
            "The DICOM readers are highly experimental, unstable, and only work for Siemens time-series at the moment\n",
            "Please use with caution.  We would be grateful for your help in improving them\n",
            "\n",
            "/usr/local/lib/python3.6/dist-packages/nltk/twitter/__init__.py:20: UserWarning:\n",
            "\n",
            "The twython library has not been installed. Some functionality from the twitter package will not be available.\n",
            "\n",
            "Exception ignored in: <_io.FileIO name='/usr/local/lib/python3.6/dist-packages/theano/gof/c_code/lazylinker_c.c' mode='rb' closefd=True>\n",
            "ResourceWarning: unclosed file <_io.TextIOWrapper name='/usr/local/lib/python3.6/dist-packages/theano/gof/c_code/lazylinker_c.c' mode='r' encoding='UTF-8'>\n",
            "WARNING:pystan:This submodule contains experimental code, please use with caution\n"
          ],
          "name": "stderr"
        },
        {
          "output_type": "stream",
          "text": [
            "Cython              colorsys            keras_applications  requests\n",
            "IPython             community           keras_preprocessing requests_oauthlib\n",
            "OpenGL              compileall          keyword             resampy\n",
            "PIL                 concurrent          kiwisolver          resource\n",
            "ScreenResolution    configparser        knnimpute           retrying\n",
            "__future__          contextlib          lib2to3             rlcompleter\n",
            "_ast                contextlib2         libfuturize         rmagic\n",
            "_asyncio            convertdate         libpasteurize       rpy2\n",
            "_bisect             copy                librosa             rsa\n",
            "_blake2             copyreg             lightgbm            runpy\n",
            "_bootlocale         coverage            linecache           s3fs\n",
            "_bz2                coveralls           llvmlite            s3transfer\n",
            "_cffi_backend       crcmod              lmdb                sched\n",
            "_codecs             crypt               locale              scipy\n",
            "_codecs_cn          csv                 logging             scs\n",
            "_codecs_hk          ctypes              lsb_release         seaborn\n",
            "_codecs_iso2022     cufflinks           lucid               secrets\n",
            "_codecs_jp          curses              lunarcalendar       select\n",
            "_codecs_kr          cv2                 lxml                selectors\n",
            "_codecs_tw          cvxopt              lzma                send2trash\n",
            "_collections        cvxpy               macpath             setuptools\n",
            "_collections_abc    cycler              macurl2path         setuptools_git\n",
            "_compat_pickle      cymem               mailbox             shapely\n",
            "_compression        cython              mailcap             shelve\n",
            "_crypt              cythonmagic         markdown            shlex\n",
            "_csv                daft                markupsafe          shutil\n",
            "_ctypes             dask                marshal             signal\n",
            "_ctypes_test        dataclasses         math                simplegeneric\n",
            "_curses             datascience         matplotlib          site\n",
            "_curses_panel       datetime            matplotlib_venn     sitecustomize\n",
            "_cvxcore            dateutil            mimetypes           six\n",
            "_datetime           dbm                 missingno           skimage\n",
            "_dbm                dbus                mistune             sklearn\n",
            "_dbus_bindings      decimal             mizani              sklearn_pandas\n",
            "_dbus_glib_bindings decorator           mlxtend             slugify\n",
            "_decimal            defusedxml          mmap                smart_open\n",
            "_dummy_thread       descartes           modulefinder        smtpd\n",
            "_ecos               difflib             more_itertools      smtplib\n",
            "_elementtree        dill                moviepy             sndhdr\n",
            "_foo                dis                 mpmath              snowballstemmer\n",
            "_functools          distributed         msgpack             socket\n",
            "_hashlib            distutils           multiprocess        socketserver\n",
            "_heapq              django              multiprocessing     socks\n",
            "_imp                dlib                multitasking        sockshandler\n",
            "_io                 docopt              murmurhash          softwareproperties\n",
            "_json               docs                music21             sortedcontainers\n",
            "_locale             doctest             natsort             spacy\n",
            "_lsprof             docutils            nbconvert           sphinx\n",
            "_lzma               dopamine            nbformat            spwd\n",
            "_markupbase         dot_parser          netrc               sql\n",
            "_md5                dummy_threading     networkx            sqlalchemy\n",
            "_multibytecodec     easy_install        nibabel             sqlite3\n",
            "_multiprocess       easydict            nis                 sqlparse\n",
            "_multiprocessing    ecos                nisext              sre_compile\n",
            "_opcode             editdistance        nltk                sre_constants\n",
            "_operator           ee                  nntplib             sre_parse\n",
            "_osx_support        email               notebook            srsly\n",
            "_pickle             en_core_web_sm      np_utils            ssl\n",
            "_plotly_future_     encodings           ntpath              stat\n",
            "_plotly_utils       entrypoints         nturl2path          statistics\n",
            "_posixsubprocess    enum                numba               statsmodels\n",
            "_pydecimal          ephem               numbers             storemagic\n",
            "_pyio               errno               numexpr             string\n",
            "_pyrsistent_version et_xmlfile          numpy               stringprep\n",
            "_pytest             examples            nvidia_smi          struct\n",
            "_random             fa2                 oauth2client        subprocess\n",
            "_rinterface_cffi_abi fancyimpute         oauthlib            sunau\n",
            "_rinterface_cffi_api fastai              ogr                 symbol\n",
            "_scs_direct         fastdtw             okgrade             sympy\n",
            "_scs_indirect       fastprogress        opcode              sympyprinting\n",
            "_scs_python         fastrlock           openpyxl            symtable\n",
            "_sha1               faulthandler        operator            sys\n",
            "_sha256             fbprophet           opt_einsum          sysconfig\n",
            "_sha3               fcntl               optparse            syslog\n",
            "_sha512             feather             os                  tables\n",
            "_signal             featuretools        osgeo               tabnanny\n",
            "_sitebuiltins       filecmp             osqp                tabulate\n",
            "_socket             fileinput           osqppurepy          tarfile\n",
            "_sqlite3            filelock            osr                 tblib\n",
            "_sre                firebase_admin      ossaudiodev         telnetlib\n",
            "_ssl                fix_yahoo_finance   packaging           tempfile\n",
            "_stat               flask               palettable          tensorboard\n",
            "_string             fnmatch             pandas              tensorboard_plugin_wit\n",
            "_strptime           folium              pandas_datareader   tensorboardcolab\n",
            "_struct             formatter           pandas_gbq          tensorflow\n",
            "_symtable           fractions           pandas_profiling    tensorflow_addons\n",
            "_sysconfigdata_m_linux_x86_64-linux-gnu fsspec              pandocfilters       tensorflow_datasets\n",
            "_testbuffer         ftplib              parser              tensorflow_estimator\n",
            "_testcapi           functools           parso               tensorflow_gcs_config\n",
            "_testimportmultiple future              past                tensorflow_hub\n",
            "_testmultiphase     gast                pasta               tensorflow_metadata\n",
            "_thread             gc                  pathlib             tensorflow_privacy\n",
            "_threading_local    gdal                patsy               tensorflow_probability\n",
            "_tkinter            gdalconst           pdb                 termcolor\n",
            "_tracemalloc        gdalnumeric         pexpect             terminado\n",
            "_warnings           gdown               pickle              termios\n",
            "_weakref            genericpath         pickleshare         test\n",
            "_weakrefset         gensim              pickletools         testpath\n",
            "abc                 geographiclib       pip                 tests\n",
            "absl                geopy               pipes               text_unidecode\n",
            "aifc                getopt              piptools            textblob\n",
            "alabaster           getpass             pkg_resources       textgenrnn\n",
            "albumentations      gettext             pkgutil             textwrap\n",
            "altair              gi                  plac                theano\n",
            "antigravity         gin                 plac_core           thinc\n",
            "apiclient           github2pypi         plac_ext            this\n",
            "apt                 glob                plac_tk             threading\n",
            "apt_inst            glob2               platform            time\n",
            "apt_pkg             gnm                 plistlib            timeit\n",
            "aptsources          google_auth_httplib2 plotly              tkinter\n",
            "argparse            google_auth_oauthlib plotlywidget        tlz\n",
            "array               google_drive_downloader plotnine            token\n",
            "asgiref             googleapiclient     pluggy              tokenize\n",
            "ast                 googlesearch        poplib              toolz\n",
            "astor               graphviz            portpicker          torch\n",
            "astropy             gridfs              posix               torchsummary\n",
            "astunparse          grp                 posixpath           torchtext\n",
            "asynchat            grpc                pprint              torchvision\n",
            "asyncio             gspread             prefetch_generator  tornado\n",
            "asyncore            gspread_dataframe   preshed             tqdm\n",
            "atari_py            gym                 prettytable         trace\n",
            "atexit              gzip                profile             traceback\n",
            "atomicwrites        h5py                progressbar         tracemalloc\n",
            "attr                hashlib             prometheus_client   traitlets\n",
            "audioop             heapdict            promise             tty\n",
            "audioread           heapq               prompt_toolkit      turtle\n",
            "autograd            hmac                pstats              tweepy\n",
            "autoreload          holidays            psutil              typeguard\n",
            "babel               html                psycopg2            types\n",
            "backcall            html5lib            ptvsd               typing\n",
            "base64              http                pty                 typing_extensions\n",
            "bdb                 httpimport          ptyprocess          tzlocal\n",
            "bin                 httplib2            pvectorc            umap\n",
            "binascii            httplib2shim        pwd                 unicodedata\n",
            "binhex              humanize            py                  unittest\n",
            "bisect              hyperopt            py_compile          uritemplate\n",
            "bleach              ideep4py            pyarrow             urllib\n",
            "blis                idna                pyasn1              urllib3\n",
            "bokeh               image               pyasn1_modules      uu\n",
            "boost               imageio             pyclbr              uuid\n",
            "boto                imagesize           pycocotools         vega_datasets\n",
            "boto3               imaplib             pycparser           venv\n",
            "botocore            imblearn            pydata_google_auth  vis\n",
            "bottleneck          imgaug              pydoc               warnings\n",
            "branca              imghdr              pydoc_data          wasabi\n",
            "bs4                 imp                 pydot               wave\n",
            "bson                importlib           pydot_ng            wcwidth\n",
            "builtins            importlib_metadata  pydotplus           weakref\n",
            "bz2                 imutils             pydrive             webbrowser\n",
            "cProfile            inflect             pyemd               webencodings\n",
            "cachecontrol        inspect             pyexpat             werkzeug\n",
            "cachetools          intervaltree        pyglet              wheel\n",
            "caffe2              io                  pygments            widgetsnbextension\n",
            "calendar            ipaddress           pygtkcompat         wordcloud\n",
            "catalogue           ipykernel           pylab               wrapt\n",
            "certifi             ipykernel_launcher  pymc3               wsgiref\n",
            "cffi                ipython_genutils    pymeeus             xarray\n",
            "cgi                 ipywidgets          pymongo             xdrlib\n",
            "cgitb               itertools           pymystem3           xgboost\n",
            "chainer             itsdangerous        pynvml              xkit\n",
            "chainermn           jax                 pyparsing           xlrd\n",
            "chainerx            jaxlib              pyrsistent          xlwt\n",
            "chardet             jdcal               pysndfile           xml\n",
            "chess               jedi                pystan              xmlrpc\n",
            "chunk               jieba               pytest              xxlimited\n",
            "click               jinja2              python_utils        xxsubtype\n",
            "client              jmespath            pytz                yaml\n",
            "cloudpickle         joblib              pywt                yellowbrick\n",
            "cmake               jpeg4py             pyximport           zict\n",
            "cmath               json                qtconsole           zipapp\n",
            "cmd                 jsonschema          qtpy                zipfile\n",
            "cmdstanpy           jupyter             queue               zipimport\n",
            "code                jupyter_client      quopri              zipp\n",
            "codecs              jupyter_console     random              zlib\n",
            "codeop              jupyter_core        re                  zmq\n",
            "colab               kaggle              readline            \n",
            "collections         kapre               regex               \n",
            "colorlover          keras               reprlib             \n",
            "\n",
            "Enter any module name to get more help.  Or, type \"modules spam\" to search\n",
            "for modules whose name or summary contain the string \"spam\".\n",
            "\n"
          ],
          "name": "stdout"
        }
      ]
    },
    {
      "cell_type": "markdown",
      "metadata": {
        "id": "TcfxKVSFJd2k",
        "colab_type": "text"
      },
      "source": [
        "##프로젝트 : 가위바위보 4단계"
      ]
    },
    {
      "cell_type": "code",
      "metadata": {
        "id": "OMRhOv76JheF",
        "colab_type": "code",
        "outputId": "d3fa24b4-639f-4e8e-de9d-8a636825a855",
        "colab": {
          "base_uri": "https://localhost:8080/",
          "height": 35
        }
      },
      "source": [
        "import random\n",
        "\n",
        "def compare(p_choice,c_choice):\n",
        "  if p_choice == c_choice:\n",
        "    print('draw')\n",
        "  elif (p_choice - c_choice) % 3 == 1:\n",
        "    print('win')\n",
        "  else:\n",
        "    print('lose')\n",
        "\n",
        "while True:\n",
        "  rps = ['scissors','rock','paper']\n",
        "  \n",
        "  player = int(input(\"rock(1),paper(2),scissors(0) or finish(-1)\"))\n",
        "  computer = random.randint(0,2)\n",
        "\n",
        "  if player == -1:\n",
        "    break\n",
        "  \n",
        "  print(rps[player],rps[computer])\n",
        "\n",
        "  compare(player, computer)\n",
        "\n"
      ],
      "execution_count": 0,
      "outputs": [
        {
          "output_type": "stream",
          "text": [
            "rock(1),paper(2),scissors(0) or finish(-1)-1\n"
          ],
          "name": "stdout"
        }
      ]
    },
    {
      "cell_type": "code",
      "metadata": {
        "id": "YrL-_ilAzZe9",
        "colab_type": "code",
        "outputId": "c06a01a7-e65e-4fd6-fbab-de8826c0cc76",
        "colab": {
          "base_uri": "https://localhost:8080/",
          "height": 35
        }
      },
      "source": [
        "print((0-2)%3)"
      ],
      "execution_count": 0,
      "outputs": [
        {
          "output_type": "stream",
          "text": [
            "1\n"
          ],
          "name": "stdout"
        }
      ]
    },
    {
      "cell_type": "markdown",
      "metadata": {
        "id": "SPEURMijJnZj",
        "colab_type": "text"
      },
      "source": [
        "##연습문제"
      ]
    },
    {
      "cell_type": "markdown",
      "metadata": {
        "id": "IUntaWrFJotr",
        "colab_type": "text"
      },
      "source": [
        "###1"
      ]
    },
    {
      "cell_type": "code",
      "metadata": {
        "id": "-Gt4iVPs1a9l",
        "colab_type": "code",
        "outputId": "5de0037d-7ac2-4a19-bf5e-a475b88c2023",
        "colab": {
          "base_uri": "https://localhost:8080/",
          "height": 35
        }
      },
      "source": [
        "def welcome():\n",
        "  print('welcome to wonderland.')\n",
        "\n",
        "welcome()\n",
        "# welcome to wonderland"
      ],
      "execution_count": 0,
      "outputs": [
        {
          "output_type": "stream",
          "text": [
            "welcome to wonderland.\n"
          ],
          "name": "stdout"
        }
      ]
    },
    {
      "cell_type": "markdown",
      "metadata": {
        "id": "G0LA4hqrJp9T",
        "colab_type": "text"
      },
      "source": [
        "###2"
      ]
    },
    {
      "cell_type": "code",
      "metadata": {
        "id": "w8L7dlbm1t3e",
        "colab_type": "code",
        "outputId": "d1970442-e0db-41a9-9d36-008aefb2071f",
        "colab": {
          "base_uri": "https://localhost:8080/",
          "height": 53
        }
      },
      "source": [
        "def welcome(name):\n",
        "  print(name, 'welcome to wonderland.')\n",
        "\n",
        "welcome('alice')\n",
        "welcome('dodo')\n",
        "# alice, welcome to wonderland\n",
        "# dodo, welcome to wonderland"
      ],
      "execution_count": 0,
      "outputs": [
        {
          "output_type": "stream",
          "text": [
            "alice welcome to wonderland.\n",
            "dodo welcome to wonderland.\n"
          ],
          "name": "stdout"
        }
      ]
    },
    {
      "cell_type": "markdown",
      "metadata": {
        "id": "SX5lOp2rJquS",
        "colab_type": "text"
      },
      "source": [
        "###3"
      ]
    },
    {
      "cell_type": "code",
      "metadata": {
        "id": "nYnyKvvN16sl",
        "colab_type": "code",
        "outputId": "44f08a02-a3d0-417b-c6d6-dca7e55e0b65",
        "colab": {
          "base_uri": "https://localhost:8080/",
          "height": 71
        }
      },
      "source": [
        "def draw_stars(num):\n",
        "  print('*' * num)\n",
        "\n",
        "draw_stars(3)\n",
        "draw_stars(2)\n",
        "draw_stars(1)"
      ],
      "execution_count": 0,
      "outputs": [
        {
          "output_type": "stream",
          "text": [
            "***\n",
            "**\n",
            "*\n"
          ],
          "name": "stdout"
        }
      ]
    },
    {
      "cell_type": "markdown",
      "metadata": {
        "id": "xWpHTAWfJsE0",
        "colab_type": "text"
      },
      "source": [
        "###4"
      ]
    },
    {
      "cell_type": "code",
      "metadata": {
        "id": "piLjsqzj2Nh2",
        "colab_type": "code",
        "outputId": "46dec771-d138-4b4c-8c92-d0aaa7fc2aa2",
        "colab": {
          "base_uri": "https://localhost:8080/",
          "height": 35
        }
      },
      "source": [
        "def concat(str1,str2):\n",
        "  return str1+str2\n",
        "\n",
        "print(concat('빨주노초','파남보'))"
      ],
      "execution_count": 0,
      "outputs": [
        {
          "output_type": "stream",
          "text": [
            "빨주노초파남보\n"
          ],
          "name": "stdout"
        }
      ]
    },
    {
      "cell_type": "markdown",
      "metadata": {
        "id": "sulYj8_zJtCq",
        "colab_type": "text"
      },
      "source": [
        "###5"
      ]
    },
    {
      "cell_type": "code",
      "metadata": {
        "id": "JtqT_t1t2knn",
        "colab_type": "code",
        "outputId": "c3d929ef-f3c8-45a2-e6ff-acde6cddc26b",
        "colab": {
          "base_uri": "https://localhost:8080/",
          "height": 35
        }
      },
      "source": [
        "def sub_div(a,b):\n",
        "  return a-b,a/b\n",
        "\n",
        "print(sub_div(6,3))\n"
      ],
      "execution_count": 0,
      "outputs": [
        {
          "output_type": "stream",
          "text": [
            "(3, 2.0)\n"
          ],
          "name": "stdout"
        }
      ]
    },
    {
      "cell_type": "markdown",
      "metadata": {
        "id": "vsfZcEhUJ11_",
        "colab_type": "text"
      },
      "source": [
        "###6"
      ]
    },
    {
      "cell_type": "code",
      "metadata": {
        "id": "Cmz4YoFy3PYd",
        "colab_type": "code",
        "outputId": "d4350764-5da6-4e0b-ab26-03db8d34b98f",
        "colab": {
          "base_uri": "https://localhost:8080/",
          "height": 107
        }
      },
      "source": [
        "def judge_cards(name, num):\n",
        "  for num in range(1,num+1):\n",
        "    print(name,num,'guilt')\n",
        "  \n",
        "\n",
        "judge_cards('heart',2)\n",
        "judge_cards('clover',3)\n",
        "\n",
        "\n"
      ],
      "execution_count": 0,
      "outputs": [
        {
          "output_type": "stream",
          "text": [
            "heart 1 guilt\n",
            "heart 2 guilt\n",
            "clover 1 guilt\n",
            "clover 2 guilt\n",
            "clover 3 guilt\n"
          ],
          "name": "stdout"
        }
      ]
    },
    {
      "cell_type": "markdown",
      "metadata": {
        "id": "YzeIzplZJ3g-",
        "colab_type": "text"
      },
      "source": [
        "###7"
      ]
    },
    {
      "cell_type": "code",
      "metadata": {
        "id": "LLC3BesG4BcF",
        "colab_type": "code",
        "outputId": "d4f1c611-73ea-4a89-80c8-4ff5871d9656",
        "colab": {
          "base_uri": "https://localhost:8080/",
          "height": 35
        }
      },
      "source": [
        "import random\n",
        "print(random.choice(clovers))"
      ],
      "execution_count": 0,
      "outputs": [
        {
          "output_type": "stream",
          "text": [
            "clover3\n"
          ],
          "name": "stdout"
        }
      ]
    },
    {
      "cell_type": "markdown",
      "metadata": {
        "id": "dl_FdnUcJ4uG",
        "colab_type": "text"
      },
      "source": [
        "###8"
      ]
    },
    {
      "cell_type": "code",
      "metadata": {
        "id": "vaoo1zDu4OQt",
        "colab_type": "code",
        "outputId": "71174609-acf9-4557-eaa1-a040d1eec321",
        "colab": {
          "base_uri": "https://localhost:8080/",
          "height": 35
        }
      },
      "source": [
        "print(random.sample(clovers,2))"
      ],
      "execution_count": 0,
      "outputs": [
        {
          "output_type": "stream",
          "text": [
            "['clover2', 'clover1']\n"
          ],
          "name": "stdout"
        }
      ]
    },
    {
      "cell_type": "markdown",
      "metadata": {
        "id": "BjEMOBh2J5n3",
        "colab_type": "text"
      },
      "source": [
        "###9"
      ]
    },
    {
      "cell_type": "markdown",
      "metadata": {
        "id": "Qf_lA_j5J6iO",
        "colab_type": "text"
      },
      "source": [
        "###10"
      ]
    },
    {
      "cell_type": "code",
      "metadata": {
        "id": "c3eNzMFT4eRF",
        "colab_type": "code",
        "outputId": "7d4cb7f8-6ea0-4e98-b0a4-ba7a275ee495",
        "colab": {
          "base_uri": "https://localhost:8080/",
          "height": 35
        }
      },
      "source": [
        "birth_year=['시끄러운','푸른','적색','조용한','웅크린','백색','지혜로운','용감한','날카로운','욕심많은']\n",
        "birth_month=['늑대','태양','양','매','황소','불꽃','나무','달빛','말','돼지','하늘','바람']\n",
        "birth_date=['와(과) 함께 춤을','의 기상','은(는) 그림자 속에','']\n",
        "random_name = random.choice(birth_year) +random.choice(birth_month)+random.choice(birth_date)\n",
        "print('당신의 인디언식 이름은', random_name, '입니다.')"
      ],
      "execution_count": 0,
      "outputs": [
        {
          "output_type": "stream",
          "text": [
            "당신의 인디언식 이름은 백색황소 입니다.\n"
          ],
          "name": "stdout"
        }
      ]
    }
  ]
}