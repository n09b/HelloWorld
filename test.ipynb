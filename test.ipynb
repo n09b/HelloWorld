{
  "nbformat": 4,
  "nbformat_minor": 0,
  "metadata": {
    "colab": {
      "name": "test.ipynb",
      "provenance": [],
      "authorship_tag": "ABX9TyMNC/tmiB8B5bU/8NCSpIjC",
      "include_colab_link": true
    },
    "kernelspec": {
      "name": "python3",
      "display_name": "Python 3"
    }
  },
  "cells": [
    {
      "cell_type": "markdown",
      "metadata": {
        "id": "view-in-github",
        "colab_type": "text"
      },
      "source": [
        "<a href=\"https://colab.research.google.com/github/n09b/HelloWorld/blob/master/test.ipynb\" target=\"_parent\"><img src=\"https://colab.research.google.com/assets/colab-badge.svg\" alt=\"Open In Colab\"/></a>"
      ]
    },
    {
      "cell_type": "code",
      "metadata": {
        "id": "gARx_lTxS6Es",
        "colab_type": "code",
        "outputId": "afff1e68-3b1f-47a4-dbe8-97b5491c6dc7",
        "colab": {
          "base_uri": "https://localhost:8080/",
          "height": 51
        }
      },
      "source": [
        "# Enter your code here. Read input from STDIN. Print output to STDOUT\n",
        "def sqrt(x):\n",
        "    a= x**(1/2)\n",
        "    return a\n",
        "\n",
        "import math\n",
        "pi = math.pi\n",
        "print(type(pi))\n",
        "\n",
        "STDIN = 0.36\n",
        "\n",
        "z=((0.5-0.36)/(0.36*0.64/100)**(1/2))\n",
        "\n",
        "c =  math.pi \n",
        "b = math.exp(-STDIN**2/2)\n",
        "\n",
        "p = c**b\n",
        "print(p)\n"
      ],
      "execution_count": 0,
      "outputs": [
        {
          "output_type": "stream",
          "text": [
            "<class 'float'>\n",
            "2.9238571595947427\n"
          ],
          "name": "stdout"
        }
      ]
    },
    {
      "cell_type": "code",
      "metadata": {
        "id": "-E3NrWTxUlWr",
        "colab_type": "code",
        "colab": {}
      },
      "source": [
        "z=((0.5-0.36)/(0.36*0.64/100)**(1/2))"
      ],
      "execution_count": 0,
      "outputs": []
    }
  ]
}