{
 "cells": [
  {
   "cell_type": "code",
   "execution_count": 3,
   "metadata": {},
   "outputs": [
    {
     "name": "stdout",
     "output_type": "stream",
     "text": [
      "B\n",
      "3\n"
     ]
    }
   ],
   "source": [
    "a=\"ABC\"\n",
    "b=\"A\"\n",
    "c=a[1]\n",
    "e=len(a)\n",
    "print(c)\n",
    "print(e)"
   ]
  },
  {
   "cell_type": "code",
   "execution_count": 15,
   "metadata": {
    "scrolled": true
   },
   "outputs": [
    {
     "name": "stdout",
     "output_type": "stream",
     "text": [
      "문자를 입력하세요: asian\n",
      "2\n",
      "2\n"
     ]
    }
   ],
   "source": [
    "user=input(\"문자를 입력하세요: \")\n",
    "count=0\n",
    "for i in range(len(user)):\n",
    "    if user[i]=='a':\n",
    "          count+=1\n",
    "print(count)\n",
    "\n",
    "print(user.count('a')) #문자열 변수 python mysql 구글 검색"
   ]
  },
  {
   "cell_type": "code",
   "execution_count": 19,
   "metadata": {},
   "outputs": [
    {
     "name": "stdout",
     "output_type": "stream",
     "text": [
      "abc\n",
      "abcdefghijk\n"
     ]
    }
   ],
   "source": [
    "str1='abcdefghijk'\n",
    "str2=str1[0:3]\n",
    "print(str2)\n",
    "print(str1)"
   ]
  }
 ],
 "metadata": {
  "kernelspec": {
   "display_name": "Python 3",
   "language": "python",
   "name": "python3"
  },
  "language_info": {
   "codemirror_mode": {
    "name": "ipython",
    "version": 3
   },
   "file_extension": ".py",
   "mimetype": "text/x-python",
   "name": "python",
   "nbconvert_exporter": "python",
   "pygments_lexer": "ipython3",
   "version": "3.7.3"
  }
 },
 "nbformat": 4,
 "nbformat_minor": 2
}
