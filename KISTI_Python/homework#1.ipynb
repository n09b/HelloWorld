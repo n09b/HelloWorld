{
 "cells": [
  {
   "cell_type": "code",
   "execution_count": 20,
   "metadata": {},
   "outputs": [
    {
     "name": "stdout",
     "output_type": "stream",
     "text": [
      "입력하세요:5\n",
      "5는 합성수입니다.\n"
     ]
    }
   ],
   "source": [
    "#소수판단\n",
    "a=input(\"입력하세요:\")\n",
    "a=int(a)\n",
    "i=2\n",
    "if a==1:\n",
    "    print(\"1은 소수, 합성수가 아닙니다,\")\n",
    "elif a!=1:\n",
    "     while i<a:\n",
    "        a%i==0\n",
    "        print(\"{}는 합성수입니다.\".format(a))\n",
    "        i+=1\n",
    "        break\n",
    "else:\n",
    "    print(\"{}은 소수입니다.\".format(a))\n",
    "        "
   ]
  },
  {
   "cell_type": "code",
   "execution_count": 1,
   "metadata": {},
   "outputs": [
    {
     "name": "stdout",
     "output_type": "stream",
     "text": [
      "입력하세요:15\n",
      "소수입니다.\n"
     ]
    }
   ],
   "source": [
    "#소수판단\n",
    "a=input(\"입력하세요:\")\n",
    "a=int(a)\n",
    "i=2\n",
    "while True :\n",
    "    if a==1:\n",
    "        print(\"1은 소수, 합성수가 아닙니다.\")\n",
    "        break\n",
    "    elif a%i==0:\n",
    "        print(\"합성수입니다.\")\n",
    "        i+=1\n",
    "        break\n",
    " \n",
    "    else:\n",
    "        print(\"소수입니다.\")\n",
    "        break"
   ]
  },
  {
   "cell_type": "code",
   "execution_count": 10,
   "metadata": {},
   "outputs": [
    {
     "name": "stdout",
     "output_type": "stream",
     "text": [
      "숫자를 입력하세요 : 1\n",
      "소수입니다.\n"
     ]
    }
   ],
   "source": [
    "val=int(input(\"숫자를 입력하세요 : \"))\n",
    "flag =True\n",
    "\n",
    "for a in range(2,val):\n",
    "    if val%a==0:\n",
    "        flag=False\n",
    "    break\n",
    "if flag:\n",
    "    print(\"소수입니다.\")\n",
    "else:\n",
    "    print(\"소수가 아닙니다.\")"
   ]
  }
 ],
 "metadata": {
  "kernelspec": {
   "display_name": "Python 3",
   "language": "python",
   "name": "python3"
  },
  "language_info": {
   "codemirror_mode": {
    "name": "ipython",
    "version": 3
   },
   "file_extension": ".py",
   "mimetype": "text/x-python",
   "name": "python",
   "nbconvert_exporter": "python",
   "pygments_lexer": "ipython3",
   "version": "3.7.3"
  }
 },
 "nbformat": 4,
 "nbformat_minor": 2
}
