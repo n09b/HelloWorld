{
 "cells": [
  {
   "cell_type": "raw",
   "metadata": {},
   "source": [
    "#percolation\n",
    "1. 어떤 확률로 True, 아니면 False인 2차원 배열 생성\n",
    "2. 연속되 True의 군집들 중 가장 큰 크기 구하기\n",
    "3. 확률을 0부터 1까지 0.1씩 증가시키면서 위 과정을 각각 100개의 샘플에 대해 평균값, 표준편차를 계산\n",
    "4. 결과를 그래프로 출력\n",
    "\n"
   ]
  },
  {
   "cell_type": "raw",
   "metadata": {},
   "source": [
    "#지뢰찾기 = x의 움직임을 표현 (Random walker) => 터미널 출력\n",
    "0. 2차원 배열을 0을 채우기 =빈공간 (30* ,40*)\n",
    "1. 임의의 위치에 나무 4개를 고정 (나무 T=3*3크기의 공간을 차지) = 랜덤 나무 위치, 중복x\n",
    "2. 처음 시작전 RW를 임의의 위치에 두기 (RW x= 1*1 크기의 공간을 차지)\n",
    "3. 키를 누를때마다 RW를 다른 위치로 이동시키기 \n",
    "    (RW는 상하좌우 중 하나를 임의로 선택하여 움직임. 벽이나 나무를 통과할 수 없다.)\n",
    "    \n",
    "아무키나 누르세요 (q를 입력하면 종료)\n",
    "\n"
   ]
  },
  {
   "cell_type": "raw",
   "metadata": {},
   "source": [
    "\n",
    "이웃이 있는 사람 중 하나를 랜덤하게 선택\n",
    " -2. 이웃 중 의견의 비율을 확률로 하여 의견을 변경 \n",
    "    ex) 선택된 사람 주위에 의견 O가 1명이고 X가 3명이면, 1/4확률로 o, 3/4확률로 X로 의견을 변경 \n",
    "    \n",
    "아무키나 누르세요 (q를 입력하면 종료)"
   ]
  }
 ],
 "metadata": {
  "kernelspec": {
   "display_name": "Python 3",
   "language": "python",
   "name": "python3"
  },
  "language_info": {
   "codemirror_mode": {
    "name": "ipython",
    "version": 3
   },
   "file_extension": ".py",
   "mimetype": "text/x-python",
   "name": "python",
   "nbconvert_exporter": "python",
   "pygments_lexer": "ipython3",
   "version": "3.7.3"
  }
 },
 "nbformat": 4,
 "nbformat_minor": 2
}
