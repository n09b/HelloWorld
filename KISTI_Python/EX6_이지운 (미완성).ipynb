{
 "cells": [
  {
   "cell_type": "code",
   "execution_count": 6,
   "metadata": {},
   "outputs": [
    {
     "name": "stdout",
     "output_type": "stream",
     "text": [
      "[True, False, True, False, True, True, True, True, True, False, True, True, True, True, True, True, True, True, True, True, True, True, True, True, False, True, True, True, False, True, True, False, True, True, True, False, True, False, True, True, False, True, True, True, True, True, False, False, True, False, True, True, False, True, False, True, True, True, True, True, True, True, True, True, True, False, False, True, True, True, True, True, True, True, True, False, False, False, True, True, False, True, True, True, False, True, True, True, False, True, True, True, True, True, False, False, True, True, True, True]\n",
      "[True, False, True, False, True, True, True, True, True, False, True, True, True, True, True, True, True, True, True, True, True, True, True, True, False, True, True, True, False, True, True, False, True, True, True, False, True, False, True, True, False, True, True, True, True, True, False, False, True, False, True, True, False, True, False, True, True, True, True, True, True, True, True, True, True, False, False, True, True, True, True, True, True, True, True, False, False, False, True, True, False, True, True, True, False, True, True, True, False, True, True, True, True, True, False, False, True, True, True, True, False]\n",
      "[True, False, True, False, True, True, True, True, True, False, True, True, True, True, True, True, True, True, True, True, True, True, True, True, False, True, True, True, False, True, True, False, True, True, True, False, True, False, True, True, False, True, True, True, True, True, False, False, True, False, True, True, False, True, False, True, True, True, True, True, True, True, True, True, True, False, False, True, True, True, True, True, True, True, True, False, False, False, True, True, False, True, True, True, False, True, True, True, False, True, True, True, True, True, False, False, True, True, True, True]\n",
      "14\n"
     ]
    }
   ],
   "source": [
    "import random\n",
    "list1=[False]*100\n",
    "\n",
    "\n",
    "for i in range(len(list1)):\n",
    "    if random.random()<0.8:\n",
    "        list1[i]=True\n",
    "    \n",
    "list1.append(False)\n",
    "\n",
    "\n",
    "#여기서 부터 못햇어요 (수정)\n",
    "cursize=0\n",
    "maxsize=0\n",
    "for a in list1:\n",
    "    if a: #a==True 랑 같음\n",
    "        cursize+=1\n",
    "    else:\n",
    "        if cursize>maxsize:\n",
    "            maxsize=cursize\n",
    "        cursize=0\n",
    "list1.pop()\n",
    "\n",
    "print(maxsize)\n",
    "\n"
   ]
  },
  {
   "cell_type": "code",
   "execution_count": null,
   "metadata": {},
   "outputs": [],
   "source": []
  }
 ],
 "metadata": {
  "kernelspec": {
   "display_name": "Python 3",
   "language": "python",
   "name": "python3"
  },
  "language_info": {
   "codemirror_mode": {
    "name": "ipython",
    "version": 3
   },
   "file_extension": ".py",
   "mimetype": "text/x-python",
   "name": "python",
   "nbconvert_exporter": "python",
   "pygments_lexer": "ipython3",
   "version": "3.7.3"
  }
 },
 "nbformat": 4,
 "nbformat_minor": 2
}
