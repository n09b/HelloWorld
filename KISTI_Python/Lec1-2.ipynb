{
 "cells": [
  {
   "cell_type": "code",
   "execution_count": 1,
   "metadata": {},
   "outputs": [
    {
     "name": "stdout",
     "output_type": "stream",
     "text": [
      "문자열Hello World!\n"
     ]
    },
    {
     "data": {
      "text/plain": [
       "'Hello World!'"
      ]
     },
     "execution_count": 1,
     "metadata": {},
     "output_type": "execute_result"
    }
   ],
   "source": [
    "input(\"문자열\")"
   ]
  },
  {
   "cell_type": "code",
   "execution_count": 2,
   "metadata": {},
   "outputs": [
    {
     "name": "stdout",
     "output_type": "stream",
     "text": [
      "입력하세요싫어요\n"
     ]
    },
    {
     "data": {
      "text/plain": [
       "'싫어요'"
      ]
     },
     "execution_count": 2,
     "metadata": {},
     "output_type": "execute_result"
    }
   ],
   "source": [
    "input(\"입력하세요\")"
   ]
  },
  {
   "cell_type": "code",
   "execution_count": 8,
   "metadata": {},
   "outputs": [
    {
     "name": "stdout",
     "output_type": "stream",
     "text": [
      "입력하세요1000\n"
     ]
    }
   ],
   "source": [
    "b=input(\"입력하세요\")\n",
    "c=int(b) "
   ]
  },
  {
   "cell_type": "code",
   "execution_count": 12,
   "metadata": {},
   "outputs": [
    {
     "name": "stdout",
     "output_type": "stream",
     "text": [
      "1000\n",
      "10001000\n",
      "1000\n",
      "2000\n"
     ]
    }
   ],
   "source": [
    "print(b)\n",
    "print(b*2) #b는 문자열\n",
    "print(c)\n",
    "print(c*2) #c는 숫자, 숫자변환-> int()"
   ]
  },
  {
   "cell_type": "code",
   "execution_count": 16,
   "metadata": {},
   "outputs": [
    {
     "name": "stdout",
     "output_type": "stream",
     "text": [
      "단을 입력하세요5\n",
      "5*1=5\n",
      "5*2=10\n",
      "5*3=15\n",
      "5*4=20\n",
      "5*5=25\n",
      "5*6=30\n",
      "5*7=35\n",
      "5*8=40\n",
      "5*9=45\n"
     ]
    }
   ],
   "source": [
    "# 입력값으로 구구단 \n",
    "\n",
    "b=input(\"단을 입력하세요\")\n",
    "a=int(b)\n",
    "for i in range(1,10) :\n",
    "    c='{}*{}={}'.format(a,i, a*i)\n",
    "    print(c)"
   ]
  },
  {
   "cell_type": "code",
   "execution_count": 19,
   "metadata": {},
   "outputs": [
    {
     "name": "stdout",
     "output_type": "stream",
     "text": [
      "단을 입력하세요7\n",
      "7*1=7\n",
      "7*2=14\n",
      "7*3=21\n",
      "7*4=28\n",
      "7*5=35\n",
      "7*6=42\n",
      "7*7=49\n",
      "7*8=56\n",
      "7*9=63\n"
     ]
    }
   ],
   "source": [
    "# 입력값으로 구구단 2 \n",
    "\n",
    "b=input(\"단을 입력하세요\")\n",
    "a=int(b)\n",
    "for i in range(1,10) :\n",
    "    print('{}*{}={}'.format(a,i, a*i))"
   ]
  },
  {
   "cell_type": "code",
   "execution_count": null,
   "metadata": {},
   "outputs": [],
   "source": []
  },
  {
   "cell_type": "code",
   "execution_count": 21,
   "metadata": {},
   "outputs": [
    {
     "name": "stdout",
     "output_type": "stream",
     "text": [
      "0.7624494555615866\n",
      "6\n"
     ]
    }
   ],
   "source": [
    "import random\n",
    "a = random.random()\n",
    "print(a)\n",
    "print(random.randint(1,8))"
   ]
  },
  {
   "cell_type": "code",
   "execution_count": 25,
   "metadata": {},
   "outputs": [
    {
     "name": "stdout",
     "output_type": "stream",
     "text": [
      "7\n",
      "9\n",
      "3\n",
      "8\n",
      "1\n"
     ]
    }
   ],
   "source": [
    "import random\n",
    "for _ in range(5): #변수사용자제, range() -> 숫자가 아님!\n",
    "    print(random.randint(1,10))"
   ]
  },
  {
   "cell_type": "code",
   "execution_count": 33,
   "metadata": {},
   "outputs": [
    {
     "name": "stdout",
     "output_type": "stream",
     "text": [
      "가위:1, 바위:2, 보:3 중 하나를 입력하세요:2\n",
      "당신은 2, 컴퓨터는 2을 선택했습니다\n"
     ]
    }
   ],
   "source": [
    "user=input(\"가위:1, 바위:2, 보:3 중 하나를 입력하세요:\")\n",
    "import random\n",
    "co= random.randint(1,3)\n",
    "print(\"당신은\"+\" \"+ str(user)+\", \"+\"컴퓨터는\"+\" \"+ str(co) + \"을 선택했습니다\")\n"
   ]
  },
  {
   "cell_type": "code",
   "execution_count": 2,
   "metadata": {},
   "outputs": [
    {
     "name": "stdout",
     "output_type": "stream",
     "text": [
      "가위:1, 바위:2, 보:3 중 하나를 입력하세요:2\n",
      "당신은 2, 컴퓨터는 3을 선택했습니다\n"
     ]
    }
   ],
   "source": [
    "user=str(input(\"가위:1, 바위:2, 보:3 중 하나를 입력하세요:\"))\n",
    "import random\n",
    "co= str(random.randint(1,3))\n",
    "print(\"당신은\"+\" \"+ user +\", \"+\"컴퓨터는\"+\" \"+ co+ \"을 선택했습니다\")\n"
   ]
  },
  {
   "cell_type": "code",
   "execution_count": 4,
   "metadata": {},
   "outputs": [
    {
     "name": "stdout",
     "output_type": "stream",
     "text": [
      "가위:1, 바위:2, 보:3 중 하나를 입력하세요:1\n",
      "당신은 1, 컴퓨터는 2을 선택했습니다. \n"
     ]
    }
   ],
   "source": [
    "user=input(\"가위:1, 바위:2, 보:3 중 하나를 입력하세요:\")\n",
    "import random\n",
    "co= random.randint(1,3)\n",
    "print(\"당신은 {}, 컴퓨터는 {}을 선택했습니다. \".format(user,co))\n"
   ]
  },
  {
   "cell_type": "code",
   "execution_count": 12,
   "metadata": {},
   "outputs": [
    {
     "name": "stdout",
     "output_type": "stream",
     "text": [
      "1*5=5\n",
      "1*5=5\n",
      "5*1=10\n"
     ]
    }
   ],
   "source": [
    "str1=\"{}*{}={}\"\n",
    "str2=str1.format(1,5,5)\n",
    "print(str2)\n",
    "\n",
    "print(\"{}*{}={}\".format(1,5,5)) \n",
    "print(\"{1}*{0}={2}\".format(1,5,10)) #format {} 순서변경 가능"
   ]
  },
  {
   "cell_type": "code",
   "execution_count": 14,
   "metadata": {},
   "outputs": [
    {
     "data": {
      "text/plain": [
       "False"
      ]
     },
     "execution_count": 14,
     "metadata": {},
     "output_type": "execute_result"
    }
   ],
   "source": [
    "1==2"
   ]
  },
  {
   "cell_type": "code",
   "execution_count": 16,
   "metadata": {},
   "outputs": [
    {
     "data": {
      "text/plain": [
       "True"
      ]
     },
     "execution_count": 16,
     "metadata": {},
     "output_type": "execute_result"
    }
   ],
   "source": [
    "1!=2"
   ]
  },
  {
   "cell_type": "code",
   "execution_count": 19,
   "metadata": {},
   "outputs": [
    {
     "name": "stdout",
     "output_type": "stream",
     "text": [
      "False\n"
     ]
    }
   ],
   "source": [
    "a=10\n",
    "b=20\n",
    "print(b<a)"
   ]
  },
  {
   "cell_type": "code",
   "execution_count": 21,
   "metadata": {},
   "outputs": [
    {
     "name": "stdout",
     "output_type": "stream",
     "text": [
      "값을 입력하세요:5\n",
      "False\n"
     ]
    }
   ],
   "source": [
    "num=input(\"값을 입력하세요:\")\n",
    "num=int(num)\n",
    "print(num%2==0)\n"
   ]
  },
  {
   "cell_type": "code",
   "execution_count": 25,
   "metadata": {},
   "outputs": [
    {
     "name": "stdout",
     "output_type": "stream",
     "text": [
      "값을 입력하세요:5\n",
      "홀수입니다.\n"
     ]
    }
   ],
   "source": [
    "user=input(\"값을 입력하세요:\")\n",
    "user=int(user)\n",
    "if user%2==0:\n",
    "    print(\"짝수입니다.\")\n",
    "else:\n",
    "    print(\"홀수입니다.\")\n",
    "    \n",
    "\n",
    "    "
   ]
  },
  {
   "cell_type": "code",
   "execution_count": 28,
   "metadata": {},
   "outputs": [
    {
     "ename": "SyntaxError",
     "evalue": "invalid syntax (<ipython-input-28-1cfb9fc366b9>, line 3)",
     "output_type": "error",
     "traceback": [
      "\u001b[1;36m  File \u001b[1;32m\"<ipython-input-28-1cfb9fc366b9>\"\u001b[1;36m, line \u001b[1;32m3\u001b[0m\n\u001b[1;33m    j=user%2==0:\u001b[0m\n\u001b[1;37m               ^\u001b[0m\n\u001b[1;31mSyntaxError\u001b[0m\u001b[1;31m:\u001b[0m invalid syntax\n"
     ]
    }
   ],
   "source": []
  },
  {
   "cell_type": "code",
   "execution_count": 29,
   "metadata": {},
   "outputs": [
    {
     "name": "stdout",
     "output_type": "stream",
     "text": [
      "값을 입력하세요:3\n",
      "홀수입니다.\n"
     ]
    }
   ],
   "source": [
    "user=input(\"값을 입력하세요:\")\n",
    "user=int(user)\n",
    "j=user%2==0\n",
    "if j:\n",
    "    print(\"짝수입니다.\")\n",
    "else:\n",
    "    print(\"홀수입니다.\")\n",
    "    "
   ]
  },
  {
   "cell_type": "code",
   "execution_count": 49,
   "metadata": {},
   "outputs": [
    {
     "name": "stdout",
     "output_type": "stream",
     "text": [
      "값을 입력하세요:15\n",
      "15은 소수입니다.\n"
     ]
    }
   ],
   "source": [
    "#과제소수판단 for, if 이용\n",
    "u = input(\"값을 입력하세요:\")\n",
    "u=int(u)\n",
    "if u==1:\n",
    "    print(\"1은 소수, 합성수 모두 아닙니다.\")\n",
    "elif for "
   ]
  },
  {
   "cell_type": "raw",
   "metadata": {},
   "source": []
  },
  {
   "cell_type": "code",
   "execution_count": 37,
   "metadata": {},
   "outputs": [
    {
     "name": "stdout",
     "output_type": "stream",
     "text": [
      "가위:1, 바위:2, 보:3 중 하나를 입력하세요:1\n",
      "당신은 1, 컴퓨터는 1을 선택했습니다. \n",
      "비겼습니다.\n"
     ]
    }
   ],
   "source": [
    "us=input(\"가위:1, 바위:2, 보:3 중 하나를 입력하세요:\")\n",
    "us=int(us)\n",
    "import random\n",
    "co= random.randint(1,3)\n",
    "co=int(co)\n",
    "print(\"당신은 {}, 컴퓨터는 {}을 선택했습니다. \".format(us,co))\n",
    "if us==co:\n",
    "    print(\"비겼습니다.\")\n",
    "elif us==1 and us<co: \n",
    "    print(\"당신이 이겼습니다.\")\n",
    "elif us!=1 and us>co:\n",
    "    print(\"당신이 이겼습니다.\")\n",
    "else:\n",
    "    print(\"당신이 졌습니다.\")\n",
    "    "
   ]
  },
  {
   "cell_type": "code",
   "execution_count": 50,
   "metadata": {},
   "outputs": [
    {
     "name": "stdout",
     "output_type": "stream",
     "text": [
      "가위:1, 바위:2, 보:3 중 하나를 입력하세요:4\n",
      "당신은 4, 컴퓨터는 3을 선택했습니다. \n",
      "당신이 졌습니다.\n"
     ]
    }
   ],
   "source": [
    "us=input(\"가위:1, 바위:2, 보:3 중 하나를 입력하세요:\")\n",
    "us=int(us)\n",
    "import random\n",
    "co= random.randint(1,3)\n",
    "co=int(co)\n",
    "print(\"당신은 {}, 컴퓨터는 {}을 선택했습니다. \".format(us,co))\n",
    "if us==co:\n",
    "    print(\"비겼습니다.\")\n",
    "elif (us==1 and co==3) or (us==2 and co==1) or (us==3 and co==2): \n",
    "    print(\"당신이 이겼습니다.\")\n",
    "else:\n",
    "    print(\"당신이 졌습니다.\")\n",
    "    "
   ]
  },
  {
   "cell_type": "code",
   "execution_count": 54,
   "metadata": {},
   "outputs": [
    {
     "name": "stdout",
     "output_type": "stream",
     "text": [
      "0\n",
      "1\n",
      "2\n",
      "3\n"
     ]
    }
   ],
   "source": [
    "i=0\n",
    "while True:\n",
    "    if i>3:\n",
    "        break\n",
    "    print(i)\n",
    "    i+=1\n"
   ]
  },
  {
   "cell_type": "code",
   "execution_count": 4,
   "metadata": {},
   "outputs": [
    {
     "name": "stdout",
     "output_type": "stream",
     "text": [
      "문자를 입력하세요:d\n"
     ]
    }
   ],
   "source": [
    "ip=input(\"문자를 입력하세요:\")\n",
    "while ip=='n':\n",
    "   \n",
    "    \n",
    "        \n",
    "    \n",
    "    "
   ]
  },
  {
   "cell_type": "code",
   "execution_count": null,
   "metadata": {},
   "outputs": [],
   "source": []
  }
 ],
 "metadata": {
  "kernelspec": {
   "display_name": "Python 3",
   "language": "python",
   "name": "python3"
  },
  "language_info": {
   "codemirror_mode": {
    "name": "ipython",
    "version": 3
   },
   "file_extension": ".py",
   "mimetype": "text/x-python",
   "name": "python",
   "nbconvert_exporter": "python",
   "pygments_lexer": "ipython3",
   "version": "3.7.3"
  }
 },
 "nbformat": 4,
 "nbformat_minor": 2
}
