{
 "cells": [
  {
   "cell_type": "code",
   "execution_count": 8,
   "metadata": {},
   "outputs": [
    {
     "name": "stdout",
     "output_type": "stream",
     "text": [
      "양의 정수를 입력하세요 : 10\n",
      "55\n"
     ]
    }
   ],
   "source": [
    "#1.양의 정수 하나를 입력받고, 입력 받은 양의 정수보다 작거나 같은 모든 정수의 합 출력하기\n",
    "a=input(\"양의 정수를 입력하세요 : \")\n",
    "a=int(a)\n",
    "s=0\n",
    "for i in range(1,a+1):\n",
    "    if a%1!=0:\n",
    "        i= i+1\n",
    "    else:\n",
    "        s+=i\n",
    "print(s)\n",
    "\n",
    "  \n",
    "    \n",
    "    "
   ]
  },
  {
   "cell_type": "code",
   "execution_count": 17,
   "metadata": {},
   "outputs": [
    {
     "name": "stdout",
     "output_type": "stream",
     "text": [
      "양의 정수를 입력하세요 : 120\n",
      "7260\n"
     ]
    }
   ],
   "source": [
    "#1\n",
    "a=input(\"양의 정수를 입력하세요 : \")\n",
    "a=int(a)\n",
    "s=0\n",
    "for i in range(1,a+1):\n",
    "    s+=i\n",
    "print(s)"
   ]
  },
  {
   "cell_type": "code",
   "execution_count": 1,
   "metadata": {},
   "outputs": [
    {
     "name": "stdout",
     "output_type": "stream",
     "text": [
      "숫자를 입력하세요 : 3\n",
      "5\n"
     ]
    }
   ],
   "source": [
    "#2.양의 정수 하나를 입력받고, 입력 받은 양의 정수보다 작거나 같은 소수들의 합 구하기\n",
    "val=input(\"숫자를 입력하세요 : \")\n",
    "val=int(val)\n",
    "result=0\n",
    "\n",
    "for i in range(2,val+1):\n",
    "    flag =True\n",
    "    for a in range(2,i):\n",
    "        if i%a==0:\n",
    "            flag=False\n",
    "            break\n",
    "    if flag:\n",
    "           result+=i\n",
    "            \n",
    "print(result)\n"
   ]
  },
  {
   "cell_type": "code",
   "execution_count": null,
   "metadata": {},
   "outputs": [],
   "source": [
    "#2\n",
    "a=input(\"양의 정수를 입력하세요 : \")\n",
    "a=int(a)\n",
    "s=0\n",
    "for i in range(1,a+1):\n",
    "    s+=i\n",
    "print(s)"
   ]
  },
  {
   "cell_type": "code",
   "execution_count": 14,
   "metadata": {},
   "outputs": [
    {
     "name": "stdout",
     "output_type": "stream",
     "text": [
      "양의 정수를 입력하세요 : 45\n",
      "1\n",
      "3\n",
      "5\n",
      "9\n",
      "15\n",
      "45\n"
     ]
    }
   ],
   "source": [
    "#3.양의 정수 하나를 입력받고, 입력 받는 정수의 약수 출력하기\n",
    "\n",
    "a=input(\"양의 정수를 입력하세요 : \")\n",
    "a=int(a)\n",
    "\n",
    "for i in range(1,a+1):\n",
    "    if a%i!=0:\n",
    "        i= i+1\n",
    "    else:\n",
    "        print(i)\n"
   ]
  },
  {
   "cell_type": "code",
   "execution_count": 21,
   "metadata": {},
   "outputs": [
    {
     "name": "stdout",
     "output_type": "stream",
     "text": [
      "양의 정수를 입력하세요 : 45\n",
      "1\n",
      "3\n",
      "5\n",
      "9\n",
      "15\n",
      "45\n"
     ]
    }
   ],
   "source": [
    "#3\n",
    "a=input(\"양의 정수를 입력하세요 : \")\n",
    "a=int(a)\n",
    "\n",
    "for i in range(1,a+1):\n",
    "    if a%i==0:\n",
    "        print(i)"
   ]
  },
  {
   "cell_type": "code",
   "execution_count": 2,
   "metadata": {},
   "outputs": [
    {
     "name": "stdout",
     "output_type": "stream",
     "text": [
      "0\n",
      "0 3\n",
      "0 4\n",
      "0 5\n",
      "1\n",
      "1 3\n",
      "1 4\n",
      "1 5\n",
      "2\n",
      "2 3\n",
      "2 4\n",
      "2 5\n"
     ]
    }
   ],
   "source": [
    "for i in range(3):\n",
    "    print(i)\n",
    "    for j in range(3,6):\n",
    "        print(i,j)\n"
   ]
  }
 ],
 "metadata": {
  "kernelspec": {
   "display_name": "Python 3",
   "language": "python",
   "name": "python3"
  },
  "language_info": {
   "codemirror_mode": {
    "name": "ipython",
    "version": 3
   },
   "file_extension": ".py",
   "mimetype": "text/x-python",
   "name": "python",
   "nbconvert_exporter": "python",
   "pygments_lexer": "ipython3",
   "version": "3.7.3"
  }
 },
 "nbformat": 4,
 "nbformat_minor": 2
}
