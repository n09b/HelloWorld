{
 "cells": [
  {
   "cell_type": "code",
   "execution_count": 159,
   "metadata": {},
   "outputs": [
    {
     "name": "stdout",
     "output_type": "stream",
     "text": [
      "[1, 3, 8, 11, 11, 12, 15, 17, 19, 20]\n",
      "[1, 2, 2, 3, 3, 4, 4, 5, 5, 6, 9, 14, 14, 14, 14, 18, 19, 20, 20, 20]\n",
      "[1, 3, 8, 11, 11, 12, 15, 17, 19, 20, 1, 2, 2, 3, 3, 4, 4, 5, 5, 6, 9, 14, 14, 14, 14, 18, 19, 20, 20, 20]\n",
      "0\n"
     ]
    }
   ],
   "source": [
    "#0부터 20까지의 정수 중 임의로 10개를 가져와서 정렬하는 코드를 만들어보자. \n",
    "#만들었으면, 이제 추가로 20개를 더가져와서 두 리스트를 합쳐서 하나의 리스트로 만들고\n",
    "#그 안에서 숫자 7이 몇 개인지 세어보자.\n",
    "\n",
    "import random\n",
    "list1=[]\n",
    "list2=[]\n",
    "list3=[]\n",
    "\n",
    "\n",
    "for _ in range(10):\n",
    "    a=random.randint(0,20)\n",
    "    list1.append(a)\n",
    "    list1.sort()\n",
    "    \n",
    "for _ in range(20):\n",
    "    list2.append(random.randint(0,20))\n",
    "    list2.sort()\n",
    "    \n",
    "list3=list1+list2     \n",
    "\n",
    "print(list1)\n",
    "print(list2)\n",
    "print(list3)\n",
    "\n",
    "print(list3.count(7))"
   ]
  },
  {
   "cell_type": "code",
   "execution_count": 177,
   "metadata": {},
   "outputs": [
    {
     "name": "stdout",
     "output_type": "stream",
     "text": [
      "[0, 2, 4, 8, 9, 12, 16, 16, 16, 18]\n",
      "[0, 1, 2, 2, 2, 4, 4, 7, 8, 8, 9, 9, 9, 10, 12, 14, 15, 15, 15, 15, 16, 16, 16, 16, 16, 17, 17, 18, 18, 19]\n",
      "1\n"
     ]
    }
   ],
   "source": [
    "#0부터 20까지의 정수 중 임의로 10개를 가져와서 정렬하는 코드를 만들어보자. \n",
    "#만들었으면, 이제 추가로 20개를 더가져와서 두 리스트를 합쳐서 하나의 리스트로 만들고\n",
    "#그 안에서 숫자 7이 몇 개인지 세어보자.\n",
    "\n",
    "import random\n",
    "list1=[]\n",
    "list2=[]\n",
    "list3=[]\n",
    "\n",
    "\n",
    "for _ in range(10):\n",
    "    a=random.randint(0,20)\n",
    "    list1.append(a)\n",
    "    list1.sort()\n",
    "print(list1)    \n",
    "for _ in range(20):\n",
    "    list1.append(random.randint(0,20))\n",
    "    list1.sort()\n",
    "print(list1)    \n",
    "count =0\n",
    "for i in list1:\n",
    "    if i==7:\n",
    "        count+=1\n",
    "        \n",
    "print(count)"
   ]
  }
 ],
 "metadata": {
  "kernelspec": {
   "display_name": "Python 3",
   "language": "python",
   "name": "python3"
  },
  "language_info": {
   "codemirror_mode": {
    "name": "ipython",
    "version": 3
   },
   "file_extension": ".py",
   "mimetype": "text/x-python",
   "name": "python",
   "nbconvert_exporter": "python",
   "pygments_lexer": "ipython3",
   "version": "3.7.3"
  }
 },
 "nbformat": 4,
 "nbformat_minor": 2
}
