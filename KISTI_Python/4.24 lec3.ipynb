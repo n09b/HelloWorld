{
 "cells": [
  {
   "cell_type": "raw",
   "metadata": {},
   "source": [
    "input()\n",
    "print()\n",
    "random.random()\n",
    "\n",
    "=> call \n",
    "\n",
    "*사용자 정의 함수\n",
    "!정의\n",
    "def func1(p1,p2):\n",
    "    print(\"두 값은 {}과 {}입니다\".format(p1,p2))\n",
    "    return p1+p2\n",
    "!사용\n",
    "p,g=5,7 # p,q의 공간을 만든 후 5, 7 저장\n",
    "b=func1(p,q) #fuc1 공간 만든 후 p1과 p2 공간을 만든다. \n",
    "그 후 p,q값을 복사한다. \n",
    "외부에 return 공간을 만들고 b 공간을 만들 후 return값을 복사한다. \n",
    "이후 fuc1 삭제\n",
    "print(b) \n",
    "\n",
    "\n"
   ]
  },
  {
   "cell_type": "code",
   "execution_count": 1,
   "metadata": {},
   "outputs": [
    {
     "name": "stdout",
     "output_type": "stream",
     "text": [
      "5050\n"
     ]
    }
   ],
   "source": [
    "# sum 함수 만들기. sum(a)=a까지 합하기 \n",
    "\n",
    "\n",
    "def sum(a):\n",
    "    s=0\n",
    "    for i in range(1,a+1):\n",
    "       s+=i \n",
    "    return s\n",
    "\n",
    "a=100\n",
    "b=sum(a)\n",
    "print(b)\n",
    "    \n",
    "\n",
    "\n"
   ]
  },
  {
   "cell_type": "code",
   "execution_count": 2,
   "metadata": {},
   "outputs": [
    {
     "name": "stdout",
     "output_type": "stream",
     "text": [
      "True\n"
     ]
    }
   ],
   "source": [
    "\n",
    "def is_prime(a):\n",
    "    flag=True\n",
    "    for i in range(2,a):\n",
    "        if a%i==0:\n",
    "            flag=False\n",
    "            break\n",
    "    return flag\n",
    "\n",
    "a=79\n",
    "b=is_prime(a)\n",
    "print(b)\n",
    "    "
   ]
  },
  {
   "cell_type": "code",
   "execution_count": null,
   "metadata": {},
   "outputs": [],
   "source": [
    "#c=73, print(is_prime(c))\n",
    "#is_prime => 소수인지 아닌지\n",
    "\n",
    "def is_prime(c):\n",
    "    for i in range(2,c+1):\n",
    "        flag=True\n",
    "        for a in range(2,i):\n",
    "            if i%a==0:\n",
    "                flag=False\n",
    "                break\n",
    "            if flag:\n",
    "                print(i)\n",
    "    \n",
    "    \n",
    "    \n",
    "    \n",
    "a=input(\"양의 정수를 입력하세요 : \")\n",
    "a=int(a)\n",
    "\n",
    "for i in range(1,a+1):\n",
    "    if a%i!=0:\n",
    "        i= i+1\n",
    "    else:\n",
    "        print(i)\n",
    "\n",
    "for i in range(2,val+1):\n",
    "    flag =True\n",
    "    for a in range(2,i):\n",
    "        if i%a==0:\n",
    "            flag=False\n",
    "            break\n",
    "    if flag:\n",
    "        result+=i\n",
    "        print(i) \n",
    "print(result)"
   ]
  },
  {
   "cell_type": "code",
   "execution_count": 8,
   "metadata": {},
   "outputs": [
    {
     "name": "stdout",
     "output_type": "stream",
     "text": [
      "8\n",
      "15\n",
      "24\n",
      "3\n"
     ]
    }
   ],
   "source": [
    "def sumval(a1,a2):\n",
    "    return a1+a2\n",
    "print(sumval(3,5))\n",
    "    \n",
    "def sumval(a1,a2,a3):\n",
    "    return a1+a2+a3\n",
    "print(sumval(3,5,7))\n",
    "\n",
    "def sumval(a1,a2,a3,a4):\n",
    "    return a1+a2+a3+a4\n",
    "print(sumval(3,5,7,9))\n",
    "\n",
    "def newsumval(*a):\n",
    "    res =0\n",
    "    for i in a:\n",
    "        res+=i\n",
    "    return res\n",
    "print(newsumval(3))"
   ]
  },
  {
   "cell_type": "code",
   "execution_count": 10,
   "metadata": {},
   "outputs": [
    {
     "name": "stdout",
     "output_type": "stream",
     "text": [
      "안녕하세요 A\n",
      "안녕하세요 B\n",
      "안녕하세요 C\n"
     ]
    }
   ],
   "source": [
    "def sayhello(hello,*name): #*_-> 함수 맨 끝에\n",
    "    for n in name:\n",
    "        print(hello,n)\n",
    "\n",
    "\n",
    "sayhello(\"안녕하세요\",\"A\",\"B\",\"C\")"
   ]
  },
  {
   "cell_type": "code",
   "execution_count": 12,
   "metadata": {},
   "outputs": [
    {
     "name": "stdout",
     "output_type": "stream",
     "text": [
      "20 27\n"
     ]
    }
   ],
   "source": [
    "def func2(p,q):\n",
    "    return p*2, q*3\n",
    "a,b = func2(10,9)\n",
    "print(a,b)"
   ]
  },
  {
   "cell_type": "code",
   "execution_count": 15,
   "metadata": {},
   "outputs": [
    {
     "name": "stdout",
     "output_type": "stream",
     "text": [
      "10\n",
      "[1, 2, 3]\n"
     ]
    }
   ],
   "source": [
    "\n",
    "\n",
    "def addone(a):\n",
    "    a+=1\n",
    "    return a\n",
    "    \n",
    "a=10\n",
    "addone(a)\n",
    "print(a)\n",
    "\n",
    "def addone(list1,p):\n",
    "    list1.append(p)\n",
    "    return list1\n",
    "\n",
    "list1=[1,2]\n",
    "addone(list1,3)\n",
    "print(list1)"
   ]
  },
  {
   "cell_type": "code",
   "execution_count": null,
   "metadata": {},
   "outputs": [],
   "source": []
  }
 ],
 "metadata": {
  "kernelspec": {
   "display_name": "Python 3",
   "language": "python",
   "name": "python3"
  },
  "language_info": {
   "codemirror_mode": {
    "name": "ipython",
    "version": 3
   },
   "file_extension": ".py",
   "mimetype": "text/x-python",
   "name": "python",
   "nbconvert_exporter": "python",
   "pygments_lexer": "ipython3",
   "version": "3.7.3"
  }
 },
 "nbformat": 4,
 "nbformat_minor": 2
}
