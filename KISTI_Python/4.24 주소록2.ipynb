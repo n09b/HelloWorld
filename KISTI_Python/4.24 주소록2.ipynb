{
 "cells": [
  {
   "cell_type": "code",
   "execution_count": 1,
   "metadata": {},
   "outputs": [
    {
     "name": "stdout",
     "output_type": "stream",
     "text": [
      "원하는 기능을 입력하세요(1:주소입력, 2:주소검색, 3:모든 주소 출력, q:종료) :1\n",
      "이름 : c\n",
      "주소 :c`add\n",
      "{'c': 'c`add'}\n",
      "원하는 기능을 입력하세요(1:주소입력, 2:주소검색, 3:모든 주소 출력, q:종료) :1\n",
      "이름 : a\n",
      "주소 :a`add\n",
      "{'c': 'c`add', 'a': 'a`add'}\n",
      "원하는 기능을 입력하세요(1:주소입력, 2:주소검색, 3:모든 주소 출력, q:종료) :1\n",
      "이름 : r\n",
      "주소 :r`add\n",
      "{'c': 'c`add', 'a': 'a`add', 'r': 'r`add'}\n",
      "원하는 기능을 입력하세요(1:주소입력, 2:주소검색, 3:모든 주소 출력, q:종료) :1\n",
      "이름 : k\n",
      "주소 :k`add\n",
      "{'c': 'c`add', 'a': 'a`add', 'r': 'r`add', 'k': 'k`add'}\n",
      "원하는 기능을 입력하세요(1:주소입력, 2:주소검색, 3:모든 주소 출력, q:종료) :3\n",
      "이름:a,주소:a`add\n",
      "이름:c,주소:c`add\n",
      "이름:k,주소:k`add\n",
      "이름:r,주소:r`add\n",
      "원하는 기능을 입력하세요(1:주소입력, 2:주소검색, 3:모든 주소 출력, q:종료) :2\n",
      "검색할 이름 :b\n",
      "검색할 이름이 없습니다.\n",
      "원하는 기능을 입력하세요(1:주소입력, 2:주소검색, 3:모든 주소 출력, q:종료) :2\n",
      "검색할 이름 :a\n",
      "a`add\n",
      "원하는 기능을 입력하세요(1:주소입력, 2:주소검색, 3:모든 주소 출력, q:종료) :q\n"
     ]
    }
   ],
   "source": [
    "dict1={}\n",
    "\n",
    "while True:\n",
    "    a=input(\"원하는 기능을 입력하세요(1:주소입력, 2:주소검색, 3:모든 주소 출력, q:종료) :\")\n",
    "    if a!='q':\n",
    "        \n",
    "        if a=='1':\n",
    "            name=input(\"이름 : \")\n",
    "            add=input(\"주소 :\")\n",
    "            dict1[name]=add\n",
    "            print(dict1)\n",
    "        elif a=='2':\n",
    "            name=input(\"검색할 이름 :\")\n",
    "            if dict1.get(name)!=None:\n",
    "                print(dict1[name])\n",
    "            else:\n",
    "                print(\"검색할 이름이 없습니다.\")\n",
    "        else:\n",
    "            for i in sorted(dict1.keys()):\n",
    "                print(\"이름:{},주소:{}\".format(i,dict1[i]))\n",
    "      \n",
    "    else:\n",
    "        break\n",
    "    \n",
    "    \n",
    "    \n",
    "    \n",
    "    \n",
    "    \n",
    "    \n",
    "    \n",
    "    "
   ]
  }
 ],
 "metadata": {
  "kernelspec": {
   "display_name": "Python 3",
   "language": "python",
   "name": "python3"
  },
  "language_info": {
   "codemirror_mode": {
    "name": "ipython",
    "version": 3
   },
   "file_extension": ".py",
   "mimetype": "text/x-python",
   "name": "python",
   "nbconvert_exporter": "python",
   "pygments_lexer": "ipython3",
   "version": "3.7.3"
  }
 },
 "nbformat": 4,
 "nbformat_minor": 2
}
