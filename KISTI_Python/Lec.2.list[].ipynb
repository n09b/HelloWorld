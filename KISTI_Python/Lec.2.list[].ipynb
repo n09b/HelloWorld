{
 "cells": [
  {
   "cell_type": "code",
   "execution_count": 14,
   "metadata": {},
   "outputs": [
    {
     "name": "stdout",
     "output_type": "stream",
     "text": [
      "<class 'list'>\n",
      "<class 'str'>\n",
      "<class 'list'>\n",
      "[1, 2, '3', [1, 2, 3], 4]\n",
      "[1, 2, '3', [1, 2, 3], 4, [3, 6]]\n",
      "[1, 'b', '3', [1, 2, 3], 4, [3, 6]]\n",
      "[]\n",
      "[3]\n",
      "['b', '3']\n",
      "7\n",
      "[1, 'b', [1, 2, 3], 4, [3, 6]]\n",
      "[7, 11, 13]\n",
      "2\n",
      "13\n"
     ]
    }
   ],
   "source": [
    "a=[1,2,\"3\",[1,2,3]]\n",
    "print(type(a)) #리스트형 \n",
    "print(type(a[2]))#리스트 안에는 문자열, 리스트 가능\n",
    "print(type(a[3]))\n",
    "a.append(4) #리스트에 변수 추가\n",
    "print(a)\n",
    "a.append([3,6])\n",
    "print(a)\n",
    "a[1]=\"b\" \n",
    "print(a)\n",
    "b=[]\n",
    "print(b)\n",
    "b.append(3)\n",
    "print(b)\n",
    "c=a[1:3]\n",
    "print(c)\n",
    "d=a  \n",
    "d[2]=7\n",
    "print(a[2])\n",
    "del a[2]\n",
    "print(a)\n",
    "list1 =[2,3,7,11,13]\n",
    "list2=list1[2:]\n",
    "print(list2)\n",
    "print(list1[0])\n",
    "print(list1[-1])"
   ]
  },
  {
   "cell_type": "code",
   "execution_count": 3,
   "metadata": {},
   "outputs": [
    {
     "name": "stdout",
     "output_type": "stream",
     "text": [
      "양의 정수를 입력하세요 : 19\n",
      "19보다 작거나 같은 소수는 [2, 3, 5, 7, 11, 13, 17, 19]\n"
     ]
    }
   ],
   "source": [
    "#양의 정수를 입력받고, 입력받은 정수보다 작거나 같은 모든 소수를 리스트로 만들어라.\n",
    "\n",
    "num=input(\"양의 정수를 입력하세요 : \")\n",
    "a=int(num)\n",
    "result=[]\n",
    "\n",
    "for i in range(2,a+1):\n",
    "    flag =True\n",
    "    for a in range(2,i):\n",
    "        if i%a==0:\n",
    "            flag=False\n",
    "            break\n",
    "    if flag:\n",
    "           result.append(i)\n",
    "            \n",
    "print(\"{}보다 작거나 같은 소수는 {}\".format(num,result))\n"
   ]
  },
  {
   "cell_type": "code",
   "execution_count": 16,
   "metadata": {},
   "outputs": [
    {
     "name": "stdout",
     "output_type": "stream",
     "text": [
      "[1, 1, 2, 3, 5, 8, 13, 21, 34, 55, 89, 144, 233, 377, 610, 987, 1597, 2584, 4181, 6765]\n"
     ]
    }
   ],
   "source": [
    "#피보나치수열 1 1 2 3 5 8 13 21 34 ...\n",
    "list3=[1,1]\n",
    "size=20\n",
    "while len(list3)!=20:\n",
    "    list3.append(list3[-1]+list3[-2])\n",
    "print(list3)\n",
    "\n"
   ]
  },
  {
   "cell_type": "code",
   "execution_count": 24,
   "metadata": {},
   "outputs": [
    {
     "name": "stdout",
     "output_type": "stream",
     "text": [
      "30\n",
      "[1, 2, 3, 4]\n",
      "[1, 2, 1, 2, 1, 2]\n",
      "['a', 'b', 'c', 'd', 'e', 'f']\n",
      "['a', 'b', 'c', 'd', 'e', 'f']\n"
     ]
    }
   ],
   "source": [
    "a=10\n",
    "b=20\n",
    "print(a+b)\n",
    "\n",
    "a1=[1,2]\n",
    "b1=[3,4]\n",
    "print(a1+b1)\n",
    "print(a1*3)\n",
    "\n",
    "str1='abcdef'\n",
    "list4=list(str1)\n",
    "print(list4)\n",
    "\n",
    "str5=str(list4) #str은 list에 영향을 주지 않는다\n",
    "print(str5)\n",
    "\n"
   ]
  },
  {
   "cell_type": "code",
   "execution_count": 26,
   "metadata": {},
   "outputs": [
    {
     "name": "stdout",
     "output_type": "stream",
     "text": [
      "False\n",
      "True\n"
     ]
    }
   ],
   "source": [
    "list1= [1,3,5,7,9]\n",
    "print(2 in list1)\n",
    "print(2 not in list1)"
   ]
  },
  {
   "cell_type": "code",
   "execution_count": 28,
   "metadata": {},
   "outputs": [
    {
     "name": "stdout",
     "output_type": "stream",
     "text": [
      "[1, 2, 3, 4, 5, 6, 7, 8, 9, 10, 11, 12, 13, 14, 15, 16, 17, 18, 19, 20, 21, 22, 23, 24, 25, 26, 27, 28, 29, 30, 31, 32, 33, 34, 35, 36, 37, 38, 39, 40, 41, 42, 43]\n",
      "[1, 2, 3, 4, 5, 6, 7, 8, 9, 10, 11, 12, 13, 14, 15, 16, 17, 18, 19, 20, 21, 22, 23, 24, 25, 26, 27, 28, 29, 30, 31, 32, 33, 34, 35, 36, 37, 38, 39, 40, 41, 42, 43]\n"
     ]
    }
   ],
   "source": [
    "list1=[]\n",
    "for i in range(1,44):\n",
    "    list1.append(i)\n",
    "print(list1)\n",
    "\n",
    "list2=list(range(1,44))\n",
    "print(list2)"
   ]
  },
  {
   "cell_type": "code",
   "execution_count": 30,
   "metadata": {},
   "outputs": [
    {
     "name": "stdout",
     "output_type": "stream",
     "text": [
      "[1, 9, 81, 100, 4624]\n"
     ]
    }
   ],
   "source": [
    "list1=[1,3,9,10,68]\n",
    "list2=[]\n",
    "for i in range(len(list1)):\n",
    "    list2.append(list1[i]*list1[i])\n",
    "print(list2)\n",
    "\n"
   ]
  },
  {
   "cell_type": "code",
   "execution_count": 31,
   "metadata": {},
   "outputs": [
    {
     "name": "stdout",
     "output_type": "stream",
     "text": [
      "[1, 9, 81, 100, 4624]\n"
     ]
    }
   ],
   "source": [
    "list1=[1,3,9,10,68]\n",
    "list2=[]\n",
    "for i in list1:\n",
    "    list2.append(i*i)\n",
    "print(list2)\n",
    "\n"
   ]
  },
  {
   "cell_type": "code",
   "execution_count": 32,
   "metadata": {},
   "outputs": [
    {
     "name": "stdout",
     "output_type": "stream",
     "text": [
      "[2, 12, 90, 90, 204]\n"
     ]
    }
   ],
   "source": [
    "list1=[1,3,9,10,68]\n",
    "list2=[2,4,10,9,3]\n",
    "list3=[]\n",
    "for i in range(len(list1)):\n",
    "    list3.append(list1[i]*list2[i])\n",
    "print(list3)\n",
    "\n"
   ]
  },
  {
   "cell_type": "code",
   "execution_count": 38,
   "metadata": {},
   "outputs": [
    {
     "name": "stdout",
     "output_type": "stream",
     "text": [
      "[2, 12, 90, 90, 204]\n",
      "[2, 3, 4, 9, 10]\n",
      "[204, 90, 90, 12, 2]\n"
     ]
    }
   ],
   "source": [
    "list1=[1,3,9,10,68,11]\n",
    "list2=[2,4,10,9,3]\n",
    "list3=[]\n",
    "for i,j in zip(list1,list2):\n",
    "    list3.append(i*j)\n",
    "print(list3)\n",
    "\n",
    "\n",
    "list2.sort()\n",
    "print(list2)\n",
    "list3.reverse()\n",
    "print(list3)\n"
   ]
  },
  {
   "cell_type": "code",
   "execution_count": 17,
   "metadata": {},
   "outputs": [
    {
     "name": "stdout",
     "output_type": "stream",
     "text": [
      "현재 잔액은 1000000입니다.\n",
      "원하는 작업 번호를 입력하세요(지출:1, 수입:2, 내역보기:3, 종료:q) : 2\n",
      "수입 금액 : 300000\n",
      "현재 잔액은 700000입니다.\n"
     ]
    }
   ],
   "source": [
    "#가계부 혼자서\n",
    "\n",
    "a=1000000\n",
    "print(\"현재 잔액은 {}입니다.\".format(a))\n",
    "b=input(\"원하는 작업 번호를 입력하세요(지출:1, 수입:2, 내역보기:3, 종료:q) : \")\n",
    "if b==\"3\":\n",
    "    print(\"가계부를 종료합니다\")\n",
    "elif b==\"1\":\n",
    "    c=int(input(\"지출 금액 : \"))\n",
    "    a+=c\n",
    "    print(\"현재 잔액은 {}입니다.\".format(a))\n",
    "else:\n",
    "    d=int(input(\"수입 금액 : \"))\n",
    "    a-=d\n",
    "    print(\"현재 잔액은 {}입니다.\".format(a))\n",
    "\n",
    "        \n"
   ]
  },
  {
   "cell_type": "code",
   "execution_count": null,
   "metadata": {},
   "outputs": [],
   "source": []
  }
 ],
 "metadata": {
  "kernelspec": {
   "display_name": "Python 3",
   "language": "python",
   "name": "python3"
  },
  "language_info": {
   "codemirror_mode": {
    "name": "ipython",
    "version": 3
   },
   "file_extension": ".py",
   "mimetype": "text/x-python",
   "name": "python",
   "nbconvert_exporter": "python",
   "pygments_lexer": "ipython3",
   "version": "3.7.3"
  }
 },
 "nbformat": 4,
 "nbformat_minor": 2
}
