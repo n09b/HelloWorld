{
 "cells": [
  {
   "cell_type": "code",
   "execution_count": 10,
   "metadata": {},
   "outputs": [
    {
     "name": "stdout",
     "output_type": "stream",
     "text": [
      "30\n",
      "30\n",
      "11\n",
      "11\n",
      "30\n",
      "-1\n",
      "[True, False, False, True, False, False, True, False, False, True, False, False, True, False, False, True, False, False, True, False]\n"
     ]
    }
   ],
   "source": [
    "#람다함수 한줄정의함수\n",
    "def func(a,b):\n",
    "    return a*b\n",
    "print(func(5,6))\n",
    "\n",
    "func2=lambda a,b : a*b  #:앞에 <p>\n",
    "print(func2(5,6))\n",
    "\n",
    "#절차적 프로그램: 유지보수가 어려움 => 객체지향 프로그램(클래스): 설계가 어려움 => 함수형 프로그램: ex)람다함수\n",
    "def sum(a,b):\n",
    "    return a+b\n",
    "def prod(a,b):\n",
    "    return a*b\n",
    "def dif(a,b):\n",
    "    return a-b\n",
    "print(sum(5,6))\n",
    "\n",
    "#함수를 변수로 사용가능\n",
    "funclist=[sum,prod,dif]\n",
    "for i in funclist:\n",
    "    print(i(5,6))\n",
    "\n",
    "    \n",
    "#map()\n",
    "def is_three(a):\n",
    "    if a%3==0:\n",
    "        return True\n",
    "    else:\n",
    "        return False\n",
    "\n",
    "list1=list(range(20))\n",
    "a=list(map(is_three,list1))\n",
    "print(a)\n",
    "#for i in list1:\n",
    "#    if i%3==0:\n",
    "#        print(i)\n",
    "\n"
   ]
  },
  {
   "cell_type": "code",
   "execution_count": 15,
   "metadata": {},
   "outputs": [
    {
     "name": "stdout",
     "output_type": "stream",
     "text": [
      "문자열1\n",
      "문자열2\n",
      "dfkljsdk\n",
      "dfsdfsd\n",
      "sdfsdfsd\n",
      "d\n"
     ]
    }
   ],
   "source": [
    "str1=\"\"\"문자열1\n",
    "문자열2\"\"\"\n",
    "print(str1)\n",
    "str2='''aavd\n",
    "dfdsfsdf\n",
    "dfs\n",
    "s\n",
    "sd'''\n",
    "a='dfkljsdk\\ndfsdfsd\\nsdfsdfsd\\nd'\n",
    "print(a)\n"
   ]
  },
  {
   "cell_type": "code",
   "execution_count": 25,
   "metadata": {},
   "outputs": [
    {
     "name": "stdout",
     "output_type": "stream",
     "text": [
      "['', 'bc', 'bc', 'dfkjsdkl  fl', '', 'df ']\n",
      "['abcabcadfkjsdkl', 'flaadf']\n",
      "['abcabcadfkjsdkl  flaadf ']\n"
     ]
    }
   ],
   "source": [
    "b='abcabcadfkjsdkl  flaadf '\n",
    "res=b.split('a')\n",
    "print(res)\n",
    "res2=b.split()\n",
    "print(res2)\n",
    "res3=b.splitlines()\n",
    "print(res3)"
   ]
  },
  {
   "cell_type": "code",
   "execution_count": 35,
   "metadata": {},
   "outputs": [],
   "source": [
    "#파일 입력\n",
    "f=open('test.txt','w') #w=write\n",
    "f.write(\"테스트입니다1\\n\")\n",
    "f.write(\"테스트입니다2\")\n",
    "f.close()\n"
   ]
  },
  {
   "cell_type": "code",
   "execution_count": 42,
   "metadata": {},
   "outputs": [
    {
     "name": "stdout",
     "output_type": "stream",
     "text": [
      "테스트입니다1\n",
      "테스트입니다2\n",
      "['테스트입니다1', '테스트입니다2']\n"
     ]
    }
   ],
   "source": [
    "#파일 출력\n",
    "f2=open('test.txt','r') #r=read\n",
    "res =f2.read() #readlines 개행문자 포함 한줄\n",
    "f2.close()\n",
    "print(res)\n",
    "res2=res.splitlines() #개행문자 미 포함 한줄 \n",
    "print(res2)"
   ]
  },
  {
   "cell_type": "code",
   "execution_count": 47,
   "metadata": {},
   "outputs": [],
   "source": [
    "#파일 입력\n",
    "f=open('test.txt','w') #w=write\n",
    "f.write(\"이름1\")\n",
    "f.write('\\t')\n",
    "f.write(\"주소1\")\n",
    "f.write('\\n')\n",
    "f.write(\"이름2\")\n",
    "f.write('\\t')\n",
    "f.write(\"주소2\")\n",
    "\n",
    "\n",
    "f.close()\n"
   ]
  },
  {
   "cell_type": "code",
   "execution_count": 48,
   "metadata": {},
   "outputs": [
    {
     "name": "stdout",
     "output_type": "stream",
     "text": [
      "이름1\t주소1\n",
      "이름2\t주소2\n",
      "['이름1\\t주소1', '이름2\\t주소2']\n",
      "['이름1', '주소1']\n",
      "['이름2', '주소2']\n"
     ]
    }
   ],
   "source": [
    "#파일 출력\n",
    "f2=open('test.txt','r') #r=read(=default값)\n",
    "res =f2.read() #readlines 개행문자 포함 한줄\n",
    "f2.close()\n",
    "print(res)\n",
    "res2=res.splitlines() #개행문자 미 포함 한줄 \n",
    "print(res2)\n",
    "for i in res2:\n",
    "    res3=i.split('\\t')\n",
    "    print(res3)"
   ]
  }
 ],
 "metadata": {
  "kernelspec": {
   "display_name": "Python 3",
   "language": "python",
   "name": "python3"
  },
  "language_info": {
   "codemirror_mode": {
    "name": "ipython",
    "version": 3
   },
   "file_extension": ".py",
   "mimetype": "text/x-python",
   "name": "python",
   "nbconvert_exporter": "python",
   "pygments_lexer": "ipython3",
   "version": "3.7.3"
  }
 },
 "nbformat": 4,
 "nbformat_minor": 2
}
