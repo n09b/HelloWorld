{
 "cells": [
  {
   "cell_type": "code",
   "execution_count": 13,
   "metadata": {},
   "outputs": [
    {
     "name": "stdout",
     "output_type": "stream",
     "text": [
      "0\n",
      "1\n",
      "2\n",
      "3\n",
      "4\n",
      "5\n",
      "0\n",
      "1\n",
      "2\n",
      "3\n",
      "4\n",
      "5\n",
      "7\n",
      "8\n",
      "9\n"
     ]
    }
   ],
   "source": [
    "for i in range(10):\n",
    "    if i>5:\n",
    "        break\n",
    "    print(i)\n",
    "    \n",
    "for i in range(10):\n",
    "    if i==6:\n",
    "        continue #6이 되면 멈추고 다시 올라가서 돌아간다~~ \n",
    "    print(i)\n",
    "    \n",
    "        "
   ]
  },
  {
   "cell_type": "raw",
   "metadata": {},
   "source": [
    "int float bool str\n",
    "list tuple set numpy.array (공간과 다른 곳에서 저장 후 불러오기) \n",
    "dict (언제나 key,value pair)\n",
    "dict1={'a':1,'b:2',3:'c'} {key,value}\n",
    "key= 중복 허용x \n",
    "key 재사용 = 다시 정의\n",
    "=> 효율적인 검색, 중복허용하지 않을 때 dict 사용\n",
    "\n",
    "\n",
    "\n",
    "\n"
   ]
  },
  {
   "cell_type": "code",
   "execution_count": 11,
   "metadata": {},
   "outputs": [
    {
     "name": "stdout",
     "output_type": "stream",
     "text": [
      "1\n",
      "d\n",
      "e\n",
      "5\n",
      "{'a': 1, 'b': 2, 3: 'e', 'd': 5}\n"
     ]
    }
   ],
   "source": [
    "dict1={'a':1,'b':2,3:'c',3:'d'} \n",
    "print(dict1['a'])\n",
    "print(dict1[3])\n",
    "dict1[3]='e'\n",
    "print(dict1[3])\n",
    "dict1['d']=5\n",
    "print(dict1['d'])\n",
    "print(dict1)"
   ]
  }
 ],
 "metadata": {
  "kernelspec": {
   "display_name": "Python 3",
   "language": "python",
   "name": "python3"
  },
  "language_info": {
   "codemirror_mode": {
    "name": "ipython",
    "version": 3
   },
   "file_extension": ".py",
   "mimetype": "text/x-python",
   "name": "python",
   "nbconvert_exporter": "python",
   "pygments_lexer": "ipython3",
   "version": "3.7.3"
  }
 },
 "nbformat": 4,
 "nbformat_minor": 2
}
