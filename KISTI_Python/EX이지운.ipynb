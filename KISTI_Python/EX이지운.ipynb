{
 "cells": [
  {
   "cell_type": "code",
   "execution_count": null,
   "metadata": {},
   "outputs": [],
   "source": [
    "import random\n",
    "a=random.randint(1,43)\n",
    "b=random.randint(1,43)\n",
    "if a!=b:\n",
    "    c=random.randint(1,43)    \n",
    "    if b!=c:\n",
    "        d=random.randint(1,43)\n",
    "        if c!=d:\n",
    "            e=random.randint(1,43)\n",
    "            if d!=e:\n",
    "                f=random.randint(1,43)\n",
    "                if e!=f:\n",
    "                    print(a,b,c,d,e,f)\n",
    "\n",
    "\n",
    "        "
   ]
  },
  {
   "cell_type": "code",
   "execution_count": null,
   "metadata": {},
   "outputs": [],
   "source": [
    "import random\n",
    "list1=[]\n",
    "list2=[]\n",
    "list3=[]\n",
    "\n",
    "\n",
    "for _ in range(6):\n",
    "    if list.count(list)!=0:\n",
    "        \n",
    "    a=random.randint(1,43)\n",
    "    list1.append(a)\n",
    "    list1.sort()\n",
    "    \n",
    "for _ in range(20):\n",
    "    a=random.randint(0,20)\n",
    "    list2.append(a)\n",
    "    list2.sort()\n",
    "    \n",
    "list3=list1+list2     \n",
    "\n",
    "print(list1)\n",
    "print(list2)\n",
    "print(list3)\n"
   ]
  },
  {
   "cell_type": "code",
   "execution_count": 3,
   "metadata": {},
   "outputs": [
    {
     "name": "stdout",
     "output_type": "stream",
     "text": [
      "정수를 입력하세요 : 15\n",
      "더 큰 값입니다.\n",
      "정수를 입력하세요 : 55\n",
      "25,15\n"
     ]
    }
   ],
   "source": [
    "#컴퓨터가 1부터 100까지의 정수 중 하나를 랜덤하게 선택\n",
    "#사용자로부터 정수를 하나 입력받고 위의 선택된 정수와 비교 \n",
    "#사용자가 큰 값이 입력했으면 '더 작은 값입니다'를 출력 후 다시 입력받기\n",
    "#사용자가 작은 값이 입력했으면 '더 큰 값입니다'를 출력후 다시 입력받기\n",
    "#두 정수가 같은 값이면 'x번째 시도에 맞추었습니다,'를 출력후 종료\n",
    "\n",
    "import random\n",
    "com=random.randint(1,100)\n",
    "user=int(input(\"정수를 입력하세요 : \")) \n",
    "\n",
    "if com==user:\n",
    "     print(\"맞추었습니다.\")\n",
    "elif user > com:\n",
    "    print(\"더 작은 값입니다.\")\n",
    "    user2=int(input(\"정수를 입력하세요 : \")) \n",
    "else:\n",
    "    print(\"더 큰 값입니다.\")\n",
    "    user3=int(input(\"정수를 입력하세요 : \")) \n",
    "print(\"{},{}\".format(com,user))\n",
    "   "
   ]
  }
 ],
 "metadata": {
  "kernelspec": {
   "display_name": "Python 3",
   "language": "python",
   "name": "python3"
  },
  "language_info": {
   "codemirror_mode": {
    "name": "ipython",
    "version": 3
   },
   "file_extension": ".py",
   "mimetype": "text/x-python",
   "name": "python",
   "nbconvert_exporter": "python",
   "pygments_lexer": "ipython3",
   "version": "3.7.3"
  }
 },
 "nbformat": 4,
 "nbformat_minor": 2
}
