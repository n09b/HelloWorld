{
 "cells": [
  {
   "cell_type": "raw",
   "metadata": {},
   "source": [
    "원하는 기능을 입력하세요(1:주소입력, 2:주소검색, 3:모든 주소 출력, q:종료):\n",
    "이름:\n",
    "주소:\n",
    "    \n",
    "검색할 이름:"
   ]
  },
  {
   "cell_type": "code",
   "execution_count": null,
   "metadata": {},
   "outputs": [],
   "source": [
    "\n",
    "main=input(\"원하는 기능을 입력하세요(1:주소입력, 2:주소검색, 3:모든 주소 출력, q:종료) : \")\n",
    "\n",
    "\n",
    "dict1={'a':'korea','b':'us','c':'german'}\n",
    "print(dict1)\n",
    "\n",
    "name=input(\"이름을 입력하세요 : \")\n",
    "add=input(\"주소를 입력하세요 : \")\n",
    "\n",
    "dict1[name]=add\n",
    "print(dict1)\n",
    "\n",
    "\n"
   ]
  },
  {
   "cell_type": "code",
   "execution_count": null,
   "metadata": {},
   "outputs": [],
   "source": []
  },
  {
   "cell_type": "code",
   "execution_count": null,
   "metadata": {},
   "outputs": [],
   "source": []
  }
 ],
 "metadata": {
  "kernelspec": {
   "display_name": "Python 3",
   "language": "python",
   "name": "python3"
  },
  "language_info": {
   "codemirror_mode": {
    "name": "ipython",
    "version": 3
   },
   "file_extension": ".py",
   "mimetype": "text/x-python",
   "name": "python",
   "nbconvert_exporter": "python",
   "pygments_lexer": "ipython3",
   "version": "3.7.3"
  }
 },
 "nbformat": 4,
 "nbformat_minor": 2
}
