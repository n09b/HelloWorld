{
 "cells": [
  {
   "cell_type": "code",
   "execution_count": 3,
   "metadata": {},
   "outputs": [
    {
     "name": "stdout",
     "output_type": "stream",
     "text": [
      "숫자입력 :50\n",
      "더 큰 수입니다.\n",
      "숫자입력 :75\n",
      "더 큰 수입니다.\n",
      "숫자입력 :90\n",
      "더 작은 수 입니다.\n",
      "숫자입력 :80\n",
      "OK\n"
     ]
    }
   ],
   "source": [
    "#컴퓨터가 1부터 100까지의 정수 중 하나를 랜덤하게 선택\n",
    "#사용자로부터 정수를 하나 입력받고 위의 선택된 정수와 비교 \n",
    "#사용자가 큰 값이 입력했으면 '더 작은 값입니다'를 출력 후 다시 입력받기\n",
    "#사용자가 작은 값이 입력했으면 '더 큰 값입니다'를 출력후 다시 입력받기\n",
    "#두 정수가 같은 값이면 'x번째 시도에 맞추었습니다,'를 출력후 종료\n",
    "\n",
    "\n",
    "import random\n",
    "\n",
    "com= random.randint(0,100)\n",
    "\n",
    "while True:\n",
    "    a=int(input(\"숫자입력 :\"))\n",
    "    \n",
    "    if com >a:\n",
    "        print(\"더 큰 수입니다.\")\n",
    "    elif a > com:\n",
    "        print(\"더 작은 수 입니다.\")\n",
    "    else:\n",
    "        print(\"OK\")\n",
    "        break\n",
    "        "
   ]
  }
 ],
 "metadata": {
  "kernelspec": {
   "display_name": "Python 3",
   "language": "python",
   "name": "python3"
  },
  "language_info": {
   "codemirror_mode": {
    "name": "ipython",
    "version": 3
   },
   "file_extension": ".py",
   "mimetype": "text/x-python",
   "name": "python",
   "nbconvert_exporter": "python",
   "pygments_lexer": "ipython3",
   "version": "3.7.3"
  }
 },
 "nbformat": 4,
 "nbformat_minor": 2
}
