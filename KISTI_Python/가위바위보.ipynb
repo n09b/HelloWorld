{
 "cells": [
  {
   "cell_type": "code",
   "execution_count": 1,
   "metadata": {},
   "outputs": [
    {
     "name": "stdout",
     "output_type": "stream",
     "text": [
      "가위:1, 바위:2, 보:3 중 하나를 입력하세요.(그만하려면 n을 입력하세요) :2\n",
      "당신이 졌습니다.(컴퓨터는 3를 선택했습니다.)\n"
     ]
    }
   ],
   "source": [
    "us=input(\"가위:1, 바위:2, 보:3 중 하나를 입력하세요.(그만하려면 n을 입력하세요) :\")\n",
    "us=int(us)\n",
    "import random\n",
    "co= random.randint(1,3)\n",
    "co=int(co)\n",
    "count=0\n",
    "\n",
    "if us==co:\n",
    "    print(\"비겼습니다.(컴퓨터는 {}를 선택했습니다.)\".format(co))\n",
    "elif (us==1 and co==3) or (us==2 and co==1) or (us==3 and co==2):         \n",
    "    print(\"당신이 이겼습니다.(컴퓨터는 {}를 선택했습니다.)\".format(co))\n",
    "else:\n",
    "    print(\"당신이 졌습니다.(컴퓨터는 {}를 선택했습니다.)\".format(co))\n",
    "\n",
    "for _ :\n",
    "    if user[i]=='a':\n",
    "          count+=1    \n",
    "print(\"현재 스코어 컴:{} vs 당신:{}\".format())\n",
    "    "
   ]
  },
  {
   "cell_type": "code",
   "execution_count": 2,
   "metadata": {},
   "outputs": [
    {
     "name": "stdout",
     "output_type": "stream",
     "text": [
      "가위:1, 바위:2, 보:3 중 하나를 입력하세요.(그만하려면 n을 입력하세요) :1\n",
      "비겼습니다.(컴퓨터는 1를 선택했습니다.)\n",
      "현재 스코어 컴:0 vs 당신:0\n",
      "가위:1, 바위:2, 보:3 중 하나를 입력하세요.(그만하려면 n을 입력하세요) :2\n",
      "비겼습니다.(컴퓨터는 2를 선택했습니다.)\n",
      "현재 스코어 컴:0 vs 당신:0\n",
      "가위:1, 바위:2, 보:3 중 하나를 입력하세요.(그만하려면 n을 입력하세요) :3\n",
      "비겼습니다.(컴퓨터는 3를 선택했습니다.)\n",
      "현재 스코어 컴:0 vs 당신:0\n",
      "가위:1, 바위:2, 보:3 중 하나를 입력하세요.(그만하려면 n을 입력하세요) :1\n",
      "당신이 졌습니다.(컴퓨터는 2를 선택했습니다.)\n",
      "현재 스코어 컴:1 vs 당신:0\n",
      "가위:1, 바위:2, 보:3 중 하나를 입력하세요.(그만하려면 n을 입력하세요) :1\n",
      "당신이 졌습니다.(컴퓨터는 2를 선택했습니다.)\n",
      "현재 스코어 컴:2 vs 당신:0\n",
      "가위:1, 바위:2, 보:3 중 하나를 입력하세요.(그만하려면 n을 입력하세요) :\n"
     ]
    },
    {
     "ename": "ValueError",
     "evalue": "invalid literal for int() with base 10: ''",
     "output_type": "error",
     "traceback": [
      "\u001b[1;31m---------------------------------------------------------------------------\u001b[0m",
      "\u001b[1;31mValueError\u001b[0m                                Traceback (most recent call last)",
      "\u001b[1;32m<ipython-input-2-2ee4a03360fd>\u001b[0m in \u001b[0;36m<module>\u001b[1;34m\u001b[0m\n\u001b[0;32m      7\u001b[0m     \u001b[1;32mif\u001b[0m \u001b[0myou_str\u001b[0m\u001b[1;33m==\u001b[0m\u001b[1;34m\"n\"\u001b[0m\u001b[1;33m:\u001b[0m\u001b[1;33m\u001b[0m\u001b[1;33m\u001b[0m\u001b[0m\n\u001b[0;32m      8\u001b[0m         \u001b[1;32mbreak\u001b[0m\u001b[1;33m\u001b[0m\u001b[1;33m\u001b[0m\u001b[0m\n\u001b[1;32m----> 9\u001b[1;33m     \u001b[0myou\u001b[0m\u001b[1;33m=\u001b[0m\u001b[0mint\u001b[0m\u001b[1;33m(\u001b[0m\u001b[0myou_str\u001b[0m\u001b[1;33m)\u001b[0m\u001b[1;33m\u001b[0m\u001b[1;33m\u001b[0m\u001b[0m\n\u001b[0m\u001b[0;32m     10\u001b[0m     \u001b[0mcom\u001b[0m\u001b[1;33m=\u001b[0m \u001b[0mrandom\u001b[0m\u001b[1;33m.\u001b[0m\u001b[0mrandint\u001b[0m\u001b[1;33m(\u001b[0m\u001b[1;36m1\u001b[0m\u001b[1;33m,\u001b[0m\u001b[1;36m3\u001b[0m\u001b[1;33m)\u001b[0m\u001b[1;33m\u001b[0m\u001b[1;33m\u001b[0m\u001b[0m\n\u001b[0;32m     11\u001b[0m \u001b[1;33m\u001b[0m\u001b[0m\n",
      "\u001b[1;31mValueError\u001b[0m: invalid literal for int() with base 10: ''"
     ]
    }
   ],
   "source": [
    "import random\n",
    "score_you=0\n",
    "score_com=0\n",
    "\n",
    "while True:\n",
    "    you_str=input(\"가위:1, 바위:2, 보:3 중 하나를 입력하세요.(그만하려면 n을 입력하세요) :\")\n",
    "    if you_str==\"n\":\n",
    "        break\n",
    "    you=int(you_str)\n",
    "    com= random.randint(1,3)\n",
    "    \n",
    "    if you==com:\n",
    "        print(\"비겼습니다.(컴퓨터는 {}를 선택했습니다.)\".format(com))\n",
    "    elif (you==1 and com==3) or (you==2 and com==1) or (you==3 and com==2):         \n",
    "        print(\"당신이 이겼습니다.(컴퓨터는 {}를 선택했습니다.)\".format(com))\n",
    "        score_you+=1\n",
    "    else:\n",
    "        print(\"당신이 졌습니다.(컴퓨터는 {}를 선택했습니다.)\".format(com))\n",
    "        score_com+=1\n",
    "    print(\"현재 스코어 컴:{} vs 당신:{}\".format(score_com,score_you))\n",
    "    "
   ]
  }
 ],
 "metadata": {
  "kernelspec": {
   "display_name": "Python 3",
   "language": "python",
   "name": "python3"
  },
  "language_info": {
   "codemirror_mode": {
    "name": "ipython",
    "version": 3
   },
   "file_extension": ".py",
   "mimetype": "text/x-python",
   "name": "python",
   "nbconvert_exporter": "python",
   "pygments_lexer": "ipython3",
   "version": "3.7.3"
  }
 },
 "nbformat": 4,
 "nbformat_minor": 2
}
