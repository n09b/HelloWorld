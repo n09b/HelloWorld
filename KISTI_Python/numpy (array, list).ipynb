{
 "cells": [
  {
   "cell_type": "code",
   "execution_count": 21,
   "metadata": {},
   "outputs": [
    {
     "name": "stdout",
     "output_type": "stream",
     "text": [
      "[0, 1, 2, 3, 4, 5, 6, 7, 8, 9]\n",
      "4\n",
      "[0 1 2 3 4 5 6 7 8]\n",
      "[0.  0.5 1.  1.5 2.  2.5 3.  3.5 4.  4.5 5.  5.5 6.  6.5 7.  7.5 8.  8.5]\n",
      "[9 9 9 9 9 9 9 9 9 9]\n",
      "2\n",
      "[[1 2]\n",
      " [3 4]]\n",
      "[1, 2]\n",
      "[3]\n"
     ]
    }
   ],
   "source": [
    "import numpy as np\n",
    "list1 = list (range(0,10))\n",
    "print(list1)\n",
    "\n",
    "arr1= np.array(list1)\n",
    "print(arr1[4])\n",
    "\n",
    "arr2=np.arange(0,9)\n",
    "print(arr2)\n",
    "\n",
    "# list2 = list(range(0,10,0.5)) range = 정수 증감만 가능\n",
    "arr3=np.arange(0,9,0.5) #실수형 \n",
    "\n",
    "#print(list2)\n",
    "print(arr3)\n",
    "\n",
    "arr4=np.full(10,9)\n",
    "print(arr4)\n",
    "\n",
    "list2=[[1,2],[3,4]]\n",
    "print(list2[0][1])\n",
    "\n",
    "arr5=np.array([[1,2],[3,4]])\n",
    "print(arr5)\n",
    "\n",
    "#리스트는 더하기에 열려있다.\n",
    "list3=[1]\n",
    "list4=[2]\n",
    "print(list3+list4)\n",
    "\n",
    "#어레이는 더하기에 닫혀있다. 서로 연산 가능.\n",
    "arr1=np.array([1])\n",
    "arr2=np.array([2])\n",
    "print(arr1+arr2)"
   ]
  },
  {
   "cell_type": "code",
   "execution_count": 26,
   "metadata": {},
   "outputs": [
    {
     "name": "stdout",
     "output_type": "stream",
     "text": [
      "[[ 2  8]\n",
      " [15 24]]\n"
     ]
    }
   ],
   "source": [
    "arr1=np.array([[1,2],[3,4]])\n",
    "arr2=np.array([[2,4],[5,6]])\n",
    "print(np.multiply(arr1,arr2))"
   ]
  }
 ],
 "metadata": {
  "kernelspec": {
   "display_name": "Python 3",
   "language": "python",
   "name": "python3"
  },
  "language_info": {
   "codemirror_mode": {
    "name": "ipython",
    "version": 3
   },
   "file_extension": ".py",
   "mimetype": "text/x-python",
   "name": "python",
   "nbconvert_exporter": "python",
   "pygments_lexer": "ipython3",
   "version": "3.7.3"
  }
 },
 "nbformat": 4,
 "nbformat_minor": 2
}
