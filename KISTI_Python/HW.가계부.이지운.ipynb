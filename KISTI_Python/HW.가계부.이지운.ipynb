{
 "cells": [
  {
   "cell_type": "code",
   "execution_count": 1,
   "metadata": {},
   "outputs": [
    {
     "name": "stdout",
     "output_type": "stream",
     "text": [
      "현재 잔액은 1000000입니다.\n",
      "원하는 작업 번호를 입력하세요(1:지출, 2:수입, 3:내역보기 , 종료:q) : 1\n",
      "지출 금액: 15000\n",
      "지출 유형: 가나다\n",
      "현재 잔액은 985000입니다.\n",
      "원하는 작업 번호를 입력하세요(1:지출, 2:수입, 3:내역보기 , 종료:q) : q\n",
      "가계부를 종료합니다.\n"
     ]
    }
   ],
   "source": [
    "#가계부 혼자서\n",
    "a=1000000\n",
    "dict1={}\n",
    "print(\"현재 잔액은 {}입니다.\".format(a))\n",
    "while True:\n",
    "    b=input(\"원하는 작업 번호를 입력하세요(1:지출, 2:수입, 3:내역보기 , 종료:q) : \")\n",
    "    if b==\"q\":\n",
    "        print(\"가계부를 종료합니다.\")\n",
    "        break\n",
    "    else:      \n",
    "        if b=='1':\n",
    "            price=int(input(\"지출 금액: \"))\n",
    "            type=input(\"지출 유형: \")\n",
    "            type=\"[지출]\"+ type\n",
    "            dict1[type]=price        \n",
    "            a-=price\n",
    "            print(\"현재 잔액은 {}입니다.\".format(a))\n",
    "            \n",
    "        elif b=='2':\n",
    "            price=int(input(\"수입 금액: \"))\n",
    "            type=input(\"수입 유형: \")\n",
    "            type=\"[수입]\"+ type\n",
    "            dict1[type]=price\n",
    "            a+=price\n",
    "            print(\"현재 잔액은 {}입니다.\".format(a))\n",
    "        else:\n",
    "            for i in dict1.keys():\n",
    "                print(i,dict1[i])\n",
    "            \n",
    "         \n",
    " \n"
   ]
  },
  {
   "cell_type": "code",
   "execution_count": null,
   "metadata": {},
   "outputs": [
    {
     "name": "stdout",
     "output_type": "stream",
     "text": [
      "현재 잔액은 1000000입니다.\n",
      "원하는 작업 번호를 입력하세요(1:지출, 2:수입, 3:내역보기 , 종료:q) : 1\n",
      "지출 금액: 10000\n",
      "지출 유형: 커피\n",
      "현재 잔액은 990000입니다.\n"
     ]
    }
   ],
   "source": [
    "#가계부 혼자서 \n",
    "a=1000000\n",
    "dict1={}\n",
    "while True:\n",
    "    print(\"현재 잔액은 {}입니다.\".format(a))\n",
    "    b=input(\"원하는 작업 번호를 입력하세요(1:지출, 2:수입, 3:내역보기 , 종료:q) : \")\n",
    "    if b==\"q\":\n",
    "        print(\"가계부를 종료합니다.\")\n",
    "        break\n",
    "    else:      \n",
    "        if b=='1':\n",
    "            price=int(input(\"지출 금액: \"))\n",
    "            type=input(\"지출 유형: \")\n",
    "            type=\"[지출]\"+ type\n",
    "            dict1[type]=price        \n",
    "            a-=price\n",
    "          \n",
    "            \n",
    "        elif b=='2':\n",
    "            price=int(input(\"수입 금액: \"))\n",
    "            type=input(\"수입 유형: \")\n",
    "            type=\"[수입]\"+ type\n",
    "            dict1[type]=price\n",
    "            a+=price\n",
    "            \n",
    "        else:\n",
    "            for i in dict1.keys():\n",
    "                print(i,dict1[i])\n",
    "            \n",
    "         \n",
    " \n"
   ]
  },
  {
   "cell_type": "code",
   "execution_count": null,
   "metadata": {},
   "outputs": [],
   "source": [
    "#list사용\n",
    "\n",
    "#가계부 혼자서 \n",
    "a=1000000\n",
    "dict1=[]\n",
    "\n",
    "while True:\n",
    "    print(\"현재 잔액은 {}입니다.\".format(a))\n",
    "    b=input(\"원하는 작업 번호를 입력하세요(1:지출, 2:수입, 3:내역보기 , 종료:q) : \")\n",
    "    if b==\"q\":\n",
    "        print(\"가계부를 종료합니다.\")\n",
    "        break   \n",
    "    if b=='1':\n",
    "        price=int(input(\"지출 금액: \"))\n",
    "        type=input(\"지출 유형: \")\n",
    "        type=\"[지출]\"+ type\n",
    "        dict1.append(price)        \n",
    "        a-=price\n",
    "\n",
    "\n",
    "    elif b=='2':\n",
    "        price=int(input(\"수입 금액: \"))\n",
    "        type=input(\"수입 유형: \")\n",
    "        type=\"[수입]\"+ type\n",
    "        dict1[type]=price\n",
    "        a+=price\n",
    "\n",
    "    elif:\n",
    "        for i in dict1.keys():\n",
    "            print(i,dict1[i])\n",
    "    else:\n",
    "        print(\"잘못 입력하셨습니다.\")\n",
    "\n",
    "         \n",
    " \n"
   ]
  },
  {
   "cell_type": "code",
   "execution_count": 2,
   "metadata": {},
   "outputs": [
    {
     "ename": "SyntaxError",
     "evalue": "invalid syntax (<ipython-input-2-88f5348bad5b>, line 5)",
     "output_type": "error",
     "traceback": [
      "\u001b[1;36m  File \u001b[1;32m\"<ipython-input-2-88f5348bad5b>\"\u001b[1;36m, line \u001b[1;32m5\u001b[0m\n\u001b[1;33m    list1[][0].append(a)\u001b[0m\n\u001b[1;37m          ^\u001b[0m\n\u001b[1;31mSyntaxError\u001b[0m\u001b[1;31m:\u001b[0m invalid syntax\n"
     ]
    }
   ],
   "source": [
    "리스트 두개, 함수 \n"
   ]
  }
 ],
 "metadata": {
  "kernelspec": {
   "display_name": "Python 3",
   "language": "python",
   "name": "python3"
  },
  "language_info": {
   "codemirror_mode": {
    "name": "ipython",
    "version": 3
   },
   "file_extension": ".py",
   "mimetype": "text/x-python",
   "name": "python",
   "nbconvert_exporter": "python",
   "pygments_lexer": "ipython3",
   "version": "3.7.3"
  }
 },
 "nbformat": 4,
 "nbformat_minor": 2
}
