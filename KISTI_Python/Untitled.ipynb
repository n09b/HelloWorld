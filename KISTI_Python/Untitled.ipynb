{
 "cells": [
  {
   "cell_type": "code",
   "execution_count": null,
   "metadata": {},
   "outputs": [],
   "source": [
    "#컴퓨터가 1부터 100까지의 정수 중 하나를 랜덤하게 선택\n",
    "#사용자로부터 정수를 하나 입력받고 위의 선택된 정수와 비교 \n",
    "#사용자가 큰 값이 입력했으면 '더 작은 값입니다'를 출력 후 다시 입력받기\n",
    "#사용자가 작은 값이 입력했으면 '더 큰 값입니다'를 출력후 다시 입력받기\n",
    "#두 정수가 같은 값이면 'x번째 시도에 맞추었습니다,'를 출력후 종료"
   ]
  }
 ],
 "metadata": {
  "kernelspec": {
   "display_name": "Python 3",
   "language": "python",
   "name": "python3"
  },
  "language_info": {
   "codemirror_mode": {
    "name": "ipython",
    "version": 3
   },
   "file_extension": ".py",
   "mimetype": "text/x-python",
   "name": "python",
   "nbconvert_exporter": "python",
   "pygments_lexer": "ipython3",
   "version": "3.7.3"
  }
 },
 "nbformat": 4,
 "nbformat_minor": 2
}
