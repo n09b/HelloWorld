{
 "cells": [
  {
   "cell_type": "code",
   "execution_count": 29,
   "metadata": {},
   "outputs": [
    {
     "name": "stdout",
     "output_type": "stream",
     "text": [
      "서로 다른 숫자를 뽑으세요 : 9\n",
      "서로 다른 숫자를 뽑으세요 : 6\n",
      "서로 다른 숫자를 뽑으세요 : 2\n",
      "[9, 6, 2]\n",
      "[4, 2, 7]\n",
      "0S1B\n"
     ]
    }
   ],
   "source": [
    "## 숫자 야구 게임 \n",
    "# 컴퓨터, 사용자 각각 3개씩 중복없이 1~9 숫자 뽑기\n",
    "# 3S => x번의 시도로 성공했다.\n",
    "\n",
    "#난수생성\n",
    "import random\n",
    "\n",
    "#사용자 숫자 선택\n",
    "list1=[]\n",
    "user=int(input(\"서로 다른 숫자를 뽑으세요 : \"))\n",
    "for _ in range(3):\n",
    "    while user in list1:\n",
    "        user=int(input(\"서로 다른 숫자를 뽑으세요 : \"))\n",
    "    list1.append(user)\n",
    "    \n",
    "print(list1)\n",
    "\n",
    "#컴퓨터 숫자 선택\n",
    "list2=[]\n",
    "com=random.randint(1,9)\n",
    "\n",
    "for _ in range(3):\n",
    "    while com in list2:\n",
    "        com=random.randint(1,9)\n",
    "    list2.append(com)           \n",
    "print(list2)  \n",
    "\n",
    "#숫자비교\n",
    "count1=0\n",
    "count2=0\n",
    "\n",
    "for i in range(0,3):\n",
    "    if list1[i]==list2[i]:\n",
    "        count1+=1  \n",
    "        i!=j    \n",
    "for j in range(0,3):\n",
    "    if list1[i]==list2[j]:\n",
    "        count2+=1\n",
    "print(\"{}S{}B\".format(count1,count2))   \n",
    "\n",
    "\n",
    "\n",
    "\n",
    "\n",
    "    \n",
    "\n",
    "        "
   ]
  },
  {
   "cell_type": "code",
   "execution_count": 19,
   "metadata": {},
   "outputs": [
    {
     "name": "stdout",
     "output_type": "stream",
     "text": [
      "[4, 9, 5]\n"
     ]
    }
   ],
   "source": [
    "import random\n",
    "list1=[]\n",
    "list2=[]\n",
    "count1=0\n",
    "count2=0\n",
    "com=random.randint(1,9)\n",
    "for _ in range(3):\n",
    "    while com in list2:\n",
    "        com=random.randint(1,9)\n",
    "    list2.append(com)           \n",
    "print(list2)  \n",
    "while count1==3:\n",
    "    user=int(input(\"서로 다른 숫자를 뽑으세요 : \"))\n",
    "    for _ in range(3):\n",
    "        while user in list1:\n",
    "            user=int(input(\"서로 다른 숫자를 뽑으세요 : \"))\n",
    "        list1.append(user)\n",
    "    print(list1)\n",
    "\n",
    "    for i in range(0,3):\n",
    "        if list1[i]==list2[i]:\n",
    "            count1+=1       \n",
    "    for j in range(0,3):\n",
    "        i!=j\n",
    "        if list1[i]==list2[j]:\n",
    "            count2+=1\n",
    "    print(\"{}S{}B\".format(count1,count2))  \n"
   ]
  },
  {
   "cell_type": "code",
   "execution_count": 21,
   "metadata": {},
   "outputs": [
    {
     "name": "stdout",
     "output_type": "stream",
     "text": [
      "서로 다른 숫자를 뽑으세요 : 4\n",
      "서로 다른 숫자를 뽑으세요 : 6\n",
      "서로 다른 숫자를 뽑으세요 : 1\n",
      "[4, 6, 1]\n",
      "[4, 5, 9]\n"
     ]
    }
   ],
   "source": [
    "import random\n",
    "list1=[]\n",
    "list2=[]\n",
    "com=random.randint(1,9)\n",
    "for _ in range(3):\n",
    "    while com in list2:\n",
    "        com=random.randint(1,9)\n",
    "    list2.append(com)    \n",
    "user=int(input(\"서로 다른 숫자를 뽑으세요 : \"))\n",
    "for _ in range(3):\n",
    "    while user in list1:\n",
    "        user=int(input(\"서로 다른 숫자를 뽑으세요 : \"))\n",
    "    list1.append(user)\n",
    "print(list1)  \n",
    "print(list2)\n"
   ]
  }
 ],
 "metadata": {
  "kernelspec": {
   "display_name": "Python 3",
   "language": "python",
   "name": "python3"
  },
  "language_info": {
   "codemirror_mode": {
    "name": "ipython",
    "version": 3
   },
   "file_extension": ".py",
   "mimetype": "text/x-python",
   "name": "python",
   "nbconvert_exporter": "python",
   "pygments_lexer": "ipython3",
   "version": "3.7.3"
  }
 },
 "nbformat": 4,
 "nbformat_minor": 2
}
