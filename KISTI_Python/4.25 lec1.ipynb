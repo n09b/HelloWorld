{
 "cells": [
  {
   "cell_type": "code",
   "execution_count": 5,
   "metadata": {},
   "outputs": [
    {
     "name": "stdout",
     "output_type": "stream",
     "text": [
      "10\n",
      "11\n"
     ]
    }
   ],
   "source": [
    "#global (되도록 쓰지말기)\n",
    "\n",
    "def plusone(a): \n",
    "    a=a+1 #지역변수\n",
    "\n",
    "a=10 #전역변수\n",
    "plusone(a)\n",
    "print(a)\n",
    "a=10\n",
    "\n",
    "def plusonetoa():\n",
    "    global a\n",
    "    a+=1\n",
    "    \n",
    "#global 쓰지않고\n",
    "def plusone(a):\n",
    "    return a+1\n",
    "\n",
    "a=10\n",
    "plusonetoa()\n",
    "print(a)"
   ]
  },
  {
   "cell_type": "code",
   "execution_count": 8,
   "metadata": {},
   "outputs": [
    {
     "data": {
      "image/png": "[encoded data removed]",
      "text/plain": [
       "<Figure size 432x288 with 1 Axes>"
      ]
     },
     "metadata": {
      "needs_background": "light"
     },
     "output_type": "display_data"
    }
   ],
   "source": [
    "#0번 프로젝트 유사 => 2차원 그래프 \n",
    "import random\n",
    "import math\n",
    "\n",
    "\n",
    "def perc(prob,size):\n",
    "    list2 =[True if random.random()<prob else False for i in range(size)]\n",
    "    list2.append(False)\n",
    "    cursize=0\n",
    "    maxsize=0\n",
    "    for val in list2:\n",
    "        if val:\n",
    "            cursize+=1\n",
    "        else:\n",
    "            if cursize > maxsize:\n",
    "                maxsize=cursize\n",
    "            cursize=0\n",
    "    return maxsize\n",
    "\n",
    "def perc_sampling(prob, size, num_samp):\n",
    "    sum=0\n",
    "    sum2=0\n",
    "    for _ in range(num_samp):\n",
    "        val=perc(prob,size)\n",
    "        sum+=val\n",
    "        sum2+=val*val\n",
    "\n",
    "    av=sum/num_samp\n",
    "    av2=sum2/num_samp\n",
    "    return av, math.sqrt(av2-av*av)\n",
    "    \n",
    "plist=[]\n",
    "prob=0\n",
    "while prob<=1:\n",
    "    plist.append(prob)\n",
    "    prob+=0.1\n",
    "    \n",
    "avlist=[]\n",
    "sdlist=[]\n",
    "for prob in plist:\n",
    "    val1,val2=perc_sampling(prob,100,100)\n",
    "    avlist.append(val1)\n",
    "    sdlist.append(val2)\n",
    "    \n",
    "#그래프 \n",
    "import matplotlib.pyplot as plt\n",
    "plt.plot(plist,avlist)\n",
    "plt.show()"
   ]
  }
 ],
 "metadata": {
  "kernelspec": {
   "display_name": "Python 3",
   "language": "python",
   "name": "python3"
  },
  "language_info": {
   "codemirror_mode": {
    "name": "ipython",
    "version": 3
   },
   "file_extension": ".py",
   "mimetype": "text/x-python",
   "name": "python",
   "nbconvert_exporter": "python",
   "pygments_lexer": "ipython3",
   "version": "3.7.3"
  }
 },
 "nbformat": 4,
 "nbformat_minor": 2
}
