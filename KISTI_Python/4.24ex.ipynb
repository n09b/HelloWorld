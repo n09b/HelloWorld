{
 "cells": [
  {
   "cell_type": "markdown",
   "metadata": {},
   "source": [
    "#1.양의 정수 하나를 입력받고, 입력 받은 양의 정수보다 작거나 같은 모든 정수를 리스트로 만들기\n",
    "#2.양의 정수 하나를 입력받고, 입력 받은 양의 정수보다 작거나 같은 소수들을 리스트로 만들기\n",
    "#3.양의 정수 2개를 입력받고, 각 정수의 약수를 set으로 만들고 두 정수의 공약수를 set을 만들기"
   ]
  },
  {
   "cell_type": "code",
   "execution_count": 4,
   "metadata": {},
   "outputs": [
    {
     "name": "stdout",
     "output_type": "stream",
     "text": [
      "숫자 입력 : 9\n",
      "[1, 2, 3, 4, 5, 6, 7, 8, 9]\n"
     ]
    }
   ],
   "source": [
    "a=int(input(\"숫자 입력 : \"))\n",
    "list1=[]\n",
    "for i in range(1,a+1):\n",
    "    list1.append(i)\n",
    "print(list1)"
   ]
  },
  {
   "cell_type": "code",
   "execution_count": 5,
   "metadata": {},
   "outputs": [
    {
     "name": "stdout",
     "output_type": "stream",
     "text": [
      "숫자 입력 : 2\n"
     ]
    },
    {
     "ename": "NameError",
     "evalue": "name 'j' is not defined",
     "output_type": "error",
     "traceback": [
      "\u001b[1;31m---------------------------------------------------------------------------\u001b[0m",
      "\u001b[1;31mNameError\u001b[0m                                 Traceback (most recent call last)",
      "\u001b[1;32m<ipython-input-5-7d3285635760>\u001b[0m in \u001b[0;36m<module>\u001b[1;34m\u001b[0m\n\u001b[0;32m      7\u001b[0m             \u001b[1;32mbreak\u001b[0m\u001b[1;33m\u001b[0m\u001b[1;33m\u001b[0m\u001b[0m\n\u001b[0;32m      8\u001b[0m     \u001b[1;32mif\u001b[0m \u001b[0mjudge\u001b[0m\u001b[1;33m:\u001b[0m\u001b[1;33m\u001b[0m\u001b[1;33m\u001b[0m\u001b[0m\n\u001b[1;32m----> 9\u001b[1;33m         \u001b[0mlist1\u001b[0m\u001b[1;33m.\u001b[0m\u001b[0mappend\u001b[0m\u001b[1;33m(\u001b[0m\u001b[0mj\u001b[0m\u001b[1;33m)\u001b[0m\u001b[1;33m\u001b[0m\u001b[1;33m\u001b[0m\u001b[0m\n\u001b[0m\u001b[0;32m     10\u001b[0m         \u001b[0mprint\u001b[0m\u001b[1;33m(\u001b[0m\u001b[0mlist1\u001b[0m\u001b[1;33m)\u001b[0m\u001b[1;33m\u001b[0m\u001b[1;33m\u001b[0m\u001b[0m\n",
      "\u001b[1;31mNameError\u001b[0m: name 'j' is not defined"
     ]
    }
   ],
   "source": [
    "a=int(input(\"숫자 입력 : \"))\n",
    "for i in range(2,a+1):\n",
    "    judge=True\n",
    "    for j in range(2,i):\n",
    "        if i%j==0:\n",
    "            judge=False\n",
    "            break\n",
    "    if judge:\n",
    "        list1.append(j)\n",
    "        print(list1)\n"
   ]
  },
  {
   "cell_type": "code",
   "execution_count": 3,
   "metadata": {},
   "outputs": [
    {
     "name": "stdout",
     "output_type": "stream",
     "text": [
      "숫자 입력 : 5\n",
      "숫자 입력 : 3\n",
      "{1}\n",
      "{1, 5}\n"
     ]
    }
   ],
   "source": [
    "a=int(input(\"숫자 입력 : \"))\n",
    "b=int(input(\"숫자 입력 : \"))\n",
    "c=set()\n",
    "\n",
    "for i in range(1,a+1):\n",
    "    if a%i!=0:\n",
    "        i= i+1\n",
    "    else:\n",
    "        c.add(i)\n",
    "        print(c)\n"
   ]
  },
  {
   "cell_type": "code",
   "execution_count": 8,
   "metadata": {},
   "outputs": [
    {
     "name": "stdout",
     "output_type": "stream",
     "text": [
      "숫자 입력 : 10\n",
      "숫자 입력 : 5\n",
      "{1, 2, 10, 5}\n",
      "{1, 5}\n",
      "{1, 5}\n"
     ]
    }
   ],
   "source": [
    "a=int(input(\"숫자 입력 : \"))\n",
    "b=int(input(\"숫자 입력 : \"))\n",
    "seta=set()\n",
    "for i in range(1,a+1):\n",
    "    if a%i==0:\n",
    "        seta.add(i)\n",
    "print(seta)\n",
    "setb=set()\n",
    "for i in range(1,b+1):\n",
    "    if b%i==0:\n",
    "        setb.add(i)\n",
    "print(setb)\n",
    "print(seta&setb)"
   ]
  },
  {
   "cell_type": "code",
   "execution_count": 10,
   "metadata": {},
   "outputs": [
    {
     "name": "stdout",
     "output_type": "stream",
     "text": [
      "숫자 입력 : d\n"
     ]
    },
    {
     "ename": "ValueError",
     "evalue": "invalid literal for int() with base 10: 'd'",
     "output_type": "error",
     "traceback": [
      "\u001b[1;31m---------------------------------------------------------------------------\u001b[0m",
      "\u001b[1;31mValueError\u001b[0m                                Traceback (most recent call last)",
      "\u001b[1;32m<ipython-input-10-60cc2851e87b>\u001b[0m in \u001b[0;36m<module>\u001b[1;34m\u001b[0m\n\u001b[1;32m----> 1\u001b[1;33m \u001b[0ma\u001b[0m\u001b[1;33m=\u001b[0m\u001b[0mint\u001b[0m\u001b[1;33m(\u001b[0m\u001b[0minput\u001b[0m\u001b[1;33m(\u001b[0m\u001b[1;34m\"숫자 입력 : \"\u001b[0m\u001b[1;33m)\u001b[0m\u001b[1;33m)\u001b[0m\u001b[1;33m\u001b[0m\u001b[1;33m\u001b[0m\u001b[0m\n\u001b[0m\u001b[0;32m      2\u001b[0m \u001b[0mb\u001b[0m\u001b[1;33m=\u001b[0m\u001b[0mint\u001b[0m\u001b[1;33m(\u001b[0m\u001b[0minput\u001b[0m\u001b[1;33m(\u001b[0m\u001b[1;34m\"숫자 입력 : \"\u001b[0m\u001b[1;33m)\u001b[0m\u001b[1;33m)\u001b[0m\u001b[1;33m\u001b[0m\u001b[1;33m\u001b[0m\u001b[0m\n\u001b[0;32m      3\u001b[0m \u001b[0mlista\u001b[0m\u001b[1;33m=\u001b[0m\u001b[1;33m[\u001b[0m\u001b[1;33m]\u001b[0m\u001b[1;33m\u001b[0m\u001b[1;33m\u001b[0m\u001b[0m\n\u001b[0;32m      4\u001b[0m \u001b[0mlistb\u001b[0m\u001b[1;33m=\u001b[0m\u001b[1;33m[\u001b[0m\u001b[1;33m]\u001b[0m\u001b[1;33m\u001b[0m\u001b[1;33m\u001b[0m\u001b[0m\n\u001b[0;32m      5\u001b[0m \u001b[1;32mfor\u001b[0m \u001b[0mi\u001b[0m \u001b[1;32min\u001b[0m \u001b[0mrange\u001b[0m\u001b[1;33m(\u001b[0m\u001b[1;36m1\u001b[0m\u001b[1;33m,\u001b[0m\u001b[0ma\u001b[0m\u001b[1;33m+\u001b[0m\u001b[1;36m1\u001b[0m\u001b[1;33m)\u001b[0m\u001b[1;33m:\u001b[0m\u001b[1;33m\u001b[0m\u001b[1;33m\u001b[0m\u001b[0m\n",
      "\u001b[1;31mValueError\u001b[0m: invalid literal for int() with base 10: 'd'"
     ]
    }
   ],
   "source": [
    "a=int(input(\"숫자 입력 : \"))\n",
    "b=int(input(\"숫자 입력 : \"))\n",
    "lista=[]\n",
    "listb=[]\n",
    "for i in range(1,a+1):\n",
    "    if a%i==0:\n",
    "        lista.append(i)\n",
    "seta=set(lista)        \n",
    "print(seta)\n",
    "setb=set(listb)\n",
    "for i in range(1,b+1):\n",
    "    if b%i==0:\n",
    "        listb.append(i)\n",
    "print(setb)\n",
    "print(seta&setb)"
   ]
  },
  {
   "cell_type": "markdown",
   "metadata": {},
   "source": [
    "[0,0,0,0,0,0,0,0,0]이라는 리스트를 만든 다음 \n",
    "사용자로부터 0부터 8까지의 정수 중 하나를 입력받아서\n",
    "리스트에서 올려받은 정수에 해당하는 위치에 값을 1 올려주고 출력\n",
    "예를 들어 3을 입력했으면 \n",
    "[0,0,0,1,0,0,0,0,0]\n",
    "이후 추가로 4를 입력했으면 \n",
    "[0,0,0,1,1,0,0,0,0]\n",
    "q가 입력되면 종료하도록 작성"
   ]
  },
  {
   "cell_type": "code",
   "execution_count": 1,
   "metadata": {},
   "outputs": [
    {
     "name": "stdout",
     "output_type": "stream",
     "text": [
      "[0, 0, 0, 0, 0, 0, 0, 0, 0]\n",
      "0~8 중 숫자입력(q:종료) : 1\n",
      "[0, 1, 0, 0, 0, 0, 0, 0, 0]\n",
      "0~8 중 숫자입력(q:종료) : 2\n",
      "[0, 1, 1, 0, 0, 0, 0, 0, 0]\n",
      "0~8 중 숫자입력(q:종료) : 2\n",
      "[0, 1, 2, 0, 0, 0, 0, 0, 0]\n",
      "0~8 중 숫자입력(q:종료) : q\n"
     ]
    }
   ],
   "source": [
    "list1=[0]*9\n",
    "print(list1)\n",
    "while True:\n",
    "    a=input(\"0~8 중 숫자입력(q:종료) : \")\n",
    "    if a==\"q\":\n",
    "        break\n",
    "    a=int(a)\n",
    "    list1[a]+=1\n",
    "    print(list1)\n",
    "\n"
   ]
  },
  {
   "cell_type": "code",
   "execution_count": 4,
   "metadata": {},
   "outputs": [
    {
     "name": "stdout",
     "output_type": "stream",
     "text": [
      "0~8 중 숫자입력(q:종료) : 1\n",
      "[0, 1, 0, 0, 0, 0, 0, 0, 0]\n",
      "0~8 중 숫자입력(q:종료) : 2\n",
      "[0, 1, 1, 0, 0, 0, 0, 0, 0]\n",
      "0~8 중 숫자입력(q:종료) : 1\n",
      "[0, 2, 1, 0, 0, 0, 0, 0, 0]\n",
      "0~8 중 숫자입력(q:종료) : q\n"
     ]
    }
   ],
   "source": [
    "list1=[0]*9\n",
    "\n",
    "while True:\n",
    "    a=input(\"0~8 중 숫자입력(q:종료) : \")\n",
    "    if a!=\"q\":\n",
    "        a=int(a)\n",
    "        list1[a]+=1\n",
    "        print(list1)\n",
    "    else:\n",
    "        break\n",
    " \n",
    "    "
   ]
  },
  {
   "cell_type": "code",
   "execution_count": null,
   "metadata": {},
   "outputs": [],
   "source": [
    "import numpy as np\n",
    "arr1=np.zeros(81) .reshape(9,9)\n",
    "\n",
    "while True:\n",
    "    a=input(\"0~9 중 숫자 2개 입력(q:종료) : \")\n",
    "    if a==\"q\":\n",
    "        break\n",
    "    num1=int(a[0])\n",
    "    num2=int(a[1])\n",
    "    \n",
    "    arr1[num1][num2]+=1\n",
    "    \n",
    "    for j in arr1:\n",
    "        print(j)\n",
    "\n",
    "\n",
    "\n",
    "    \n",
    "    "
   ]
  },
  {
   "cell_type": "code",
   "execution_count": null,
   "metadata": {},
   "outputs": [],
   "source": [
    "\n",
    "\n",
    "\n",
    "    \n",
    "    "
   ]
  }
 ],
 "metadata": {
  "kernelspec": {
   "display_name": "Python 3",
   "language": "python",
   "name": "python3"
  },
  "language_info": {
   "codemirror_mode": {
    "name": "ipython",
    "version": 3
   },
   "file_extension": ".py",
   "mimetype": "text/x-python",
   "name": "python",
   "nbconvert_exporter": "python",
   "pygments_lexer": "ipython3",
   "version": "3.7.3"
  }
 },
 "nbformat": 4,
 "nbformat_minor": 2
}
