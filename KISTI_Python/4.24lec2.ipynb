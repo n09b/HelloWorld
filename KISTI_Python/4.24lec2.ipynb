{
 "cells": [
  {
   "cell_type": "code",
   "execution_count": 13,
   "metadata": {},
   "outputs": [
    {
     "name": "stdout",
     "output_type": "stream",
     "text": [
      "[0, 1, 2, 3, 4, 5, 6, 7, 8, 9]\n",
      "[0, 2, 4, 6, 8, 10, 12, 14, 16, 18]\n",
      "[0, 2, 2, 6, 4, 10, 6, 14, 8, 18, 10, 22, 12, 26, 14, 30, 16, 34, 18, 38]\n"
     ]
    }
   ],
   "source": [
    "a=[j for j in range(10)]\n",
    "print(a)\n",
    "b=[i for i in range(20) if i%2==0]\n",
    "print(b)\n",
    "c=[i if i%2==0 else i*2 for i in range(20)]\n",
    "print(c)"
   ]
  },
  {
   "cell_type": "code",
   "execution_count": 33,
   "metadata": {},
   "outputs": [
    {
     "name": "stdout",
     "output_type": "stream",
     "text": [
      "[True, True, True, True, True, True, True, True, True, True, False, True, True, True, True, True, True, True, True, True]\n",
      "10\n"
     ]
    }
   ],
   "source": [
    "#ex_6\n",
    "import random\n",
    "list1=[False]*10\n",
    "for i in range(len(list1)):\n",
    "    if random.random()<0.8:\n",
    "        list1[i]=True\n",
    "\n",
    "\n",
    "list2 =[True if random.random()<.8 else False for i in range(20)]\n",
    "print(list2)\n",
    "cursize=0\n",
    "maxsize=0\n",
    "for val in list2:\n",
    "    if val:\n",
    "        cursize+=1\n",
    "    else:\n",
    "        if cursize > maxsize:\n",
    "            maxsize=cursize\n",
    "        cursize=0\n",
    "if cursize > maxsize:\n",
    "    maxsize=cursize\n",
    "print(maxsize)\n"
   ]
  }
 ],
 "metadata": {
  "kernelspec": {
   "display_name": "Python 3",
   "language": "python",
   "name": "python3"
  },
  "language_info": {
   "codemirror_mode": {
    "name": "ipython",
    "version": 3
   },
   "file_extension": ".py",
   "mimetype": "text/x-python",
   "name": "python",
   "nbconvert_exporter": "python",
   "pygments_lexer": "ipython3",
   "version": "3.7.3"
  }
 },
 "nbformat": 4,
 "nbformat_minor": 2
}
